{
 "cells": [
  {
   "cell_type": "code",
   "execution_count": 1,
   "metadata": {
    "collapsed": true
   },
   "outputs": [],
   "source": [
    "from AppInspector.SharingInstance import SharingInstance, obj\n",
    "import hashlib\n",
    "import json\n",
    "import os\n",
    "from Learner import Learner\n",
    "import numpy as np\n",
    "from sklearn.tree import DecisionTreeClassifier\n",
    "from sklearn.naive_bayes import MultinomialNB\n",
    "from sklearn.ensemble import RandomForestClassifier\n",
    "from utils import Utilities\n",
    "from sklearn import svm\n",
    "from sklearn.linear_model import LogisticRegression\n",
    "import pandas as pd\n"
   ]
  },
  {
   "cell_type": "code",
   "execution_count": 2,
   "metadata": {},
   "outputs": [],
   "source": [
    "logger = Utilities.set_logger('InstanceHandler')\n",
    "logger.setLevel(level=20)"
   ]
  },
  {
   "cell_type": "markdown",
   "metadata": {},
   "source": [
    "Formatting the training instances, the data of each instance is a string."
   ]
  },
  {
   "cell_type": "code",
   "execution_count": 3,
   "metadata": {},
   "outputs": [],
   "source": [
    "def docs(instances):\n",
    "    docs = []\n",
    "    labels = []\n",
    "    for instance in instances:\n",
    "        doc = []\n",
    "        for string in instance.ui_doc:\n",
    "            doc.append(' '.join(Learner.str2words(str(string))))\n",
    "        docs.append(' '.join(doc))\n",
    "        labels.append(int(instance.label))\n",
    "    return docs, np.array(labels)\n"
   ]
  },
  {
   "cell_type": "markdown",
   "metadata": {},
   "source": [
    "Trainig and cross-validation"
   ]
  },
  {
   "cell_type": "code",
   "execution_count": 4,
   "metadata": {},
   "outputs": [],
   "source": [
    "def handle(root_dir):\n",
    "    # instances_dir_name = hashlib.md5(root_dir.encode('utf-8')).hexdigest()\n",
    "    instances_dir_path = os.path.join('data', os.path.basename(root_dir))\n",
    "    pos_dir = os.path.join(root_dir, '1')\n",
    "    pos_out_dir = os.path.join(instances_dir_path, '1')\n",
    "    neg_dir = os.path.join(root_dir, '0')\n",
    "    neg_out_dir = os.path.join(instances_dir_path, '0')\n",
    "    if not os.path.exists(instances_dir_path):\n",
    "        os.makedirs(pos_out_dir)\n",
    "        instances = SharingInstance.instances(pos_dir)\n",
    "        for instance in instances:\n",
    "            with open(os.path.join(pos_out_dir, instance.id + '.json'), 'w', encoding=\"utf8\") as outfile:\n",
    "                outfile.write(instance.json())\n",
    "\n",
    "        os.makedirs(neg_out_dir)\n",
    "        neg_instances = SharingInstance.instances(neg_dir)\n",
    "        logger.info('neg: ' + str(len(neg_instances)))\n",
    "        for instance in neg_instances:\n",
    "            with open(os.path.join(neg_out_dir, instance.id + '.json'), 'w', encoding=\"utf8\") as outfile:\n",
    "                outfile.write(instance.json())\n",
    "        instances += neg_instances\n",
    "    else:\n",
    "        instances = []\n",
    "        instances_dict = []\n",
    "        for dir_path in [pos_out_dir, neg_out_dir]:\n",
    "            for root, dirs, files in os.walk(dir_path):\n",
    "                for file_name in files:\n",
    "                    if file_name.endswith('.json'):\n",
    "                        with open(os.path.join(root, file_name), 'r', encoding=\"utf8\") as my_file:\n",
    "                            instance = json.load(my_file)\n",
    "                            instances_dict.append(instance)\n",
    "                            instance = obj(instance)\n",
    "                            logger.debug(instance.dir)\n",
    "                            instances.append(instance)\n",
    "        with open(os.path.join(instances_dir_path, 'instances.json'), 'w', encoding=\"utf8\") as outfile:\n",
    "            json.dump(instances_dict, outfile)\n",
    "            # pd.Series(instances).to_json(outfile, orient='values')\n",
    "    docs, y = docs(instances)\n",
    "    train_data, voc, vec = Learner.gen_X_matrix(docs)\n",
    "    logger.info('neg: ' + str(len(np.where(y == 0)[0])))\n",
    "    folds = Learner.n_folds(train_data, y, fold=10)  #[Fold(f) for f in Learner.n_folds(train_data, y, fold=10)]\n",
    "    \"\"\"\n",
    "    clf = DecisionTreeClassifier(class_weight='balanced')\n",
    "    res = Learner.cross_validation(clf, folds)\n",
    "    for fold in res['fold']:\n",
    "        for item in fold['fp_item']:\n",
    "            instance = instances[item]\n",
    "            InstanceHandler.logger.info(\"FP:\" + str(item) + str(instance.ui_doc) + \",\" + str(instance.dir))\n",
    "        for item in fold['fn_item']:\n",
    "            instance = instances[item]\n",
    "            InstanceHandler.logger.info(\"FN:\" + str(item) + str(instance.ui_doc) + \",\" + str(instance.dir))\n",
    "    \n",
    "    clf = MultinomialNB()\n",
    "    Learner.cross_validation(clf, folds)\n",
    "    clf = RandomForestClassifier(class_weight='balanced')\n",
    "    Learner.cross_validation(clf, folds)\n",
    "    clf = svm.SVC(kernel='linear', class_weight='balanced', probability=True)\n",
    "    Learner.cross_validation(clf, folds)\n",
    "    clf = LogisticRegression(class_weight='balanced')\n",
    "    Learner.cross_validation(clf, folds)\n",
    "    \"\"\"\n",
    "    clfs = [svm.SVC(kernel='linear', class_weight='balanced', probability=True),\n",
    "            RandomForestClassifier(class_weight='balanced'),\n",
    "            LogisticRegression(class_weight='balanced')]\n",
    "    res = Learner.voting(clfs, train_data, y, folds)\n",
    "    with open(os.path.join(instances_dir_path, 'folds.json'), 'w') as json_file:\n",
    "        for fold in folds:\n",
    "            fold['train_index'] = fold['train_index'].tolist()\n",
    "            fold['test_index'] = fold['test_index'].tolist()\n",
    "        # pd.Series(folds).to_json(json_file, orient='values')\n",
    "        logger.info(len(folds))\n",
    "        json.dump(folds, json_file)\n",
    "    \"\"\"\n",
    "    with open(os.path.join(instances_dir_path, 'voting_res.json'), 'w') as json_file:\n",
    "        pd.Series(res).to_json(json_file, orient='split')\n",
    "        # json.dump(res, json_file)\n",
    "    with open(os.path.join(instances_dir_path, 'voting_predicted_neg.json'), 'w') as json_file:\n",
    "        json.dump(predicted_neg_instances, json_file)\n",
    "    \"\"\"\n"
   ]
  },
  {
   "cell_type": "markdown",
   "metadata": {},
   "source": [
    "We can now "
   ]
  },
  {
   "cell_type": "code",
   "execution_count": 5,
   "metadata": {},
   "outputs": [
    {
     "name": "stdout",
     "output_type": "stream",
     "text": [
      "/mnt/H_DRIVE/FlowIntent/Location/1\ngoogle\n6\n1-4\n5\n/mnt/H_DRIVE/FlowIntent/Location/1\nedu\ntools\nfin\nnews_not_done\nperson\nhealth\nshop\nenter\nbusin\nsport\ncommu\nspecial\nsocial\nmap\nweather\nmed\n/mnt/H_DRIVE/FlowIntent/Location/1\ncom.runar.issdetector\n/mnt/H_DRIVE/FlowIntent/Location/1/google/edu/com.runar.issdetector\n['Next:', '1h 53m 22s', 'Davis', 'Saturday, 25 Jul', 'ISS', '02:10:25', 'Mag 1.7', '02:11:12', '13°', 'ISS', '05:22:30', 'Mag 1.3', '05:26:20', '15°', 'Iridium 97', '23:05:22', 'Mag -1.1', '10°', 'Sunday, 26 Jul', 'ISS', '04:29:54', 'Mag 1.6', '04:31:54', '11°', 'Monday, 27 Jul', 'ISS', '02:00:03']\ncom.lavadip.skeye\n/mnt/H_DRIVE/FlowIntent/Location/1/google/edu/com.lavadip.skeye\n['Push Notifications', '7NEWS Denver can occasionally send you push notification for breaking news alerts. Would you like to receive these notifications? You can also change your selection later from the Settings page in the app.', 'No', 'Yes']\ncom.SharpSchool.SharpSchoolMobile\n/mnt/H_DRIVE/FlowIntent/Location/1/google/edu/com.SharpSchool.SharpSchoolMobile\n['Push Notifications', '7NEWS Denver can occasionally send you push notification for breaking news alerts. Would you like to receive these notifications? You can also change your selection later from the Settings page in the app.', 'No', 'Yes']\n/mnt/H_DRIVE/FlowIntent/Location/1\n/mnt/H_DRIVE/FlowIntent/Location/1\n/mnt/H_DRIVE/FlowIntent/Location/1\n/mnt/H_DRIVE/FlowIntent/Location/1\ncom.colortiger.thermo\n/mnt/H_DRIVE/FlowIntent/Location/1/google/tools/com.colortiger.thermo\n['Push Notifications', '7NEWS Denver can occasionally send you push notification for breaking news alerts. Would you like to receive these notifications? You can also change your selection later from the Settings page in the app.', 'No', 'Yes']\n/mnt/H_DRIVE/FlowIntent/Location/1\n/mnt/H_DRIVE/FlowIntent/Location/1\ncom.paynearme.android.pnmc\n/mnt/H_DRIVE/FlowIntent/Location/1/google/fin/com.paynearme.android.pnmc\n['Dashboard', 'Payments', 'Make a Payment', 'Payment Locations', '7-Eleven', '1.78 miles', 'Payment Reminders', 'Create a payment reminder', 'Offers', 'Special offers from PayNearMe!']\ncom.pnc.ecommerce.mobile.finder\n/mnt/H_DRIVE/FlowIntent/Location/1/google/fin/com.pnc.ecommerce.mobile.finder\n['Davis', 'CLOSEST:', 'WARRENTON VESTIBULE', '1643.68 miles']\ncom.cusc\n/mnt/H_DRIVE/FlowIntent/Location/1/google/fin/com.cusc\n['Push Notifications', '7NEWS Denver can occasionally send you push notification for breaking news alerts. Would you like to receive these notifications? You can also change your selection later from the Settings page in the app.', 'No', 'Yes']\n/mnt/H_DRIVE/FlowIntent/Location/1\n/mnt/H_DRIVE/FlowIntent/Location/1\n/mnt/H_DRIVE/FlowIntent/Location/1\n/mnt/H_DRIVE/FlowIntent/Location/1\ncom.Synapse.KRGV0629-22-21-06\n/mnt/H_DRIVE/FlowIntent/Location/1/google/news_not_done/com.Synapse.KRGV0629-22-21-06\n"
     ]
    },
    {
     "name": "stdout",
     "output_type": "stream",
     "text": [
      "['CATEGORIES', 'weather', 'FESTIVALS', 'WIN A TABLET', 'news', 'OTHER FESTIVALS', 'ENTERTAINMENT CALENDAR', 'VIDEOS AND PHOTOS', 'NEWS', 'WEATHER AUTHORITY', 'FOX 8 ON FACEBOOK', 'FOX 8 ON TWITTER', 'SAVED STORIES', 'SAVED PHOTOS', 'SAVED VIDEOS', 'FESTIVALS', 'Mar 24, 2015 12:10 PM', '7/4 Go 4th on the River', 'Mar 24, 2015 12:22 PM', '7/9-7/12 Running of the Bulls', 'Jan 13, 2015 8:42 AM', '7/15-7/19 Tales of the Cocktail', 'Jan 13, 2015 8:42 AM']\njpost.webActivity0629-19-09-54\n/mnt/H_DRIVE/FlowIntent/Location/1/google/news_not_done/jpost.webActivity0629-19-09-54\n['CATEGORIES', 'weather', 'FESTIVALS', 'WIN A TABLET', 'news', 'OTHER FESTIVALS', 'ENTERTAINMENT CALENDAR', 'VIDEOS AND PHOTOS', 'NEWS', 'WEATHER AUTHORITY', 'FOX 8 ON FACEBOOK', 'FOX 8 ON TWITTER', 'SAVED STORIES', 'SAVED PHOTOS', 'SAVED VIDEOS', 'FESTIVALS', 'Mar 24, 2015 12:10 PM', '7/4 Go 4th on the River', 'Mar 24, 2015 12:22 PM', '7/9-7/12 Running of the Bulls', 'Jan 13, 2015 8:42 AM', '7/15-7/19 Tales of the Cocktail', 'Jan 13, 2015 8:42 AM']\ncom.nextwebart.senego0629-15-08-51\n/mnt/H_DRIVE/FlowIntent/Location/1/google/news_not_done/com.nextwebart.senego0629-15-08-51\n['Davis']\ncom.mylocaltv.kmgh0629-17-07-20\n/mnt/H_DRIVE/FlowIntent/Location/1/google/news_not_done/com.mylocaltv.kmgh0629-17-07-20\n['Push Notifications', '7NEWS Denver can occasionally send you push notification for breaking news alerts. Would you like to receive these notifications? You can also change your selection later from the Settings page in the app.', 'No', 'Yes']\ncom.planetdiscover.granite.phone.wpta0630-00-24-50\n/mnt/H_DRIVE/FlowIntent/Location/1/google/news_not_done/com.planetdiscover.granite.phone.wpta0630-00-24-50\n['21Alive', 'News', 'Weather', 'Sports', 'Watch Live', 'Local Circulars', 'Contests']\ncom.raycom.droid.fox8wvue0629-18-45-54\n/mnt/H_DRIVE/FlowIntent/Location/1/google/news_not_done/com.raycom.droid.fox8wvue0629-18-45-54\n['CATEGORIES', 'weather', 'FESTIVALS', 'WIN A TABLET', 'news', 'OTHER FESTIVALS', 'ENTERTAINMENT CALENDAR', 'VIDEOS AND PHOTOS', 'NEWS', 'WEATHER AUTHORITY', 'FOX 8 ON FACEBOOK', 'FOX 8 ON TWITTER', 'SAVED STORIES', 'SAVED PHOTOS', 'SAVED VIDEOS', 'FESTIVALS', 'Mar 24, 2015 12:10 PM', '7/4 Go 4th on the River', 'Mar 24, 2015 12:22 PM', '7/9-7/12 Running of the Bulls', 'Jan 13, 2015 8:42 AM', '7/15-7/19 Tales of the Cocktail', 'Jan 13, 2015 8:42 AM']\ncom.topstcn.eq0629-06-26-05\n/mnt/H_DRIVE/FlowIntent/Location/1/google/news_not_done/com.topstcn.eq0629-06-26-05\n['Data source', 'USGS\\nU.S. Geological Survey', 'EMSC\\nEU Mediterranean Earthquake Centre', 'BGS\\nBritish Geological Survey', 'GFZ\\nGer Potsdam Earthquake Center', 'JMA\\nJapan Meteorological Agency', 'CHI\\nChile Earthquake Center', 'CAN\\nNatural Resources Canada', 'INGV\\nItaly Geophysics Institute', 'CWB\\nTaiwan Central Weather Bureau', 'IRSC\\nIranian Seismological Center', 'TUR\\nTurkish Disaster and Emergency center']\ncom.nbcuni.nbcots.nbcbayarea.android0629-16-05-46\n/mnt/H_DRIVE/FlowIntent/Location/1/google/news_not_done/com.nbcuni.nbcots.nbcbayarea.android0629-16-05-46\n['Push Notifications', '7NEWS Denver can occasionally send you push notification for breaking news alerts. Would you like to receive these notifications? You can also change your selection later from the Settings page in the app.', 'No', 'Yes']\ncom.doapps.id29610629-19-26-47\n/mnt/H_DRIVE/FlowIntent/Location/1/google/news_not_done/com.doapps.id29610629-19-26-47\n['WFSB Weather', 'Radar', 'Forecast', 'Technical Discussion', 'Closings', '89°', 'Davis, CA', 'MON', '98', 'TUE', '105', 'WED', '106', 'THU', '97', 'FRI', '95', 'Submit Photos', 'Live Coverage']\ncom.hearst.android.wptz0629-03-30-33\n/mnt/H_DRIVE/FlowIntent/Location/1/google/news_not_done/com.hearst.android.wptz0629-03-30-33\n['CATEGORIES', 'weather', 'FESTIVALS', 'WIN A TABLET', 'news', 'OTHER FESTIVALS', 'ENTERTAINMENT CALENDAR', 'VIDEOS AND PHOTOS', 'NEWS', 'WEATHER AUTHORITY', 'FOX 8 ON FACEBOOK', 'FOX 8 ON TWITTER', 'SAVED STORIES', 'SAVED PHOTOS', 'SAVED VIDEOS', 'FESTIVALS', 'Mar 24, 2015 12:10 PM', '7/4 Go 4th on the River', 'Mar 24, 2015 12:22 PM', '7/9-7/12 Running of the Bulls', 'Jan 13, 2015 8:42 AM', '7/15-7/19 Tales of the Cocktail', 'Jan 13, 2015 8:42 AM']\ncom.raycom.wmc0629-22-25-35\n/mnt/H_DRIVE/FlowIntent/Location/1/google/news_not_done/com.raycom.wmc0629-22-25-35\n"
     ]
    },
    {
     "name": "stdout",
     "output_type": "stream",
     "text": [
      "['CATEGORIES', 'weather', 'FESTIVALS', 'WIN A TABLET', 'news', 'OTHER FESTIVALS', 'ENTERTAINMENT CALENDAR', 'VIDEOS AND PHOTOS', 'NEWS', 'WEATHER AUTHORITY', 'FOX 8 ON FACEBOOK', 'FOX 8 ON TWITTER', 'SAVED STORIES', 'SAVED PHOTOS', 'SAVED VIDEOS', 'FESTIVALS', 'Mar 24, 2015 12:10 PM', '7/4 Go 4th on the River', 'Mar 24, 2015 12:22 PM', '7/9-7/12 Running of the Bulls', 'Jan 13, 2015 8:42 AM', '7/15-7/19 Tales of the Cocktail', 'Jan 13, 2015 8:42 AM']\ncom.nbcuni.nbcots.nbcwashington.android0629-13-58-00\n/mnt/H_DRIVE/FlowIntent/Location/1/google/news_not_done/com.nbcuni.nbcots.nbcwashington.android0629-13-58-00\n['Push Notifications', '7NEWS Denver can occasionally send you push notification for breaking news alerts. Would you like to receive these notifications? You can also change your selection later from the Settings page in the app.', 'No', 'Yes']\ncom.news13.news13plus0629-14-59-31\n/mnt/H_DRIVE/FlowIntent/Location/1/google/news_not_done/com.news13.news13plus0629-14-59-31\n['Push Notifications', '7NEWS Denver can occasionally send you push notification for breaking news alerts. Would you like to receive these notifications? You can also change your selection later from the Settings page in the app.', 'No', 'Yes']\ncom.hearst.android.wtae0629-05-24-05\n/mnt/H_DRIVE/FlowIntent/Location/1/google/news_not_done/com.hearst.android.wtae0629-05-24-05\n['CATEGORIES', 'weather', 'FESTIVALS', 'WIN A TABLET', 'news', 'OTHER FESTIVALS', 'ENTERTAINMENT CALENDAR', 'VIDEOS AND PHOTOS', 'NEWS', 'WEATHER AUTHORITY', 'FOX 8 ON FACEBOOK', 'FOX 8 ON TWITTER', 'SAVED STORIES', 'SAVED PHOTOS', 'SAVED VIDEOS', 'FESTIVALS', 'Mar 24, 2015 12:10 PM', '7/4 Go 4th on the River', 'Mar 24, 2015 12:22 PM', '7/9-7/12 Running of the Bulls', 'Jan 13, 2015 8:42 AM', '7/15-7/19 Tales of the Cocktail', 'Jan 13, 2015 8:42 AM']\ncom.nbcuni.nbcots.nbcmiami.android0629-05-42-41\n/mnt/H_DRIVE/FlowIntent/Location/1/google/news_not_done/com.nbcuni.nbcots.nbcmiami.android0629-05-42-41\n['Push Notifications', '7NEWS Denver can occasionally send you push notification for breaking news alerts. Would you like to receive these notifications? You can also change your selection later from the Settings page in the app.', 'No', 'Yes']\ncom.raycom.wect0629-23-24-21\n/mnt/H_DRIVE/FlowIntent/Location/1/google/news_not_done/com.raycom.wect0629-23-24-21\n['CATEGORIES', 'weather', 'FESTIVALS', 'WIN A TABLET', 'news', 'OTHER FESTIVALS', 'ENTERTAINMENT CALENDAR', 'VIDEOS AND PHOTOS', 'NEWS', 'WEATHER AUTHORITY', 'FOX 8 ON FACEBOOK', 'FOX 8 ON TWITTER', 'SAVED STORIES', 'SAVED PHOTOS', 'SAVED VIDEOS', 'FESTIVALS', 'Mar 24, 2015 12:10 PM', '7/4 Go 4th on the River', 'Mar 24, 2015 12:22 PM', '7/9-7/12 Running of the Bulls', 'Jan 13, 2015 8:42 AM', '7/15-7/19 Tales of the Cocktail', 'Jan 13, 2015 8:42 AM']\ncom.dispatch.coldispatch0629-15-11-13\n/mnt/H_DRIVE/FlowIntent/Location/1/google/news_not_done/com.dispatch.coldispatch0629-15-11-13\n['Push Notifications', '7NEWS Denver can occasionally send you push notification for breaking news alerts. Would you like to receive these notifications? You can also change your selection later from the Settings page in the app.', 'No', 'Yes']\ncom.cellit.cellitnews.wkrc0629-19-41-14\n/mnt/H_DRIVE/FlowIntent/Location/1/google/news_not_done/com.cellit.cellitnews.wkrc0629-19-41-14\n['WKRC Local 12', 'Top Stories', 'Weather', 'Watch Live Here', 'Medical Edge', 'Local Sports', 'Troubleshooter']\ncom.dispatch.droid.wbns10tv0629-09-00-38\n/mnt/H_DRIVE/FlowIntent/Location/1/google/news_not_done/com.dispatch.droid.wbns10tv0629-09-00-38\n['CATEGORIES', 'weather', 'FESTIVALS', 'WIN A TABLET', 'news', 'OTHER FESTIVALS', 'ENTERTAINMENT CALENDAR', 'VIDEOS AND PHOTOS', 'NEWS', 'WEATHER AUTHORITY', 'FOX 8 ON FACEBOOK', 'FOX 8 ON TWITTER', 'SAVED STORIES', 'SAVED PHOTOS', 'SAVED VIDEOS', 'FESTIVALS', 'Mar 24, 2015 12:10 PM', '7/4 Go 4th on the River', 'Mar 24, 2015 12:22 PM', '7/9-7/12 Running of the Bulls', 'Jan 13, 2015 8:42 AM', '7/15-7/19 Tales of the Cocktail', 'Jan 13, 2015 8:42 AM']\ncom.mylocaltv.wcpo0629-18-48-11\n/mnt/H_DRIVE/FlowIntent/Location/1/google/news_not_done/com.mylocaltv.wcpo0629-18-48-11\n['CATEGORIES', 'weather', 'FESTIVALS', 'WIN A TABLET', 'news', 'OTHER FESTIVALS', 'ENTERTAINMENT CALENDAR', 'VIDEOS AND PHOTOS', 'NEWS', 'WEATHER AUTHORITY', 'FOX 8 ON FACEBOOK', 'FOX 8 ON TWITTER', 'SAVED STORIES', 'SAVED PHOTOS', 'SAVED VIDEOS', 'FESTIVALS', 'Mar 24, 2015 12:10 PM', '7/4 Go 4th on the River', 'Mar 24, 2015 12:22 PM', '7/9-7/12 Running of the Bulls', 'Jan 13, 2015 8:42 AM', '7/15-7/19 Tales of the Cocktail', 'Jan 13, 2015 8:42 AM']\ncom.cellit.cellitnews.kabb0629-18-57-53\n/mnt/H_DRIVE/FlowIntent/Location/1/google/news_not_done/com.cellit.cellitnews.kabb0629-18-57-53\n"
     ]
    },
    {
     "name": "stdout",
     "output_type": "stream",
     "text": [
      "['KABB FOX29', 'News', 'Weather', 'Watch Live Here', 'Live Events', 'Sports', 'Daytime @ Nine']\ncom.raycom.wsfa0629-21-50-28\n/mnt/H_DRIVE/FlowIntent/Location/1/google/news_not_done/com.raycom.wsfa0629-21-50-28\n['CATEGORIES', 'weather', 'FESTIVALS', 'WIN A TABLET', 'news', 'OTHER FESTIVALS', 'ENTERTAINMENT CALENDAR', 'VIDEOS AND PHOTOS', 'NEWS', 'WEATHER AUTHORITY', 'FOX 8 ON FACEBOOK', 'FOX 8 ON TWITTER', 'SAVED STORIES', 'SAVED PHOTOS', 'SAVED VIDEOS', 'FESTIVALS', 'Mar 24, 2015 12:10 PM', '7/4 Go 4th on the River', 'Mar 24, 2015 12:22 PM', '7/9-7/12 Running of the Bulls', 'Jan 13, 2015 8:42 AM', '7/15-7/19 Tales of the Cocktail', 'Jan 13, 2015 8:42 AM']\ncom.ap.advnola0629-18-36-23\n/mnt/H_DRIVE/FlowIntent/Location/1/google/news_not_done/com.ap.advnola0629-18-36-23\n['CATEGORIES', 'weather', 'FESTIVALS', 'WIN A TABLET', 'news', 'OTHER FESTIVALS', 'ENTERTAINMENT CALENDAR', 'VIDEOS AND PHOTOS', 'NEWS', 'WEATHER AUTHORITY', 'FOX 8 ON FACEBOOK', 'FOX 8 ON TWITTER', 'SAVED STORIES', 'SAVED PHOTOS', 'SAVED VIDEOS', 'FESTIVALS', 'Mar 24, 2015 12:10 PM', '7/4 Go 4th on the River', 'Mar 24, 2015 12:22 PM', '7/9-7/12 Running of the Bulls', 'Jan 13, 2015 8:42 AM', '7/15-7/19 Tales of the Cocktail', 'Jan 13, 2015 8:42 AM']\ncom.graytv.android.wbkonews0629-17-02-31\n/mnt/H_DRIVE/FlowIntent/Location/1/google/news_not_done/com.graytv.android.wbkonews0629-17-02-31\n['Push Notifications', '7NEWS Denver can occasionally send you push notification for breaking news alerts. Would you like to receive these notifications? You can also change your selection later from the Settings page in the app.', 'No', 'Yes']\nfr.playsoft.android.tv5mondev20629-15-06-29\n/mnt/H_DRIVE/FlowIntent/Location/1/google/news_not_done/fr.playsoft.android.tv5mondev20629-15-06-29\n['Bienvenue dans l’application TV5MONDE', 'Il vous faut d’abord choisir votre pays et le nombre de journées de programmes que vous voulez embarquer dans l’application.', 'OK']\ncom.ap.postdispatch0629-04-10-03\n/mnt/H_DRIVE/FlowIntent/Location/1/google/news_not_done/com.ap.postdispatch0629-04-10-03\n['Push Notifications', '7NEWS Denver can occasionally send you push notification for breaking news alerts. Would you like to receive these notifications? You can also change your selection later from the Settings page in the app.', 'No', 'Yes']\ncom.raycom.wtol0629-16-50-36\n/mnt/H_DRIVE/FlowIntent/Location/1/google/news_not_done/com.raycom.wtol0629-16-50-36\n['CATEGORIES', 'weather', 'FESTIVALS', 'WIN A TABLET', 'news', 'OTHER FESTIVALS', 'ENTERTAINMENT CALENDAR', 'VIDEOS AND PHOTOS', 'NEWS', 'WEATHER AUTHORITY', 'FOX 8 ON FACEBOOK', 'FOX 8 ON TWITTER', 'SAVED STORIES', 'SAVED PHOTOS', 'SAVED VIDEOS', 'FESTIVALS', 'Mar 24, 2015 12:10 PM', '7/4 Go 4th on the River', 'Mar 24, 2015 12:22 PM', '7/9-7/12 Running of the Bulls', 'Jan 13, 2015 8:42 AM', '7/15-7/19 Tales of the Cocktail', 'Jan 13, 2015 8:42 AM']\ncom.mobincube.android.sc_1XGB70629-14-57-11\n/mnt/H_DRIVE/FlowIntent/Location/1/google/news_not_done/com.mobincube.android.sc_1XGB70629-14-57-11\n['Push Notifications', '7NEWS Denver can occasionally send you push notification for breaking news alerts. Would you like to receive these notifications? You can also change your selection later from the Settings page in the app.', 'No', 'Yes']\ncom.raycom.wafb0629-16-24-39\n/mnt/H_DRIVE/FlowIntent/Location/1/google/news_not_done/com.raycom.wafb0629-16-24-39\n['CATEGORIES', 'weather', 'FESTIVALS', 'WIN A TABLET', 'news', 'OTHER FESTIVALS', 'ENTERTAINMENT CALENDAR', 'VIDEOS AND PHOTOS', 'NEWS', 'WEATHER AUTHORITY', 'FOX 8 ON FACEBOOK', 'FOX 8 ON TWITTER', 'SAVED STORIES', 'SAVED PHOTOS', 'SAVED VIDEOS', 'FESTIVALS', 'Mar 24, 2015 12:10 PM', '7/4 Go 4th on the River', 'Mar 24, 2015 12:22 PM', '7/9-7/12 Running of the Bulls', 'Jan 13, 2015 8:42 AM', '7/15-7/19 Tales of the Cocktail', 'Jan 13, 2015 8:42 AM']\ncom.hearst.android.wbal0630-00-08-32\n/mnt/H_DRIVE/FlowIntent/Location/1/google/news_not_done/com.hearst.android.wbal0630-00-08-32\n['CATEGORIES', 'weather', 'FESTIVALS', 'WIN A TABLET', 'news', 'OTHER FESTIVALS', 'ENTERTAINMENT CALENDAR', 'VIDEOS AND PHOTOS', 'NEWS', 'WEATHER AUTHORITY', 'FOX 8 ON FACEBOOK', 'FOX 8 ON TWITTER', 'SAVED STORIES', 'SAVED PHOTOS', 'SAVED VIDEOS', 'FESTIVALS', 'Mar 24, 2015 12:10 PM', '7/4 Go 4th on the River', 'Mar 24, 2015 12:22 PM', '7/9-7/12 Running of the Bulls', 'Jan 13, 2015 8:42 AM', '7/15-7/19 Tales of the Cocktail', 'Jan 13, 2015 8:42 AM']\ncom.mylocaltv.wcyb0629-18-16-56\n/mnt/H_DRIVE/FlowIntent/Location/1/google/news_not_done/com.mylocaltv.wcyb0629-18-16-56\n['CATEGORIES', 'weather', 'FESTIVALS', 'WIN A TABLET', 'news', 'OTHER FESTIVALS', 'ENTERTAINMENT CALENDAR', 'VIDEOS AND PHOTOS', 'NEWS', 'WEATHER AUTHORITY', 'FOX 8 ON FACEBOOK', 'FOX 8 ON TWITTER', 'SAVED STORIES', 'SAVED PHOTOS', 'SAVED VIDEOS', 'FESTIVALS', 'Mar 24, 2015 12:10 PM', '7/4 Go 4th on the River', 'Mar 24, 2015 12:22 PM', '7/9-7/12 Running of the Bulls', 'Jan 13, 2015 8:42 AM', '7/15-7/19 Tales of the Cocktail', 'Jan 13, 2015 8:42 AM']\ncom.mylocaltv.wfmz0629-19-33-59\n/mnt/H_DRIVE/FlowIntent/Location/1/google/news_not_done/com.mylocaltv.wfmz0629-19-33-59\n['CATEGORIES', 'weather', 'FESTIVALS', 'WIN A TABLET', 'news', 'OTHER FESTIVALS', 'ENTERTAINMENT CALENDAR', 'VIDEOS AND PHOTOS', 'NEWS', 'WEATHER AUTHORITY', 'FOX 8 ON FACEBOOK', 'FOX 8 ON TWITTER', 'SAVED STORIES', 'SAVED PHOTOS', 'SAVED VIDEOS', 'FESTIVALS', 'Mar 24, 2015 12:10 PM', '7/4 Go 4th on the River', 'Mar 24, 2015 12:22 PM', '7/9-7/12 Running of the Bulls', 'Jan 13, 2015 8:42 AM', '7/15-7/19 Tales of the Cocktail', 'Jan 13, 2015 8:42 AM']\ncom.raycom.kplc0629-18-55-33\n/mnt/H_DRIVE/FlowIntent/Location/1/google/news_not_done/com.raycom.kplc0629-18-55-33\n['CATEGORIES', 'weather', 'FESTIVALS', 'WIN A TABLET', 'news', 'OTHER FESTIVALS', 'ENTERTAINMENT CALENDAR', 'VIDEOS AND PHOTOS', 'NEWS', 'WEATHER AUTHORITY', 'FOX 8 ON FACEBOOK', 'FOX 8 ON TWITTER', 'SAVED STORIES', 'SAVED PHOTOS', 'SAVED VIDEOS', 'FESTIVALS', 'Mar 24, 2015 12:10 PM', '7/4 Go 4th on the River', 'Mar 24, 2015 12:22 PM', '7/9-7/12 Running of the Bulls', 'Jan 13, 2015 8:42 AM', '7/15-7/19 Tales of the Cocktail', 'Jan 13, 2015 8:42 AM']\ncom.mandrejrn.revc0629-09-28-25\n/mnt/H_DRIVE/FlowIntent/Location/1/google/news_not_done/com.mandrejrn.revc0629-09-28-25\n['Push Notifications', '7NEWS Denver can occasionally send you push notification for breaking news alerts. Would you like to receive these notifications? You can also change your selection later from the Settings page in the app.', 'No', 'Yes']\ncom.raycom.kfvs0629-16-41-17\n/mnt/H_DRIVE/FlowIntent/Location/1/google/news_not_done/com.raycom.kfvs0629-16-41-17\n['CATEGORIES', 'weather', 'FESTIVALS', 'WIN A TABLET', 'news', 'OTHER FESTIVALS', 'ENTERTAINMENT CALENDAR', 'VIDEOS AND PHOTOS', 'NEWS', 'WEATHER AUTHORITY', 'FOX 8 ON FACEBOOK', 'FOX 8 ON TWITTER', 'SAVED STORIES', 'SAVED PHOTOS', 'SAVED VIDEOS', 'FESTIVALS', 'Mar 24, 2015 12:10 PM', '7/4 Go 4th on the River', 'Mar 24, 2015 12:22 PM', '7/9-7/12 Running of the Bulls', 'Jan 13, 2015 8:42 AM', '7/15-7/19 Tales of the Cocktail', 'Jan 13, 2015 8:42 AM']\ncom.synergycns.android.cbsradionews0629-14-07-26\n/mnt/H_DRIVE/FlowIntent/Location/1/google/news_not_done/com.synergycns.android.cbsradionews0629-14-07-26\n['Radio application Would Like to Use Your Current Location', 'OK', \"Don't Allow\"]\ncom.mylocaltv.wral0629-21-41-19\n/mnt/H_DRIVE/FlowIntent/Location/1/google/news_not_done/com.mylocaltv.wral0629-21-41-19\n"
     ]
    },
    {
     "name": "stdout",
     "output_type": "stream",
     "text": [
      "['CATEGORIES', 'weather', 'FESTIVALS', 'WIN A TABLET', 'news', 'OTHER FESTIVALS', 'ENTERTAINMENT CALENDAR', 'VIDEOS AND PHOTOS', 'NEWS', 'WEATHER AUTHORITY', 'FOX 8 ON FACEBOOK', 'FOX 8 ON TWITTER', 'SAVED STORIES', 'SAVED PHOTOS', 'SAVED VIDEOS', 'FESTIVALS', 'Mar 24, 2015 12:10 PM', '7/4 Go 4th on the River', 'Mar 24, 2015 12:22 PM', '7/9-7/12 Running of the Bulls', 'Jan 13, 2015 8:42 AM', '7/15-7/19 Tales of the Cocktail', 'Jan 13, 2015 8:42 AM']\ncom.raycom.wfie0629-03-48-52\n/mnt/H_DRIVE/FlowIntent/Location/1/google/news_not_done/com.raycom.wfie0629-03-48-52\n['CATEGORIES', 'weather', 'FESTIVALS', 'WIN A TABLET', 'news', 'OTHER FESTIVALS', 'ENTERTAINMENT CALENDAR', 'VIDEOS AND PHOTOS', 'NEWS', 'WEATHER AUTHORITY', 'FOX 8 ON FACEBOOK', 'FOX 8 ON TWITTER', 'SAVED STORIES', 'SAVED PHOTOS', 'SAVED VIDEOS', 'FESTIVALS', 'Mar 24, 2015 12:10 PM', '7/4 Go 4th on the River', 'Mar 24, 2015 12:22 PM', '7/9-7/12 Running of the Bulls', 'Jan 13, 2015 8:42 AM', '7/15-7/19 Tales of the Cocktail', 'Jan 13, 2015 8:42 AM']\ncom.linmedia.newstouch.wish0629-14-26-36\n/mnt/H_DRIVE/FlowIntent/Location/1/google/news_not_done/com.linmedia.newstouch.wish0629-14-26-36\n['Enable Push Notifications', 'Allow WISH TV 24-Hour News 8 to send you push notifications?', 'Never', 'No', 'Yes']\norg.npr.android.news0629-17-16-30\n/mnt/H_DRIVE/FlowIntent/Location/1/google/news_not_done/org.npr.android.news0629-17-16-30\n['Push Notifications', '7NEWS Denver can occasionally send you push notification for breaking news alerts. Would you like to receive these notifications? You can also change your selection later from the Settings page in the app.', 'No', 'Yes']\ncom.linmedia.newstouch.wpri0629-17-25-43\n/mnt/H_DRIVE/FlowIntent/Location/1/google/news_not_done/com.linmedia.newstouch.wpri0629-17-25-43\n['Enable Push Notifications', 'Allow WPRI 12 Eyewitness News - Providence RI News and Weather to send you push notifications?', 'Never', 'No', 'Yes']\ncom.hearst.android.wdsu0629-03-09-44\n/mnt/H_DRIVE/FlowIntent/Location/1/google/news_not_done/com.hearst.android.wdsu0629-03-09-44\n['CATEGORIES', 'weather', 'FESTIVALS', 'WIN A TABLET', 'news', 'OTHER FESTIVALS', 'ENTERTAINMENT CALENDAR', 'VIDEOS AND PHOTOS', 'NEWS', 'WEATHER AUTHORITY', 'FOX 8 ON FACEBOOK', 'FOX 8 ON TWITTER', 'SAVED STORIES', 'SAVED PHOTOS', 'SAVED VIDEOS', 'FESTIVALS', 'Mar 24, 2015 12:10 PM', '7/4 Go 4th on the River', 'Mar 24, 2015 12:22 PM', '7/9-7/12 Running of the Bulls', 'Jan 13, 2015 8:42 AM', '7/15-7/19 Tales of the Cocktail', 'Jan 13, 2015 8:42 AM']\ncom.mylocaltv.wnemdroid0629-17-51-16\n/mnt/H_DRIVE/FlowIntent/Location/1/google/news_not_done/com.mylocaltv.wnemdroid0629-17-51-16\n['CATEGORIES', 'weather', 'FESTIVALS', 'WIN A TABLET', 'news', 'OTHER FESTIVALS', 'ENTERTAINMENT CALENDAR', 'VIDEOS AND PHOTOS', 'NEWS', 'WEATHER AUTHORITY', 'FOX 8 ON FACEBOOK', 'FOX 8 ON TWITTER', 'SAVED STORIES', 'SAVED PHOTOS', 'SAVED VIDEOS', 'FESTIVALS', 'Mar 24, 2015 12:10 PM', '7/4 Go 4th on the River', 'Mar 24, 2015 12:22 PM', '7/9-7/12 Running of the Bulls', 'Jan 13, 2015 8:42 AM', '7/15-7/19 Tales of the Cocktail', 'Jan 13, 2015 8:42 AM']\ncom.ibsys.app.pns_det0629-04-54-13\n/mnt/H_DRIVE/FlowIntent/Location/1/google/news_not_done/com.ibsys.app.pns_det0629-04-54-13\n['Push Notifications', '7NEWS Denver can occasionally send you push notification for breaking news alerts. Would you like to receive these notifications? You can also change your selection later from the Settings page in the app.', 'No', 'Yes']\ncom.raycom.wtoc0629-14-14-49\n/mnt/H_DRIVE/FlowIntent/Location/1/google/news_not_done/com.raycom.wtoc0629-14-14-49\n['CATEGORIES', 'weather', 'FESTIVALS', 'WIN A TABLET', 'news', 'OTHER FESTIVALS', 'ENTERTAINMENT CALENDAR', 'VIDEOS AND PHOTOS', 'NEWS', 'WEATHER AUTHORITY', 'FOX 8 ON FACEBOOK', 'FOX 8 ON TWITTER', 'SAVED STORIES', 'SAVED PHOTOS', 'SAVED VIDEOS', 'FESTIVALS', 'Mar 24, 2015 12:10 PM', '7/4 Go 4th on the River', 'Mar 24, 2015 12:22 PM', '7/9-7/12 Running of the Bulls', 'Jan 13, 2015 8:42 AM', '7/15-7/19 Tales of the Cocktail', 'Jan 13, 2015 8:42 AM']\ncom.cellit.cellitnews.wtvc0629-17-39-22\n/mnt/H_DRIVE/FlowIntent/Location/1/google/news_not_done/com.cellit.cellitnews.wtvc0629-17-39-22\n['WTVC News 9', 'News', 'Weather', 'Watch Live Here', 'Traffic', 'Business', 'Education']\ncom.linmedia.newstouch.wala0629-15-22-50\n/mnt/H_DRIVE/FlowIntent/Location/1/google/news_not_done/com.linmedia.newstouch.wala0629-15-22-50\n['CATEGORIES', 'weather', 'FESTIVALS', 'WIN A TABLET', 'news', 'OTHER FESTIVALS', 'ENTERTAINMENT CALENDAR', 'VIDEOS AND PHOTOS', 'NEWS', 'WEATHER AUTHORITY', 'FOX 8 ON FACEBOOK', 'FOX 8 ON TWITTER', 'SAVED STORIES', 'SAVED PHOTOS', 'SAVED VIDEOS', 'FESTIVALS', 'Mar 24, 2015 12:10 PM', '7/4 Go 4th on the River', 'Mar 24, 2015 12:22 PM', '7/9-7/12 Running of the Bulls', 'Jan 13, 2015 8:42 AM', '7/15-7/19 Tales of the Cocktail', 'Jan 13, 2015 8:42 AM']\n"
     ]
    },
    {
     "name": "stdout",
     "output_type": "stream",
     "text": [
      "com.tribtv.wpix20629-16-52-57\n/mnt/H_DRIVE/FlowIntent/Location/1/google/news_not_done/com.tribtv.wpix20629-16-52-57\n['CATEGORIES', 'weather', 'FESTIVALS', 'WIN A TABLET', 'news', 'OTHER FESTIVALS', 'ENTERTAINMENT CALENDAR', 'VIDEOS AND PHOTOS', 'NEWS', 'WEATHER AUTHORITY', 'FOX 8 ON FACEBOOK', 'FOX 8 ON TWITTER', 'SAVED STORIES', 'SAVED PHOTOS', 'SAVED VIDEOS', 'FESTIVALS', 'Mar 24, 2015 12:10 PM', '7/4 Go 4th on the River', 'Mar 24, 2015 12:22 PM', '7/9-7/12 Running of the Bulls', 'Jan 13, 2015 8:42 AM', '7/15-7/19 Tales of the Cocktail', 'Jan 13, 2015 8:42 AM']\ncom.yahoo.mobile.client.android.yahoo0629-14-45-34\n/mnt/H_DRIVE/FlowIntent/Location/1/google/news_not_done/com.yahoo.mobile.client.android.yahoo0629-14-45-34\n['All stories', 'Yahoo Tech', 'Yahoo Movies', 'Yahoo Health', 'Pilots Fired After Snapping Selfies With Model in Cockpit', 'Yahoo Travel', 'Read more', '859', \"Meet the 'Spearfishing Huntress' that has lit the internet on fire in just 48 hours\"]\ncom.newssynergy.wdbj0629-09-53-48\n/mnt/H_DRIVE/FlowIntent/Location/1/google/news_not_done/com.newssynergy.wdbj0629-09-53-48\n['Push Notifications', '7NEWS Denver can occasionally send you push notification for breaking news alerts. Would you like to receive these notifications? You can also change your selection later from the Settings page in the app.', 'No', 'Yes']\ncom.raycom.kltv0629-03-37-26\n/mnt/H_DRIVE/FlowIntent/Location/1/google/news_not_done/com.raycom.kltv0629-03-37-26\n['CATEGORIES', 'weather', 'FESTIVALS', 'WIN A TABLET', 'news', 'OTHER FESTIVALS', 'ENTERTAINMENT CALENDAR', 'VIDEOS AND PHOTOS', 'NEWS', 'WEATHER AUTHORITY', 'FOX 8 ON FACEBOOK', 'FOX 8 ON TWITTER', 'SAVED STORIES', 'SAVED PHOTOS', 'SAVED VIDEOS', 'FESTIVALS', 'Mar 24, 2015 12:10 PM', '7/4 Go 4th on the River', 'Mar 24, 2015 12:22 PM', '7/9-7/12 Running of the Bulls', 'Jan 13, 2015 8:42 AM', '7/15-7/19 Tales of the Cocktail', 'Jan 13, 2015 8:42 AM']\ncom.hearst.android.wlky0629-05-45-00\n/mnt/H_DRIVE/FlowIntent/Location/1/google/news_not_done/com.hearst.android.wlky0629-05-45-00\n['CATEGORIES', 'weather', 'FESTIVALS', 'WIN A TABLET', 'news', 'OTHER FESTIVALS', 'ENTERTAINMENT CALENDAR', 'VIDEOS AND PHOTOS', 'NEWS', 'WEATHER AUTHORITY', 'FOX 8 ON FACEBOOK', 'FOX 8 ON TWITTER', 'SAVED STORIES', 'SAVED PHOTOS', 'SAVED VIDEOS', 'FESTIVALS', 'Mar 24, 2015 12:10 PM', '7/4 Go 4th on the River', 'Mar 24, 2015 12:22 PM', '7/9-7/12 Running of the Bulls', 'Jan 13, 2015 8:42 AM', '7/15-7/19 Tales of the Cocktail', 'Jan 13, 2015 8:42 AM']\ncom.go.abclocal.wls.android.weather0629-14-28-56\n/mnt/H_DRIVE/FlowIntent/Location/1/google/news_not_done/com.go.abclocal.wls.android.weather0629-14-28-56\n['Push Notifications', '7NEWS Denver can occasionally send you push notification for breaking news alerts. Would you like to receive these notifications? You can also change your selection later from the Settings page in the app.', 'No', 'Yes']\ncom.mylocaltv.kosa0629-22-39-34\n/mnt/H_DRIVE/FlowIntent/Location/1/google/news_not_done/com.mylocaltv.kosa0629-22-39-34\n['CATEGORIES', 'weather', 'FESTIVALS', 'WIN A TABLET', 'news', 'OTHER FESTIVALS', 'ENTERTAINMENT CALENDAR', 'VIDEOS AND PHOTOS', 'NEWS', 'WEATHER AUTHORITY', 'FOX 8 ON FACEBOOK', 'FOX 8 ON TWITTER', 'SAVED STORIES', 'SAVED PHOTOS', 'SAVED VIDEOS', 'FESTIVALS', 'Mar 24, 2015 12:10 PM', '7/4 Go 4th on the River', 'Mar 24, 2015 12:22 PM', '7/9-7/12 Running of the Bulls', 'Jan 13, 2015 8:42 AM', '7/15-7/19 Tales of the Cocktail', 'Jan 13, 2015 8:42 AM']\ncom.wsvn.id_28620629-09-35-20\n/mnt/H_DRIVE/FlowIntent/Location/1/google/news_not_done/com.wsvn.id_28620629-09-35-20\n['WSVN', '71°', 'Davis, CA', 'High: 95°', 'Low: 61°', 'NEWS', 'Top Stories', 'Local', 'National', 'International', 'Entertainment', 'Strange', 'Tech', 'Business', 'Political']\ncom.raycom.wdam0629-17-04-53\n/mnt/H_DRIVE/FlowIntent/Location/1/google/news_not_done/com.raycom.wdam0629-17-04-53\n['CATEGORIES', 'weather', 'FESTIVALS', 'WIN A TABLET', 'news', 'OTHER FESTIVALS', 'ENTERTAINMENT CALENDAR', 'VIDEOS AND PHOTOS', 'NEWS', 'WEATHER AUTHORITY', 'FOX 8 ON FACEBOOK', 'FOX 8 ON TWITTER', 'SAVED STORIES', 'SAVED PHOTOS', 'SAVED VIDEOS', 'FESTIVALS', 'Mar 24, 2015 12:10 PM', '7/4 Go 4th on the River', 'Mar 24, 2015 12:22 PM', '7/9-7/12 Running of the Bulls', 'Jan 13, 2015 8:42 AM', '7/15-7/19 Tales of the Cocktail', 'Jan 13, 2015 8:42 AM']\ncom.hearst.android.wgal0629-22-06-45\n/mnt/H_DRIVE/FlowIntent/Location/1/google/news_not_done/com.hearst.android.wgal0629-22-06-45\n['CATEGORIES', 'weather', 'FESTIVALS', 'WIN A TABLET', 'news', 'OTHER FESTIVALS', 'ENTERTAINMENT CALENDAR', 'VIDEOS AND PHOTOS', 'NEWS', 'WEATHER AUTHORITY', 'FOX 8 ON FACEBOOK', 'FOX 8 ON TWITTER', 'SAVED STORIES', 'SAVED PHOTOS', 'SAVED VIDEOS', 'FESTIVALS', 'Mar 24, 2015 12:10 PM', '7/4 Go 4th on the River', 'Mar 24, 2015 12:22 PM', '7/9-7/12 Running of the Bulls', 'Jan 13, 2015 8:42 AM', '7/15-7/19 Tales of the Cocktail', 'Jan 13, 2015 8:42 AM']\ncom.wsvn.id_28710629-13-37-12\n/mnt/H_DRIVE/FlowIntent/Location/1/google/news_not_done/com.wsvn.id_28710629-13-37-12\n"
     ]
    },
    {
     "name": "stdout",
     "output_type": "stream",
     "text": [
      "['7News Boston', 'News', 'Weather', 'Live Video', '92°', 'Davis, CA', 'MON', '95', 'TUE', '105', 'WED', '106', 'THU', '94', 'FRI', '95', 'Videos', 'Traffic', 'New details on the identities of three killed in Plainville plane crash. Watch live in app']\ncom.raycom.wave0629-21-36-40\n/mnt/H_DRIVE/FlowIntent/Location/1/google/news_not_done/com.raycom.wave0629-21-36-40\n['CATEGORIES', 'weather', 'FESTIVALS', 'WIN A TABLET', 'news', 'OTHER FESTIVALS', 'ENTERTAINMENT CALENDAR', 'VIDEOS AND PHOTOS', 'NEWS', 'WEATHER AUTHORITY', 'FOX 8 ON FACEBOOK', 'FOX 8 ON TWITTER', 'SAVED STORIES', 'SAVED PHOTOS', 'SAVED VIDEOS', 'FESTIVALS', 'Mar 24, 2015 12:10 PM', '7/4 Go 4th on the River', 'Mar 24, 2015 12:22 PM', '7/9-7/12 Running of the Bulls', 'Jan 13, 2015 8:42 AM', '7/15-7/19 Tales of the Cocktail', 'Jan 13, 2015 8:42 AM']\ncom.cellit.cellitnews.wsyx0629-14-33-41\n/mnt/H_DRIVE/FlowIntent/Location/1/google/news_not_done/com.cellit.cellitnews.wsyx0629-14-33-41\n['WSYX ABC6', 'News', 'Weather', 'Watch Live Here', 'School Closings', 'Discount Glasses', 'Fighting Back']\ncom.et.reader.activities0629-14-52-33\n/mnt/H_DRIVE/FlowIntent/Location/1/google/news_not_done/com.et.reader.activities0629-14-52-33\n['Push Notifications', '7NEWS Denver can occasionally send you push notification for breaking news alerts. Would you like to receive these notifications? You can also change your selection later from the Settings page in the app.', 'No', 'Yes']\ncom.mylocaltv.whbq0629-22-02-01\n/mnt/H_DRIVE/FlowIntent/Location/1/google/news_not_done/com.mylocaltv.whbq0629-22-02-01\n['CATEGORIES', 'weather', 'FESTIVALS', 'WIN A TABLET', 'news', 'OTHER FESTIVALS', 'ENTERTAINMENT CALENDAR', 'VIDEOS AND PHOTOS', 'NEWS', 'WEATHER AUTHORITY', 'FOX 8 ON FACEBOOK', 'FOX 8 ON TWITTER', 'SAVED STORIES', 'SAVED PHOTOS', 'SAVED VIDEOS', 'FESTIVALS', 'Mar 24, 2015 12:10 PM', '7/4 Go 4th on the River', 'Mar 24, 2015 12:22 PM', '7/9-7/12 Running of the Bulls', 'Jan 13, 2015 8:42 AM', '7/15-7/19 Tales of the Cocktail', 'Jan 13, 2015 8:42 AM']\ncom.hearst.android.wapt0629-23-35-47\n/mnt/H_DRIVE/FlowIntent/Location/1/google/news_not_done/com.hearst.android.wapt0629-23-35-47\n['CATEGORIES', 'weather', 'FESTIVALS', 'WIN A TABLET', 'news', 'OTHER FESTIVALS', 'ENTERTAINMENT CALENDAR', 'VIDEOS AND PHOTOS', 'NEWS', 'WEATHER AUTHORITY', 'FOX 8 ON FACEBOOK', 'FOX 8 ON TWITTER', 'SAVED STORIES', 'SAVED PHOTOS', 'SAVED VIDEOS', 'FESTIVALS', 'Mar 24, 2015 12:10 PM', '7/4 Go 4th on the River', 'Mar 24, 2015 12:22 PM', '7/9-7/12 Running of the Bulls', 'Jan 13, 2015 8:42 AM', '7/15-7/19 Tales of the Cocktail', 'Jan 13, 2015 8:42 AM']\n/mnt/H_DRIVE/FlowIntent/Location/1\n/mnt/H_DRIVE/FlowIntent/Location/1\n/mnt/H_DRIVE/FlowIntent/Location/1\n/mnt/H_DRIVE/FlowIntent/Location/1\n/mnt/H_DRIVE/FlowIntent/Location/1\n/mnt/H_DRIVE/FlowIntent/Location/1\n/mnt/H_DRIVE/FlowIntent/Location/1\n/mnt/H_DRIVE/FlowIntent/Location/1\n/mnt/H_DRIVE/FlowIntent/Location/1\n/mnt/H_DRIVE/FlowIntent/Location/1\n/mnt/H_DRIVE/FlowIntent/Location/1\n/mnt/H_DRIVE/FlowIntent/Location/1\n/mnt/H_DRIVE/FlowIntent/Location/1\n/mnt/H_DRIVE/FlowIntent/Location/1\n/mnt/H_DRIVE/FlowIntent/Location/1\n/mnt/H_DRIVE/FlowIntent/Location/1\n/mnt/H_DRIVE/FlowIntent/Location/1\n/mnt/H_DRIVE/FlowIntent/Location/1\n/mnt/H_DRIVE/FlowIntent/Location/1\n/mnt/H_DRIVE/FlowIntent/Location/1\n/mnt/H_DRIVE/FlowIntent/Location/1\n/mnt/H_DRIVE/FlowIntent/Location/1\n/mnt/H_DRIVE/FlowIntent/Location/1\n/mnt/H_DRIVE/FlowIntent/Location/1\n/mnt/H_DRIVE/FlowIntent/Location/1\n/mnt/H_DRIVE/FlowIntent/Location/1\n/mnt/H_DRIVE/FlowIntent/Location/1\n/mnt/H_DRIVE/FlowIntent/Location/1\n/mnt/H_DRIVE/FlowIntent/Location/1\n/mnt/H_DRIVE/FlowIntent/Location/1\n/mnt/H_DRIVE/FlowIntent/Location/1\n/mnt/H_DRIVE/FlowIntent/Location/1\n/mnt/H_DRIVE/FlowIntent/Location/1\n/mnt/H_DRIVE/FlowIntent/Location/1\n/mnt/H_DRIVE/FlowIntent/Location/1\n/mnt/H_DRIVE/FlowIntent/Location/1\n/mnt/H_DRIVE/FlowIntent/Location/1\n/mnt/H_DRIVE/FlowIntent/Location/1\n/mnt/H_DRIVE/FlowIntent/Location/1\n/mnt/H_DRIVE/FlowIntent/Location/1\n/mnt/H_DRIVE/FlowIntent/Location/1\n"
     ]
    },
    {
     "name": "stdout",
     "output_type": "stream",
     "text": [
      "/mnt/H_DRIVE/FlowIntent/Location/1\n/mnt/H_DRIVE/FlowIntent/Location/1\n/mnt/H_DRIVE/FlowIntent/Location/1\n/mnt/H_DRIVE/FlowIntent/Location/1\n/mnt/H_DRIVE/FlowIntent/Location/1\n/mnt/H_DRIVE/FlowIntent/Location/1\n/mnt/H_DRIVE/FlowIntent/Location/1\n/mnt/H_DRIVE/FlowIntent/Location/1\n/mnt/H_DRIVE/FlowIntent/Location/1\n/mnt/H_DRIVE/FlowIntent/Location/1\n/mnt/H_DRIVE/FlowIntent/Location/1\n/mnt/H_DRIVE/FlowIntent/Location/1\n/mnt/H_DRIVE/FlowIntent/Location/1\n/mnt/H_DRIVE/FlowIntent/Location/1\n/mnt/H_DRIVE/FlowIntent/Location/1\n/mnt/H_DRIVE/FlowIntent/Location/1\n/mnt/H_DRIVE/FlowIntent/Location/1\n/mnt/H_DRIVE/FlowIntent/Location/1\n/mnt/H_DRIVE/FlowIntent/Location/1\n/mnt/H_DRIVE/FlowIntent/Location/1\n/mnt/H_DRIVE/FlowIntent/Location/1\n/mnt/H_DRIVE/FlowIntent/Location/1\n/mnt/H_DRIVE/FlowIntent/Location/1\ncom.slidelock\n/mnt/H_DRIVE/FlowIntent/Location/1/google/person/com.slidelock\n['Push Notifications', '7NEWS Denver can occasionally send you push notification for breaking news alerts. Would you like to receive these notifications? You can also change your selection later from the Settings page in the app.', 'No', 'Yes']\n/mnt/H_DRIVE/FlowIntent/Location/1\n/mnt/H_DRIVE/FlowIntent/Location/1\n/mnt/H_DRIVE/FlowIntent/Location/1\ncom.fiveguys.olo.android\n/mnt/H_DRIVE/FlowIntent/Location/1/google/shop/com.fiveguys.olo.android\n['Five Guys', 'NEARBY', 'City, State or ZIP', 'West Sacramento', '768 Ikea Court, Suite 120\\nWest Sacramento CA 95605', '11.59 miles', 'Natomas', '4630 Natomas Blvd Ste 100\\nSacramento CA 95835', '15.51 miles', 'Vacaville', '1651 Monte Vista Ave., Building 4\\nVacaville CA 95688', '16.1 miles', 'Elk Grove', '9257 Laguna Springs Dr. #190\\nElk Grove CA 95624', '21.16 miles', 'Fairfield - Gateway', 'MAP', 'FAVORITES']\ncom.localsalesapps.localsalesandshopping\n/mnt/H_DRIVE/FlowIntent/Location/1/google/shop/com.localsalesapps.localsalesandshopping\n['Stores', 'List', 'Coupons', 'Favorites', 'Gap', 'Clothing', '500 1st St, 95616', '0.76 mi', 'Napa Auto Parts', 'Automotive', '975 Olive Dr, ', '0.85 mi', 'Rite Aid', 'Cosmetics,Pharmacy,Groceries', '655 Russell Boulevard, 95616', '0.85 mi', 'GameStop', 'Entertainment', '825 Russell Blvd, 95616', '0.94 mi']\ncom.pointinside.android.app\n/mnt/H_DRIVE/FlowIntent/Location/1/google/shop/com.pointinside.android.app\n['Search']\ncom.padmapper\n/mnt/H_DRIVE/FlowIntent/Location/1/google/shop/com.padmapper\n['Push Notifications', '7NEWS Denver can occasionally send you push notification for breaking news alerts. Would you like to receive these notifications? You can also change your selection later from the Settings page in the app.', 'No', 'Yes']\nrestaurant.coupon\n/mnt/H_DRIVE/FlowIntent/Location/1/google/shop/restaurant.coupon\n['Davis']\n/mnt/H_DRIVE/FlowIntent/Location/1\n/mnt/H_DRIVE/FlowIntent/Location/1\n/mnt/H_DRIVE/FlowIntent/Location/1\n/mnt/H_DRIVE/FlowIntent/Location/1\n/mnt/H_DRIVE/FlowIntent/Location/1\n/mnt/H_DRIVE/FlowIntent/Location/1\ncom.fandango.regal\n/mnt/H_DRIVE/FlowIntent/Location/1/google/enter/com.fandango.regal\n['Push Notifications', '7NEWS Denver can occasionally send you push notification for breaking news alerts. Would you like to receive these notifications? You can also change your selection later from the Settings page in the app.', 'No', 'Yes']\ncom.craftbox.movieshowtime\n/mnt/H_DRIVE/FlowIntent/Location/1/google/enter/com.craftbox.movieshowtime\n['La Rue Road Woodland United States of America', 'Regal Davis Holiday 6', 'Minions', '12:45 3:45 6:45 10:10pm', 'Ant-Man', '2:00 5:00 8:00pm', 'Pixels', '1:30 7:30pm', 'Inside Out', '1:45 4:45 7:45 10:40pm', 'Days', 'Theaters', 'Sort']\ncom.tvguidemobile\n/mnt/H_DRIVE/FlowIntent/Location/1/google/enter/com.tvguidemobile\n['Davis', '95616']\n/mnt/H_DRIVE/FlowIntent/Location/1\n/mnt/H_DRIVE/FlowIntent/Location/1\n/mnt/H_DRIVE/FlowIntent/Location/1\n/mnt/H_DRIVE/FlowIntent/Location/1\ncom.appsbar.doTERRAoils290609\n/mnt/H_DRIVE/FlowIntent/Location/1/google/busin/com.appsbar.doTERRAoils290609\n['Push Notifications', '7NEWS Denver can occasionally send you push notification for breaking news alerts. Would you like to receive these notifications? You can also change your selection later from the Settings page in the app.', 'No', 'Yes']\nim.ecloud.ecalendar\n/mnt/H_DRIVE/FlowIntent/Location/1\n/mnt/H_DRIVE/FlowIntent/Location/1\n/mnt/H_DRIVE/FlowIntent/Location/1\ncom.espn.fc\n/mnt/H_DRIVE/FlowIntent/Location/1/google/sport/com.espn.fc\n"
     ]
    },
    {
     "name": "stderr",
     "output_type": "stream",
     "text": [
      "Building prefix dict from the default dictionary ...\n"
     ]
    },
    {
     "name": "stderr",
     "output_type": "stream",
     "text": [
      "Loading model from cache /tmp/jieba.cache\n"
     ]
    },
    {
     "name": "stdout",
     "output_type": "stream",
     "text": [
      "['Davis']\n/mnt/H_DRIVE/FlowIntent/Location/1\n/mnt/H_DRIVE/FlowIntent/Location/1\n/mnt/H_DRIVE/FlowIntent/Location/1\ncom.example.weather.ding.wet\n/mnt/H_DRIVE/FlowIntent/Location/1/google/special/com.example.weather.ding.wet\n"
     ]
    },
    {
     "name": "stderr",
     "output_type": "stream",
     "text": [
      "Loading model cost 0.855 seconds.\n"
     ]
    },
    {
     "name": "stderr",
     "output_type": "stream",
     "text": [
      "Prefix dict has been built succesfully.\n"
     ]
    },
    {
     "name": "stdout",
     "output_type": "stream",
     "text": [
      "生活实用 随身天气预报\n['随身天气预报', '28', '城市', '晴', '20~30', '南风3-4级', '湿度：30%', '2013年5月25日', '点击菜单键选择您要关注的地区', '发布时间:20:00']\ncom.gau.go.launcherex.gowidget.weatherwidget\n/mnt/H_DRIVE/FlowIntent/Location/1/google/special/com.gau.go.launcherex.gowidget.weatherwidget\n生活实用 GO天气增强版\n['Davis', 'Sunny', '63°', 'Feels Like', '70°F', 'H\\xa0', '96°F', 'L\\xa0', '62°F', 'Pollen', '4.5', 'Hourly', 'International clock']\ncom.dotools.weather\n/mnt/H_DRIVE/FlowIntent/Location/1/google/special/com.dotools.weather\n生活实用 即时天气\n['网络未连接', '重新获取', '天气', '排行', '城市', '工具箱']\ncom.mytianqi.weather\n/mnt/H_DRIVE/FlowIntent/Location/1/google/special/com.mytianqi.weather\n"
     ]
    },
    {
     "name": "stdout",
     "output_type": "stream",
     "text": [
      "生活实用 天气预报管理助手\n['Davis', '更新日志', '* 修复强行关闭问题 \\n\\n* 调整 16 进制取色器 \\n\\n* 更新取色器的代码库 \\n\\n* 详细视图下方增加上次更新时间 \\n\\n* 调整小部件图标大小 \\n\\n* 增加日出和日落信息 \\n\\n* 增加新的图标集 \\n\\n* 图标集可在小部件中着色 \\n\\n* 更改启动器图标', '关闭']\ncom.dengzi.weather\n/mnt/H_DRIVE/FlowIntent/Location/1/google/special/com.dengzi.weather\n生活实用 天气\n['点击设置默认城市', '城市搜索', '25℃', '晴', '2015-07-16 Thu']\ncom.microsoft.amp.apps.bingweather\n/mnt/H_DRIVE/FlowIntent/Location/1/google/special/com.microsoft.amp.apps.bingweather\n理财购物 天气\n['Weather', 'How would you like to launch MSN Weather?', 'Always detect my location', 'Choose a default location']\ncom.crunding.weatherplus\n/mnt/H_DRIVE/FlowIntent/Location/1/google/special/com.crunding.weatherplus\n生活实用 最专业的天气预报\n['Davis']\n/mnt/H_DRIVE/FlowIntent/Location/1\n/mnt/H_DRIVE/FlowIntent/Location/1\n/mnt/H_DRIVE/FlowIntent/Location/1\n/mnt/H_DRIVE/FlowIntent/Location/1\n/mnt/H_DRIVE/FlowIntent/Location/1\n/mnt/H_DRIVE/FlowIntent/Location/1\n/mnt/H_DRIVE/FlowIntent/Location/1\n/mnt/H_DRIVE/FlowIntent/Location/1\ncom.movile.wp\n/mnt/H_DRIVE/FlowIntent/Location/1/google/social/com.movile.wp\n['find free wi-fi networks', 'Davis']\ncom.replayit\n/mnt/H_DRIVE/FlowIntent/Location/1/google/social/com.replayit\n['Choose your school to get started:', 'Frances Harper Junior High School', 'Davis, CA', 'Martin Luther King High School', 'Davis, CA', \"My school isn't on the list\", 'Already have an account?', 'Connect', 'LOG IN']\n/mnt/H_DRIVE/FlowIntent/Location/1\n/mnt/H_DRIVE/FlowIntent/Location/1\n/mnt/H_DRIVE/FlowIntent/Location/1\ncom.qunar.hotel\n/mnt/H_DRIVE/FlowIntent/Location/1/google/map/com.qunar.hotel\n"
     ]
    },
    {
     "name": "stdout",
     "output_type": "stream",
     "text": [
      "旅游出行 去哪儿酒店\n['07月16日入住  1晚', 'Davis', '长按可设置目的地', '列表模式', '筛选', '加载更多', '我的酒店']\ncom.anjuke.android.haozu\n/mnt/H_DRIVE/FlowIntent/Location/1/google/map/com.anjuke.android.haozu\n生活实用 安居客租房\n['选择城市', '定位到的城市', '定位失败', '所有城市', '北京', '长春', '成都', '重庆', '长沙', '大连', '东莞', '佛山', '福州']\ncom.yiche.price\n/mnt/H_DRIVE/FlowIntent/Location/1/google/map/com.yiche.price\n生活实用 汽车报价大全\n['北京', '搜索车型', '加载中…', '上次更新:无', '我要买车', '销量排行', '汽车头条', '附近经销商']\ncom.mlanger.worldmaps\n/mnt/H_DRIVE/FlowIntent/Location/1/google/map/com.mlanger.worldmaps\n旅游出行 世界 地图\n['GPS']\ncom.android.cheyooh.vb\n/mnt/H_DRIVE/FlowIntent/Location/1/google/map/com.android.cheyooh.vb\n"
     ]
    },
    {
     "name": "stdout",
     "output_type": "stream",
     "text": [
      "生活实用 违章查询\n['选择城市', '搜索城市', 'GPS定位城市', '定位失败，请检查您的网络', '重试', '热门城市', '北京', '上海', '深圳', '广州', '成都', '南京', '武汉', '苏州']\ncom.autonavi.xmgd.navigator\n/mnt/H_DRIVE/FlowIntent/Location/1/google/map/com.autonavi.xmgd.navigator\n旅游出行 高德导航\n['Special Tips', 'Thank you for using Autonavi Navigation', '1.', 'Please click the hyperlink and carefully read AutoNavi Terms of Service.', '2.', \"To avoid accident, please do not operate this software while driving. Otherwise, you will be responsible for the traffic accident and other problems caused by yourselves' ignorance of safety.\", '3.', 'The function and service such as search POI, route calculation, navigation provided by this software is for your reference only. Please do not take this software as the only guidance for your driving. Please refer to the road actual situation while driving and complying traffic law and regulation.', \"I've read and agree\", \"Don't prompt again\", 'Refuse', 'Accept']\ncom.mapabc.minimap\n/mnt/H_DRIVE/FlowIntent/Location/1/google/map/com.mapabc.minimap\n旅游出行 迷你地图\n['迷你地图', '1.', '请在确保交通安全的前提下使用本软件。', '2.', '本软件在使用过程中，可能会产生数据流量费用，该费用由您的网络运营商收取。', '3.', '本软件提供的所有信息仅供您参考，我公司不对信息的有效性负责。', '下次不再提示', '继续']\ncom.lashou.map\n/mnt/H_DRIVE/FlowIntent/Location/1/google/map/com.lashou.map\n旅游出行"
     ]
    },
    {
     "name": "stdout",
     "output_type": "stream",
     "text": [
      " 拉手离线地图\n['Davis', 'map', 'Search', 'Directions', 'Bookmark']\ncom.mandian.android.dongdong\n/mnt/H_DRIVE/FlowIntent/Location/1/google/map/com.mandian.android.dongdong\n生活实用 动动\n['Welcome to\\nPacer', 'Pacer tracks your steps all day long,\\nwhether your phone is in your hand,\\npocket or bag', 'START TRACKING STEPS']\nsina.mobile.tianqitong\n/mnt/H_DRIVE/FlowIntent/Location/1/google/map/sina.mobile.tianqitong\n生活实用 天气通\n['选择城市/景点', '搜索城市/景点(中文/拼音)', '热门城市', '添加目前所在城市', '北京', '上海', '广州', '深圳', '武汉', '南京', '西安', '成都', '杭州', '郑州', '重庆', '沈阳', '哈尔滨', '长沙', '苏州', '大连', '香港', '澳门', '台北', '纽约', '更多城市', '热门景点', '故宫', '颐和园', '八达岭长城', '平遥古城']\ncom.shijiebang.android.mapcentral\n/mnt/H_DRIVE/FlowIntent/Location/1/google/map/com.shijiebang.android.mapcentral\n旅游出行 世界旅行离线地图\n['世界邦旅行离线地图', '时下热门', '地图列表', '正在下载', '热门推荐地点']"
     ]
    },
    {
     "name": "stdout",
     "output_type": "stream",
     "text": [
      "\ncom.lolaage.tbulu.tools\n/mnt/H_DRIVE/FlowIntent/Location/1/google/map/com.lolaage.tbulu.tools\n生活实用 户外助手\n['Davis', \"-121°45'34.57'' E , 38°31'55.31'' N , 65m\", '400米', '0']\ncom.nuomi\n/mnt/H_DRIVE/FlowIntent/Location/1/google/map/com.nuomi\n理财购物 百度糯米\n"
     ]
    },
    {
     "name": "stdout",
     "output_type": "stream",
     "text": [
      "['选择城市', '请输入城市中文名称或拼音', '已定位城市', '定位失败,请点击重试', '热门城市', '北京市', '上海市', '成都市', '杭州市', '郑州市', '武汉市', '天津市', '重庆市', '西安市', 'A', '安吉市', '安康市', '安庆市', '鞍山市']\nhr.mireo.arthur\n/mnt/H_DRIVE/FlowIntent/Location/1/google/map/hr.mireo.arthur\n旅游出行 GPS导航地图\n['Davis']\ncom.glympse.android.glympse\n/mnt/H_DRIVE/FlowIntent/Location/1/google/map/com.glympse.android.glympse\n其他软件 我在这里\n['Pm Student', 'Share Location', 'Request Location', 'Map', 'Favorites', 'History', 'Calendar', 'Settings', 'Tags']\norg.wikicrimes\n/mnt/H_DRIVE/FlowIntent/Location/1/google/map/org.wikicrimes\n旅游出行 地图\n['Davis', 'WikiCrimes', 'Map', 'List Crimes', 'The Wikicrimes could not verify how dangerous is your region:']\ncom.ulmon.android.citymaps2go\n/mnt/H_DRIVE/FlowIntent/Location/1/google/map/com.ulmon.android.citymaps2go\n"
     ]
    },
    {
     "name": "stdout",
     "output_type": "stream",
     "text": [
      "旅游出行 离线地图和旅游指南\n['City Maps 2Go']\ncn.mucang.xiaomi.android\n/mnt/H_DRIVE/FlowIntent/Location/1/google/map/cn.mucang.xiaomi.android\n旅游出行 小米违章查询\n['小米司机 丨', '北京', '- -°', '/- -°', '- -', '- -', '尾号 - / -', '点击添加车辆', '添加信息后可为您提供准确的违章详情', '全城违章排行榜', '北京市大兴区黄村地区其他道路黄村地区至黄村地区段', '共\\xa0267740\\xa0人违章']\ncom.exploremetro.bj\n/mnt/H_DRIVE/FlowIntent/Location/1/google/map/com.exploremetro.bj\n旅游出行 北京地铁地图 Expl\n['Explore Beijing', '1', '2', '4', '5', '6', '8', '9', '10', '13', '14', '15', 'FS', 'YZ', 'CP', 'A', 'BT']\ncom.floor.app\n/mnt/H_DRIVE/FlowIntent/Location/1/google/map/com.floor.app\n生活实用 楼一层\n['北京', '请输入楼盘，地段等', '附近', '租价', '面积', '排序', '附近共有1512条信息', '马哥孛罗大厦', '剩余面积', '403.0m²', '10.0/天/m²', '朝阳区安立路80号', '马哥孛罗大厦写字楼项目配套：五星级马哥孛罗酒店、餐厅、酒吧、商店、大宴会厅、贵宾厅、会议室、健身、泳池、咖啡馆、商务会客室\\n周边配套：中国银行交通银行、民生银行、农村信用社、北京银行、新潭鱼头、四海凯悦海鲜、孔乙己酒家、上岛咖啡、全聚德、肯德基、华汇华辰超市、阳光广场、北辰购物中心\\n电 梯：共8部原装三菱电梯，客梯载重1.35吨，速度2.5米/秒\\n网 络：电信\\n空 调：中央空调\\n车 位：共425个(地上：43个、地下：382个)主供写字楼使\\n写字楼建筑层高21层，建筑面积2.65万平方米， 5A级标准，核心筒结构设计，124－1677平米多种面积区间自由分割，为入住企业提供随需应变的多种选择\\n建筑高度:90米\\n层高:1层层高：6米 2—4层层高：4.5米 大堂挑空净高：9米左右 写字楼标准层层高：3.75米 净高：2.65米 公共区域净高：走廊2.3米 F5层高：3.75米 净高：2.6米\\n外立面采用铝合金玻璃幕墙，20层东侧梭型百叶。部分采用干挂高档天然石材。\\n交通配套\\n交通概况：有985、758、984、430等十余条公交线路，地铁5号线步行仅7分钟，地铁15号线步行仅5分钟。\\n', '柯玛斯车间', '剩余面积', '2167.0m²', '5.0/天/m²', '北京市东城区龙潭路3号院', '政策扶持,交通便利,产业园区,高性价比', '嘉诚块玉', '剩余面积', '700.0m²', '5.0/天/m²', '北京市东城区东四块玉南街32号院', '政策扶持,位置优越,产业园区', '菊儿胡同7号', '剩余面积', '1200.0m²', '6.0/天/m²', '北京市东城区菊儿胡同7号院', '房源', '关注', '我的']\norg.maps3d\n/mnt/H_DRIVE/FlowIntent/Location/1/google/map/org.maps3d\n"
     ]
    },
    {
     "name": "stdout",
     "output_type": "stream",
     "text": [
      "旅游出行 3D地图\n['Maps3d - Live Map']\ncom.shjt.map\n/mnt/H_DRIVE/FlowIntent/Location/1/google/map/com.shjt.map\n旅游出行 上海公交\n['线路查询', '换乘查询', '周边公交', '实时公交', '更多', '定位']\ncom.binean.compass\n/mnt/H_DRIVE/FlowIntent/Location/1/google/map/com.binean.compass\n旅游出行 地图指南针\n['address:错误号：100', '38.32\\'4\" N 121.45\\'8\" W']\nctrip.english\n/mnt/H_DRIVE/FlowIntent/Location/1/google/map/ctrip.english\n旅游出行 Ctrip\n['\"Ctrip\" would like to use your current location', 'This helps Ctrip find the nearest hotel for you.', 'Don’t Allow', 'Let’s Do It']\ncom.mapbar.android.accompany\n/mnt/H_DRIVE/FlowIntent/Location/1/google/map/com.mapbar.android.accompany\n"
     ]
    },
    {
     "name": "stdout",
     "output_type": "stream",
     "text": [
      "旅游出行 查周边\n['Davis']\ncom.mapswithme.maps.samsung\n/mnt/H_DRIVE/FlowIntent/Location/1/google/map/com.mapswithme.maps.samsung\n旅游出行 MapsWithMe Lite, 离线地图\n['Program needs to download \\n49.6MB of mandatory resources.', 'Pause', 'You can download the map\\nof your current location.', 'Download USA, California?']\ncom.ParisBusMetroTrain\n/mnt/H_DRIVE/FlowIntent/Location/1/google/map/com.ParisBusMetroTrain\n旅游出行 巴黎旅行必备城市地图\n['Bus', 'Metro', 'Train']\ncom.shijiebang.android.offlinemap.hongkong\n/mnt/H_DRIVE/FlowIntent/Location/1/google/map/com.shijiebang.android.offlinemap.hongkong\n旅游出行 香港离线地图\n['首次加载地图，请稍候…']\ncom.HotelMaster\n/mnt/H_DRIVE/FlowIntent/Location/1/google/map/com.HotelMaster\n旅游出行 连锁订房管家\n['连锁订房管家', '定位', '筛选', '列表', '长按地图可搜索周边酒店', '订房即返现，小金库持续充！', '您所选位置:-121.752965,38.534917']"
     ]
    },
    {
     "name": "stdout",
     "output_type": "stream",
     "text": [
      "\ncom.shijiebang.android.offlinemap.paris\n/mnt/H_DRIVE/FlowIntent/Location/1/google/map/com.shijiebang.android.offlinemap.paris\n旅游出行 巴黎离线地图\n['首次加载地图，请稍候…']\ncom.google.android.street\n/mnt/H_DRIVE/FlowIntent/Location/1/google/map/com.google.android.street\n旅游出行 谷歌街景\n['Push Notifications', '7NEWS Denver can occasionally send you push notification for breaking news alerts. Would you like to receive these notifications? You can also change your selection later from the Settings page in the app.', 'No', 'Yes']\ncom.baidu.searchbox_sj\n/mnt/H_DRIVE/FlowIntent/Location/1/google/map/com.baidu.searchbox_sj\n系统工具 百度\n['二维码\\u3000', '网址大全', '号码大全', '关注', '北京天气   27 ～ 21℃   雷阵雨   周五', '1', '周边', '定位', '升级', '美食', '酒店', '公交站', '火车票', '电影院', '独享特惠', '更多', '热点', '小说', '电视', '电影', '游戏', '美女', '水沟惊现巨型鲤鱼', '2015', '小米新品发布会', '26355', '女子冒充车模站台', '31408', '职业资格再取消', '16846', '重庆现神奇阴阳洞', '警方查优衣库事件']\ncom.hoangenterprise.mymaps\n/mnt/H_DRIVE/FlowIntent/Location/1/google/map/com.hoangenterprise.mymaps\n"
     ]
    },
    {
     "name": "stdout",
     "output_type": "stream",
     "text": [
      "旅游出行 我的地图\n['Davis', 'myMaps', 'Wikimapia', 'myMaps', 'myMaps', 'Wikimapia', 'BingMaps', 'GoogleMaps', 'MapQuest', 'NokiaMaps', 'OpenStreetMap', 'Local Nearby', 'ArcGIS', 'Mappy', 'Yahoo!Local', 'Designer H-Enterprise']\ncom.codesector.maverick.full\n/mnt/H_DRIVE/FlowIntent/Location/1/google/map/com.codesector.maverick.full\n旅游出行 荒野地图\n['3x1', 'Maverick', 'MapQuest', '0.0 km/h', '•', '↑ 64 m']\ncom.cjq.myloveicare\n/mnt/H_DRIVE/FlowIntent/Location/1/google/map/com.cjq.myloveicare\n旅游出行 家人定位地图\n['家人定位地图']\ncom.wuba\n/mnt/H_DRIVE/FlowIntent/Location/1/google/map/com.wuba\n生活实用 58同城\n['Davis', '定位为美国市,是否切换?', '切换', '取 消']\ncom.studentmap\n/mnt/H_DRIVE/FlowIntent/Location/1/google/map/com.studentmap\n"
     ]
    },
    {
     "name": "stdout",
     "output_type": "stream",
     "text": [
      "旅游出行 大学生地图\n['搜索地点\\xa0\\xa0商户\\xa0\\xa0线路等', '定位', '周边', '路线']\ntyt.android.bigplanettracks\n/mnt/H_DRIVE/FlowIntent/Location/1/google/map/tyt.android.bigplanettracks\n旅游出行 地球仪地图\n['地球仪地图']\ncom.avraham.talkanddrive\n/mnt/H_DRIVE/FlowIntent/Location/1/google/map/com.avraham.talkanddrive\n旅游出行 地图导航\n"
     ]
    },
    {
     "name": "stdout",
     "output_type": "stream",
     "text": [
      "['Talk & Drive', 'Drive where?', 'Afrikaans (South Africa)', 'Maps']\nnet.ecefeke.fejeidlegehei\n/mnt/H_DRIVE/FlowIntent/Location/1/google/map/net.ecefeke.fejeidlegehei\n旅游出行 老虎高德导航地图省钱实用宝典\n['老虎高德导航地图省钱实用宝典']\ncld.navi.mainframea\n/mnt/H_DRIVE/FlowIntent/Location/1/google/map/cld.navi.mainframea\n旅游出行 德立凯车载导航\n['未下载地图，可继续在线使用，需要保持网络畅通并会消耗流量。\\n如需语音导航，请下载地图后使用。', '在线使用', '下载', '退出']\ncom.smashingappsstudioz.nokiamapsfree\n/mnt/H_DRIVE/FlowIntent/Location/1/google/map/com.smashingappsstudioz.nokiamapsfree\n旅游出行 诺基亚地图 Gps maps using nokia maps free\n['Gps maps for nokia free']\ncom.aibang.abbus.bus\n/mnt/H_DRIVE/FlowIntent/Location/1/google/map/com.aibang.abbus.bus\n"
     ]
    },
    {
     "name": "stdout",
     "output_type": "stream",
     "text": [
      "旅游出行 爱帮公交\n['Davis']\ntianditu.com\n/mnt/H_DRIVE/FlowIntent/Location/1/google/map/tianditu.com\n旅游出行 天地图\n['天地图手机地图服务条款', '\\u3000\\u3000天地图有限公司提醒您：在使用天地图手机地图（以下简称天地图）前，请您务必仔细阅读本服务条款。一旦您选择使用天地图，即表示您认同并遵守天地图服务条款及随时的更新，本条款适用于您以各种方式使用天地图的情况：\\n\\u3000\\u30001.如无特别说明，天地图向您提供的服务均为免费。部分服务涉及到数据访问、电话或短信等功能支持，您可能需要向第三方（如：移动运营商等）支付相应费用。\\n\\u3000\\u30002.天地图尊重并保护所有天地图用户的个人隐私权，您的个人身份信息、位置信息、电话号码等个人资料，未经您亲自许可或根据相关法律、法规的强制性规定，天地图不会主动地泄露给任意第三方。但您在使用地图搜索时输入的关键字将不被认为是您的个人隐私资料。\\n\\u3000\\u30003.在给您提供的“定位”服务时，天地图需要收集和使用您的位置相关信息。未经您的允许，天地图不会将这些数据暴露或提供给任意第三方。GPS由于被障碍物遮挡或受到干扰，可能出现无法定位或定位实际偏差较大的情况，因此，天地图手机地图提供的定位信息仅供参考，不能保证定位的绝对准确。由使用定位服务而引起的或与之有关的任何直接或间接的问题，天地图不承担任何法律责任。\\n\\u3000\\u30004.为了提供更好的客户服务（如：跟踪系统“崩溃”原因等），天地图会收集一些移动设备特定信息（例如，您的设备和硬件ID以及设备类型、请求类型、移动运营商、请求的内容、您设备的基本使用统计信息、设备级别事件以及天地图产品和服务的使用情况），这可能是独一无二的，但这些信息并不能够让天地图识别您的身份。未经您的允许，天地图不会将这些信息数据暴露或提供给任意第三方。\\n\\u3000\\u30005.天地图通过互联网提供服务，对所提供的服务内容力求精准。但由于数据来源的多样性、网络使用本身的风险及相关特性等客观因素，天地图不保证当前提供的服务完全准确、真实、完整。对于因网络状况、通讯线路、及使用天地图或任何第三方的服务、资料、网址等任何原因而引起的或与之有关的任何直接或间接的损害,天地图不承担任何法律责任。\\n\\u3000\\u30006.天地图有限公司拥有或与相关内容提供者共同拥有“天地图”网站提供的内容服务（包括但不限于地理信息与地图、文字、图片、音频、视频资料及页面设计、软件产品等）的版权和/或其他相关知识产权。未经天地图有限公司书面许可，对于“天地图”拥有版权和/或其他知识产权的任何内容，任何人或机构不得进行全部或部分复制、翻译、更改，不得将全部或部分服务聚合至其他数据、软件系统或任何派生产品，不得出售、出租、发行或转让全部或部分服务，不得在非“天地图”所属的服务器上做镜像或以其他任何方式进行使用，不得擅自使用“天地图”标志。对于违法此条款者，天地图有限公司将向其追求法律责任。\\n\\u3000\\u30007.如果任何单位或个人发现在天地图生成的链接所指向的第三方网页的内容可能涉嫌侵犯其权利的，应该及时以书面的通讯方式向天地图提交权利通知，并提供身份证明、权属证明及详细侵权情况证明。天地图在收到上述法律文件后，将会依法尽快断开相关链接内容。\\n', '接受', '拒绝']\ncom.frogsparks.mytrails\n/mnt/H_DRIVE/FlowIntent/Location/1/google/map/com.frogsparks.mytrails\n旅游出行 我的地图\n['Simple recording controls', 'To control track recording, use the Record/Pause and Stop buttons in the task bar:\\n\\n- Pause suspends the recording without closing the track\\n- Record starts or resumes the recording\\n- Stop closes the track and asks you to pick a name to save the track as a GPX file', 'Close', 'More help']\ncom.elephantmap\n/mnt/H_DRIVE/FlowIntent/Location/1/google/map/com.elephantmap\n旅游出行 大象地图\n['搜索地点\\xa0\\xa0商户\\xa0\\xa0线路等', '定位', '周边', '路线']\nnet.loopu.map\n/mnt/H_DRIVE/FlowIntent/Location/1/google/map/net.loopu.map\n"
     ]
    },
    {
     "name": "stdout",
     "output_type": "stream",
     "text": [
      "旅游出行 离线地图\n['下载“全国概要包”，省流量，速度快']\ncom.environmentpollution.activity\n/mnt/H_DRIVE/FlowIntent/Location/1/google/map/com.environmentpollution.activity\n生活实用 蔚蓝地图\n['Davis', '2015-07-17 08:00', '官园', '空气质量指数', '35', '优', '预报', '适合户外运动', '>>', '温度', '0℃', '湿度', '0%', '风向', '0级', '首页', '空气', '水质', '污染源', '更多']\ntsou.activity.zhhsongyuangai.ui\n/mnt/H_DRIVE/FlowIntent/Location/1/google/map/tsou.activity.zhhsongyuangai.ui\n生活实用 智慧松原\n['Davis', '松原', '30 ~ 20℃', '智慧松原']\nair.hongkongtravelmap.tripthings.app\n/mnt/H_DRIVE/FlowIntent/Location/1/google/map/air.hongkongtravelmap.tripthings.app\n旅游出行 香港旅游地图\n['Davis']\ncom.shijiebang.android.offlinemap.beijing\n/mnt/H_DRIVE/FlowIntent/Location/1/google/map/com.shijiebang.android.offlinemap.beijing\n"
     ]
    },
    {
     "name": "stdout",
     "output_type": "stream",
     "text": [
      "旅游出行 北京离线地图\n['首次加载地图，请稍候…']\ncom.uu.uueeye\n/mnt/H_DRIVE/FlowIntent/Location/1/google/map/com.uu.uueeye\n旅游出行 悠悠驾车\n['定位中...', '数据获取中...', '搜索', '导航', '地图', '查违章', '电子眼', '工具箱', '设置', '意见建议', '添加爱车', '悠悠商城', '我的悠悠']\ncom.skobbler.forevermapng\n/mnt/H_DRIVE/FlowIntent/Location/1/google/map/com.skobbler.forevermapng\n旅游出行 永远在线地图2\n['Welcome to Scout', \"The app usually needs an online connection. However, you can upgrade it with installable maps for offline use. And you do get one offline map for free.\\n\\nPlease choose your preferred country below to claim your map. You can find additional maps in the 'Upgrades' section.\", 'Choose your free map:', 'United States', 'Confirm', 'Later']\ncn.buding.martin\n/mnt/H_DRIVE/FlowIntent/Location/1/google/map/cn.buding.martin\n \n['初次使用，请选择城市', '请输入您所在的城市', '当前选择城市', '定位城市', '正在定位...', '热门城市', '北京(北京)', '上海(上海)', '广州(广东)', '深圳(广东)', '东莞(广东)', '天津(天津)', '佛山(广东)', '重庆(重庆)']\ncom.zkboos.yuyinditu\n/mnt/H_DRIVE/FlowIntent/Location/1/google/map/com.zkboos.yuyinditu\n"
     ]
    },
    {
     "name": "stdout",
     "output_type": "stream",
     "text": [
      "旅游出行 语音地图\n['双击进行语音输入', '双击进行语音输入', '你的当前位置：']\neu.mapof.canada\n/mnt/H_DRIVE/FlowIntent/Location/1/google/map/eu.mapof.canada\n旅游出行 加拿大地图\n[\"For many features of this application you need some regional offline data which you can download via 'Settings' -> 'Offline data'. Afterwards you will be able to view maps, locate addresses, look up POIs, and find public transportation.\", 'Download regions', 'Later']\ncom.yonggao.app\n/mnt/H_DRIVE/FlowIntent/Location/1/google/map/com.yonggao.app\n生活实用 公元优家\n['Davis']\ncom.centamap.mapclient_android\n/mnt/H_DRIVE/FlowIntent/Location/1/google/map/com.centamap.mapclient_android\n旅游出行 中原地圖\n['地址/大廈/街名/門牌', '  地址/大廈/街名/門牌', '利用搵地方功能可以用「門牌」找位置', '搵地方', '搭巴士', '住宅搵樓', '餐廳', '所有分類', 'Centamap', '©2010 autonav 审图号:GS(2010)6011']\nqunar.platform.kit\n/mnt/H_DRIVE/FlowIntent/Location/1/google/map/qunar.platform.kit\n"
     ]
    },
    {
     "name": "stdout",
     "output_type": "stream",
     "text": [
      "旅游出行 去哪儿兜行\n['去哪儿兜行', '填写目的地']\ncom.ovital.ovitalMap\n/mnt/H_DRIVE/FlowIntent/Location/1/google/map/com.ovital.ovitalMap\n旅游出行 奥维互动地图\n['Ovital Map End User Terms of Use', 'OvitalMap Terms of Use\\r\\n  \\r\\nThis is an agreement between the user and Beijing Ovital Software Co.,Ltd. Read carefully before using this web site or application. By using this web site or application, you agree with these terms of use. If you do not agree to the terms of this license, do not click the \"accept\" button or download, install or use the application.\\r\\n\\r\\nLIABILITY DISCLAIMER OF NAVIGATION\\r\\nYou agree to comply with the following restrictions when using OvitalMap:\\r\\n1. Observe all traffic laws and otherwise drive safely.\\r\\n2. Use Your own personal judgment while driving. If You feel that a route suggested by OvitalMap instructs You to perform an unsafe or illegal maneuver, places You in an unsafe situation, or directs You into an area that You consider to be unsafe, do not follow such instructions.\\r\\n3. Do not input destinations, or otherwise interact with OvitalMap, unless Your vehicle is stationary and parked.\\r\\n4. Do not use OvitalMap for any illegal, unauthorized, unintended, unsafe, hazardous, or unlawful purposes, or in any manner inconsistent with this Agreement.\\r\\n5. Arrange all wireless devices and cables necessary for use of OvitalMap in a secure manner in Your vehicle so that they will not interfere with Your driving and will not prevent the operation of any safety device.\\r\\n\\r\\nLIABILITY DISCLAIMER OF MAP DATA DOWNLOAD\\r\\nOvitalMap is a cross-platform map browser developed by Beijing Ovital Software Co.,Ltd. based on Google map API and Bing map API, supporting offline views of Google Map, satellite map, terrain map and bing satellite map. as well as voice navigation. Therefore, OvitalMap does not own the data packet of those maps, and if you need them for commercial purpose, please follow the relevant rules of other companies.\\r\\nThe most significant feature of OvitalMap is that it provides a platform for users to communicate and share the signs and routes. You acknowledge and agree that the Application, any copies thereof (including without limitation any copy that You download, install, or use on Your Device) , and all copyrights, patents, trademarks, trade secrets and other intellectual property rights associated therewith are, and shall remain, the property of its collaborators, licensors, or suppliers. You should be responsible for what you have published, please make sure its authenticity and validity. If the sources you have published evoke any disputes, Beijing Ovital Software Co.,Ltd. will not take any responsibility.\\r\\n\\r\\nRESTRICTIONS ON USE\\r\\nYou shall not: \\r\\n(1) decompile, reverse engineer, disassemble, attempt to derive the source code, audio library or structure of, or decrypt the Application, even for research purposes; \\r\\n(2) make any modification, adaptation, improvement, enhancement, translation or derivative work from the Application; \\r\\n(3) violate any applicable laws, rules or regulations in connection with Your access or use of the Application; \\r\\n(4) remove, alter or obscure any proprietary notice (including any notice of copyright or trademark) of its collaborators, suppliers or licensors; \\r\\n(5) use the Application in a manner that derives revenue directly from such use, or use the Application for any other purpose for which it is not designed or intended; \\r\\n(6) use the Application for creating a product, service or software that is, directly or indirectly, competitive with or in any way a substitute for any services, product or software offered by OvitalMap;  \\r\\n(7) use the Application to send automated queries to any website or to send any unsolicited commercial e-mail;\\r\\n(8) publish any pointless or inappropriate message which includes like violence, politics, race, and religion in the embedded forum.  \\r\\nYou agree to abide by the rules and policies established from time to time by OvitalMap. Such rules and policies may include, for example, required or automated updates, modifications, and/or reinstallations of the Application and obtaining available patches to address security, interoperability or performance issues. These obligations survive termination of this License.\\r\\n\\r\\nNO UNLAWFUL OR PROHIBITED USE\\r\\nAs a condition of your permitted use of OvitalMap, you will not use OvitalMap for any purpose that is unlawful or prohibited by these Terms of Use. You may not use OvitalMap in any manner that could damage, disable, overburden, or impair OvitalMap or interfere with any other party\\'s use and enjoyment of OvitalMap. You may not attempt to gain unauthorized access to OvitalMap, other accounts, computer systems or networks connected to OvitalMap, through hacking, password mining or any other means. \\r\\n\\r\\nMODIFICATION OF THESE TERMS OF USE\\r\\nOvital reserves the right to change the Terms of Use under which the Beijing Ovital Software Co.,Ltd. is offered, including the right to add new terms. You are responsible for regularly reviewing the terms, conditions and notices of these Terms of Use, and any modified or additional terms, conditions or notices that may be included on or with any content available on the Ovital Software Co.,Ltd.. Your continued use of OvitalMap constitutes your agreement to all such terms, conditions and notices.\\r\\n\\r\\n', 'Agree', 'Refuse']\ncld.navi.cm\n/mnt/H_DRIVE/FlowIntent/Location/1/google/map/cld.navi.cm\n \n['Push Notifications', '7NEWS Denver can occasionally send you push notification for breaking news alerts. Would you like to receive these notifications? You can also change your selection later from the Settings page in the app.', 'No', 'Yes']\ncom.uroad.yxw\n/mnt/H_DRIVE/FlowIntent/Location/1/google/map/com.uroad.yxw\n旅游出行 交通在手\n['公交·地铁', '高速路况', '城市路况', '停车服务', '长途客运', '召车服务', '航空动态', '轮船票务', '其他', '首页', '附近', '资讯', '我的']\ncom.qiugonglue.qgl_jeju_offlinemap\n/mnt/H_DRIVE/FlowIntent/Location/1/google/map/com.qiugonglue.qgl_jeju_offlinemap\n旅游出行 济州岛离线地图\n['地图首次加载中']\n"
     ]
    },
    {
     "name": "stdout",
     "output_type": "stream",
     "text": [
      "cn.eclicks.wzsearch\n/mnt/H_DRIVE/FlowIntent/Location/1/google/map/cn.eclicks.wzsearch\n生活实用 车轮查违章\n['Push Notifications', '7NEWS Denver can occasionally send you push notification for breaking news alerts. Would you like to receive these notifications? You can also change your selection later from the Settings page in the app.', 'No', 'Yes']\ncom.jkfantasy.gpsmapcamera\n/mnt/H_DRIVE/FlowIntent/Location/1/google/map/com.jkfantasy.gpsmapcamera\n旅游出行 GPS地图相机\n['Davis']\ncn.o.map\n/mnt/H_DRIVE/FlowIntent/Location/1/google/map/cn.o.map\n"
     ]
    },
    {
     "name": "stdout",
     "output_type": "stream",
     "text": [
      "旅游出行 都市圈地图\n['Davis', '商家名，地址']\ncom.avraham.wazetalkanddrive\n/mnt/H_DRIVE/FlowIntent/Location/1/google/map/com.avraham.wazetalkanddrive\n旅游出行 地图导航\n['Talk & Drive', 'Drive where?', 'Afrikaans (South Africa)', 'Maps', 'Start recording upon launch']\nmobi.nmnmnmn.snmoknlnkno\n/mnt/H_DRIVE/FlowIntent/Location/1/google/map/mobi.nmnmnmn.snmoknlnkno\n旅游出行 谷歌城市地图卫星(高清版)\n['谷歌城市地图卫星高清', '谷歌卫星地图比较国内外城市肌理']\ncom.baidu.manymays\n/mnt/H_DRIVE/FlowIntent/Location/1/google/map/com.baidu.manymays\n旅游出行 地图四合一\n['输入地点...', '搜索', '线路']\ncom.liveit100.bike\n/mnt/H_DRIVE/FlowIntent/Location/1/google/map/com.liveit100.bike\n旅游出行 飞度公共自行车\n"
     ]
    },
    {
     "name": "stdout",
     "output_type": "stream",
     "text": [
      "['Davis', '请输入目的地，如观前街，火车站', '公里 ', '公里 ', '首页', '意见反馈', '更多']\ncom.erlinyou.worldlist\n/mnt/H_DRIVE/FlowIntent/Location/1/google/map/com.erlinyou.worldlist\n旅游出行 世界旅游导航地图\n['世界旅游导航地图', '已下载', '点击打开，长按删除', '尚未下载任何地图', '未下载', '点击开始下载或暂停', '国内城市', '上海', '旅游攻略、地铁线路、3D实景地标', '211 MB', '北京', '旅游攻略、地铁线路、3D实景地标', '202 MB', '成都', '逼真3D实景地标、建筑', '141 MB', '重庆', '逼真3D实景地标、建筑', '150 MB', '大连', '逼真3D实景地标、建筑', '113 MB', '广州', '逼真3D实景地标、建筑', '228 MB', '桂林', '丰富的地理信息', '102 MB']\ncom.zx.logistic\n/mnt/H_DRIVE/FlowIntent/Location/1/google/map/com.zx.logistic\n旅游出行 握物流\n['车源', '货源', '竞价', '始发地', '目的地', '广东清远市', '->', '广东广州市', '车辆描述:', '4.3米', '平板', '车源类型:', '回程', '张永杰', '(个体)车主/司机', '(评价4条)', '广东清远市', '->', '广东广州市', '小莫', '(个体)货主', '(评价1条)', '搜索模式', '地图模式']\ncom.pdw.pmh\n/mnt/H_DRIVE/FlowIntent/Location/1/google/map/com.pdw.pmh\n生活实用 排队美食\n['选择城市', '定位城市', '定位失败', 'B', '北京', 'C', '重庆', '长沙', '成都', '长春', 'D', '东莞', 'G', '广州']\n/mnt/H_DRIVE/FlowIntent/Location/1\n/mnt/H_DRIVE/FlowIntent/Location/1\ncom.anjuke.android.haozu\n/mnt/H_DRIVE/FlowIntent/Location/1/google/map/com.anjuke.android.haozu/com.anjuke.android.haozu\n"
     ]
    },
    {
     "name": "stdout",
     "output_type": "stream",
     "text": [
      "生活实用 安居客租房\n['长沙', '请输入小区名或地址', '发现好房', '韶山南路上海城 林科大对面 高等单身公寓 一应俱全 随时看房', '雨花', '上海城（一至三期）', '1室1厅', '1350', '元/月', '【办公装修 全套桌椅 中间楼层 靠湘江】湘江世纪城', '开福', '湘江世纪城湘江豪庭', '5室2厅', '4500', '元/月', '【稀缺一房 最新出来的 就看谁的速度快了】湘江世纪城', '开福', '湘江世纪城', '1室1厅', '1400', '元/月', '店长推荐！东塘地段！随时看房 牛角塘生物药厂宿舍', '雨花', '生物药厂宿舍', '2室2厅', '1800', '元/月', '附近', '区域板块', '地图', '找房', '我的', '更多']\n/mnt/H_DRIVE/FlowIntent/Location/1\n/mnt/H_DRIVE/FlowIntent/Location/1\n/mnt/H_DRIVE/FlowIntent/Location/1\n/mnt/H_DRIVE/FlowIntent/Location/1\ncom.android.cheyooh.vb\n/mnt/H_DRIVE/FlowIntent/Location/1/google/map/com.android.cheyooh.vb/com.android.cheyooh.vb\n生活实用 违章查询\n['选择城市', '搜索城市', 'GPS定位城市', '定位失败，请检查您的网络', '重试', '热门城市', '北京', '上海', '深圳', '广州', '成都', '南京', '武汉', '苏州']\n/mnt/H_DRIVE/FlowIntent/Location/1\n/mnt/H_DRIVE/FlowIntent/Location/1\n/mnt/H_DRIVE/FlowIntent/Location/1\n/mnt/H_DRIVE/FlowIntent/Location/1\n/mnt/H_DRIVE/FlowIntent/Location/1\n/mnt/H_DRIVE/FlowIntent/Location/1\n/mnt/H_DRIVE/FlowIntent/Location/1\n/mnt/H_DRIVE/FlowIntent/Location/1\n/mnt/H_DRIVE/FlowIntent/Location/1\n/mnt/H_DRIVE/FlowIntent/Location/1\n/mnt/H_DRIVE/FlowIntent/Location/1\n/mnt/H_DRIVE/FlowIntent/Location/1\n/mnt/H_DRIVE/FlowIntent/Location/1\n/mnt/H_DRIVE/FlowIntent/Location/1\n/mnt/H_DRIVE/FlowIntent/Location/1\n/mnt/H_DRIVE/FlowIntent/Location/1\ncom.floor.app\n/mnt/H_DRIVE/FlowIntent/Location/1/google/map/com.floor.app/com.floor.app\n"
     ]
    },
    {
     "name": "stdout",
     "output_type": "stream",
     "text": [
      "生活实用 楼一层\n['请输入楼盘，地段等', '附近', '租价', '面积', '排序', '附近共有1520条信息', '景阳商务大厦', '剩余面积', '5782.01m²', '3.2/天/m²', '北京市石景山区京原路19号院4号楼', '紧邻地铁  交通便利 配套设施齐全', '华膳园产业园', '剩余面积', '38000.0m²', '3.5/天/m²', '北京市朝阳区高碑店小郊亭村1376号', '紧邻地铁  交通便利 配套设施齐全', '复星国际中心', '剩余面积', '0.0m²', '13.0/天/m²', '北京市朝阳区朝阳北路237号', '紧邻地铁  交通便利 配套设施齐全', '东方梅地亚中心', '剩余面积', '7270.96m²', '10.0/天/m²', '北京市朝阳区光华路4号', '房源', '关注', '我的']\n/mnt/H_DRIVE/FlowIntent/Location/1\n/mnt/H_DRIVE/FlowIntent/Location/1\n/mnt/H_DRIVE/FlowIntent/Location/1\n/mnt/H_DRIVE/FlowIntent/Location/1\n/mnt/H_DRIVE/FlowIntent/Location/1\n/mnt/H_DRIVE/FlowIntent/Location/1\n/mnt/H_DRIVE/FlowIntent/Location/1\n/mnt/H_DRIVE/FlowIntent/Location/1\n/mnt/H_DRIVE/FlowIntent/Location/1\n/mnt/H_DRIVE/FlowIntent/Location/1\n/mnt/H_DRIVE/FlowIntent/Location/1\n/mnt/H_DRIVE/FlowIntent/Location/1\n/mnt/H_DRIVE/FlowIntent/Location/1\n/mnt/H_DRIVE/FlowIntent/Location/1\n/mnt/H_DRIVE/FlowIntent/Location/1\n/mnt/H_DRIVE/FlowIntent/Location/1\n/mnt/H_DRIVE/FlowIntent/Location/1\n/mnt/H_DRIVE/FlowIntent/Location/1\n/mnt/H_DRIVE/FlowIntent/Location/1\n/mnt/H_DRIVE/FlowIntent/Location/1\n/mnt/H_DRIVE/FlowIntent/Location/1\n/mnt/H_DRIVE/FlowIntent/Location/1\n/mnt/H_DRIVE/FlowIntent/Location/1\n/mnt/H_DRIVE/FlowIntent/Location/1\n/mnt/H_DRIVE/FlowIntent/Location/1\n/mnt/H_DRIVE/FlowIntent/Location/1\n/mnt/H_DRIVE/FlowIntent/Location/1\n/mnt/H_DRIVE/FlowIntent/Location/1\n/mnt/H_DRIVE/FlowIntent/Location/1\n/mnt/H_DRIVE/FlowIntent/Location/1\n/mnt/H_DRIVE/FlowIntent/Location/1\n/mnt/H_DRIVE/FlowIntent/Location/1\n/mnt/H_DRIVE/FlowIntent/Location/1\n/mnt/H_DRIVE/FlowIntent/Location/1\n/mnt/H_DRIVE/FlowIntent/Location/1\ncn.buding.martin\n/mnt/H_DRIVE/FlowIntent/Location/1/google/map/cn.buding.martin/cn.buding.martin\n生活实用 微车违章查询\n['初次使用，请选择城市', '请输入您所在的城市', '当前选择城市', '定位城市', '正在定位...', '热门城市', '北京(北京)', '上海(上海)', '广州(广东)', '深圳(广东)', '东莞(广东)', '天津(天津)', '佛山(广东)', '重庆(重庆)']\n['初次使用，请选择城市', '请输入您所在的城市', '当前选择城市', '定位城市', '正在定位...', '热门城市', '北京(北京)', '上海(上海)', '广州(广东)', '深圳(广东)', '东莞(广东)', '天津(天津)', '佛山(广东)', '重庆(重庆)']\n['初次使用，请选择城市', '请输入您所在的城市', '当前选择城市', '定位城市', '正在定位...', '热门城市', '北京(北京)', '上海(上海)', '广州(广东)', '深圳(广东)', '东莞(广东)', '天津(天津)', '佛山(广东)', '重庆(重庆)']\n/mnt/H_DRIVE/FlowIntent/Location/1\n/mnt/H_DRIVE/FlowIntent/Location/1\n/mnt/H_DRIVE/FlowIntent/Location/1\n/mnt/H_DRIVE/FlowIntent/Location/1\n/mnt/H_DRIVE/FlowIntent/Location/1\n/mnt/H_DRIVE/FlowIntent/Location/1\n/mnt/H_DRIVE/FlowIntent/Location/1\n/mnt/H_DRIVE/FlowIntent/Location/1\n/mnt/H_DRIVE/FlowIntent/Location/1\n/mnt/H_DRIVE/FlowIntent/Location/1\n/mnt/H_DRIVE/FlowIntent/Location/1\n/mnt/H_DRIVE/FlowIntent/Location/1\n/mnt/H_DRIVE/FlowIntent/Location/1\n/mnt/H_DRIVE/FlowIntent/Location/1\n/mnt/H_DRIVE/FlowIntent/Location/1\n/mnt/H_DRIVE/FlowIntent/Location/1\n/mnt/H_DRIVE/FlowIntent/Location/1\n/mnt/H_DRIVE/FlowIntent/Location/1\n/mnt/H_DRIVE/FlowIntent/Location/1\n/mnt/H_DRIVE/FlowIntent/Location/1\n/mnt/H_DRIVE/FlowIntent/Location/1\nme.iweek.rili\n/mnt/H_DRIVE/FlowIntent/Location/1/google/weather/me.iweek.rili\n"
     ]
    },
    {
     "name": "stdout",
     "output_type": "stream",
     "text": [
      "生活实用 生活日历\n['Push Notifications', '7NEWS Denver can occasionally send you push notification for breaking news alerts. Would you like to receive these notifications? You can also change your selection later from the Settings page in the app.', 'No', 'Yes']\ncom.viash.voice_assistant\n/mnt/H_DRIVE/FlowIntent/Location/1/google/weather/com.viash.voice_assistant\n生活实用 哦啦语音助手\n['你可以这样问我', '明天天气怎么样', '天气', '我要听陈奕迅的歌', '音乐', '我想听冷笑话', '笑话', '我饿了', '周边', '晚上有什么电视节目', '节目预告', '看视频，查公交，设提醒等', '更多用途']\ncom.teetaa.fmclock\n/mnt/H_DRIVE/FlowIntent/Location/1/google/weather/com.teetaa.fmclock\n生活实用 起床20分\n['11:15', '2015年7月16日 Thu', '定位中', '我炙热的心藏在这里', '点击开启起床播放流']\ncom.weather.forecast\n/mnt/H_DRIVE/FlowIntent/Location/1/google/weather/com.weather.forecast\n生活实用 手机天气\n"
     ]
    },
    {
     "name": "stdout",
     "output_type": "stream",
     "text": [
      "['查找城市', '我的位置', '请输入城市/地区名称', '北京', '上海', '广东', '福建', '江苏', '浙江', '山东', '河北', '添加', '返回']\nedu.qust.weather\n/mnt/H_DRIVE/FlowIntent/Location/1/google/weather/edu.qust.weather\n生活实用 天气预报\n['北京', '07/16 11:55 刷新', '今日天气', '2015-07-17', '阵雨', '28 ~ 21℃', '微风', '空气指数', '44', '优']\ncom.dianxinos.dxhome\n/mnt/H_DRIVE/FlowIntent/Location/1/google/weather/com.dianxinos.dxhome\n主题壁纸 点心桌面\n['Davis']\ncom.PadCalendar.UI\n/mnt/H_DRIVE/FlowIntent/Location/1/google/weather/com.PadCalendar.UI\n生活实用 91黄历天气 HD\n['城市管理', '全部\\n刷新', '定位当前位置失败,请重试', '开   关', '添加', '删除', '调整顺序']\ncom.suning.weather\n/mnt/H_DRIVE/FlowIntent/Location/1/google/weather/com.suning.weather\n"
     ]
    },
    {
     "name": "stdout",
     "output_type": "stream",
     "text": [
      "生活实用 苏宁天气\n['天气', 'Davis']\nit.giacomos.android.osmer\n/mnt/H_DRIVE/FlowIntent/Location/1/google/weather/it.giacomos.android.osmer\n系统工具 天气 FVG\n['Meteo.FVG - Home - Online', 'General Situation Jul 16, 2015 11:38:20 AM - Data source: http://www.meteo.fvg.it \\n\\nError extracting situation forecast in \"\" \\n\\n']\ncom.wunderground.android.weather\n/mnt/H_DRIVE/FlowIntent/Location/1/google/weather/com.wunderground.android.weather\n"
     ]
    },
    {
     "name": "stdout",
     "output_type": "stream",
     "text": [
      "生活实用 地面天气\n['Weather', 'Explore other Personal Weather Stations to see hyper-local weather.', 'Are the sky conditions accurate?', 'Davis, CA', 'West Davis Manor', '20°', '37° | 16°', 'FEELS LIKE', '20°', 'C', \"This app won't run unless you update Google Play services.\", 'Update', 'Clear', '0', 'WINDS ARE', 'Calm', 'GUSTS 4 KPH', 'Precipitation', '0%', 'Today is forecast to be warmer than yesterday.', 'Day', 'Hour']\ncom.zf.weatherclock.weather.app\n/mnt/H_DRIVE/FlowIntent/Location/1/google/weather/com.zf.weatherclock.weather.app\n生活实用 语音播天气\n['第一次运行，正在准备为你获取天气信息。', '手动选择获取', '自动定位获取']\nsina.mobile.tianqitong\n/mnt/H_DRIVE/FlowIntent/Location/1/google/weather/sina.mobile.tianqitong\n生活实用 天气通\n['选择城市/景点', '搜索城市/景点(中文/拼音)', '热门城市', '添加目前所在城市', '北京', '上海', '广州', '深圳', '武汉', '南京', '西安', '成都', '杭州', '郑州', '重庆', '沈阳', '哈尔滨', '长沙', '苏州', '大连', '香港', '澳门', '台北', '纽约', '更多城市', '热门景点', '故宫', '颐和园', '八达岭长城', '平遥古城']\ncom.hf\n/mnt/H_DRIVE/FlowIntent/Location/1/google/weather/com.hf\n生活实用 中国天气通\n['Sunny', '35/17°C', '23', '°', 'Humidity56% N 2 wind-force\\nFeel23°C', '2015/07/16 农历六月初一 ', '09:00 published', '下拉进行刷新', '摇一摇 报天气', '横滑切换城市', '上拖查看更多']\ncom.calendar.UI\n/mnt/H_DRIVE/FlowIntent/Location/1/google/weather/com.calendar.UI"
     ]
    },
    {
     "name": "stdout",
     "output_type": "stream",
     "text": [
      "\n生活实用 黄历天气\n['返回', '城市管理', '更新失败', '自动定位', '添加城市', '添加城市亲人']\ncn.appfactory.weather\n/mnt/H_DRIVE/FlowIntent/Location/1/google/weather/cn.appfactory.weather\n生活实用 天气预报\n['天气预报']\ncom.softfabrique.mcweather\n/mnt/H_DRIVE/FlowIntent/Location/1/google/weather/com.softfabrique.mcweather\n生活实用 澳门天气报告\n['July 17,2015', 'Mainly cloudy.Occasional showers.Force 3 to 4 southwesterly winds.Temperature will range between 26 °C and 31 °C.Relative humidity will range between 75% and 95%.Maximum UV index is expected to be 7, which is classified as High.', '29℃', '26℃/31℃', '89%', '9 km/h', 'SSW', '17/07', 'Fri', '75/95%', '26', '/', '31℃', '18/07', 'Sat', '75/95%', '26', '/', '30℃', '19/07', 'Sun', '75/95%', '26', '/', '30℃', '20/07', 'Mon', '80/98%', '25', '/', '29℃', 'Roadside', 'Macau', 'Taipa', 'Bom', 'Bom', 'Bom', '30', '25', '37', 'Low', '0']\ncom.ymiqvl.weather.app\n/mnt/H_DRIVE/FlowIntent/Location/1/google/weather/com.ymiqvl.weather.app\n"
     ]
    },
    {
     "name": "stdout",
     "output_type": "stream",
     "text": [
      "生活实用 天气\n['自动选择', '定位当前城市', '手动选择', '北京', '上海', '天津', '重庆', '黑龙江', '吉林', '辽宁', '内蒙古', '河北', '山西', '陕西', '山东', '新疆', '西藏', '青海', '甘肃', '宁夏', '河南', '江苏', '湖北', '输入城市名称']\ncom.mobvoi.baiding\n/mnt/H_DRIVE/FlowIntent/Location/1/google/weather/com.mobvoi.baiding\n旅游出行 出门问问语音助手\n['Push Notifications', '7NEWS Denver can occasionally send you push notification for breaking news alerts. Would you like to receive these notifications? You can also change your selection later from the Settings page in the app.', 'No', 'Yes']\ncom.xunyang.apps.taurus\n/mnt/H_DRIVE/FlowIntent/Location/1/google/weather/com.xunyang.apps.taurus\n生活实用 苏格天气衣报\n['Location access', 'Access to my location', 'Let apps that have asked your permission use your location information', 'ON', 'Location sources', 'GPS satellites', 'Let apps use GPS on your phone to pinpoint your location', 'Wi-Fi & mobile network location', \"Let apps use Google's location service to estimate your location faster. Anonymous location data will be collected and sent to Google.\", 'GPS source', 'Choose to use either an external Bluetooth GPS antenna or the internal GPS antenna as location provider']\ncom.nowcasting.activity\n/mnt/H_DRIVE/FlowIntent/Location/1/google/weather/com.nowcasting.activity\n生活实用 彩云天气\n"
     ]
    },
    {
     "name": "stdout",
     "output_type": "stream",
     "text": [
      "['Davis']\ncom.yulin.android.CityWeather\n/mnt/H_DRIVE/FlowIntent/Location/1/google/weather/com.yulin.android.CityWeather\n生活实用 城市天气预报\n['城市天气预报', '请选择或输入城市的名字：', '城市 :', '北京', '确定', '城市 :', '确定']\ncom.wangqsh.tcpathamap\n/mnt/H_DRIVE/FlowIntent/Location/1/google/weather/com.wangqsh.tcpathamap\n生活实用 台风路径天气预报\n['TCPathAmap']\ncom.sohu.auto.helper\n/mnt/H_DRIVE/FlowIntent/Location/1/google/weather/com.sohu.auto.helper\n"
     ]
    },
    {
     "name": "stdout",
     "output_type": "stream",
     "text": [
      "生活实用 违章查询\n['城市选择', 'Title', '热门城市', '北京', '上海', '广州', '深圳', '杭州', '厦门', '南京', '成都', '宁波', '重庆', '大连', '青岛', '省份城市', '北京', '天津', '河北', '山西', '内蒙古', '辽宁', '吉林']\nwww.sotime.activitys\n/mnt/H_DRIVE/FlowIntent/Location/1/google/weather/www.sotime.activitys\n生活实用 迷你天气闹钟\n['主页', '阵雨\\r\\n25℃', '13:36:51', '2015-07-16(星期四)', '北京', '你设置了', '0', '个提醒闹钟', '天天提醒', '按周提醒', '按日提醒', '按月提醒', '按年闹钟', '轮班闹钟', '排班闹钟', '生日提醒', '假日提醒', '主页', '日历', '工具', '更多']\nair.tw.org.taitra.haveanexcellentday\n/mnt/H_DRIVE/FlowIntent/Location/1/google/weather/air.tw.org.taitra.haveanexcellentday\n生活实用 ExcellentDay\n['Davis']\ncom.android.weather\n/mnt/H_DRIVE/FlowIntent/Location/1/google/weather/com.android.weather\n生活实用 气象频道\n['Weather', 'Weather by Michael Bachman', 'Please enter your first city. Add below or long press to add additional locations.', 'Go']\ncom.vimov.weatherhd.android.paid\n/mnt/H_DRIVE/FlowIntent/Location/1/google/weather/com.vimov.weatherhd.android.paid"
     ]
    },
    {
     "name": "stdout",
     "output_type": "stream",
     "text": [
      "\n生活实用 天气(高清版)\n[' ', ' ', ' ', 'New York City', 'NOW', 'Clear  ', '77 °F', 'High: 80 °F   Low: 67 °F   Humidity: 47%\\nPrecipitation: 0%   Wind: NNE at 6 mph', 'NOW', '77°', 'TODAY', '80° / 67°', 'FRI', '79° / 71°', 'SAT', '88° / 76°']\ncom.guocui\n/mnt/H_DRIVE/FlowIntent/Location/1/google/weather/com.guocui\n生活实用 天气\n[' 更新天气，请稍后...']\ncom.devexpert.weather\n/mnt/H_DRIVE/FlowIntent/Location/1/google/weather/com.devexpert.weather\n生活实用 安卓天气\n['Weather & Clock Widget', 'Weather', 'My Location', 'My Cities', 'Map', 'More Apps', 'Settings']\ncom.gionee.aora.weather\n/mnt/H_DRIVE/FlowIntent/Location/1/google/weather/com.gionee.aora.weather\n"
     ]
    },
    {
     "name": "stdout",
     "output_type": "stream",
     "text": [
      "生活实用 易天气\n['搜索城市', '请输入城市名称(中文或拼音)', '例如：北京/beijing', '热门城市', '按省选择', '自动定位', '北京', '上海', '广州', '天津', '重庆', '南京', '深圳', '成都', '西安', '杭州', '香港', '武汉', '郑州', '长沙', '台北', '济南', '哈尔滨', '福州', '澳门', '乌鲁木齐', '拉萨', '贵阳', '南昌', '南宁', '呼和浩特', '昆明']\ncom.handmark.expressweather\n/mnt/H_DRIVE/FlowIntent/Location/1/google/weather/com.handmark.expressweather\n生活实用 1Weather\n['Weather fact', 'Anemometer is a weather instrument that measures the wind speed.', 'Always display at launch', 'OK']\ncom.metek.zqWeather\n/mnt/H_DRIVE/FlowIntent/Location/1/google/weather/com.metek.zqWeather\n生活实用 知趣天气\n['下拉刷新天气…', '旧金山', '暂无数据']\ncom.pcs.ydqxz\n/mnt/H_DRIVE/FlowIntent/Location/1/google/weather/com.pcs.ydqxz\n"
     ]
    },
    {
     "name": "stdout",
     "output_type": "stream",
     "text": [
      "生活实用 移动气象站\n['选择城市', '福州/fuzhou/fz', '自动定位', '北京', '福建', '海南', '吉林', '江西', 'A-Z', '安徽', '澳门', '重庆']\ncom.example.test1\n/mnt/H_DRIVE/FlowIntent/Location/1/google/weather/com.example.test1\n生活实用 极简天气\n['极简天气', '升级', '帮助', '正在查询...']\ncom.accuweather.android\n/mnt/H_DRIVE/FlowIntent/Location/1/google/weather/com.accuweather.android\n生活实用 AccuWeather天气\n['Terms of Use', \"By using this application, you agree to AccuWeather's Terms & Conditions (in English) which can be found at\\nhttp://m.accuweather.com/en/legal \\nand AccuWeather's Privacy Statement (in English) which can be found at\\nhttp://m.accuweather.com/en/privacy\", 'Please agree so we can get you your weather!', 'No thanks', 'I Agree']\ncom.andow.appweatherforecase06\n/mnt/H_DRIVE/FlowIntent/Location/1/google/weather/com.andow.appweatherforecase06\n生活实用 天气预报\n['天气预报', '城市切换管理(长按删除)', '添加城市']\ncn.mucang.kaka.android\n/mnt/H_DRIVE/FlowIntent/Location/1/google/weather/cn.mucang.kaka.android\n"
     ]
    },
    {
     "name": "stdout",
     "output_type": "stream",
     "text": [
      "生活实用 汽车违章查询\n['生活优惠', '汽车违章', '有奖试驾', '北京', 'Fri 2015-07-17', '21℃~27℃', '阴转雷阵雨转阴天间多云有雷阵雨', '尾号', '4、9', '限行', '添加车辆信息', '添加车辆信息后，您可以获得', '违章提醒', '车险计算和提醒、', '年审提醒', '等优质服务', '车险计算器', '车贷计算器', '周边服务', '事故报案']\ncom.dianxinos.dxhome.plugin.weather.skin.a\n/mnt/H_DRIVE/FlowIntent/Location/1/google/weather/com.dianxinos.dxhome.plugin.weather.skin.a\n生活实用 点心天气皮肤\n['DX Weather Plugin']\nyong.tools.life.weather\n/mnt/H_DRIVE/FlowIntent/Location/1/google/weather/yong.tools.life.weather\n生活实用 天气信息\n['City Management', 'Open Position', 'Enter a city name in English', 'Add', 'OK']\ncom.getone.getweatherAPP\n/mnt/H_DRIVE/FlowIntent/Location/1/google/weather/com.getone.getweatherAPP\n生活实用 觀天氣\n['觀天氣', '請選擇首頁預設定位點', '當定位離開預設定位通知更新', ' 取消   ', ' 預覽   ', ' 儲存   ']\ncom.zhy.weather\n/mnt/H_DRIVE/FlowIntent/Location/1/google/weather/com.zhy.weather\n"
     ]
    },
    {
     "name": "stdout",
     "output_type": "stream",
     "text": [
      "生活实用 城市天气\n['返回', '城市天气', '北京', '上海', '天津', '重庆', '郑州', '长沙', '杭州', '苏州', '哈尔滨', '长春', '沈阳', '呼和浩特', '太原', '合肥', '北京', '上海', '天津', '重庆', '黑龙江', '吉林', '辽宁', '内蒙古']\ncom.mg.android\n/mnt/H_DRIVE/FlowIntent/Location/1/google/weather/com.mg.android\n生活实用 专业天气预报\n[\"What's New?\", 'Davis', 'OK']\ncom.weather.app\n/mnt/H_DRIVE/FlowIntent/Location/1/google/weather/com.weather.app\n生活实用 95中国天气\n['设置城市', '北京', '上海', '天津', '重庆', '黑龙江', '吉林', '辽宁', '内蒙古', '河北', '山西', '陕西', '山东', '新疆', '西藏', '青海', '甘肃', '宁夏', '河南', '江苏', '湖北', '浙江', '安徽', '福建']\ncom.metek.zqWeathernft\n/mnt/H_DRIVE/FlowIntent/Location/1/google/weather/com.metek.zqWeathernft\n生活实用 知趣天气\n['下拉刷新天气…', '定位失败', '暂无数据']\ncom.sz.china.weather\n/mnt/H_DRIVE/FlowIntent/Location/1/google/weather/com.sz.china.weather\n"
     ]
    },
    {
     "name": "stdout",
     "output_type": "stream",
     "text": [
      "生活实用 深圳天气\n['深圳', '逐日预报', '逐时预报', '都市天气', '气象产品', '城市管理', '设置']\ncom.gismeteo.client\n/mnt/H_DRIVE/FlowIntent/Location/1/google/weather/com.gismeteo.client\n \n['Now day, thursday ', '+86\\u2009°F', '66 %\\u2009 humidity', '710\\u2009 mmHg', '3 \\u2009m/s, NW ↘', 'Partly cloudy', 'Recently', 'Now', '+86', 'Thu, Day', '+82', 'Thu, Evening', '+77', 'Fri, Night', '+73', 'Hours', 'Days']\ncom.nineton.weatherforecast\n/mnt/H_DRIVE/FlowIntent/Location/1/google/weather/com.nineton.weatherforecast\n生活实用 中央天气预报-空气质量\n['Add City', 'Input City Name(In Chinese)', 'Hot Cities', 'Autoregistration', '北京', '上海', '广州', '深圳', '武汉', '南京', '杭州', '西安', '郑州', '成都', '东莞', '沈阳', '天津', '哈尔滨', '长沙', '福州', '石家庄', '苏州', '重庆', '无锡', '济南', '大连', '佛山', '厦门', '南昌', '太原', '长春', '合肥', '浦东', '青岛', '汕头', '昆明', '南宁', '长治']\ncom.survivingwithandroid.weatherapp\n/mnt/H_DRIVE/FlowIntent/Location/1/google/weather/com.survivingwithandroid.weatherapp\n生活实用 天气 WeatherApp\n['WeatherApp', 'Trevi,IT', '33°', 'Current condition', 'Temp Min:30°', 'Temp Max:36°', 'Press:1018mbar', 'Hum:34.0%', 'Wind speed:1 KMH', 'Wind deg:WNW 280.0°', 'Rain(heavy intensity rain)', 'Forecast', 'Fri', '26/33', 'Sat', '24/33', 'Sun', '23/32', 'Mon', '22/31', 'Tue', '23/31', 'Data from openweathermap.org', 'Last update:', '16-07-2015 10:10']\ncom.weather.Weather\n/mnt/H_DRIVE/FlowIntent/Location/1/google/weather/com.weather.Weather\n"
     ]
    },
    {
     "name": "stdout",
     "output_type": "stream",
     "text": [
      "生活实用 天气频道\n['no data', '--', '-- / --', 'Davis, CA']\nlocal.weather.forecast.pro\n/mnt/H_DRIVE/FlowIntent/Location/1/google/weather/local.weather.forecast.pro\n生活实用 天气预报\n['City Management', 'Open Position', 'Enter a city name in English', 'Add', 'OK']\ncom.icitymobile.szqx\n/mnt/H_DRIVE/FlowIntent/Location/1/google/weather/com.icitymobile.szqx\n生活实用 苏州气象\n['Davis']\ncom.mmbang.weather\n/mnt/H_DRIVE/FlowIntent/Location/1/google/weather/com.mmbang.weather\n生活实用 宝宝气象台\n['Davis']\nandroid.miniWeather\n/mnt/H_DRIVE/FlowIntent/Location/1/google/weather/android.miniWeather\n"
     ]
    },
    {
     "name": "stdout",
     "output_type": "stream",
     "text": [
      "系统工具 迷你天气\n['迷你天气', '设置', '仅WIFI环境更新天气', '所有网络均可更新天气', '点击马上更新天气', '上次更新时间']\ncom.ejnet.weathercamera\n/mnt/H_DRIVE/FlowIntent/Location/1/google/weather/com.ejnet.weathercamera\n拍摄美化 天气相机\n['Weather photo', 'Flash', 'Switch', 'Albums', 'NEW', 'Skins']\ncom.apexony.tqonline\n/mnt/H_DRIVE/FlowIntent/Location/1/google/weather/com.apexony.tqonline\n生活实用 天气在线\n['Davis', 'Notice', '是否联网更新数据？', 'Yes', 'No']\nsina.mobile.tianqitonghd\n/mnt/H_DRIVE/FlowIntent/Location/1/google/weather/sina.mobile.tianqitonghd\n生活实用 天气通HD\n['添加城市', '北京/beijing/bj', '热门城市', '北京', '上海', '广州', '青岛', '深圳', '武汉', '成都', '厦门', '西安', '郑州', '重庆', '苏州', '沈阳', '南京', '香港', '纽约', '巴黎', '东京']\ncom.pmsc.chinaweather\n/mnt/H_DRIVE/FlowIntent/Location/1/google/weather/com.pmsc.chinaweather\n"
     ]
    },
    {
     "name": "stdout",
     "output_type": "stream",
     "text": [
      " \n['添加城市', '输入城市名中文/全拼/简拼/电话区号 /邮编', '热门城市', '北京', '上海', '天津', '重庆', '哈尔滨', '长春', '沈阳', '呼和浩特', '石家庄', '太原', '西安', '济南', '乌鲁木齐', '拉萨', '西宁', '兰州', '银川', '郑州', '南京', '武汉', '杭州', '合肥', '福州', '南昌', '长沙', '贵阳', '成都', '广州', '昆明', '南宁']\ncom.citc.weather\n/mnt/H_DRIVE/FlowIntent/Location/1/google/weather/com.citc.weather\n生活实用 天气之眼\n['Davis, California, United States', '30°', 'Sunny', 'HUMIDITY ', '38%', 'WIND ', '9 km/h S', 'THU', '34°', '17°', 'SUNNY', 'FRI', '35°', '17°', 'SUNNY', 'SAT', '33°', '17°', 'MORE SUN\\nTHAN CLOUDS', 'SUN', '32°', '15°', 'PASSING\\nCLOUDS', 'Upgrade to Pro', 'Remove ads and support development']\ncom.autohome.mycar\n/mnt/H_DRIVE/FlowIntent/Location/1/google/weather/com.autohome.mycar\n生活实用 违章查询助手\n['违章查询', '傍晚到夜间有分散性阵雨或雷阵雨转雷阵雨', '21℃~27℃', '58', 'PM2.5', '不宜洗车', '北京', '07/16 Thursday', '限', '3  8', '违章高发地', '实时路况', '汽车报价', '更多服务', '点击添加车辆']\ncom.chinatsp.yuantecar\n/mnt/H_DRIVE/FlowIntent/Location/1/google/weather/com.chinatsp.yuantecar\n生活实用 长安知音伙伴\n['Davis', '暂无', '16/07', '暂无', '今日限行', '暂无', '洗车指数', '暂无', '首页', '掌上4S', '我的in Call', '个人中心']\ncom.easylife.weather\n/mnt/H_DRIVE/FlowIntent/Location/1/google/weather/com.easylife.weather\n"
     ]
    },
    {
     "name": "stdout",
     "output_type": "stream",
     "text": [
      "生活实用 懒人天气\n['Davis', '07.16/周四', '萨克拉门托', '晴', '28', '17~37°']\ncom.environmentpollution.activity\n/mnt/H_DRIVE/FlowIntent/Location/1/google/weather/com.environmentpollution.activity\n生活实用 蔚蓝地图\n['Davis', '2015-07-17 03:00', '官园', '空气质量指数', '10', '优', '预报', '适合户外运动', '>>', '温度', '0℃', '湿度', '0%', '风向', '0级', '首页', '空气', '水质', '污染源', '更多']\ncom.uu.uueeye\n/mnt/H_DRIVE/FlowIntent/Location/1/google/weather/com.uu.uueeye\n旅游出行 悠悠驾车\n['定位中...', '数据获取中...', '搜索', '导航', '地图', '查违章', '电子眼', '工具箱', '设置', '意见建议', '添加爱车', '悠悠商城', '我的悠悠']\ncom.clockweatherpro\n/mnt/H_DRIVE/FlowIntent/Location/1/google/weather/com.clockweatherpro\n生活实用 专业天气\n['Welcome to the', 'Weather Services', 'Please select your basic configuration. You can do it later in application settings if you want.', 'Clock format', 'hh:mm', 'Date format', 'MM/DD/YYYY', 'Temperature format', '°F', 'Speed format', 'mph', 'Notification icon', 'White', 'Update interval', '30 minutes', 'Continue']\nen.EasyWeather\n/mnt/H_DRIVE/FlowIntent/Location/1/google/weather/en.EasyWeather\n"
     ]
    },
    {
     "name": "stdout",
     "output_type": "stream",
     "text": [
      "生活实用 易天气\n['Easy Weather']\nfree.local.weather\n/mnt/H_DRIVE/FlowIntent/Location/1/google/weather/free.local.weather\n生活实用 天气 应用\n['City Management', 'Open Position', 'Enter a city name in English', 'Add', 'OK']\norg.cwb\n/mnt/H_DRIVE/FlowIntent/Location/1/google/weather/org.cwb\n生活实用 生活氣象\n['天气', '基隆市', '仁愛區', 'OK']\ncom.moxiu.launcher\n/mnt/H_DRIVE/FlowIntent/Location/1/google/weather/com.moxiu.launcher\n"
     ]
    },
    {
     "name": "stdout",
     "output_type": "stream",
     "text": [
      "主题壁纸 魔秀桌面\n['12', ':', '05', '7/16', '周四', '北京', '21~28℃', 'Camera', 'Gallery', 'Play Store', '魔秀主题']\ncom.zhong.activity.wmt001\n/mnt/H_DRIVE/FlowIntent/Location/1/google/weather/com.zhong.activity.wmt001\n生活实用 爱查天气预报\n['null', 'null,null', '2015年7月16日 周4', '穿衣指数：null', '紫外线:null', '洗车:null', '旅游:null', '舒适指数:null', '晨练:null', '晾晒:null', '过敏:null', '星期五', '星期六', '星期日']\nair.byss.mobi.instaweatherpro\n/mnt/H_DRIVE/FlowIntent/Location/1/google/weather/air.byss.mobi.instaweatherpro\n \n['Davis', \"I'M HERE\", 'Davis', '28°C', 'CLEAR', '5:55 AM', '12:18 PM 16 JUL', '8:30 PM', 'JUL 16, 2015', 'choose skin & take photo']\ncom.weathernews.sunnycomb\n/mnt/H_DRIVE/FlowIntent/Location/1/google/weather/com.weathernews.sunnycomb\n生活实用 Sunnycomb天气\n['Around The World']\ncom.chediandian.app\n/mnt/H_DRIVE/FlowIntent/Location/1/google/weather/com.chediandian.app\n"
     ]
    },
    {
     "name": "stdout",
     "output_type": "stream",
     "text": [
      "生活实用 车点点\n['Push Notifications', '7NEWS Denver can occasionally send you push notification for breaking news alerts. Would you like to receive these notifications? You can also change your selection later from the Settings page in the app.', 'No', 'Yes']\ncom.wuyueshangshui.laosiji\n/mnt/H_DRIVE/FlowIntent/Location/1/google/weather/com.wuyueshangshui.laosiji\n生活实用 老司机\n['北京市', '2015-07-17 周五', '今日适宜洗车', '限行：3,8', '多云', '14℃', '~', '28℃', '284', '重度污染(环保部)', '更新时间：2015-07-16 09:42', '疲劳驾驶提醒']\ncom.tianqi2345\n/mnt/H_DRIVE/FlowIntent/Location/1/google/weather/com.tianqi2345\n生活实用 2345天气预报\n['添加城市', '搜索城市（中文、拼音）', '热门城市', '定位', '北京', '上海', '杭州', '广州', '深圳', '武汉', '南京', '选择省份', '安徽', '澳门', '北京', '重庆', '福建', '甘肃', '广东', '广西', '贵州', '海南', '河北', '河南', '黑龙江', '湖北', '湖南', '吉林', '江苏', '江西', '辽宁', '内蒙古', '宁夏', '青海', '山东', '山西', '陕西', '上海', '四川', '台湾', '天津', '西藏', '香港', '新疆']\ncom.voice.assistant.main\n/mnt/H_DRIVE/FlowIntent/Location/1/google/weather/com.voice.assistant.main\n生活实用 智能360\n"
     ]
    },
    {
     "name": "stdout",
     "output_type": "stream",
     "text": [
      "['智能360', '打电话给爸爸', '打电话', '打电话给爸爸', '打电话给10010', '发短信给爸爸', '发短信', '一小时以后提醒我喝水', '备忘提醒', '播放beyond的光辉岁月', '音乐', '附近的酒店', '订酒店', '查天气', '天气', '打开微信', '应用管理', '我在哪']\ncom.lava.weather\n/mnt/H_DRIVE/FlowIntent/Location/1/google/weather/com.lava.weather\n生活实用 天气\n['29', 'Mostly sunny', '36°', '16°', '16 Jul 2015', 'Davis', 'Add City', 'Next']\ncc.eva.weather\n/mnt/H_DRIVE/FlowIntent/Location/1/google/weather/cc.eva.weather\n生活实用 天气预报\n['天气预报', '设置', '凤凰', '参考', '新浪', '搜狐', '腾讯']\ncn.eclicks.wzsearch\n/mnt/H_DRIVE/FlowIntent/Location/1/google/weather/cn.eclicks.wzsearch\n生活实用 车轮查违章\n"
     ]
    },
    {
     "name": "stdout",
     "output_type": "stream",
     "text": [
      "['Davis', '车轮查违章', '交警来了', '汽车报价大全', '买卖二手车', '附近违章', '添加车辆', '车轮查违章', '百宝箱', '车主优惠', '我的']\ncom.crunding.weatherplus\n/mnt/H_DRIVE/FlowIntent/Location/1/google/weather/com.crunding.weatherplus\n生活实用 最专业的天气预报\n['Davis']\ncom.ubbcn.android.qair\n/mnt/H_DRIVE/FlowIntent/Location/1/google/weather/com.ubbcn.android.qair\n生活实用 Q Air空气监测站\n['北京', '-3℃~8℃', '当前空气质量', '良好', '数据来源：美国大使馆']\nhkman.android.apps.hkdistictweather\n/mnt/H_DRIVE/FlowIntent/Location/1/google/weather/hkman.android.apps.hkdistictweather\n \n['Updated (Jul-16 09:15 AM) - HK District Weather', 'Pak Tam Chung', 'Light Rain', '26.2°C', '1 Warning(s) in force', 'Weather Forecast', '27°C - 32°C', 'Jul-17 (Fri)', 'Mainly cloudy with a few showers and isolated thunderstorms.']\ncom.gionee.amiweather\n/mnt/H_DRIVE/FlowIntent/Location/1/google/weather/com.gionee.amiweather\n"
     ]
    },
    {
     "name": "stdout",
     "output_type": "stream",
     "text": [
      "生活实用 Ami天气\n['天气']\ncom.andow.appweatherforecase04\n/mnt/H_DRIVE/FlowIntent/Location/1/google/weather/com.andow.appweatherforecase04\n生活实用 天气预报\n['天气预报', '城市切换管理(长按删除)', '添加城市']\ncom.zhy.weather_chaji\n/mnt/H_DRIVE/FlowIntent/Location/1/google/weather/com.zhy.weather_chaji\n生活实用 城市天气\n['北京\\n天气', 'Thu', '15°/16°', '输入想要的城市', ' X ', '自动定位', '北京', '上海', '天津', '重庆', '郑州', '长沙', '杭州', '苏州', '哈尔滨', '长春', '沈阳', '呼和浩特', '太原', '合肥']\ncom.itpositive.solar\n/mnt/H_DRIVE/FlowIntent/Location/1/google/weather/com.itpositive.solar\n系统工具 Solar天气\n['CALIFORNIA', 'DAVIS']\ncom.staven.timeweather\n/mnt/H_DRIVE/FlowIntent/Location/1/google/weather/com.staven.timeweather\n"
     ]
    },
    {
     "name": "stdout",
     "output_type": "stream",
     "text": [
      "生活实用 时间气象\n['时间气象', '查看截图', '历史记录', '输入城市名称或区号']\ncom.sz.china.mycityweather\n/mnt/H_DRIVE/FlowIntent/Location/1/google/weather/com.sz.china.mycityweather\n生活实用 我的都市天气\n['深圳', '逐日预报', '逐时预报', '都市天气', '气象产品', '城市管理', '设置']\ncom.example.weather\n/mnt/H_DRIVE/FlowIntent/Location/1/google/weather/com.example.weather\n生活实用 天气预报\n['N/A', '发布时间', 'N/A', '温度:', 'N/A', '天气:', 'N/A', '湿度:', 'N/A', '风向:', 'N/A', '建议:', 'N/A', '周一', '气温:', 'N/A', 'N/A', '周二', '气温:', 'N/A', 'N/A', '周三', '气温:', 'N/A', 'N/A', '周四', '气温:', 'N/A', 'N/A']\ncom.youba.WeatherForecast\n/mnt/H_DRIVE/FlowIntent/Location/1/google/weather/com.youba.WeatherForecast\n生活实用 天气预报\n['City Management', 'Open Position', 'Enter a city name in English', 'Add', 'OK']\ncom.andow.appweatherforecase05\n/mnt/H_DRIVE/FlowIntent/Location/1/google/weather/com.andow.appweatherforecase05\n"
     ]
    },
    {
     "name": "stdout",
     "output_type": "stream",
     "text": [
      "生活实用 天气预报\n['天气预报', '城市切换管理(长按删除)', '添加城市']\ncom.pcs.ztq\n/mnt/H_DRIVE/FlowIntent/Location/1/google/weather/com.pcs.ztq\n生活实用 知天气\n['选择城市', '福州/fuzhou/fz', '自动定位', '北京', '福建', '海南', '吉林', '江西', 'A-Z', '安徽', '澳门', '重庆']\nmobi.infolife.ezweather\n/mnt/H_DRIVE/FlowIntent/Location/1/google/weather/mobi.infolife.ezweather\n生活实用 琥珀天气\n"
     ]
    },
    {
     "name": "stdout",
     "output_type": "stream",
     "text": [
      "['University of California Davis', '80°', '95° / 62°', '89°', 'Sunny', '44%', '4MPH', 'SSE', 'FRI', 'PLENTY OF SUNSHINE', '96°/', '60°', 'SAT', 'SUNNY', '91°/', '60°', 'SUN', 'PARTLY SUNNY', '93°/', '66°', 'MON', 'BRIGHT SUNSHINE', '91°/', '66°']\ncn.itv.weather\n/mnt/H_DRIVE/FlowIntent/Location/1/google/weather/cn.itv.weather\n生活实用 中国天气通\n['添加城市', '热门城市', '定位', '北京', '上海', '昆明', '杭州', '广州', '西安', '南京', '苏州', '深圳', '重庆', '长沙', '沈阳', '厦门', '武汉', '海口', '成都', '大连', '三亚', '长春', '哈尔滨', '南宁', '贵阳', '福州', '郑州', '济南', '桂林', '天津', '太原', '南昌', '拉萨', '西宁', '青岛']\n/mnt/H_DRIVE/FlowIntent/Location/1\n/mnt/H_DRIVE/FlowIntent/Location/1\n/mnt/H_DRIVE/FlowIntent/Location/1\n/mnt/H_DRIVE/FlowIntent/Location/1\n/mnt/H_DRIVE/FlowIntent/Location/1\n/mnt/H_DRIVE/FlowIntent/Location/1\n/mnt/H_DRIVE/FlowIntent/Location/1\n/mnt/H_DRIVE/FlowIntent/Location/1\n/mnt/H_DRIVE/FlowIntent/Location/1\n/mnt/H_DRIVE/FlowIntent/Location/1\n/mnt/H_DRIVE/FlowIntent/Location/1\n/mnt/H_DRIVE/FlowIntent/Location/1\n/mnt/H_DRIVE/FlowIntent/Location/1\n/mnt/H_DRIVE/FlowIntent/Location/1\n/mnt/H_DRIVE/FlowIntent/Location/1\n/mnt/H_DRIVE/FlowIntent/Location/1\n/mnt/H_DRIVE/FlowIntent/Location/1\n/mnt/H_DRIVE/FlowIntent/Location/1\n/mnt/H_DRIVE/FlowIntent/Location/1\n/mnt/H_DRIVE/FlowIntent/Location/1\n/mnt/H_DRIVE/FlowIntent/Location/1\n/mnt/H_DRIVE/FlowIntent/Location/1\n/mnt/H_DRIVE/FlowIntent/Location/1\n/mnt/H_DRIVE/FlowIntent/Location/1\n/mnt/H_DRIVE/FlowIntent/Location/1\n/mnt/H_DRIVE/FlowIntent/Location/1\n/mnt/H_DRIVE/FlowIntent/Location/1\n/mnt/H_DRIVE/FlowIntent/Location/1\n/mnt/H_DRIVE/FlowIntent/Location/1\n/mnt/H_DRIVE/FlowIntent/Location/1\n/mnt/H_DRIVE/FlowIntent/Location/1\n/mnt/H_DRIVE/FlowIntent/Location/1\n/mnt/H_DRIVE/FlowIntent/Location/1\n/mnt/H_DRIVE/FlowIntent/Location/1\n/mnt/H_DRIVE/FlowIntent/Location/1\n/mnt/H_DRIVE/FlowIntent/Location/1\n/mnt/H_DRIVE/FlowIntent/Location/1\n/mnt/H_DRIVE/FlowIntent/Location/1\n/mnt/H_DRIVE/FlowIntent/Location/1\n/mnt/H_DRIVE/FlowIntent/Location/1\n/mnt/H_DRIVE/FlowIntent/Location/1\n/mnt/H_DRIVE/FlowIntent/Location/1\n/mnt/H_DRIVE/FlowIntent/Location/1\n/mnt/H_DRIVE/FlowIntent/Location/1\n/mnt/H_DRIVE/FlowIntent/Location/1\n/mnt/H_DRIVE/FlowIntent/Location/1\n/mnt/H_DRIVE/FlowIntent/Location/1\n/mnt/H_DRIVE/FlowIntent/Location/1\n/mnt/H_DRIVE/FlowIntent/Location/1\n/mnt/H_DRIVE/FlowIntent/Location/1\n/mnt/H_DRIVE/FlowIntent/Location/1\n/mnt/H_DRIVE/FlowIntent/Location/1\n/mnt/H_DRIVE/FlowIntent/Location/1\n/mnt/H_DRIVE/FlowIntent/Location/1\n/mnt/H_DRIVE/FlowIntent/Location/1\n/mnt/H_DRIVE/FlowIntent/Location/1\n/mnt/H_DRIVE/FlowIntent/Location/1\n/mnt/H_DRIVE/FlowIntent/Location/1\n/mnt/H_DRIVE/FlowIntent/Location/1\n/mnt/H_DRIVE/FlowIntent/Location/1\n/mnt/H_DRIVE/FlowIntent/Location/1\n/mnt/H_DRIVE/FlowIntent/Location/1\n/mnt/H_DRIVE/FlowIntent/Location/1\n/mnt/H_DRIVE/FlowIntent/Location/1\n/mnt/H_DRIVE/FlowIntent/Location/1\n/mnt/H_DRIVE/FlowIntent/Location/1\n/mnt/H_DRIVE/FlowIntent/Location/1\n/mnt/H_DRIVE/FlowIntent/Location/1\n/mnt/H_DRIVE/FlowIntent/Location/1\n/mnt/H_DRIVE/FlowIntent/Location/1\n/mnt/H_DRIVE/FlowIntent/Location/1\n/mnt/H_DRIVE/FlowIntent/Location/1\ncom.chediandian.app\n/mnt/H_DRIVE/FlowIntent/Location/1/google/weather/com.chediandian.app/com.chediandian.app\n"
     ]
    },
    {
     "name": "stdout",
     "output_type": "stream",
     "text": [
      "生活实用 车点点\n['Davis']\n/mnt/H_DRIVE/FlowIntent/Location/1\n/mnt/H_DRIVE/FlowIntent/Location/1\n/mnt/H_DRIVE/FlowIntent/Location/1\n/mnt/H_DRIVE/FlowIntent/Location/1\ncom.voice.assistant.main\n/mnt/H_DRIVE/FlowIntent/Location/1/google/weather/com.voice.assistant.main/com.voice.assistant.main\n生活实用 智能360\n['智能360', '打电话给爸爸', '打电话', '打电话给爸爸', '打电话给10010', '发短信给爸爸', '发短信', '一小时以后提醒我喝水', '备忘提醒', '播放beyond的光辉岁月', '音乐', '附近的酒店', '订酒店', '查天气', '天气', '打开微信', '应用管理', '我在哪']\n/mnt/H_DRIVE/FlowIntent/Location/1\n/mnt/H_DRIVE/FlowIntent/Location/1\n/mnt/H_DRIVE/FlowIntent/Location/1\n/mnt/H_DRIVE/FlowIntent/Location/1\n/mnt/H_DRIVE/FlowIntent/Location/1\n/mnt/H_DRIVE/FlowIntent/Location/1\n/mnt/H_DRIVE/FlowIntent/Location/1\n/mnt/H_DRIVE/FlowIntent/Location/1\n/mnt/H_DRIVE/FlowIntent/Location/1\n/mnt/H_DRIVE/FlowIntent/Location/1\n/mnt/H_DRIVE/FlowIntent/Location/1\n/mnt/H_DRIVE/FlowIntent/Location/1\n/mnt/H_DRIVE/FlowIntent/Location/1\n/mnt/H_DRIVE/FlowIntent/Location/1\n/mnt/H_DRIVE/FlowIntent/Location/1\n/mnt/H_DRIVE/FlowIntent/Location/1\n/mnt/H_DRIVE/FlowIntent/Location/1\n/mnt/H_DRIVE/FlowIntent/Location/1\n/mnt/H_DRIVE/FlowIntent/Location/1\n/mnt/H_DRIVE/FlowIntent/Location/1\n/mnt/H_DRIVE/FlowIntent/Location/1\ncom.nyts.sport\n/mnt/H_DRIVE/FlowIntent/Location/1/6/com.nyts.sport\n生活实用 动a动\n['Push Notifications', '7NEWS Denver can occasionally send you push notification for breaking news alerts. Would you like to receive these notifications? You can also change your selection later from the Settings page in the app.', 'No', 'Yes']\ncom.msoso.activity\n/mnt/H_DRIVE/FlowIntent/Location/1/6/com.msoso.activity\n"
     ]
    },
    {
     "name": "stdout",
     "output_type": "stream",
     "text": [
      "生活实用 美搜搜\n['Davis', '取消', '确定']\ncom.rc.mobile.daishifeier\n/mnt/H_DRIVE/FlowIntent/Location/1/6/com.rc.mobile.daishifeier\n生活实用 黛诗菲尔\n['石家庄', '黛诗菲尔', '首页', '商城', '我的', '客服']\ncom.broadway.app.ui\n/mnt/H_DRIVE/FlowIntent/Location/1/6/com.broadway.app.ui\n生活实用 停车狗\n['附近']\ncom.bestway.carwash\n/mnt/H_DRIVE/FlowIntent/Location/1/6/com.bestway.carwash\n生活实用 疯狂洗车\n['Davis', '高德地图', '下次更新', '立即更新']\ncom.autohome.usedcar\n/mnt/H_DRIVE/FlowIntent/Location/1/6/com.autohome.usedcar\n"
     ]
    },
    {
     "name": "stdout",
     "output_type": "stream",
     "text": [
      "生活实用 二手车\n['当前位置', '热门地区', '京津冀', '江浙沪', '广深', '云贵川', '*', '全国', 'A', '安徽', 'B', '关闭']\ncom.loongme.nalichi\n/mnt/H_DRIVE/FlowIntent/Location/1/6/com.loongme.nalichi\n生活实用 哪里吃\n['未登录', '我的哪里吃卡', '我的收藏', '消息', '关于我们', '设置', '推荐商家', '更多', '法拉贝丽面包坊（五指山总店）', '￥10人', '8.5折', '美兰区五指山路蓝庭城市度假酒店一楼', '鲜芋仙（金棕榈店）', '请输入餐厅、地点、分类', '海口']\n['检测到新版本', '“哪里吃”客户端v1.7.2版本\\n-----------------------------------------------\\n1  增加“商家报错”功能；\\n2  增加“菜单”功能。\\n3 “商家详情”优化：折扣说明、地址显示不全问题。', '马上更新', '稍后更新']\ncom.esun.pxyl\n/mnt/H_DRIVE/FlowIntent/Location/1/6/com.esun.pxyl\n"
     ]
    },
    {
     "name": "stdout",
     "output_type": "stream",
     "text": [
      "生活实用 攀西娱乐\n['Davis', '攀枝花', '请输入搜索词', 'KTV', '茶楼', '餐饮', '酒店住宿', '桑拿', '足疗保健', '电影', '地方特产', '猜你喜欢', '首页', '资讯', '商品', '商铺', '更多']\ncom.microdu.Lok.district\n/mnt/H_DRIVE/FlowIntent/Location/1/6/com.microdu.Lok.district\n生活实用 小区掌上通\n['选择城市', '重试', '请输入关键字', 'C', '长沙', 'G', '广州', '赣州', 'J', '晋中', 'S', '深圳', '上海', 'X', '西安', '湘潭', 'Y']\ncom.vic.baoyanghui\n/mnt/H_DRIVE/FlowIntent/Location/1/6/com.vic.baoyanghui\n生活实用 宝养汇帮5养车\n['Davis']\ncom.seari.tingzheli\n/mnt/H_DRIVE/FlowIntent/Location/1/6/com.seari.tingzheli\n生活实用 停这里\n[' 5公里 ', ' 5公里 ', '停这里']\ncom.gewara\n/mnt/H_DRIVE/FlowIntent/Location/1/6/com.gewara\n"
     ]
    },
    {
     "name": "stdout",
     "output_type": "stream",
     "text": [
      "生活实用 格瓦拉@电影\n['城市名、拼音首字母...', '正在定位...', 'B', '北京', 'C', '重庆', '常州', '成都', 'G', '广州', 'H', '杭州', '湖州', 'J', '选择城市']\ncom.uxin.usedcar\n/mnt/H_DRIVE/FlowIntent/Location/1/6/com.uxin.usedcar\n \n['Davis', ' ', 'Davis']\ncom.ztb.handnear\ncom.gdmob.topvogue\ncom.autohome.vendor\n/mnt/H_DRIVE/FlowIntent/Location/1/6/com.autohome.vendor\n生活实用 养车之家\n['检查到新版本 \\n1.4.4 更新说明：\\n本次虽然是小更新，但是内容很实用。\\n【新增】北京500多家4S店均能找到。妈妈再也不用担心我保养找不到店了。\\n【优化】性能优化，使用更流畅。', '下载最新版']\ncom.rq.buyhouse\n/mnt/H_DRIVE/FlowIntent/Location/1/6/com.rq.buyhouse\n生活实用 好房立即惠\n['选择城市', '搜索城市', '热门城市', '成都市']\ncn.meike365\n/mnt/H_DRIVE/FlowIntent/Location/1/6/cn.meike365\n"
     ]
    },
    {
     "name": "stdout",
     "output_type": "stream",
     "text": [
      "生活实用 美时美刻摄影\n['选择城市', '已开通服务城市', '北京', '上海']\n['选择城市', '已开通服务城市', '北京', '上海']\ncom.yelp.android\n/mnt/H_DRIVE/FlowIntent/Location/1/6/com.yelp.android\n生活实用 Yelp\n['Get Started!', 'Already have a Yelp account?', 'Log In']\nnet.xinhuamm.d0147\n/mnt/H_DRIVE/FlowIntent/Location/1/6/net.xinhuamm.d0147\n生活实用 掌握高碑店\n['Davis', '28℃~22℃', '媒体选择库', '本地', '河北曲阳县涧磁岭定窑遗址A区发掘简报', '本地新闻', '新华社发布', '中国网事', '我在现场', '政务发布', '公告通知']\n/mnt/H_DRIVE/FlowIntent/Location/1\n/mnt/H_DRIVE/FlowIntent/Location/1\n/mnt/H_DRIVE/FlowIntent/Location/1\n/mnt/H_DRIVE/FlowIntent/Location/1\n/mnt/H_DRIVE/FlowIntent/Location/1\n/mnt/H_DRIVE/FlowIntent/Location/1\n/mnt/H_DRIVE/FlowIntent/Location/1\n/mnt/H_DRIVE/FlowIntent/Location/1\n/mnt/H_DRIVE/FlowIntent/Location/1\n/mnt/H_DRIVE/FlowIntent/Location/1\n/mnt/H_DRIVE/FlowIntent/Location/1\n/mnt/H_DRIVE/FlowIntent/Location/1\n/mnt/H_DRIVE/FlowIntent/Location/1\n/mnt/H_DRIVE/FlowIntent/Location/1\n/mnt/H_DRIVE/FlowIntent/Location/1\n/mnt/H_DRIVE/FlowIntent/Location/1\n/mnt/H_DRIVE/FlowIntent/Location/1\n/mnt/H_DRIVE/FlowIntent/Location/1\n/mnt/H_DRIVE/FlowIntent/Location/1\n/mnt/H_DRIVE/FlowIntent/Location/1\n/mnt/H_DRIVE/FlowIntent/Location/1\ncom.ceic.app\n/mnt/H_DRIVE/FlowIntent/Location/1/1-4/com.ceic.app\n"
     ]
    },
    {
     "name": "stdout",
     "output_type": "stream",
     "text": [
      "生活实用 地震速报\n['时 间', '震 级', '暂无地震消息', '列表', '地图', '更多']\ncom.doapps.android.mln.MLN_61930f86521c97f776f54356358d2dc20629-19-22-02\n/mnt/H_DRIVE/FlowIntent/Location/1/1-4/com.doapps.android.mln.MLN_61930f86521c97f776f54356358d2dc20629-19-22-02\n['KHOU 11', 'News', 'USA Today', 'Video', 'Radar', '91°', 'Davis, CA', 'MON', '98', 'TUE', '105', 'WED', '106', 'THU', '97', 'FRI', '95', 'Entertainment', 'Photos']\ncom.geak.mobile\n/mnt/H_DRIVE/FlowIntent/Location/1/1-4/com.geak.mobile\n生活实用 果壳轻系统\n['02:17', 'PM', '17℃ / 36℃', 'Davis', 'Camera', 'Theme', 'Gallery', 'Play Store', 'Settings', 'Root Explorer', 'Tools', 'Fake GPS', 'Phone', 'Email', 'Browser', 'Messages']\ncom.iflytek.cmcc\n/mnt/H_DRIVE/FlowIntent/Location/1/1-4/com.iflytek.cmcc\n社交通讯 灵犀语音助手\n['Davis', '有新版本需要更新', '新增\\n -支持语音查景点，查酒店，查攻略！国内多地均可查询\\n 优化\\n -修复若干bug，使用舒畅不心塞##', '不再提示这个新版本', '下次再说', '立即更新']\n['版本更新', '升级新版灵犀，得翻译神器！\\n提醒功能全面升级！\\n -全新界面，视觉多彩，操作便捷\\n -新增贴心提醒，提醒你带伞喝水早睡觉，更多智能玩法体验即知\\n -每个提醒可单独设置震动和延时时长\\n 【其他重要更新】\\n -新增短视频和网址导航卡片，热门资讯一手掌握\\n -支持锁屏界面下摇一摇启动语音麦克风\\n -点歌功能升级，支持三网用户互相点歌\\n -广告可拦截，减少网页广告骚扰\\n', '更 新', '取 消']\n['Unfortunately, Fake GPS has stopped.', 'OK']\ncom.example.idachuappone\n/mnt/H_DRIVE/FlowIntent/Location/1/1-4/com.example.idachuappone\n生活实用 爱大厨\n"
     ]
    },
    {
     "name": "stdout",
     "output_type": "stream",
     "text": [
      "['取消', '选择城市', 'GPS定位城市', '无法定位当前城市', '已开通服务城市', '北京', '深圳', '上海', '广州', '更多城市正在快马加鞭开启中，敬请期待']\n[]\ncom.hearst.android.wlwt0629-14-17-07\n/mnt/H_DRIVE/FlowIntent/Location/1/1-4/com.hearst.android.wlwt0629-14-17-07\n['Breaking News', 'Do you want to receive Breaking News notifications?', 'Yes', 'No']\ncom.yacol.kubang\n/mnt/H_DRIVE/FlowIntent/Location/1/1-4/com.yacol.kubang\n生活实用 开桌\n['周边饭补', '帮助', '￥2.20', '马上抢', '筹钱', '买单', '消息', '我的']\ncom.doapps.android.mln.MLN_18f5510dffbc3d27e96d0e8c148d8b760629-03-46-32\n/mnt/H_DRIVE/FlowIntent/Location/1/1-4/com.doapps.android.mln.MLN_18f5510dffbc3d27e96d0e8c148d8b760629-03-46-32\n['KMOV4', 'This Morning', 'Storm Mode', \"Kent's Forecast\", 'Sports', '61°', 'Davis, CA', 'MON', '96', 'TUE', '103', 'WED', '107', 'THU', '96', 'FRI', '95', 'Street Fleet']\ncn.smd\n/mnt/H_DRIVE/FlowIntent/Location/1/1-4/cn.smd\n生活实用 家门店\n['Push Notifications', '7NEWS Denver can occasionally send you push notification for breaking news alerts. Would you like to receive these notifications? You can also change your selection later from the Settings page in the app.', 'No', 'Yes']\ncom.anjuke.android.app\n/mnt/H_DRIVE/FlowIntent/Location/1/1-4/com.anjuke.android.app\n生活实用 安居客\n"
     ]
    },
    {
     "name": "stdout",
     "output_type": "stream",
     "text": [
      "[]\n['Davis', '1、租房房源展示升级！看房更直观\\r\\n2、新版推荐逻辑！更了解你的喜好\\r\\n3、推荐频道增加租房！找到最适合你的房\\r\\n4、推荐频道全面覆盖全国城市', '稍后升级', '现在升级']\n['切换城市', '切换城市', 'GPS定位城市', '正在定位城市....', '华北东北', '北京', '天津', '大连', '石家庄', '太原', '沈阳', '哈尔滨', '长春', '保定']\n[]\n['沈阳', '搜索', '二手房', '租房', '帮你找房', '问答', '房东服务', '我要卖房', '房价', '估价', '首页', '关注', '微聊', '我的']\ncom.gzmob.carclub.user\n/mnt/H_DRIVE/FlowIntent/Location/1/1-4/com.gzmob.carclub.user\n生活实用 车族\n[]\n['车族', '违章信息', '商户报名', '保养维修', '美容洗车', '代驾', '租车', '二手车', '新车', '首页', '个人中心', '更多']\n['车族', '违章信息', '商户报名', '保养维修', '美容洗车', '代驾', '租车', '二手车', '新车', '首页', '个人中心', '更多']\ncom.doapps.android.mln.MLN_46de8bacafb42145d94d3f63b1f996830630-00-17-51\n/mnt/H_DRIVE/FlowIntent/Location/1/1-4/com.doapps.android.mln.MLN_46de8bacafb42145d94d3f63b1f996830630-00-17-51\n['News', 'Weather', 'Submit News', '71°', 'Davis, CA', 'TUE', '105', 'WED', '106', 'THU', '97', 'FRI', '95', 'SAT', '93', 'Traffic', 'Photos', 'NWS issues Severe Thunderstorm Warning for central Maricopa County until 10:45pm']\ncom.langruisi.paoke\n/mnt/H_DRIVE/FlowIntent/Location/1/1-4/com.langruisi.paoke\n生活实用 云跑\n"
     ]
    },
    {
     "name": "stdout",
     "output_type": "stream",
     "text": [
      "['云跑', '未知', '情感恋爱', 'Emotion', '生活服务', 'Services', '贩卖时间', 'Time', '物品代送', 'Delivery', '委托办理', 'Entrust', '其他', 'Other', 'king', '￥100.00', '距离:10948.5km', '送包子的生意还不错', '跑客奔跑中', '明明', '￥10.00', '距离:4188.5km', '破MSN', '主页', '附近', '动态', '好友', '点击登陆', '资产：', '提现', '抵用卷：', '我的二维码', '个人资料', '认证', '相册', '发布的任务', '接收的任务', '推荐好友', '我的积分', '设置']\ncom.doapps.android.mln.MLN_fd1a4a4346d5ba7464d64636d604925e0629-18-26-38\n/mnt/H_DRIVE/FlowIntent/Location/1/1-4/com.doapps.android.mln.MLN_fd1a4a4346d5ba7464d64636d604925e0629-18-26-38\n['KOB 4', 'News', 'Weather', 'Contact Us', 'Traffic', '97°', 'Davis, CA', 'MON', '98', 'TUE', '105', 'WED', '106', 'THU', '97', 'FRI', '95', 'Contest', 'Sports']\ncom.foxtwonow.localtv0629-17-18-44\ncom.cmgdigital.kirotvhandset0629-17-30-16\n/mnt/H_DRIVE/FlowIntent/Location/1/1-4/com.cmgdigital.kirotvhandset0629-17-30-16\n['Davis', 'Get Google Play services', \"This app won't run without Google Play services, which are missing from your phone.\", 'Get Google Play services']\n[]\ncom.yiping.eping\n/mnt/H_DRIVE/FlowIntent/Location/1/1-4/com.yiping.eping\n生活实用 医评\n['Push Notifications', '7NEWS Denver can occasionally send you push notification for breaking news alerts. Would you like to receive these notifications? You can also change your selection later from the Settings page in the app.', 'No', 'Yes']\ncom.kbclient\n/mnt/H_DRIVE/FlowIntent/Location/1/1-4/com.kbclient\n['取消', '城市选择', '请输入关键字', '热门城市', 'GPS当前定位城市', '定位失败', '上海', '北京', '广州', '深圳', '天津', '所有城市', 'B', '北京', 'C', '长春', '长沙', '成都', '重庆', 'D']\n['取消', '城市选择', '请输入关键字', '热门城市', 'GPS当前定位城市', '定位失败', '上海', '北京', '广州', '深圳', '天津', '所有城市', 'B', '北京', 'C', '长春', '长沙', '成都', '重庆', 'D']\ncom.imaginestics.atsuba\n/mnt/H_DRIVE/FlowIntent/Location/1/1-4/com.imaginestics.atsuba\n生活实用 Atsuba\n['Davis']\ncom.doapps.android.mln.MLN_40dfe94a4610c0022409deeeaf6224140629-15-37-02\n/mnt/H_DRIVE/FlowIntent/Location/1/1-4/com.doapps.android.mln.MLN_40dfe94a4610c0022409deeeaf6224140629-15-37-02\n['13abc', 'Action News', 'Weather', 'Video', 'Live Stream', '96°', 'Dixon, CA', 'MON', '97', 'TUE', '103', 'WED', '104', 'THU', '97', 'FRI', '93', 'Action Sports', 'Closings/Delays']\ncom.gannett.local.library.news.indystar0629-19-36-19\n/mnt/H_DRIVE/FlowIntent/Location/1/1-4/com.gannett.local.library.news.indystar0629-19-36-19\n"
     ]
    },
    {
     "name": "stdout",
     "output_type": "stream",
     "text": [
      "['Breaking News Alerts', 'Would you like to receive breaking news notifications?', 'No', 'Yes']\ncom.goojje.app00cb277f3b54c388f62def70b8936671\n/mnt/H_DRIVE/FlowIntent/Location/1/1-4/com.goojje.app00cb277f3b54c388f62def70b8936671\n生活实用 中国智能家居\n['Push Notifications', '7NEWS Denver can occasionally send you push notification for breaking news alerts. Would you like to receive these notifications? You can also change your selection later from the Settings page in the app.', 'No', 'Yes']\ncom.hls365.parent\n/mnt/H_DRIVE/FlowIntent/Location/1/1-4/com.hls365.parent\n生活实用 365好老师\n['Push Notifications', '7NEWS Denver can occasionally send you push notification for breaking news alerts. Would you like to receive these notifications? You can also change your selection later from the Settings page in the app.', 'No', 'Yes']\ncom.huodongjia.junzhuanqian\n/mnt/H_DRIVE/FlowIntent/Location/1/1-4/com.huodongjia.junzhuanqian\n生活实用 巨赚钱\n['选择一个城市', 'GPS', '搜索…', 'A', '阿拉善', '鞍山', '安庆', '安阳', '阿坝', '安顺', '阿里', '安康', '阿克苏地区', '阿勒泰地区', '澳门']\ncom.sto.express\n/mnt/H_DRIVE/FlowIntent/Location/1/1-4/com.sto.express\n"
     ]
    },
    {
     "name": "stdout",
     "output_type": "stream",
     "text": [
      "生活实用 申通快递\n[]\n['请输入单号', '一键下单', '我要查件', '附近网点', '我的订单', '联系客服', '实用工具', '首页', '寄件', '消息', '个人']\ncom.airhuxi.airquality\n/mnt/H_DRIVE/FlowIntent/Location/1/1-4/com.airhuxi.airquality\n生活实用 PM 预报雾霾\n['爱呼吸', '7月6日 星期一', '23:26更新', '晚间', 'PM2.5', '89', '69', '空气\\n良好', '今日提示', '19-31°C', '67%', '明早', '96', '空气良好', '明午', '104', '轻度污染']\ncom.fecar.app\nnet.chen_lin.takeanumbrella\n/mnt/H_DRIVE/FlowIntent/Location/1/1-4/net.chen_lin.takeanumbrella\n生活实用 今天带伞吗？\n['正在获取您的位置', '告诉朋友']\ncom.nike.plusgpschina\n/mnt/H_DRIVE/FlowIntent/Location/1/1-4/com.nike.plusgpschina\n \n['Login']\n['Davis', 'Login']\ncom.hearst.android.wyff0629-15-25-09\n/mnt/H_DRIVE/FlowIntent/Location/1/1-4/com.hearst.android.wyff0629-15-25-09\n['Breaking News', 'Do you want to receive Breaking News notifications?', 'Yes', 'No']\ncom.dangkr.app\n/mnt/H_DRIVE/FlowIntent/Location/1/1-4/com.dangkr.app\n"
     ]
    },
    {
     "name": "stdout",
     "output_type": "stream",
     "text": [
      "生活实用 荡客\n[]\n['北京', '活动', '活动推荐', '荡客', '动态', '活动', '我的']\n[]\ncom.fdcz.zsct\n/mnt/H_DRIVE/FlowIntent/Location/1/1-4/com.fdcz.zsct\n生活实用 掌上餐厅\n['Davis', '发现新版本', '距离打开 远距离访问限制（大于100km）\\n', '忽略该版', '立即更新', '以后再说']\ncom.ypmr.android.beauty\n/mnt/H_DRIVE/FlowIntent/Location/1/1-4/com.ypmr.android.beauty\n生活实用 万能管家\n['万能管家', '周边服务', '同城服务', '交友娱乐', '紧急呼救']\ncom.yunda.app\ncom.inoknok.kuaihuo\n/mnt/H_DRIVE/FlowIntent/Location/1/1-4/com.inoknok.kuaihuo\n生活实用 快活\n['任务大厅3.5Km', 'km', '我铺纸  你着墨\\n湖光山色  各自妖娆\\n我们一直在路上  故事继续...']\nmobi.infolife.ezweather\n/mnt/H_DRIVE/FlowIntent/Location/1/1-4/mobi.infolife.ezweather\n"
     ]
    },
    {
     "name": "stdout",
     "output_type": "stream",
     "text": [
      "生活实用 琥珀天气\n['62°', '87° / 57°', '60°', 'Clear', '72%', '4MPH', 'SSE', 'WED', 'A SHOWER OR THUNDERSTORM', '82°/', '57°', 'THU', 'PARTLY SUNNY', '78°/', '55°', 'FRI', 'CLOUDS AND SUN', '80°/', '55°', 'SAT', 'PARTLY SUNNY', '84°/', '57°', 'Davis']\n['University of California Davis', '59°', '80° / 59°', '59°', 'Sunny', '86%', '5MPH', 'S', 'FRI', 'PARTLY SUNNY', '82°/', '57°', 'SAT', 'MOSTLY SUNNY', '86°/', '55°', 'SUN', 'MOSTLY SUNNY', '86°/', '57°', 'MON', 'MOSTLY SUNNY', '89°/', '57°']\n['80°', '91° / 59°', '93°', 'Sunny', '41%', '0.1MPH', 'N', 'TUE', 'MOSTLY SUNNY', '89°/', '59°', 'WED', 'BRIGHT SUNSHINE', '95°/', '62°', 'THU', 'BRIGHT SUNSHINE', '96°/', '62°', 'FRI', 'BRIGHT SUNSHINE', '93°/', '60°', 'Davis']\n['84°', '89° / 57°', '91°', 'Sunny', '39%', '6MPH', 'SSE', 'TUE', 'PLENTY OF SUNSHINE', '87°/', '55°', 'WED', 'A SHOWER OR THUNDERSTORM', '82°/', '57°', 'THU', 'PARTLY SUNNY', '77°/', '57°', 'FRI', 'CLOUDS AND SUN', '80°/', '55°', 'Davis']\ncom.example.youti_geren\n/mnt/H_DRIVE/FlowIntent/Location/1/1-4/com.example.youti_geren\n生活实用 优体教练\n['优体教练', '有2165位教练为您服务呦，亲！', '未知位置', '网球', '器械', '瑜伽', '游泳', '羽毛球', '舞蹈', '我的教练', '订教练', '排行榜', '优体社区']\n['优体教练', '有2165位教练为您服务呦，亲！', '未知位置', '网球', '器械', '瑜伽', '游泳', '羽毛球', '舞蹈', '我的教练', '订教练', '排行榜', '优体社区']\n['优体教练', '有2164位教练为您服务呦，亲！', '未知位置', '网球', '器械', '瑜伽', '游泳', '羽毛球', '舞蹈', '我的教练', '订教练', '排行榜', '优体社区']\ncom.glocal.upapp\n/mnt/H_DRIVE/FlowIntent/Location/1/1-4/com.glocal.upapp\n生活实用 3km\n['12', '3km', 'Discovery', 'Me', 'Davis', 'More']\ncom.entstudy.enjoystudy\n/mnt/H_DRIVE/FlowIntent/Location/1/1-4/com.entstudy.enjoystudy\n"
     ]
    },
    {
     "name": "stdout",
     "output_type": "stream",
     "text": [
      "生活实用 疯狂老师\n['所在地区', '当前定位城市', '定位失败', '当前已开放城市', '合肥市', '上海市', '南昌市', '厦门市', '泉州市', '武汉市', '太原市']\ncom.hearst.android.Four029TV0629-18-14-36\n/mnt/H_DRIVE/FlowIntent/Location/1/1-4/com.hearst.android.Four029TV0629-18-14-36\n['Davis', 'Breaking News', 'Do you want to receive Breaking News notifications?', 'Yes', 'No']\ncom.sdu.didi.psnger\n/mnt/H_DRIVE/FlowIntent/Location/1/1-4/com.sdu.didi.psnger\n生活实用 滴滴打车\n['Push Notifications', '7NEWS Denver can occasionally send you push notification for breaking news alerts. Would you like to receive these notifications? You can also change your selection later from the Settings page in the app.', 'No', 'Yes']\ncom.ishow.dylypw13\ncom.gannett.local.library.news.azcentral0629-16-03-30\n/mnt/H_DRIVE/FlowIntent/Location/1/1-4/com.gannett.local.library.news.azcentral0629-16-03-30\n['Push Notifications', '7NEWS Denver can occasionally send you push notification for breaking news alerts. Would you like to receive these notifications? You can also change your selection later from the Settings page in the app.', 'No', 'Yes']\nedu.qust.weather\n/mnt/H_DRIVE/FlowIntent/Location/1/1-4/edu.qust.weather\n"
     ]
    },
    {
     "name": "stdout",
     "output_type": "stream",
     "text": [
      "生活实用 天气预报\n['北京', '07/10 01:39 刷新', '今日天气', '2015-07-10', '多云转阴', '32 ~ 23℃', '微风', '空气指数', '107', '轻度污染']\ncom.hearst.android.koco0629-15-39-21\n/mnt/H_DRIVE/FlowIntent/Location/1/1-4/com.hearst.android.koco0629-15-39-21\n['Breaking News', 'Do you want to receive Breaking News notifications?', 'Yes', 'No']\ncom.huiyangche.t.app\n/mnt/H_DRIVE/FlowIntent/Location/1/1-4/com.huiyangche.t.app\n生活实用 会养车-技师版\n['Daivs']\ncom.quxiangxia1.www\n/mnt/H_DRIVE/FlowIntent/Location/1/1-4/com.quxiangxia1.www\n生活实用 去乡下\n['Push Notifications', '7NEWS Denver can occasionally send you push notification for breaking news alerts. Would you like to receive these notifications? You can also change your selection later from the Settings page in the app.', 'No', 'Yes']\ncom.borui.sbwh\n/mnt/H_DRIVE/FlowIntent/Location/1/1-4/com.borui.sbwh\n生活实用 身边芜湖\n['身边芜湖', '好冷！7月气温跌至“1”字头 ', '“宁安城际”更名为“宁安客专”', '\\u3000\\u3000“宁安城际”更名为“宁安客专”。记者昨日从安徽省发改委获悉，本月，宁安客运专线将联调联试，计划今年10月底具备开通运营条件。不过，具体开通时间须由中国铁路总公司确定。届时芜湖到南京只需半个小时，芜湖到上海最快只需2个小时。“宁安城际”更名为“宁安客专”近日，中国铁路总公司正式', '乘最美高铁 尝正宗无为美食', '\\u3000\\u3000无为县地处皖中，临江滨湖，承东启西，素有“鱼米之乡”美誉，境内资源丰富，120万无为人用勤劳的智慧，在创造着幸福美好生活的同时，传承着独具特色的饮食习俗，形成了丰富多彩的传统饮食文化。6月28日，有着中国最美高铁和国内旅游“黄金通道”之称的合福高铁无为站已开通运营。高铁无为站的开', '[视频现场]10万人的龙舟盛会', '\\u3000\\u3000农历5月20日周日,鸠江区居民自发组织的龙舟赛在裕溪河竞渡,147条龙舟欢乐开赛。这场龙舟盛会吸引了周边近10万人观看！现场精彩，惊吓不断哦！', '档案查询网上预约“火爆”', '\\u3000\\u3000近日，芜湖市档案局“档案查询网上预约”平台正式对外开放。通过该网上预约平台，不少申请查询档案的芜湖市民切实享受到了高效、快捷的档案利用服务。据了解，自本报6月23日报道档案查询网上预约平台开放以来，每天都有大量市民通过该平台进行网上预约查询，目前预约人数已达几百位。从查询的档案内', '芜湖集装箱运量突破20万标箱', '\\u3000\\u3000根据市商务局最新数据显示，今年前5个月，芜湖口岸进出口货运量累计73.83万吨，同比增长24.6%；进出口货值186268万美元，同比下降3.4%；集装箱累计210550标准箱，同比增长47.7%，集装箱运量保持大幅增长态势。市商务局相关负责人介绍，受外贸形势低迷以及空调生']\ncom.fitnesskeeper.runkeeper.pro\n/mnt/H_DRIVE/FlowIntent/Location/1/1-4/com.fitnesskeeper.runkeeper.pro\n"
     ]
    },
    {
     "name": "stdout",
     "output_type": "stream",
     "text": [
      "生活实用 运动日志RunKeeper\n['Sign Up with Google', 'Sign Up with Facebook', 'or', 'Sign Up with Email', 'Try Us Out!', 'Log In']\n['Sign Up with Google', 'Sign Up with Facebook', 'or', 'Sign Up with Email', 'Try Us Out!', 'Log In']\ncn.imolin.kuaixiu\n/mnt/H_DRIVE/FlowIntent/Location/1/1-4/cn.imolin.kuaixiu\n生活实用 陌邻快修\n['快修', 'Davis', '发布维修需求']\ncom.bamasoso.user\ncom.lelai.lelailife\n/mnt/H_DRIVE/FlowIntent/Location/1/1-4/com.lelai.lelailife\n生活实用 乐来\n[]\n['定位失败，请查看是否已打开定位功能，或者是网络连接是否正常', '手动定位']\n[]\ncom.doapps.android.mln.MLN_dcef0f44a0df1e66efd449f37cf9fe010629-22-04-22\n/mnt/H_DRIVE/FlowIntent/Location/1/1-4/com.doapps.android.mln.MLN_dcef0f44a0df1e66efd449f37cf9fe010629-22-04-22\n['KTVB', 'News', 'Sports', 'Watch', 'Cameras', 'Slideshows', 'Video']\ncom.ppmobile.expresscouriers\n/mnt/H_DRIVE/FlowIntent/Location/1/1-4/com.ppmobile.expresscouriers\n生活实用 PP速达-快递员端\n['附近', '接单', '停止接单', '等待接单中.....', '接单', '取件', '消息', '更多']\n['接单', '停止接单', '等待接单中.....', '接单', '取件', '消息', '更多']\n['有新版本更新', '1.添加单独打印模块2.修复已知bugs', '确认', '取消']\ncom.txrc.user\n/mnt/H_DRIVE/FlowIntent/Location/1/1-4/com.txrc.user\n"
     ]
    },
    {
     "name": "stdout",
     "output_type": "stream",
     "text": [
      "生活实用 招天下\n['Davis', 'Davis']\njp.metersfree\n/mnt/H_DRIVE/FlowIntent/Location/1/1-4/jp.metersfree\n生活实用 气压计的温度和湿度\n['32', '℃', '30', '%', '1010', 'hPa', 'Davis']\ncom.e.jiajie.user\n/mnt/H_DRIVE/FlowIntent/Location/1/1-4/com.e.jiajie.user\n生活实用 e家洁家政\n['Davis', '北京', '家庭保洁', '洗衣', '空调清洗', '油烟机清洗', '全部服务']\ncom.doapps.android.mln.MLN_c0fddd289b98a85ca53e9a912581ad710629-03-23-41\n/mnt/H_DRIVE/FlowIntent/Location/1/1-4/com.doapps.android.mln.MLN_c0fddd289b98a85ca53e9a912581ad710629-03-23-41\n"
     ]
    },
    {
     "name": "stdout",
     "output_type": "stream",
     "text": [
      "['KING 5', 'News', 'Weather', 'Sports', 'Traffic', 'Watch KING 5', 'Explore the PNW']\ncom.doapps.android.mln.MLN_fe2e3fed98c6cc5a521f2d6764a1046e0629-22-30-11\n/mnt/H_DRIVE/FlowIntent/Location/1/1-4/com.doapps.android.mln.MLN_fe2e3fed98c6cc5a521f2d6764a1046e0629-22-30-11\n['KVUE NEWS', 'News', 'Weather', 'KVUE Radar', 'Live Video', '74°', 'Davis, CA', 'MON', '95', 'TUE', '105', 'WED', '106', 'THU', '97', 'FRI', '95', 'Traffic', 'Video']\ncom.trwl.car\n/mnt/H_DRIVE/FlowIntent/Location/1/1-4/com.trwl.car\n生活实用 爱汽车\n[' 500米 ', ' 500米 ', '爱汽车', '洗车打蜡', '技师']\n[' 500米 ', ' 500米 ', '爱汽车', '洗车打蜡', '技师']\ncom.qiaosong99.qstracker\n/mnt/H_DRIVE/FlowIntent/Location/1/1-4/com.qiaosong99.qstracker\n生活实用 乔松定位宝\n['乔松定位宝', '定位授权码', '使用须知：', '1.请监护人用其手机到各应用商城下载安装“乔松健康管家”，进入“定位宝”，扫描此定位授权码进行绑定操作。\\n2.部分手机如华为需要在设置中为本应用开启后台应用程序保护。']\n['乔松定位宝', '定位授权码', '使用须知：', '1.请监护人用其手机到各应用商城下载安装“乔松健康管家”，进入“定位宝”，扫描此定位授权码进行绑定操作。\\n2.部分手机如华为需要在设置中为本应用开启后台应用程序保护。']\ncom.meilishuo.meimiao\n/mnt/H_DRIVE/FlowIntent/Location/1/1-4/com.meilishuo.meimiao\n生活实用 美喵\n"
     ]
    },
    {
     "name": "stdout",
     "output_type": "stream",
     "text": [
      "['妆品精选', '美容顾问', '北京', 'Yisa', '关注', '首页', '活动', '分类', '我的']\ncom.philips.cl.di.dev.pa\n/mnt/H_DRIVE/FlowIntent/Location/1/1-4/com.philips.cl.di.dev.pa\n生活实用 智能空气\n['App update', 'New version of Smart Air App is available', 'Cancel', 'Update']\n['App update', 'New version of Smart Air App is available', 'Cancel', 'Update']\n['Smart Air Purifier', 'Connect your purifier', 'Healthy air, always.', 'Did you know?', 'This app can give you Air Quality of different locations, as well as other information about air quality', 'Continue without Smart Air Purifier']\n['App update', 'New version of Smart Air App is available', 'Cancel', 'Update']\ncom.zhishan.taxiapp\ncom.zline.consumer\n/mnt/H_DRIVE/FlowIntent/Location/1/1-4/com.zline.consumer\n生活实用 外卖@零号线\n['请设置收货地址', '中式餐厅', '馄饨面食', '便当套餐', '西式餐点', '日韩料理', '下午茶', '休闲小吃', '全部', '签到抽奖', '积分商城', '任务奖励', '新店尝鲜', '好店新到，等你鉴定', '别人碗里的菜', '周围吃货点名的爆款', '优惠专区', '有便宜不占是傻蛋', '首页', '订单', '个人中心']\n['请设置收货地址', '中式餐厅', '馄饨面食', '便当套餐', '西式餐点', '日韩料理', '下午茶', '休闲小吃', '全部', '签到抽奖', '积分商城', '任务奖励', '新店尝鲜', '好店新到，等你鉴定', '别人碗里的菜', '周围吃货点名的爆款', '优惠专区', '有便宜不占是傻蛋', '首页', '订单', '个人中心']\ncn.dds.android.user\n/mnt/H_DRIVE/FlowIntent/Location/1/1-4/cn.dds.android.user\n生活实用 点点啥\n['当前位置附近未发现点点啥合作商家,敬请期待！', '位置：定位失败，请检查您的网络情况']\ncom.gimis.traffic\n/mnt/H_DRIVE/FlowIntent/Location/1/1-4/com.gimis.traffic\n"
     ]
    },
    {
     "name": "stdout",
     "output_type": "stream",
     "text": [
      "生活实用 交通在线\n['附近', '交通在线', '事故处理', '在线快速处理事故', '事故查询', '事故信息及图片', '首页', '便民服务', '个人中心']\n[]\ncom.xichi.mimi\ncn.czzhiyou.asm\n/mnt/H_DRIVE/FlowIntent/Location/1/1-4/cn.czzhiyou.asm\n生活实用 爱上门\n['Davis', '新版出来啦！\\n爱上门一直在努力', '1、改进任务模块，提高该模块运行效率；\\n2、更改图片载入方式；\\n3、修复服务商品图片不清晰问题；\\n4、优化页面布局；\\n5、优化网络响应方式，使得应用更流畅。', '马上升级']\ncom.ffzpt\n/mnt/H_DRIVE/FlowIntent/Location/1/1-4/com.ffzpt\n生活实用 蚁淘社区\n"
     ]
    },
    {
     "name": "stdout",
     "output_type": "stream",
     "text": [
      "['Push Notifications', '7NEWS Denver can occasionally send you push notification for breaking news alerts. Would you like to receive these notifications? You can also change your selection later from the Settings page in the app.', 'No', 'Yes']\ncom.warren.contact.analysis.activity\n/mnt/H_DRIVE/FlowIntent/Location/1/1-4/com.warren.contact.analysis.activity\n生活实用 寻朋吧\n['Davis', '寻朋吧', '发现共同的朋友', '查看朋友的足迹', '查看朋友关系网络', '寻找失联的朋友', 'CopyRight© 2015 http://xunpeng.pub', '点击扫描二维码']\n['寻朋吧', 'Davis', '发现共同的朋友', '查看朋友的足迹', '查看朋友关系网络', '寻找失联的朋友', 'CopyRight© 2015 http://xunpeng.pub', '点击扫描二维码']\nxyz.xiangdian\n/mnt/H_DRIVE/FlowIntent/Location/1/1-4/xyz.xiangdian\n生活实用 深巷小店\n[' 1公里 ', ' 1公里 ', '设置', '说明', '搜索', '列表']\n[' 1公里 ', ' 1公里 ', '设置', '说明', '搜索', '列表']\ncom.doapps.android.mln.MLN_0d8f1da388c34d20dba1aaf52529500d0629-13-53-28\n/mnt/H_DRIVE/FlowIntent/Location/1/1-4/com.doapps.android.mln.MLN_0d8f1da388c34d20dba1aaf52529500d0629-13-53-28\n['WKRN', 'Get the new app', '94°', 'Davis, CA', 'MON', '95', 'TUE', '105', 'WED', '106', 'THU', '94', 'FRI', '95']\ncom.yimi.activity\n/mnt/H_DRIVE/FlowIntent/Location/1/1-4/com.yimi.activity\n生活实用 一米兼职\n[]\n['Davis', '版本更新', '该版本已不再支持，立即下载安装最新版本？', '下次再说', '下载']\n"
     ]
    },
    {
     "name": "stdout",
     "output_type": "stream",
     "text": [
      "['有新版本啦', '已在WiFi下完成新版本', '免流量安装', '以后再说']\ncn.bupt.sse309.hdd\n/mnt/H_DRIVE/FlowIntent/Location/1/1-4/cn.bupt.sse309.hdd\n['Push Notifications', '7NEWS Denver can occasionally send you push notification for breaking news alerts. Would you like to receive these notifications? You can also change your selection later from the Settings page in the app.', 'No', 'Yes']\ncom.benefit.community\n/mnt/H_DRIVE/FlowIntent/Location/1/1-4/com.benefit.community\n生活实用 益社区\n['请先登录', '欢迎使用', '益社区客户端', '暂无通知', '投诉', '报修', '物业缴费', '生活缴费', '益家小店', '周边优惠', '社区活动', '玩赚积分', '首页', '广场', '我的']\n['请先登录', '欢迎使用', '益社区客户端', '暂无通知', '投诉', '报修', '物业缴费', '生活缴费', '益家小店', '周边优惠', '社区活动', '玩赚积分', '热门推荐', '首页', '广场', '我的']\ncom.mamahome\n/mnt/H_DRIVE/FlowIntent/Location/1/1-4/com.mamahome\n生活实用 mamahome\n['首页', '找公寓', '活动', '看房清单', '个人中心', '商旅公寓住宿首选', '上海', '北京', '广州', '西安', '杭州', '大连', '苏州', '更多', '主题精选']\n['New version found', 'Latest version: 5.4.8\\nTarget size: 16.57M\\n\\nUpdate Content\\n1、新增注册幸运大转盘活动，iPhone6超多礼品能你来拿；\\r\\n2、修复退出BUG；\\r\\n3、修复预约看房转订单默认时间问题；\\r\\n4、新增从看房计划处返回房源详细入口；\\r\\n\\n', 'Ingore this', 'Update now', 'Not now']\ncom.jh.goodsfordriver\n/mnt/H_DRIVE/FlowIntent/Location/1/1-4/com.jh.goodsfordriver\n生活实用 货通天下\n['物流', '送货', '附近', '  ', '  ']\ncom.vteam.cook\n/mnt/H_DRIVE/FlowIntent/Location/1/1-4/com.vteam.cook\n"
     ]
    },
    {
     "name": "stdout",
     "output_type": "stream",
     "text": [
      "生活实用 好厨师\n['城市列表', '城市列表', '定位失败', '选择热门城市', '上海市', '北京市', '杭州市', '深圳市']\ncom.sanmisoft.mimi\ncom.yuedong.sport\n/mnt/H_DRIVE/FlowIntent/Location/1/1-4/com.yuedong.sport\n生活实用 悦动圈跑步\n['微信登录', 'QQ登录', '想与好友运动比拼？', '选择QQ登录即可参与PK和排名', '其他方式登录', '手机账号', '优伴手环帐号', '暂不登录']\ncom.zhonglong.huochepiaotong\n/mnt/H_DRIVE/FlowIntent/Location/1/1-4/com.zhonglong.huochepiaotong\n生活实用 火车票通\n['火车票', '出发站', '到达站', '北京', '上海', '出发日期', '7月6日', '明天', '只搜高铁', '查询']\ncom.yaan.activity\n/mnt/H_DRIVE/FlowIntent/Location/1/1-4/com.yaan.activity\n生活实用 雅安旅游\n['Push Notifications', '7NEWS Denver can occasionally send you push notification for breaking news alerts. Would you like to receive these notifications? You can also change your selection later from the Settings page in the app.', 'No', 'Yes']\ncom.doapps.android.mln.MLN_42b39fdb198522d2bfc6b1f64cd983650629-18-05-14\n/mnt/H_DRIVE/FlowIntent/Location/1/1-4/com.doapps.android.mln.MLN_42b39fdb198522d2bfc6b1f64cd983650629-18-05-14\n"
     ]
    },
    {
     "name": "stdout",
     "output_type": "stream",
     "text": [
      "['News', 'Radio', 'Politics', 'Weather', '97°', 'Dixon, CA', 'MON', '98', 'TUE', '103', 'WED', '104', 'THU', '97', 'FRI', '93', 'Video Galleries', 'Inside Track']\ncom.milestone.wtz\n/mnt/H_DRIVE/FlowIntent/Location/1/1-4/com.milestone.wtz\n生活实用 淘职部落\n[]\n['城市选择', '定位城市', '定位失败', '热门城市', '上海市', '苏州市']\ncom.esun.jjjc\n/mnt/H_DRIVE/FlowIntent/Location/1/1-4/com.esun.jjjc\n生活实用 酒嘉建材\n['Push Notifications', '7NEWS Denver can occasionally send you push notification for breaking news alerts. Would you like to receive these notifications? You can also change your selection later from the Settings page in the app.', 'No', 'Yes']\norg.travelers.together\ncom.hlwm.yourong\n/mnt/H_DRIVE/FlowIntent/Location/1/1-4/com.hlwm.yourong\n生活实用 有容会员\n['Davis', '搜索', '商超', '美食', '娱乐', '健康', '丽人', '酒店', '旅游', '全部分类', '达人推荐', '首页', '附近', '卡包', '我的']\ncom.doapps.android.mln.MLN_dba9d977d835f194cef46def062fb44d0629-14-04-51\n/mnt/H_DRIVE/FlowIntent/Location/1/1-4/com.doapps.android.mln.MLN_dba9d977d835f194cef46def062fb44d0629-14-04-51\n['KENS 5', 'News', 'Local Radars', 'Watch KENS 5', 'First Alert Weather', 'Million Meals', 'Check Traffic', 'Sports', 'Entertainment', 'Supreme Court delays stricter Texas abortion-clinic rules. SWIPE >>>']\ncom.corp21cn.flowpay\n/mnt/H_DRIVE/FlowIntent/Location/1/1-4/com.corp21cn.flowpay\n"
     ]
    },
    {
     "name": "stdout",
     "output_type": "stream",
     "text": [
      "生活实用 流量宝\n['Push Notifications', '7NEWS Denver can occasionally send you push notification for breaking news alerts. Would you like to receive these notifications? You can also change your selection later from the Settings page in the app.', 'No', 'Yes']\n['Davis', '我同意用户协议', '立即体验']\ncom.shangc.foodie\n/mnt/H_DRIVE/FlowIntent/Location/1/1-4/com.shangc.foodie\n生活实用 吃天下\n['选择城市', '请输入省市中文名称或拼音首字母', '定位城市', '正在定位...', '热门城市', '赣州', '深圳', '北京', '上海', '广州', 'B', '北京', 'C', '重庆']\ncom.sportqsns\n/mnt/H_DRIVE/FlowIntent/Location/1/1-4/com.sportqsns\n生活实用 去动\n['注册或登录去动', '随便看看']\n['注册或登录去动', '随便看看']\n['注册或登录去动', '随便看看']\ncn.wl01.app\n/mnt/H_DRIVE/FlowIntent/Location/1/1-4/cn.wl01.app\n生活实用 一站运\n['搜索货源', '未登录', 'GPS已开启', '网络已开启', '提示音开启', '周边货源', '日用', '沈阳', '沈阳', '1.6吨/14.0方 明天08:00提货', '竞价', '快消', '北京', '驻马店', '39.0吨/55.0方 明天08:00提货', '竞价', '快消', '北京', '郑州', '39.75吨/50.0方 明天08:00提货', '竞价', '快消', '北京', '郑州', '39.75吨/50.0方 明天08:00提货', '竞价', '\\ue608', '拉货', '\\ue601', '服务', '\\ue605', '钱包', '\\ue603', '我']\n[]\ncom.orangefish.app.delicacy\n/mnt/H_DRIVE/FlowIntent/Location/1/1-4/com.orangefish.app.delicacy\n"
     ]
    },
    {
     "name": "stdout",
     "output_type": "stream",
     "text": [
      "生活实用 食在方便\n['食在方便', '夏天就要去墾丁', '4折 墾丁泊逸渡假酒店度假去  7/31前週六不加價', '附近美食', '精選食記', '必吃好店', '夜市美食', '餐券優惠', '住宿優惠', '首頁', '最愛', '會員', '更多']\ncom.originx.locationx\n/mnt/H_DRIVE/FlowIntent/Location/1/1-4/com.originx.locationx\n生活实用 手机定位\n['手机定位', ' 5公里 ', ' 5公里 ', ' ', '我的', '足迹', '录音', '使用帮助']\ncom.runtastic.android.pro2\n/mnt/H_DRIVE/FlowIntent/Location/1/1-4/com.runtastic.android.pro2\n生活实用 跑步记步器\n['Push Notifications', '7NEWS Denver can occasionally send you push notification for breaking news alerts. Would you like to receive these notifications? You can also change your selection later from the Settings page in the app.', 'No', 'Yes']\n['Welcome to', 'An incredible app and supportive community of millions of fitness enthusiasts.', 'Swipe']\ncom.hearst.android.ketv0629-19-43-34\n/mnt/H_DRIVE/FlowIntent/Location/1/1-4/com.hearst.android.ketv0629-19-43-34\n['Breaking News', 'Do you want to receive Breaking News notifications?', 'Yes', 'No']\ncom.wodan.xianshijian\n/mnt/H_DRIVE/FlowIntent/Location/1/1-4/com.wodan.xianshijian\n \n"
     ]
    },
    {
     "name": "stdout",
     "output_type": "stream",
     "text": [
      "['选择城市', '请输入城市名称或首字母', '定位城市', '点击重试', '热门城市', '北京', '广州', '杭州', '上海', '深圳', 'A', '安阳', '安康', '安庆', 'B']\ncom.gannett.local.library.news.ksdk0629-15-44-12\n/mnt/H_DRIVE/FlowIntent/Location/1/1-4/com.gannett.local.library.news.ksdk0629-15-44-12\n['_ Tap to open navigation', 'BREAKING NEWS', 'Live Weather Coverage', '16', 'Latest News', '73', 'Sunday’s severe weather', 'Weather', ' 22 hours ago', 'Camp hits a home run for deaf kids', 'Latest News']\ncom.hls365.teacher\n/mnt/H_DRIVE/FlowIntent/Location/1/1-4/com.hls365.teacher\n生活实用 365教师版\n['北京', '年级:', '不限', '科目:', '不限', '排序:', '综合排序', '性别:', '不限', '区域:', '不限', '以下学生正在寻找好老师', '查看更多', '登录']\n[]\n[]\ncom.aawant.hunter\n/mnt/H_DRIVE/FlowIntent/Location/1/1-4/com.aawant.hunter\n生活实用 小灵灵\n[]\n['天气', '说说问问', '您需要什么，可以对我说', '“找个女朋友”', '“找个老婆”', '“我想交个朋友”', '“交个男朋友”', '点击我\\n开始说话', '输入文字发出您的请求', '发送']\n[]\n[]\ncom.wuba\n/mnt/H_DRIVE/FlowIntent/Location/1/1-4/com.wuba\n生活实用 58同城\n"
     ]
    },
    {
     "name": "stdout",
     "output_type": "stream",
     "text": [
      "['Push Notifications', '7NEWS Denver can occasionally send you push notification for breaking news alerts. Would you like to receive these notifications? You can also change your selection later from the Settings page in the app.', 'No', 'Yes']\ncom.parking.driverApp\ncom.ndol.sale.starter\n/mnt/H_DRIVE/FlowIntent/Location/1/1-4/com.ndol.sale.starter\n生活实用 8天在线\n['选择校区', '请输入学校名称', '离您最近的大学是：', '正在定位...', '南京', '南昌', '合肥', '成都', '扬州', '无锡', '杭州', '六合区', '南京科技职业学院', '栖霞区', '南京中医药大学', '南京邮电大学', '南理工紫金学院', '南京师范大学', '诚品城', '南京财经大学']\ncom.jh.goodsforsupply\n/mnt/H_DRIVE/FlowIntent/Location/1/1-4/com.jh.goodsforsupply\n生活实用 货通天下\n['送货', '附近', '物流', '  ', '  ', '  ']\nnet.yaopao.activity\n/mnt/H_DRIVE/FlowIntent/Location/1/1-4/net.yaopao.activity\n生活实用 要跑\n['要跑', '同步', '未登录', '0.00', 'km', '0', '运动次数', '00\\'00\"', '平均配速', '0', '积分', '天气实况', '--', '空气质量', '--', 'GPS信号', '非常好', '运动目标 & 类型', '自由 跑步', '首页', '运动记录', '跑团', '设置']\ncom.nineton.weatherforecast\n/mnt/H_DRIVE/FlowIntent/Location/1/1-4/com.nineton.weatherforecast\n['Add City', 'Input City Name(In Chinese)', 'Hot Cities', 'Autoregistration', '北京', '上海', '广州', '深圳', '武汉', '南京', '杭州', '西安', '郑州', '成都', '东莞', '沈阳', '天津', '哈尔滨', '长沙', '福州', '石家庄', '苏州', '重庆', '无锡', '济南', '大连', '佛山', '厦门', '南昌', '太原', '长春', '合肥', '浦东', '青岛', '汕头', '昆明', '南宁', '长治']\ncom.chinatsp.huichebao\n/mnt/H_DRIVE/FlowIntent/Location/1/1-4/com.chinatsp.huichebao\n"
     ]
    },
    {
     "name": "stdout",
     "output_type": "stream",
     "text": [
      "生活实用 慧车宝\n['北京', '输入商家名称或地址', '欢迎使用慧车宝', '点击添加车辆', '保养管家', '小保养', '(机油+机滤)', '大保养', '(机油+三滤)', '划痕修复', '玻璃贴膜', '美容', '慧车宝', '慧爆料', '语音', '我的']\ncom.happyjob\n/mnt/H_DRIVE/FlowIntent/Location/1/1-4/com.happyjob\n生活实用 兼职乐\n['石家庄市', '输入关键词搜索', '打卡', '附近兼职', '日结兼职', '长期兼职', '双休兼职', '官方发布', '假期兼职', '最新兼职', '全部兼职', '推荐职位', '定制岗位', '传单派发', '50元/天', '10人', '2015-07-10至2015-07-17', '石家庄新天际教育科技有限公司', '2015-07-10发布', '亚历山大英语学校兼职助教', '50元/天']\ncom.didapinche.booking\n/mnt/H_DRIVE/FlowIntent/Location/1/1-4/com.didapinche.booking\n生活实用 嘀嗒拼车\n"
     ]
    },
    {
     "name": "stdout",
     "output_type": "stream",
     "text": [
      "['车主', '乘客', '上班约车', '下班约车', '其他预约', '我的预约', '您还没有行程']\ncom.maitao.mtqzy\n/mnt/H_DRIVE/FlowIntent/Location/1/1-4/com.maitao.mtqzy\n生活实用 麦淘亲子游\n['上海', '请输入活动名称']\ncom.lcworld.dixintong\n/mnt/H_DRIVE/FlowIntent/Location/1/1-4/com.lcworld.dixintong\n生活实用 迪信通\n['选择地区', '请输入地区', 'GPS定位城市', '正在定位...', '热门城市', '安徽', '湖南', '河南', '江苏(南京)', '辽宁', '四川']\n[]\ncom.doapps.android.mln.MLN_bffc98347ee35b3ead06728d6f073c680629-21-23-01\n/mnt/H_DRIVE/FlowIntent/Location/1/1-4/com.doapps.android.mln.MLN_bffc98347ee35b3ead06728d6f073c680629-21-23-01\n['8 News NOW', 'Headlines Now', 'Weather', 'Live Newscasts', 'Video Reports', '78°', 'Davis, CA', 'MON', '95', 'TUE', '105', 'WED', '106', 'THU', '97', 'FRI', '95', 'I-Team Reports', 'Galleries']\ncom.lc.youhuoer\n/mnt/H_DRIVE/FlowIntent/Location/1/1-4/com.lc.youhuoer\n生活实用 有活儿\n['Davis', '求职登录', '我想找好工作.好闺蜜.好老板', '招聘登录', '我想立马招到人']\n"
     ]
    },
    {
     "name": "stdout",
     "output_type": "stream",
     "text": [
      "['求职登录', '我想找好工作.好闺蜜.好老板', '招聘登录', '我想立马招到人']\ncom.mapbar.android.mapbarmap.navitima\n/mnt/H_DRIVE/FlowIntent/Location/1/1-4/com.mapbar.android.mapbarmap.navitima\n生活实用 图吧CarNet导航\n['我的', '导航', '路线', '搜索', '数据', '搜索', '500m', '免责声明', '        在汽车驾驶过程中操作导航系统，可能会导致严重的交通事故。 为了避免事故发生，请在停车后进行操作。 \\n        由于道路及交通规则的变化，请根据实际道路并遵守交通规则行驶。在使用本导航软件过程中，请不要插拔存储卡。', '同意免责声明及', '图吧服务条款', '下次不再提示', '拒绝', '接受']\n['我的', '导航', '路线', '搜索', '数据', '搜索', '500m', '免责声明', '        在汽车驾驶过程中操作导航系统，可能会导致严重的交通事故。 为了避免事故发生，请在停车后进行操作。 \\n        由于道路及交通规则的变化，请根据实际道路并遵守交通规则行驶。在使用本导航软件过程中，请不要插拔存储卡。', '同意免责声明及', '图吧服务条款', '下次不再提示', '拒绝', '接受']\ncom.xiang.xi.zaina\n/mnt/H_DRIVE/FlowIntent/Location/1/1-4/com.xiang.xi.zaina\n生活实用 泡泡爱\n['附近的人', '发现新版本', '最新版本: 3.4\\n新版本大小: 8.85M\\n\\n更新内容\\n重要版本升级；\\n1、增加会员特权功能，开通会员必须使用该版本；\\n2、修改程序错误，增加软件使用流畅度；\\n3、解除一些使用限制，你懂得~~~', '立即更新']\n['发现新版本', '最新版本: 3.4\\n新版本大小: 8.85M\\n\\n更新内容\\n重要版本升级；\\n1、增加会员特权功能，开通会员必须使用该版本；\\n2、修改程序错误，增加软件使用流畅度；\\n3、解除一些使用限制，你懂得~~~', '立即更新']\ncom.doapps.android.mln.MLN_03ebd2d94ee4cf29a937c47f9da2e2000629-19-57-53\n/mnt/H_DRIVE/FlowIntent/Location/1/1-4/com.doapps.android.mln.MLN_03ebd2d94ee4cf29a937c47f9da2e2000629-19-57-53\n['WJBF', 'News', 'Weather', 'Sports', 'News Tip 6', '85°', 'Dixon, CA', 'MON', '95', 'TUE', '103', 'WED', '104', 'THU', '97', 'FRI', '93', 'Entertainment', 'Community']\ncom.chedao.app\n/mnt/H_DRIVE/FlowIntent/Location/1/1-4/com.chedao.app\n"
     ]
    },
    {
     "name": "stdout",
     "output_type": "stream",
     "text": [
      "生活实用 车到加油\n['Davis']\n['车到哪儿，哪儿有车到', '登录', '注册']\n['Davis']\ncom.shengxin\n/mnt/H_DRIVE/FlowIntent/Location/1/1-4/com.shengxin\n生活实用 省心宝\n['Davis']\n[]\ncom.doapps.android.mln.MLN_KRON40629-19-17-01\n/mnt/H_DRIVE/FlowIntent/Location/1/1-4/com.doapps.android.mln.MLN_KRON40629-19-17-01\n['KRON 4', 'Get the new app', '91°', 'Dixon, CA', 'MON', '98', 'TUE', '103', 'WED', '104', 'THU', '97', 'FRI', '93']\ncom.my114.my11404209112711wap\ncom.beily.gym\n/mnt/H_DRIVE/FlowIntent/Location/1/1-4/com.beily.gym\n生活实用 搜所\n['选择城市', '当前定位城市:', 'Davis', '(目前仅支持列表中城市)', 'B', '北京', 'C', '常州', '成都', 'D', '东莞', '德阳', '更多城市正在努力增加中...']\ncom.fotoable.helpr\n/mnt/H_DRIVE/FlowIntent/Location/1/1-4/com.fotoable.helpr\n"
     ]
    },
    {
     "name": "stdout",
     "output_type": "stream",
     "text": [
      "生活实用 口袋工具\n['驻港解放军开放军演', '天气', '周日', '2015', '农历五月十九', '07/05', '万年历', '天气', 'PM2.5', '记账本', '记事本', '私密相册', '中英词典', '尺子', '日常工具', '生活服务', '阅读发现', '口袋商城']\ncom.cmgdigital.WHIOHybrid0629-16-55-15\n/mnt/H_DRIVE/FlowIntent/Location/1/1-4/com.cmgdigital.WHIOHybrid0629-16-55-15\n['Get Google Play services', \"This app won't run without Google Play services, which are missing from your phone.\", 'Get Google Play services']\n[]\ncom.hearst.android.kmbc0629-16-38-45\n/mnt/H_DRIVE/FlowIntent/Location/1/1-4/com.hearst.android.kmbc0629-16-38-45\n['Breaking News', 'Do you want to receive Breaking News notifications?', 'Yes', 'No']\ncom.cmgdigital.wpxitvhandset0629-19-00-12\n/mnt/H_DRIVE/FlowIntent/Location/1/1-4/com.cmgdigital.wpxitvhandset0629-19-00-12\n['Get Google Play services', \"This app won't run without Google Play services, which are missing from your phone.\", 'Get Google Play services']\n[]\ncom.huiyangche.app\n/mnt/H_DRIVE/FlowIntent/Location/1/1-4/com.huiyangche.app\n生活实用 会养车\n"
     ]
    },
    {
     "name": "stdout",
     "output_type": "stream",
     "text": [
      "['北京', '会养车', '我的问题', '首页', '发现', '活动', '我的']\ncn.gdiot.applife\n/mnt/H_DRIVE/FlowIntent/Location/1/1-4/cn.gdiot.applife\n生活实用 身边社区\n['华景新城', '公告通知', '个人信箱', '维修服务', '客服咨询', '小区头条', '更多', '关于华景F4供电线路停电检修的通知', '关于清洗水池通知', '关于木地板免费维护通知', '好商品.人人赞', '更多', '身边', '贴吧', '购物', '我的']\n['华景新城', '公告通知', '个人信箱', '维修服务', '客服咨询', '小区头条', '更多', '关于华景F4供电线路停电检修的通知', '关于清洗水池通知', '关于木地板免费维护通知', '好商品.人人赞', '更多', '身边', '贴吧', '购物', '我的']\ncom.lianyun.wenwan\n/mnt/H_DRIVE/FlowIntent/Location/1/1-4/com.lianyun.wenwan\n生活实用 盛唐文玩\n['Davis', '输入商家/商品', '分类专区', '玉石', '翡翠', '珊瑚', '琥珀蜜蜡', '绿松石', '南红', '沉香', '黄花梨', '小叶紫檀', '崖柏', '商家专区', '首页', '分类搜索', '积分商城', '故事', '个人中心']\ncom.yahoo.mobile.client.android.weather\n/mnt/H_DRIVE/FlowIntent/Location/1/1-4/com.yahoo.mobile.client.android.weather\n生活实用 天气\n['Daily notifications', 'Rain or shine, get the forecast every morning and evening', '6:00', 'PM', 'Mon, 18 August', 'Yahoo Weather', '6:00 PM', '71°', 'San Francisco', 'Tomorrow', '78°', '68°', 'Enable notifications', 'No, thanks']\n"
     ]
    },
    {
     "name": "stdout",
     "output_type": "stream",
     "text": [
      "['Daily notifications', 'Rain or shine, get the forecast every morning and evening', '6:00', 'PM', 'Mon, 18 August', 'Yahoo Weather', '6:00 PM', '71°', 'San Francisco', 'Tomorrow', '78°', '68°', 'Enable notifications', 'No, thanks']\ncom.tentinet.frog\n/mnt/H_DRIVE/FlowIntent/Location/1/1-4/com.tentinet.frog\n生活实用 绿青蛙\n['定位地址', '完成', '当前定位城市：\\xa0null', '深圳', '赣州', '石家庄', '上饶', '宜春', '九江', '毕节', '南京', '安康', '昭通']\ncom.tg.calendarnoteswidget_free\n/mnt/H_DRIVE/FlowIntent/Location/1/1-4/com.tg.calendarnoteswidget_free\n生活实用 日历记事\n['06', 'July 2015', 'Monday', '+', 'clear sky', '21/35°C', '2.07 m/s', 'Loading weather data...', 'July 6, 2015']\ncom.qianrui.android.mdshc\n/mnt/H_DRIVE/FlowIntent/Location/1/1-4/com.qianrui.android.mdshc\n生活实用 美到生活\n['未知位置', '暂无数据，下拉重新加载', '商家', '订单', '我的']\ncom.edaixi.activity\n/mnt/H_DRIVE/FlowIntent/Location/1/1-4/com.edaixi.activity\n"
     ]
    },
    {
     "name": "stdout",
     "output_type": "stream",
     "text": [
      "生活实用 e袋洗\n['北京', '服务范围']\n[]\ncom.facelike.c\n/mnt/H_DRIVE/FlowIntent/Location/1/1-4/com.facelike.c\n生活实用 7点钟\n['北京', '首页', 'SPA技师', '中医推拿', '按摩技师', '足浴技师', '按摩 | 足间道东关店', '足疗 | 六悦足道', '首页', '消息', '预约列表', '我的']\n['北京', '首页', 'SPA技师', '中医推拿', '按摩技师', '足浴技师', '按摩 | 足间道东关店', '足疗 | 六悦足道', '首页', '消息', '预约列表', '我的']\ncom.junhan.hanetong\n/mnt/H_DRIVE/FlowIntent/Location/1/1-4/com.junhan.hanetong\n"
     ]
    },
    {
     "name": "stdout",
     "output_type": "stream",
     "text": [
      "生活实用 瀚E通\n['附近', '周边', '英郡雷丁', '优', '25℃', '阴', '我的邻居', '97人', '更多']\ncom.kuaihuoyun.driver\n/mnt/H_DRIVE/FlowIntent/Location/1/1-4/com.kuaihuoyun.driver\n生活实用 快货运司机\n['立即升级', '新版本2.6.8现在可以升级了！\\n\\n更新内容：\\n***请务必卸载后重新安装***\\n1、新增银行卡绑定； \\n2、回单流程优化；\\n3、首页公告通知优化； \\n4、消息保留期限优化；', '取 消', '升级']\n['Davis']\n['新版本2.6.6可更新啦', '1.软件更新升级方式优化；\\n2.司机信息认证短信提醒；', '取 消', '升级']\ncom.chinat2t16928wc.templte\n/mnt/H_DRIVE/FlowIntent/Location/1/1-4/com.chinat2t16928wc.templte\n生活实用 醉优生活\n['首页', '醉优生活', '醉优商城', '醉优动态', '便民生活', '二维码', '短信留言', '一键拨打', '违章查询', '快递查询', '附近', '网址导航', '版权信息', '首页', '分类', '购物车', '个人中心', '搜索']\ncom.kuaipao.xiaoxiong\n/mnt/H_DRIVE/FlowIntent/Location/1/1-4/com.kuaipao.xiaoxiong\n \n['Push Notifications', '7NEWS Denver can occasionally send you push notification for breaking news alerts. Would you like to receive these notifications? You can also change your selection later from the Settings page in the app.', 'No', 'Yes']\ncom.diandonghulian.app.custom\n/mnt/H_DRIVE/FlowIntent/Location/1/1-4/com.diandonghulian.app.custom\n"
     ]
    },
    {
     "name": "stdout",
     "output_type": "stream",
     "text": [
      "生活实用 乐品生活\n['北京市', ' 请输入商户名或关键字 ', '美食', '酒店', '丽人', '娱乐', '猜你喜欢', '韩帅', '本身就是康复科分开', '8.14KM', '北京人民大学', '0.01', '0.01', '已售:28份', '主页', '订单', '活动', '个人']\n[' 请输入商户名或关键字 ', '美食', '酒店', '丽人', '娱乐', '猜你喜欢', '主页', '订单', '活动', '个人']\ncom.android.daoway\n/mnt/H_DRIVE/FlowIntent/Location/1/1-4/com.android.daoway\n生活实用 到位服务汇\n['New version found', 'Latest version: 1.3\\nTarget size: 5.56M\\n\\nUpdate Content\\n1.3版本新特性\\r\\n增加了订购详情展示，\\r\\n每项服务可以订购多个，\\r\\n修改了部分ui\\n', 'Ingore this', 'Update now', 'Not now']\n['上门服务汇', '北京', '全部', '家政', '按摩', '美容', '外卖', '洗衣', '推荐', '附近', '开店', '消息', '我']\n[]\n[]\n[]\ncom.asdyf.asdyf\n/mnt/H_DRIVE/FlowIntent/Location/1/1-4/com.asdyf.asdyf\n生活实用 昂生大药房\n['ASCN', '搜索', '社区', '附近', '商城', '推荐商品', '进入商城', '太行山 橘红丸 6克*10丸 清肺化痰、痰热咳嗽', '德众 玉屏风颗粒 5g*12袋 益气 固表', '康慈真空拔罐器12罐 家用加厚拔火罐抽气拔气罐包邮 全新升级款']\ncom.qiangdanla\n/mnt/H_DRIVE/FlowIntent/Location/1\n/mnt/H_DRIVE/FlowIntent/Location/1\n/mnt/H_DRIVE/FlowIntent/Location/1\n/mnt/H_DRIVE/FlowIntent/Location/1\n/mnt/H_DRIVE/FlowIntent/Location/1\n/mnt/H_DRIVE/FlowIntent/Location/1\n/mnt/H_DRIVE/FlowIntent/Location/1\n/mnt/H_DRIVE/FlowIntent/Location/1\n/mnt/H_DRIVE/FlowIntent/Location/1\n/mnt/H_DRIVE/FlowIntent/Location/1\n/mnt/H_DRIVE/FlowIntent/Location/1\n/mnt/H_DRIVE/FlowIntent/Location/1\n/mnt/H_DRIVE/FlowIntent/Location/1\n/mnt/H_DRIVE/FlowIntent/Location/1\n/mnt/H_DRIVE/FlowIntent/Location/1\n/mnt/H_DRIVE/FlowIntent/Location/1\n/mnt/H_DRIVE/FlowIntent/Location/1\n/mnt/H_DRIVE/FlowIntent/Location/1\n/mnt/H_DRIVE/FlowIntent/Location/1\n/mnt/H_DRIVE/FlowIntent/Location/1\n/mnt/H_DRIVE/FlowIntent/Location/1\n/mnt/H_DRIVE/FlowIntent/Location/1\n/mnt/H_DRIVE/FlowIntent/Location/1\n/mnt/H_DRIVE/FlowIntent/Location/1\n/mnt/H_DRIVE/FlowIntent/Location/1\n/mnt/H_DRIVE/FlowIntent/Location/1\n/mnt/H_DRIVE/FlowIntent/Location/1\n/mnt/H_DRIVE/FlowIntent/Location/1\n/mnt/H_DRIVE/FlowIntent/Location/1\n/mnt/H_DRIVE/FlowIntent/Location/1\n/mnt/H_DRIVE/FlowIntent/Location/1\n/mnt/H_DRIVE/FlowIntent/Location/1\ncom.fdcz.zsct\n/mnt/H_DRIVE/FlowIntent/Location/1/1-4/com.fdcz.zsct/com.fdcz.zsct\n"
     ]
    },
    {
     "name": "stdout",
     "output_type": "stream",
     "text": [
      "生活实用 掌上餐厅\n['芜湖', '掌上餐厅', '折扣', '类型', '服务', '乡里乡亲', '餐厅类别：中餐厅', '0km', '桃园食府', '餐厅类别：中餐厅', '0km', '黄山园土菜馆', '餐厅类别：中餐厅', '0km', '蓝格酒店', '餐厅类别：中餐厅', '0km', '演示平台', '餐厅类别：首单团购', '0km', '炊鱼创意蒸汽石锅鱼', '店铺', '订单', '我的']\n/mnt/H_DRIVE/FlowIntent/Location/1\n/mnt/H_DRIVE/FlowIntent/Location/1\n/mnt/H_DRIVE/FlowIntent/Location/1\n/mnt/H_DRIVE/FlowIntent/Location/1\n/mnt/H_DRIVE/FlowIntent/Location/1\n/mnt/H_DRIVE/FlowIntent/Location/1\n/mnt/H_DRIVE/FlowIntent/Location/1\n/mnt/H_DRIVE/FlowIntent/Location/1\n/mnt/H_DRIVE/FlowIntent/Location/1\n/mnt/H_DRIVE/FlowIntent/Location/1\ncom.sdu.didi.psnger\n/mnt/H_DRIVE/FlowIntent/Location/1/1-4/com.sdu.didi.psnger/com.sdu.didi.psnger\n生活实用 滴滴打车\n['Push Notifications', '7NEWS Denver can occasionally send you push notification for breaking news alerts. Would you like to receive these notifications? You can also change your selection later from the Settings page in the app.', 'No', 'Yes']\n/mnt/H_DRIVE/FlowIntent/Location/1\n/mnt/H_DRIVE/FlowIntent/Location/1\n/mnt/H_DRIVE/FlowIntent/Location/1\n/mnt/H_DRIVE/FlowIntent/Location/1\n/mnt/H_DRIVE/FlowIntent/Location/1\n/mnt/H_DRIVE/FlowIntent/Location/1\n/mnt/H_DRIVE/FlowIntent/Location/1\n/mnt/H_DRIVE/FlowIntent/Location/1\n/mnt/H_DRIVE/FlowIntent/Location/1\n/mnt/H_DRIVE/FlowIntent/Location/1\n/mnt/H_DRIVE/FlowIntent/Location/1\n/mnt/H_DRIVE/FlowIntent/Location/1\n/mnt/H_DRIVE/FlowIntent/Location/1\n/mnt/H_DRIVE/FlowIntent/Location/1"
     ]
    },
    {
     "name": "stdout",
     "output_type": "stream",
     "text": [
      "\n/mnt/H_DRIVE/FlowIntent/Location/1\n/mnt/H_DRIVE/FlowIntent/Location/1\n/mnt/H_DRIVE/FlowIntent/Location/1\n/mnt/H_DRIVE/FlowIntent/Location/1\n/mnt/H_DRIVE/FlowIntent/Location/1\n/mnt/H_DRIVE/FlowIntent/Location/1\n/mnt/H_DRIVE/FlowIntent/Location/1\n/mnt/H_DRIVE/FlowIntent/Location/1\n/mnt/H_DRIVE/FlowIntent/Location/1\n/mnt/H_DRIVE/FlowIntent/Location/1\n/mnt/H_DRIVE/FlowIntent/Location/1\ncom.zline.consumer\n/mnt/H_DRIVE/FlowIntent/Location/1/1-4/com.zline.consumer/com.zline.consumer\n生活实用 外卖@零号线\n['请设置收货地址', '中式餐厅', '馄饨面食', '便当套餐', '西式餐点', '日韩料理', '下午茶', '休闲小吃', '全部', '签到抽奖', '积分商城', '任务奖励', '新店尝鲜', '好店新到，等你鉴定', '别人碗里的菜', '周围吃货点名的爆款', '优惠专区', '有便宜不占是傻蛋', '首页', '订单', '个人中心']\n/mnt/H_DRIVE/FlowIntent/Location/1\n/mnt/H_DRIVE/FlowIntent/Location/1\n/mnt/H_DRIVE/FlowIntent/Location/1\n/mnt/H_DRIVE/FlowIntent/Location/1\n/mnt/H_DRIVE/FlowIntent/Location/1\n/mnt/H_DRIVE/FlowIntent/Location/1\n/mnt/H_DRIVE/FlowIntent/Location/1\ncom.warren.contact.analysis.activity\n/mnt/H_DRIVE/FlowIntent/Location/1/1-4/com.warren.contact.analysis.activity/com.warren.contact.analysis.activity\n生活实用 寻朋吧\n['Push Notifications', '7NEWS Denver can occasionally send you push notification for breaking news alerts. Would you like to receive these notifications? You can also change your selection later from the Settings page in the app.', 'No', 'Yes']\n/mnt/H_DRIVE/FlowIntent/Location/1\n/mnt/H_DRIVE/FlowIntent/Location/1\n/mnt/H_DRIVE/FlowIntent/Location/1\n/mnt/H_DRIVE/FlowIntent/Location/1\n/mnt/H_DRIVE/FlowIntent/Location/1\n/mnt/H_DRIVE/FlowIntent/Location/1\n/mnt/H_DRIVE/FlowIntent/Location/1\n/mnt/H_DRIVE/FlowIntent/Location/1\n/mnt/H_DRIVE/FlowIntent/Location/1\n/mnt/H_DRIVE/FlowIntent/Location/1\n/mnt/H_DRIVE/FlowIntent/Location/1\n/mnt/H_DRIVE/FlowIntent/Location/1\n/mnt/H_DRIVE/FlowIntent/Location/1\n/mnt/H_DRIVE/FlowIntent/Location/1\n/mnt/H_DRIVE/FlowIntent/Location/1\n/mnt/H_DRIVE/FlowIntent/Location/1\n/mnt/H_DRIVE/FlowIntent/Location/1\n/mnt/H_DRIVE/FlowIntent/Location/1\n/mnt/H_DRIVE/FlowIntent/Location/1\n/mnt/H_DRIVE/FlowIntent/Location/1\n/mnt/H_DRIVE/FlowIntent/Location/1\n/mnt/H_DRIVE/FlowIntent/Location/1\n/mnt/H_DRIVE/FlowIntent/Location/1\n/mnt/H_DRIVE/FlowIntent/Location/1\n/mnt/H_DRIVE/FlowIntent/Location/1\n/mnt/H_DRIVE/FlowIntent/Location/1\n/mnt/H_DRIVE/FlowIntent/Location/1\n/mnt/H_DRIVE/FlowIntent/Location/1\n/mnt/H_DRIVE/FlowIntent/Location/1\n/mnt/H_DRIVE/FlowIntent/Location/1\n/mnt/H_DRIVE/FlowIntent/Location/1\n/mnt/H_DRIVE/FlowIntent/Location/1\ncom.wuba\n/mnt/H_DRIVE/FlowIntent/Location/1/1-4/com.wuba/com.wuba\n"
     ]
    },
    {
     "name": "stdout",
     "output_type": "stream",
     "text": [
      "生活实用 58同城\n['提示', '定位为美国市,是否切换?', '切换', '取 消']\n['提示', '定位为美国市,是否切换?', '切换', '取 消']\n/mnt/H_DRIVE/FlowIntent/Location/1\n/mnt/H_DRIVE/FlowIntent/Location/1\n/mnt/H_DRIVE/FlowIntent/Location/1\n/mnt/H_DRIVE/FlowIntent/Location/1\n/mnt/H_DRIVE/FlowIntent/Location/1\nnet.yaopao.activity\n/mnt/H_DRIVE/FlowIntent/Location/1/1-4/net.yaopao.activity/net.yaopao.activity\n生活实用 要跑\n['要跑', '同步', '未登录', '0.00', 'km', '0', '运动次数', '00\\'00\"', '平均配速', '0', '积分', '天气实况', ' ', '空气质量', ' ()', 'GPS信号', '非常好', '运动目标 & 类型', '自由 跑步', '首页', '运动记录', '跑团', '设置']\n/mnt/H_DRIVE/FlowIntent/Location/1\n/mnt/H_DRIVE/FlowIntent/Location/1\n/mnt/H_DRIVE/FlowIntent/Location/1\n/mnt/H_DRIVE/FlowIntent/Location/1\n/mnt/H_DRIVE/FlowIntent/Location/1\ncom.didapinche.booking\n/mnt/H_DRIVE/FlowIntent/Location/1/1-4/com.didapinche.booking/com.didapinche.booking\n生活实用 嘀嗒拼车\n['发现新版本', '版本:2.6.1', '大小:11.3M', '1. 评价功能大升级，可以回复和申诉！有评价的拼车才好玩； \\r\\n 2. 乘客下单时间缩短到20分钟，拼车越来越快； \\r\\n 3. 附近地图模式优化，车主临时出行更方便； \\r\\n 4. 车主个性推送设定，静音推送、周末限行日随心设置；\\r\\n 5. 订单奖励清晰可见，抢单更有动力； \\r\\n 6. 30多个页面和功能优化，大家慢慢体验吧; \\r\\n最纯粹的拼车，最有趣的体验，清凉升级！', '立即更新']\n/mnt/H_DRIVE/FlowIntent/Location/1\n/mnt/H_DRIVE/FlowIntent/Location/1\n/mnt/H_DRIVE/FlowIntent/Location/1\n/mnt/H_DRIVE/FlowIntent/Location/1\n/mnt/H_DRIVE/FlowIntent/Location/1\n/mnt/H_DRIVE/FlowIntent/Location/1\n/mnt/H_DRIVE/FlowIntent/Location/1\n/mnt/H_DRIVE/FlowIntent/Location/1\n/mnt/H_DRIVE/FlowIntent/Location/1\n/mnt/H_DRIVE/FlowIntent/Location/1\n/mnt/H_DRIVE/FlowIntent/Location/1\n/mnt/H_DRIVE/FlowIntent/Location/1\n/mnt/H_DRIVE/FlowIntent/Location/1\n/mnt/H_DRIVE/FlowIntent/Location/1\n/mnt/H_DRIVE/FlowIntent/Location/1\n/mnt/H_DRIVE/FlowIntent/Location/1\n/mnt/H_DRIVE/FlowIntent/Location/1\n/mnt/H_DRIVE/FlowIntent/Location/1\ncom.huiyangche.app\n/mnt/H_DRIVE/FlowIntent/Location/1/1-4/com.huiyangche.app/com.huiyangche.app\n"
     ]
    },
    {
     "name": "stdout",
     "output_type": "stream",
     "text": [
      "生活实用 会养车\n['北京', '会养车', '添加我的爱车', '我的提问', '历史提问及相关回复', '我的预约', '查看我的预约详情', '首页', '服务', '活动', '我的']\n/mnt/H_DRIVE/FlowIntent/Location/1\n/mnt/H_DRIVE/FlowIntent/Location/1\n/mnt/H_DRIVE/FlowIntent/Location/1\ncom.lianyun.wenwan\n/mnt/H_DRIVE/FlowIntent/Location/1/1-4/com.lianyun.wenwan/com.lianyun.wenwan\n生活实用 盛唐文玩\n['Davis', '输入商家/商品', '分类专区', '玉石', '翡翠', '珊瑚', '琥珀蜜蜡', '绿松石', '南红', '沉香', '黄花梨', '小叶紫檀', '崖柏', '商家专区', '首页', '分类搜索', '积分商城', '故事', '个人中心']\n/mnt/H_DRIVE/FlowIntent/Location/1\n/mnt/H_DRIVE/FlowIntent/Location/1\n/mnt/H_DRIVE/FlowIntent/Location/1\n/mnt/H_DRIVE/FlowIntent/Location/1\n/mnt/H_DRIVE/FlowIntent/Location/1\n/mnt/H_DRIVE/FlowIntent/Location/1\n/mnt/H_DRIVE/FlowIntent/Location/1\n/mnt/H_DRIVE/FlowIntent/Location/1\n/mnt/H_DRIVE/FlowIntent/Location/1\ncom.kuaihuoyun.driver\n/mnt/H_DRIVE/FlowIntent/Location/1/1-4/com.kuaihuoyun.driver/com.kuaihuoyun.driver\n生活实用 快货运司机\n['新版本2.7可更新啦', '1、流量消耗优化； \\n2、实现当前城市排名；', '取 消', '升级']\n/mnt/H_DRIVE/FlowIntent/Location/1\n/mnt/H_DRIVE/FlowIntent/Location/1\n/mnt/H_DRIVE/FlowIntent/Location/1\n/mnt/H_DRIVE/FlowIntent/Location/1\n/mnt/H_DRIVE/FlowIntent/Location/1\n/mnt/H_DRIVE/FlowIntent/Location/1\n/mnt/H_DRIVE/FlowIntent/Location/1\n/mnt/H_DRIVE/FlowIntent/Location/1\ncom.gs_bocuiclub_user.activity\n/mnt/H_DRIVE/FlowIntent/Location/1/5/com.gs_bocuiclub_user.activity\n生活实用 柏翠酒便利\n['地图', '正在下载...', 'Davis']\ncom.wowotuan.appfactory.wanzhuanlongchang\n/mnt/H_DRIVE/FlowIntent/Location/1/5/com.wowotuan.appfactory.wanzhuanlongchang\n"
     ]
    },
    {
     "name": "stdout",
     "output_type": "stream",
     "text": [
      "生活实用 玩转隆昌\n['城市选择', '搜索城市名称', '定位城市', '#', '全国', 'N', '内江']\ncom.wowotuan.appfactory.dekeshishufudian\n/mnt/H_DRIVE/FlowIntent/Location/1/5/com.wowotuan.appfactory.dekeshishufudian\n生活实用 德克士叙府店\n['城市选择', '搜索城市名称', '定位城市', '#', '全国', 'Y', '宜宾']\n['城市选择', '搜索城市名称', '定位城市', '#', '全国', 'Y', '宜宾']\ncom.entstudy.enjoystudy\n/mnt/H_DRIVE/FlowIntent/Location/1/5/com.entstudy.enjoystudy\n生活实用 疯狂老师\n['上海', '附近']\ncom.yiche.price\n/mnt/H_DRIVE/FlowIntent/Location/1/5/com.yiche.price\n"
     ]
    },
    {
     "name": "stdout",
     "output_type": "stream",
     "text": [
      "生活实用 汽车报价大全\n['Push Notifications', '7NEWS Denver can occasionally send you push notification for breaking news alerts. Would you like to receive these notifications? You can also change your selection later from the Settings page in the app.', 'No', 'Yes']\ncom.teetaa.fmclock\n/mnt/H_DRIVE/FlowIntent/Location/1/5/com.teetaa.fmclock\n生活实用 起床20分\n['Push Notifications', '7NEWS Denver can occasionally send you push notification for breaking news alerts. Would you like to receive these notifications? You can also change your selection later from the Settings page in the app.', 'No', 'Yes']\ncom.wowotuan.appfactory.qionghaihunsha\n/mnt/H_DRIVE/FlowIntent/Location/1/5/com.wowotuan.appfactory.qionghaihunsha\n生活实用 穹海婚纱\n['城市选择', '搜索城市名称', '定位城市', '#', '全国', 'X', '厦门']\n['城市选择', '搜索城市名称', '定位城市', '#', '全国', 'X', '厦门']\ncom.wowotuan.appfactory.huoyanxiabaojinyidian\n/mnt/H_DRIVE/FlowIntent/Location/1/5/com.wowotuan.appfactory.huoyanxiabaojinyidian\n生活实用 火焰虾煲\n['城市选择', '搜索城市名称', '定位城市', '#', '全国', 'Z', '郑州']\ncom.fuiou.mgr\n/mnt/H_DRIVE/FlowIntent/Location/1/5/com.fuiou.mgr\n"
     ]
    },
    {
     "name": "stdout",
     "output_type": "stream",
     "text": [
      "生活实用 富友收件宝\n['暂无小区', '手机取件', '收件设置', '限时抢购', '富余宝', '水电煤缴费', '手机充值', 'Q币充值', '彩票大厅', '生活', '首页', '周边', '财富']\ncom.fitnesskeeper.runkeeper.pro\n/mnt/H_DRIVE/FlowIntent/Location/1/5/com.fitnesskeeper.runkeeper.pro\n生活实用 运动日志\n['sport', 'fitness', 'Sign Up with Google', 'Sign Up with Facebook', 'or', 'Sign Up with Email', 'Try Us Out!', 'Log In']\ncom.wowotuan.appfactory.aimisheying\n/mnt/H_DRIVE/FlowIntent/Location/1/5/com.wowotuan.appfactory.aimisheying\n生活实用 艾米摄影\n['城市选择', '搜索城市名称', '定位城市', '#', '全国', 'C', '长沙']\ncn.bluerhino.client\n/mnt/H_DRIVE/FlowIntent/Location/1/5/cn.bluerhino.client\n生活实用 蓝犀牛\n['Push Notifications', '7NEWS Denver can occasionally send you push notification for breaking news alerts. Would you like to receive these notifications? You can also change your selection later from the Settings page in the app.', 'No', 'Yes']\ncn.op.zdf\n/mnt/H_DRIVE/FlowIntent/Location/1/5/cn.op.zdf\n"
     ]
    },
    {
     "name": "stdout",
     "output_type": "stream",
     "text": [
      "生活实用 有间房\n['选择城市', '查看列表', '酒店品牌、地址', '定位']\n['选择城市', '查看列表', '酒店品牌、地址', '定位']\ncom.wowotuan.appfactory.xinlingzhichuangshilibaojian\n/mnt/H_DRIVE/FlowIntent/Location/1/5/com.wowotuan.appfactory.xinlingzhichuangshilibaojian\n生活实用 心灵之窗视力保健\n['城市选择', '搜索城市名称', '定位城市', '#', '全国', 'N', '南宁']\n['城市选择', '搜索城市名称', '定位城市', '#', '全国', 'N', '南宁']\ncom.zhelectronic.gcbcz\n/mnt/H_DRIVE/FlowIntent/Location/1/5/com.zhelectronic.gcbcz\n生活实用 攻城兵机主版\n['Davis', '检测到新版本，立即更新吗', '更新', '退出']\ncom.chinaway.hyr.nmanager\n/mnt/H_DRIVE/FlowIntent/Location/1/5/com.chinaway.hyr.nmanager\n生活实用 特快提送\n['附近', '附近有', '...', '辆车供您选用', '发货']\ncom.mapuni.weibao\n/mnt/H_DRIVE/FlowIntent/Location/1/5/com.mapuni.weibao\n"
     ]
    },
    {
     "name": "stdout",
     "output_type": "stream",
     "text": [
      "生活实用 微保\n['搜索全国城市(中文/拼音)', '自动定位', '北京', '上海', '天津', '重庆', '哈尔滨', '长春', '沈阳', '呼和浩特', '石家庄', '太原', '西安', '济南', '乌鲁木齐', '拉萨', '西宁', '兰州', '银川', '郑州', '南京', '武汉', '杭州', '合肥', '福州', '南昌', '长沙', '贵阳', '成都', '广州', '昆明', '南宁', '海口', '香港', '添加城市']\n['搜索全国城市(中文/拼音)', '自动定位', '北京', '上海', '天津', '重庆', '哈尔滨', '长春', '沈阳', '呼和浩特', '石家庄', '太原', '西安', '济南', '乌鲁木齐', '拉萨', '西宁', '兰州', '银川', '郑州', '南京', '武汉', '杭州', '合肥', '福州', '南昌', '长沙', '贵阳', '成都', '广州', '昆明', '南宁', '海口', '香港', '添加城市']\ncom.wowotuan.appfactory.jinglingbaobeisheying\n/mnt/H_DRIVE/FlowIntent/Location/1/5/com.wowotuan.appfactory.jinglingbaobeisheying\n生活实用 精灵宝贝摄影\n['城市选择', '搜索城市名称', '定位城市', '#', '全国', 'Q', '青岛']\n['城市选择', '搜索城市名称', '定位城市', '#', '全国', 'Q', '青岛']\ncom.wowotuan.appfactory.guaiguaidaosheying\n/mnt/H_DRIVE/FlowIntent/Location/1/5/com.wowotuan.appfactory.guaiguaidaosheying\n"
     ]
    },
    {
     "name": "stdout",
     "output_type": "stream",
     "text": [
      "生活实用 乖乖岛摄影\n['城市选择', '搜索城市名称', '定位城市', '#', '全国', 'X', '新乡']\n['城市选择', '搜索城市名称', '定位城市', '#', '全国', 'X', '新乡']\ncom.sf.activity\n/mnt/H_DRIVE/FlowIntent/Location/1/5/com.sf.activity\n生活实用 顺丰速运\n['Welcome to use SF Express', 'Please set your region', 'Hong Kong', 'Macao', 'Taiwan', 'United States', 'Japan', 'South Korea', 'Malaysia', 'Singapore', 'Begin']\n['Welcome to use SF Express', 'Please set your region', 'Hong Kong', 'Macao', 'Taiwan', 'United States', 'Japan', 'South Korea', 'Malaysia', 'Singapore', 'Begin']\ncom.wowotuan.appfactory.shenghaokezizhuniupai\n/mnt/H_DRIVE/FlowIntent/Location/1/5/com.wowotuan.appfactory.shenghaokezizhuniupai\n生活实用 胜豪客自助牛排\n['城市选择', '搜索城市名称', '定位城市', '#', '全国', 'C', '重庆']\n['城市选择', '搜索城市名称', '定位城市', '#', '全国', 'C', '重庆']\ncom.philips.cl.di.dev.pa\n/mnt/H_DRIVE/FlowIntent/Location/1/5/com.philips.cl.di.dev.pa\n生活实用 智能空气\n['Welcome', 'Connect your purifier', 'Healthy air, always.', 'Did you know?', 'This app can give you Air Quality of different locations, as well as other information about air quality', 'Continue without Smart Air Purifier']\ncom.wowotuan.appfactory.muguadiannao\n/mnt/H_DRIVE/FlowIntent/Location/1/5/com.wowotuan.appfactory.muguadiannao\n"
     ]
    },
    {
     "name": "stdout",
     "output_type": "stream",
     "text": [
      "生活实用 木瓜电脑\n['城市选择', '搜索城市名称', '定位城市', '#', '全国', 'H', '合肥']\n['城市选择', '搜索城市名称', '定位城市', '#', '全国', 'H', '合肥']\ncom.wowotuan.appfactory.huaerduoduohuayifang\n/mnt/H_DRIVE/FlowIntent/Location/1/5/com.wowotuan.appfactory.huaerduoduohuayifang\n生活实用 花儿朵朵花艺坊\n['城市选择', '搜索城市名称', '定位城市', '#', '全国', 'S', '遂宁']\ncom.fangmi.fmm.personal\n/mnt/H_DRIVE/FlowIntent/Location/1/5/com.fangmi.fmm.personal\n生活实用 房米米\n['深圳', '房米米', '视频看房', '我要买房', '我要租房', '发布房源', '微聊找房', '首页', '微聊消息', '我的', '更多']\ncom.yiren.activity\n/mnt/H_DRIVE/FlowIntent/Location/1/5/com.yiren.activity\n生活实用 译人口译\n['附近', '译人口译', '问路', '美食', '景点', '租车', '酒店', '购物', '其他', '紧急呼叫', '图示说明', '中英']\ncom.wowotuan.appfactory.xiquechacanting\n/mnt/H_DRIVE/FlowIntent/Location/1/5/com.wowotuan.appfactory.xiquechacanting\n"
     ]
    },
    {
     "name": "stdout",
     "output_type": "stream",
     "text": [
      "生活实用 喜鹊茶餐厅\n['城市选择', '搜索城市名称', '定位城市', '#', '全国', 'G', '广州']\n['城市选择', '搜索城市名称', '定位城市', '#', '全国', 'G', '广州']\ncom.kaifu.apps.zxjia\n/mnt/H_DRIVE/FlowIntent/Location/1/5/com.kaifu.apps.zxjia\n生活实用 装修家\n['装修家', '周边', '附近', '找师傅', '找建材', '找包工头', '找装修公司', '找案例', '找设计师', '自助招标', '委托招标', '优秀案例', '金品推荐', '首页', '招投标', '消息', '我的']\ncom.yimi.activity\n/mnt/H_DRIVE/FlowIntent/Location/1/5/com.yimi.activity\n生活实用 一米兼职\n"
     ]
    },
    {
     "name": "stdout",
     "output_type": "stream",
     "text": [
      "['合肥市', 'Davis', '下次再说', '下载']\ncom.wowotuan.appfactory.jiashangkongzhonghuayuan\n/mnt/H_DRIVE/FlowIntent/Location/1/5/com.wowotuan.appfactory.jiashangkongzhonghuayuan\n生活实用 嘉上空中花园\n['城市选择', '搜索城市名称', '定位城市', '#', '全国', 'L', '乐山']\ncom.wowotuan.appfactory.lingduzaoxing\n/mnt/H_DRIVE/FlowIntent/Location/1/5/com.wowotuan.appfactory.lingduzaoxing\n生活实用 零度造型\n['城市选择', '搜索城市名称', '定位城市', '#', '全国', 'H', '衡阳']\n['城市选择', '搜索城市名称', '定位城市', '#', '全国', 'H', '衡阳']\ncom.wowotuan.appfactory.huitianchengjiuye\n/mnt/H_DRIVE/FlowIntent/Location/1/5/com.wowotuan.appfactory.huitianchengjiuye\n生活实用 汇天成酒业\n['城市选择', '搜索城市名称', '定位城市', '#', '全国', 'W', '乌鲁木齐']\ncom.wowotuan.appfactory.jianyujiawudao\n"
     ]
    },
    {
     "name": "stdout",
     "output_type": "stream",
     "text": [
      "/mnt/H_DRIVE/FlowIntent/Location/1/5/com.wowotuan.appfactory.jianyujiawudao\n生活实用 简瑜伽舞蹈\n['城市选择', '搜索城市名称', '定位城市', '#', '全国', 'S', '三亚']\ncom.wowotuan.appfactory.hanlixuan\n/mnt/H_DRIVE/FlowIntent/Location/1/5/com.wowotuan.appfactory.hanlixuan\n生活实用 汉丽轩\n['城市选择', '搜索城市名称', '定位城市', '#', '全国', 'X', '咸阳']\ncom.mrjob.app\n/mnt/H_DRIVE/FlowIntent/Location/1/5/com.mrjob.app\n生活实用 职点求职\n['附近']\n[]"
     ]
    },
    {
     "name": "stdout",
     "output_type": "stream",
     "text": [
      "\ncom.touristeyebn\n/mnt/H_DRIVE/FlowIntent/Location/1/5/com.touristeyebn\n生活实用 世界旅游导向\n['Are you going to travel?', 'Plan your trip in seconds to download all the places and get offline maps!', 'Plan your Trip', 'Not now']\ncom.cvicse.zhnt\n/mnt/H_DRIVE/FlowIntent/Location/1/5/com.cvicse.zhnt\n \n['实时公交', 'Davis']\ncom.sportqsns\n/mnt/H_DRIVE/FlowIntent/Location/1/5/com.sportqsns\n生活实用 去动\n['Davis', 'Davis', 'sport']\ncom.gurulink.sportguru\n/mnt/H_DRIVE/FlowIntent/Location/1/5/com.gurulink.sportguru\n生活实用 咕噜运动\n"
     ]
    },
    {
     "name": "stdout",
     "output_type": "stream",
     "text": [
      "['选择城市', '请输入关键字', 'GPS定位城市', '定位失败，请手动选择城市', 'A', '阿坝藏族羌族自治州', '阿克苏地区', '阿拉善盟', '阿勒泰地区', '阿里地区', '安康地区', '安庆市']\ncom.zhankoo.zhankooapp\n/mnt/H_DRIVE/FlowIntent/Location/1/5/com.zhankoo.zhankooapp\n生活实用 展酷\n['Push Notifications', '7NEWS Denver can occasionally send you push notification for breaking news alerts. Would you like to receive these notifications? You can also change your selection later from the Settings page in the app.', 'No', 'Yes']\ncom.soarsky.ucarknow\n/mnt/H_DRIVE/FlowIntent/Location/1/5/com.soarsky.ucarknow\n生活实用 用车无忧\n['Davis']\ncom.wowotuan.appfactory.chongqinglaguoyinhuoguo\n/mnt/H_DRIVE/FlowIntent/Location/1/5/com.wowotuan.appfactory.chongqinglaguoyinhuoguo\n"
     ]
    },
    {
     "name": "stdout",
     "output_type": "stream",
     "text": [
      "生活实用 重庆辣过瘾火锅\n['城市选择', '搜索城市名称', '定位城市', '#', '全国', 'Z', '郑州']\n['城市选择', '搜索城市名称', '定位城市', '#', '全国', 'Z', '郑州']\ncom.fishsaying.android\n/mnt/H_DRIVE/FlowIntent/Location/1/5/com.fishsaying.android\n生活实用 鱼说\n['鱼说']\n['鱼说']\n['鱼说']\ncom.kaidongyuan.app\n/mnt/H_DRIVE/FlowIntent/Location/1/5/com.kaidongyuan.app\n生活实用 配货易\n['信息大厅', '搜索', '车源', '货源', '专线', '发布人:', '米满菊', '2015/7/13 11:03', '东莞市', '武汉市', '说明：', '4吨纸箱,需6.8m的车', '发布人:', '张灿', '2015/7/13 11:03', '珠海市', '湛江市', '说明：', '35吨设备,需17.5m的车', '发布人:', '米满菊', '2015/7/13 11:03', '东莞市', '武汉市', '说明：', '4吨纸箱,需6.8m的车', '发布人:', '李志勇', '2015/7/13 11:03', '汕头市', '泉州市', '信息大厅', '货物轨迹', '工具', '我的']\n['信息大厅', '搜索', '车源', '货源', '专线', '发布人:', '米满菊', '2015/7/13 11:03', '东莞市', '武汉市', '说明：', '4吨纸箱,需6.8m的车', '发布人:', '张灿', '2015/7/13 11:03', '珠海市', '湛江市', '说明：', '35吨设备,需17.5m的车', '发布人:', '米满菊', '2015/7/13 11:03', '东莞市', '武汉市', '说明：', '4吨纸箱,需6.8m的车', '发布人:', '李志勇', '2015/7/13 11:03', '汕头市', '泉州市', '信息大厅', '货物轨迹', '工具', '我的']\ncom.weather.Weather\n/mnt/H_DRIVE/FlowIntent/Location/1/5/com.weather.Weather\n"
     ]
    },
    {
     "name": "stdout",
     "output_type": "stream",
     "text": [
      "生活实用 天气频道\n['63', 'Clear', '°', '-- / 57°', 'Davis, CA', '1']\ncom.wending.zhimaiquan\n/mnt/H_DRIVE/FlowIntent/Location/1/5/com.wending.zhimaiquan\n生活实用 职脉圈\n['对不起，App无法启动', 'Davis', '立即更新']\ncom.wowotuan.appfactory.shunxinhuayi\n/mnt/H_DRIVE/FlowIntent/Location/1/5/com.wowotuan.appfactory.shunxinhuayi\n生活实用 顺心花艺\n['城市选择', '搜索城市名称', '定位城市', '#', '全国', 'X', '邢台']\n['城市选择', '搜索城市名称', '定位城市', '#', '全国', 'X', '邢台']\ncom.sportsexp.gqt\n/mnt/H_DRIVE/FlowIntent/Location/1/5/com.sportsexp.gqt\n生活实用 高球通\n['运动', '显示最新版本具体信息?', '忽略', '显示']\ncom.wowotuan.appfactory.lingsanqibaronghecantingqy\n/mnt/H_DRIVE/FlowIntent/Location/1/5/com.wowotuan.appfactory.lingsanqibaronghecantingqy\n"
     ]
    },
    {
     "name": "stdout",
     "output_type": "stream",
     "text": [
      "生活实用 0378融合餐厅\n['城市选择', '搜索城市名称', '定位城市', '#', '全国', 'K', '开封']\ncom.wowotuan.appfactory.aiduoliqichemeirong\n/mnt/H_DRIVE/FlowIntent/Location/1/5/com.wowotuan.appfactory.aiduoliqichemeirong\n生活实用 艾多丽汽车美容\n['城市选择', '搜索城市名称', '定位城市', '#', '全国', 'X', '邢台']\n['城市选择', '搜索城市名称', '定位城市', '#', '全国', 'X', '邢台']\ncom.example.pmyihangcj\n/mnt/H_DRIVE/FlowIntent/Location/1/5/com.example.pmyihangcj\n"
     ]
    },
    {
     "name": "stdout",
     "output_type": "stream",
     "text": [
      "生活实用 行车秘书\n['走一走', '行车秘书', '上网导航']\n['走一走', '行车秘书', '上网导航']\ncom.fangzhur.app\n/mnt/H_DRIVE/FlowIntent/Location/1/5/com.fangzhur.app\n生活实用 房主儿租房买房\n['城市', 'Davis', '北京', '租房', '签 约 代 办']\ncom.tqkj.shenzhi\n/mnt/H_DRIVE/FlowIntent/Location/1/5/com.tqkj.shenzhi\n生活实用 神指手电筒\n['65.0M', \"北纬 38°32'17''\", \"东经-121°45'10''\", '屏幕灯', '闪光灯', '屏幕闪光灯', '报警', '护眼灯', '万能', '隐私锁']\n"
     ]
    },
    {
     "name": "stdout",
     "output_type": "stream",
     "text": [
      "['65.0M', \"北纬 38°32'27''\", \"东经-121°44'45''\", '屏幕灯', '闪光灯', '屏幕闪光灯', '报警', '护眼灯', '万能', '隐私锁']\ncom.imhuihui\n/mnt/H_DRIVE/FlowIntent/Location/1/5/com.imhuihui\n生活实用 会会\n['发现新版本 V1.7.2', '＊附近的人－新功能发布！\\r\\n根据你的兴趣，推荐身边的职场人，附近约约更简单！\\r\\n＊新开城市\\r\\n天津、南京、重庆，这三个城市的朋友让你们久等了。\\r\\n＊临近城市的邀约\\r\\n可以查看附近城市的活动，扩大你的社交范围。\\r\\n＊改进了登记注册流程\\r\\n我们会坚持做高质量社区，网罗最优秀的行业精英。', '立即更新']\ncom.radius_circle\n/mnt/H_DRIVE/FlowIntent/Location/1/5/com.radius_circle\n生活实用 半径圈\n['Davis', '租房', '免中介', '我要租房', '租房', '服务', '订单', '我的']\ncom.wowotuan.appfactory.wangpintaisuniupai\n/mnt/H_DRIVE/FlowIntent/Location/1/5/com.wowotuan.appfactory.wangpintaisuniupai\n生活实用 王品台塑牛排\n['城市选择', '搜索城市名称', '定位城市', '#', '全国', 'S', '上海']\ncom.baidu.hao123\n/mnt/H_DRIVE/FlowIntent/Location/1/5/com.baidu.hao123\n"
     ]
    },
    {
     "name": "stdout",
     "output_type": "stream",
     "text": [
      "生活实用 hao123\n['网页版', 'Davis', '百度', '新浪', '腾讯', '搜狐', '网易', '凤凰', '淘宝', '爱奇艺', '下软件', '58同城', '赶集', '佳缘', '彩票', '携程', '天猫', '京东', '唯品会', '体育', '添加', '27°C', '朝鲜新娘聚居吉林', '首页', '新闻', '小说', '影视', '游戏']\ncom.hzl.mrhaosi\n/mnt/H_DRIVE/FlowIntent/Location/1/5/com.hzl.mrhaosi\n生活实用 豪斯先生\n['Push Notifications', '7NEWS Denver can occasionally send you push notification for breaking news alerts. Would you like to receive these notifications? You can also change your selection later from the Settings page in the app.', 'No', 'Yes']\ncom.zihua.android.mytrackbd\n/mnt/H_DRIVE/FlowIntent/Location/1/5/com.zihua.android.mytrackbd\n生活实用 路线管家\n[' 500公里 ', ' 500公里 ']\ncom.qianrui.android.mdshc\n/mnt/H_DRIVE/FlowIntent/Location/1/5/com.qianrui.android.mdshc\n生活实用 美到生活\n['选择城市', 'GPS定位城市', '未知', '已开通服务城市', '北京', '成都', '武汉', '燕郊', '重庆']\ncom.wowotuan.appfactory.kissjiuba\n/mnt/H_DRIVE/FlowIntent/Location/1/5/com.wowotuan.appfactory.kissjiuba\n"
     ]
    },
    {
     "name": "stdout",
     "output_type": "stream",
     "text": [
      "生活实用 kiss酒吧\n['城市选择', '搜索城市名称', '定位城市', '#', '全国', 'D', '大庆']\ncom.wowotuan.appfactory.linxiyinxiang\n/mnt/H_DRIVE/FlowIntent/Location/1/5/com.wowotuan.appfactory.linxiyinxiang\n生活实用 琳熙印象\n['城市选择', '搜索城市名称', '定位城市', '#', '全国', 'H', '杭州']\n['城市选择', '搜索城市名称', '定位城市', '#', '全国', 'H', '杭州']\ncom.baosight.chargingpint\n/mnt/H_DRIVE/FlowIntent/Location/1/5/com.baosight.chargingpint\n"
     ]
    },
    {
     "name": "stdout",
     "output_type": "stream",
     "text": [
      "生活实用 车易充\n['距离最近', '充电方式', '更多筛选', ' 1公里 ', ' 1公里 ']\n['距离最近', '充电方式', '更多筛选', ' 2公里 ', ' 2公里 ']\ncom.etaoshi.activity\n/mnt/H_DRIVE/FlowIntent/Location/1/5/com.etaoshi.activity\n生活实用 易淘食\n['附近的餐厅', '定位失败', '全部菜系', '默认排序', '全部福利', '试试手动定位', '重新加载', '外卖', '订单', '我的']\ncom.wowotuan.appfactory.beiermeiyingtongshishangguan\n/mnt/H_DRIVE/FlowIntent/Location/1/5/com.wowotuan.appfactory.beiermeiyingtongshishangguan\n生活实用 贝儿美婴童时尚馆\n['城市选择', '搜索城市名称', '定位城市', '#', '全国', 'H', '衡水']\n['城市选择', '搜索城市名称', '定位城市', '#', '全国', 'H', '衡水']\ncn.etouch.ecalendar.longshi\n/mnt/H_DRIVE/FlowIntent/Location/1/5/cn.etouch.ecalendar.longshi\n"
     ]
    },
    {
     "name": "stdout",
     "output_type": "stream",
     "text": [
      "生活实用 中华万年历(经典版)\n['全新的天气桌面插件', '展示更美观 更实用', '开启云服务', '立即使用']\ncom.wowotuan.appfactory.xingfujihunli\n/mnt/H_DRIVE/FlowIntent/Location/1/5/com.wowotuan.appfactory.xingfujihunli\n生活实用 幸福季婚礼\n['城市选择', '搜索城市名称', '定位城市', '#', '全国', 'C', '重庆']\ncom.geak.mobile\n/mnt/H_DRIVE/FlowIntent/Location/1/5/com.geak.mobile\n生活实用 果壳轻系统\n['PM', '14℃ / 31℃', 'Davis', 'Camera', 'Play Store', 'Gallery', 'Settings', '1', 'Tools', 'Phone', 'Email', 'Browser', 'Message']\ncom.android.elong.train\n/mnt/H_DRIVE/FlowIntent/Location/1/5/com.android.elong.train\n生活实用 火车票管家\n['列车查询', '出发地', '北京', '目的地', '上海', '出发日期', '7月', '13日', '(明天)', '只看动车/高铁', '只看有票列车', '查  询', '紧急提示:受台风影响 东南沿海部分车次停售', '首页', '订单', '客服', '我的']\n['列车查询', '出发地', '北京', '目的地', '上海', '出发日期', '7月', '13日', '(明天)', '只看动车/高铁', '只看有票列车', '查  询', '紧急提示:受台风影响 东南沿海部分车次停售', '首页', '订单', '客服', '我的']\n['列车查询', '出发地', '北京', '目的地', '上海', '出发日期', '7月', '14日', '(明天)', '只看动车/高铁', '只看有票列车', '查  询', '首页', '订单', '客服', '我的']\ncom.zetast.carcus\n/mnt/H_DRIVE/FlowIntent/Location/1/5/com.zetast.carcus\n"
     ]
    },
    {
     "name": "stdout",
     "output_type": "stream",
     "text": [
      "生活实用 易用车管家\n['California Davis University of California Davis Garrod Dr ', '龙锋车业集团产品服务旗舰店', '11057.69km', '查看\\n空闲时间', '最近可预约时段 明天', '车位数:8', '福莱士专业微水洗车(花样年华店) ', '11063.27km', '查看\\n空闲时间', '最近可预约时段 明天', '车位数:8', '比佛利专业汽车美容(沙埔店)', '11074.77km', '查看\\n空闲时间', '最近可预约时段 明天', '车位数:8', '查看所有商家', '违章查询', '主页', '订单', '我的']\ncom.pc.myappdemo\n/mnt/H_DRIVE/FlowIntent/Location/1/5/com.pc.myappdemo\n生活实用 点送\n['附近', '下一步>']\ncom.anjuke.android.app\n/mnt/H_DRIVE/FlowIntent/Location/1/5/com.anjuke.android.app\n生活实用 安居客\n['切换城市', '切换城市', 'GPS定位城市', '定位失败，请检查网络', '华北东北', '北京', '天津', '大连', '石家庄', '太原', '沈阳', '哈尔滨', '长春', '保定']\ncom.eunke.eunkecity4driver\n/mnt/H_DRIVE/FlowIntent/Location/1/5/com.eunke.eunkecity4driver\n生活实用 骡迹同城 司机版\n"
     ]
    },
    {
     "name": "stdout",
     "output_type": "stream",
     "text": [
      "['北京', '开始拉活', '待确认', '执行中', '首页', '货源', '订单', '我']\ncom.wowotuan.appfactory.shangweisheying\n/mnt/H_DRIVE/FlowIntent/Location/1/5/com.wowotuan.appfactory.shangweisheying\n生活实用 尚薇摄影\n['城市选择', '搜索城市名称', '定位城市', '#', '全国', 'Q', '青岛']\ncom.haitunjianzhi.haitun\n/mnt/H_DRIVE/FlowIntent/Location/1/5/com.haitunjianzhi.haitun\n生活实用 海豚兼职\n['附近', '海豚兼职', '账户余额：0元', '累计收入：0元', '本月收入：0元', '181****7161更新了个人简历！', '59天前', '178****9480更新了个人简历！', '59天前', '157****1636更新了个人简历！', '62天前', '133****2027更新了个人简历！', '62天前', 'Hhhhhfghhjj发布了一个新任务']\n['附近', '海豚兼职', '账户余额：0元', '累计收入：0元', '本月收入：0元', '181****7161更新了个人简历！', '58天前', '178****9480更新了个人简历！', '58天前', '157****1636更新了个人简历！', '61天前', '133****2027更新了个人简历！', '61天前', 'Hhhhhfghhjj发布了一个新任务']\ncom.wowotuan.appfactory.guosejiaren\n/mnt/H_DRIVE/FlowIntent/Location/1/5/com.wowotuan.appfactory.guosejiaren\n生活实用 国色佳人\n['城市选择', '搜索城市名称', '定位城市', '#', '全国', 'X', '厦门']\ncom.wowotuan.appfactory.haishanghaiguojlvxingshe\n/mnt/H_DRIVE/FlowIntent/Location/1/5/com.wowotuan.appfactory.haishanghaiguojlvxingshe\n"
     ]
    },
    {
     "name": "stdout",
     "output_type": "stream",
     "text": [
      "生活实用 海上海国际旅行社\n['城市选择', '搜索城市名称', '定位城市', '#', '全国', 'Q', '青岛']\n['城市选择', '搜索城市名称', '定位城市', '#', '全国', 'Q', '青岛']\ncom.tulip.android.qcgjl.ui\n/mnt/H_DRIVE/FlowIntent/Location/1/5/com.tulip.android.qcgjl.ui\n生活实用 全城逛街\n['Push Notifications', '7NEWS Denver can occasionally send you push notification for breaking news alerts. Would you like to receive these notifications? You can also change your selection later from the Settings page in the app.', 'No', 'Yes']\ncom.my.daguanjia\n/mnt/H_DRIVE/FlowIntent/Location/1/5/com.my.daguanjia\n生活实用 掌上大管家\n['Davis', '选择']\ncom.wisdomlift.wisdomliftcircle\n/mnt/H_DRIVE/FlowIntent/Location/1/5/com.wisdomlift.wisdomliftcircle\n"
     ]
    },
    {
     "name": "stdout",
     "output_type": "stream",
     "text": [
      "生活实用 智慧生活圈\n['附近', '正在加载中...', '请输入店铺名、商品名']\ncom.chuanloada.android\n/mnt/H_DRIVE/FlowIntent/Location/1/5/com.chuanloada.android\n生活实用 船老大\n['Push Notifications', '7NEWS Denver can occasionally send you push notification for breaking news alerts. Would you like to receive these notifications? You can also change your selection later from the Settings page in the app.', 'No', 'Yes']\nmobi.infolife.ezweather\n/mnt/H_DRIVE/FlowIntent/Location/1/5/mobi.infolife.ezweather\n生活实用 琥珀天气\n['Davis', '84°', '91° / 59°', '93°', 'Sunny', '34%', '3MPH', 'E', 'TUE', 'MOSTLY SUNNY', '89°/', '59°', 'WED', 'BRIGHT SUNSHINE', '95°/', '62°', 'THU', 'BRIGHT SUNSHINE', '96°/', '62°', 'FRI', 'BRIGHT SUNSHINE', '93°/', '60°']\n/mnt/H_DRIVE/FlowIntent/Location/1\n/mnt/H_DRIVE/FlowIntent/Location/1\n/mnt/H_DRIVE/FlowIntent/Location/1\n/mnt/H_DRIVE/FlowIntent/Location/1\n/mnt/H_DRIVE/FlowIntent/Location/1\n/mnt/H_DRIVE/FlowIntent/Location/1\n/mnt/H_DRIVE/FlowIntent/Location/1\n/mnt/H_DRIVE/FlowIntent/Location/1\n/mnt/H_DRIVE/FlowIntent/Location/1\n/mnt/H_DRIVE/FlowIntent/Location/1\n/mnt/H_DRIVE/FlowIntent/Location/1\n/mnt/H_DRIVE/FlowIntent/Location/1\n/mnt/H_DRIVE/FlowIntent/Location/1\ncn.op.zdf\n/mnt/H_DRIVE/FlowIntent/Location/1/5/cn.op.zdf/cn.op.zdf\n生活实用 有间房\n['选择城市', '查看列表', '酒店品牌、地址', '定位']"
     ]
    },
    {
     "name": "stdout",
     "output_type": "stream",
     "text": [
      "\n/mnt/H_DRIVE/FlowIntent/Location/1\n/mnt/H_DRIVE/FlowIntent/Location/1\n/mnt/H_DRIVE/FlowIntent/Location/1\n/mnt/H_DRIVE/FlowIntent/Location/1\n/mnt/H_DRIVE/FlowIntent/Location/1\n/mnt/H_DRIVE/FlowIntent/Location/1\n/mnt/H_DRIVE/FlowIntent/Location/1\n/mnt/H_DRIVE/FlowIntent/Location/1\ncom.sf.activity\n/mnt/H_DRIVE/FlowIntent/Location/1/5/com.sf.activity/com.sf.activity\n生活实用 顺丰速运\n['Welcome to use SF Express', 'Please set your region', 'Hong Kong', 'Macao', 'Taiwan', 'United States', 'Japan', 'South Korea', 'Malaysia', 'Singapore', 'Begin']\n/mnt/H_DRIVE/FlowIntent/Location/1\n/mnt/H_DRIVE/FlowIntent/Location/1\n/mnt/H_DRIVE/FlowIntent/Location/1\n/mnt/H_DRIVE/FlowIntent/Location/1\n/mnt/H_DRIVE/FlowIntent/Location/1\n/mnt/H_DRIVE/FlowIntent/Location/1\ncom.fangmi.fmm.personal\n/mnt/H_DRIVE/FlowIntent/Location/1/5/com.fangmi.fmm.personal/com.fangmi.fmm.personal\n"
     ]
    },
    {
     "name": "stdout",
     "output_type": "stream",
     "text": [
      "生活实用 房米米\n['深圳', '房米米', '开发贷悄然加码 房企多途“找钱”', '买房', '租房', '卖房', '出租', ' 猜你喜欢', '定制房源', '150', '万元', '2室2厅', '12487km', '龙岗布吉', '首页', '微聊消息', '我的', '更多']\n/mnt/H_DRIVE/FlowIntent/Location/1\n/mnt/H_DRIVE/FlowIntent/Location/1\n/mnt/H_DRIVE/FlowIntent/Location/1\n/mnt/H_DRIVE/FlowIntent/Location/1\n/mnt/H_DRIVE/FlowIntent/Location/1\n/mnt/H_DRIVE/FlowIntent/Location/1\n/mnt/H_DRIVE/FlowIntent/Location/1\n/mnt/H_DRIVE/FlowIntent/Location/1\n/mnt/H_DRIVE/FlowIntent/Location/1\n/mnt/H_DRIVE/FlowIntent/Location/1\n/mnt/H_DRIVE/FlowIntent/Location/1\n/mnt/H_DRIVE/FlowIntent/Location/1\n/mnt/H_DRIVE/FlowIntent/Location/1\n/mnt/H_DRIVE/FlowIntent/Location/1\n/mnt/H_DRIVE/FlowIntent/Location/1\n/mnt/H_DRIVE/FlowIntent/Location/1\n/mnt/H_DRIVE/FlowIntent/Location/1\n/mnt/H_DRIVE/FlowIntent/Location/1\n/mnt/H_DRIVE/FlowIntent/Location/1\n/mnt/H_DRIVE/FlowIntent/Location/1\n/mnt/H_DRIVE/FlowIntent/Location/1\n/mnt/H_DRIVE/FlowIntent/Location/1\n/mnt/H_DRIVE/FlowIntent/Location/1\n/mnt/H_DRIVE/FlowIntent/Location/1\n/mnt/H_DRIVE/FlowIntent/Location/1\n/mnt/H_DRIVE/FlowIntent/Location/1\n/mnt/H_DRIVE/FlowIntent/Location/1\n/mnt/H_DRIVE/FlowIntent/Location/1\n/mnt/H_DRIVE/FlowIntent/Location/1\n/mnt/H_DRIVE/FlowIntent/Location/1\n/mnt/H_DRIVE/FlowIntent/Location/1\n/mnt/H_DRIVE/FlowIntent/Location/1\n/mnt/H_DRIVE/FlowIntent/Location/1\n/mnt/H_DRIVE/FlowIntent/Location/1\n/mnt/H_DRIVE/FlowIntent/Location/1\n/mnt/H_DRIVE/FlowIntent/Location/1\n/mnt/H_DRIVE/FlowIntent/Location/1\n/mnt/H_DRIVE/FlowIntent/Location/1\n/mnt/H_DRIVE/FlowIntent/Location/1\n/mnt/H_DRIVE/FlowIntent/Location/1\n/mnt/H_DRIVE/FlowIntent/Location/1\n/mnt/H_DRIVE/FlowIntent/Location/1\n/mnt/H_DRIVE/FlowIntent/Location/1\n/mnt/H_DRIVE/FlowIntent/Location/1\n/mnt/H_DRIVE/FlowIntent/Location/1\n/mnt/H_DRIVE/FlowIntent/Location/1\n/mnt/H_DRIVE/FlowIntent/Location/1\n/mnt/H_DRIVE/FlowIntent/Location/1\n/mnt/H_DRIVE/FlowIntent/Location/1\n/mnt/H_DRIVE/FlowIntent/Location/1\n/mnt/H_DRIVE/FlowIntent/Location/1\n/mnt/H_DRIVE/FlowIntent/Location/1\n/mnt/H_DRIVE/FlowIntent/Location/1\n/mnt/H_DRIVE/FlowIntent/Location/1\n/mnt/H_DRIVE/FlowIntent/Location/1\n/mnt/H_DRIVE/FlowIntent/Location/1\n/mnt/H_DRIVE/FlowIntent/Location/1\n/mnt/H_DRIVE/FlowIntent/Location/1\n/mnt/H_DRIVE/FlowIntent/Location/0\npthers\ngoogle\n6\nvirusshare\n4\n"
     ]
    },
    {
     "name": "stdout",
     "output_type": "stream",
     "text": [
      "drebin\n5\nPlay_win8\n/mnt/H_DRIVE/FlowIntent/Location/0\noff.guide.maps.europe\n/mnt/H_DRIVE/FlowIntent/Location/0/pthers/off.guide.maps.europe\n旅游出行 欧洲离线地图\n[]\noff.guide.maps.japan\n/mnt/H_DRIVE/FlowIntent/Location/0/pthers/off.guide.maps.japan\n旅游出行 日本离线地图\n[]\ncom.jiasoft.highrail\n/mnt/H_DRIVE/FlowIntent/Location/0/pthers/com.jiasoft.highrail\n旅游出行 高铁达人\n['确认提示', '是否添加快捷方式?', '确 认', '取 消']\ncom.tc.tt.activity\n/mnt/H_DRIVE/FlowIntent/Location/0/pthers/com.tc.tt.activity\n"
     ]
    },
    {
     "name": "stdout",
     "output_type": "stream",
     "text": [
      "旅游出行 多趣旅行Pro\n[]\ncom.magtab.RevistaXBOXBrasil0629-22-09-11\n/mnt/H_DRIVE/FlowIntent/Location/0/pthers/com.magtab.RevistaXBOXBrasil0629-22-09-11\n['Aparelho com root, compras não serão permitidas.', 'OK']\noff.guide.online.thailand\n/mnt/H_DRIVE/FlowIntent/Location/0/pthers/off.guide.online.thailand\n旅游出行 泰国旅游指南地图 Thailand Travel Guide Map\n[]\ncom.cleanmaster.mguard_cn\n/mnt/H_DRIVE/FlowIntent/Location/0/pthers/com.cleanmaster.mguard_cn\n系统工具 猎豹清理大师\n['STORAGE', 'Today cleaned: 0.0B\\xa0 Total: 0.0B', 'JUNK FILES', 'MEMORY BOOST', 'SECURITY & PRIVACY', 'APP MANAGER']\ncom.helpsx.jiangsu.view\n/mnt/H_DRIVE/FlowIntent/Location/0/pthers/com.helpsx.jiangsu.view\n旅游出行 手机辅导站\n['手机辅导站', '输入手机号码立刻享受辅导员一对一为您解答手机使用过程中的各种问题。', '填入您的手机号', '确  定', '辅导网点查询', '手机功能介绍', '手机软件常识', '手机上网介绍', '常用手机软件', '手机常见问题', '本周十大热门软件排行']\ncom.sogou.activity.src\n/mnt/H_DRIVE/FlowIntent/Location/0/pthers/com.sogou.activity.src\n \n"
     ]
    },
    {
     "name": "stdout",
     "output_type": "stream",
     "text": [
      "['小说', '微信', '新闻', '本地', '更多', '添加便利贴', '刚刚更新', '实时搜索热点', '从后面抱住抚摸', '公交上当众换丝袜', '专抱女性大腿', '15年内无人娶妻', '穷小子变亿万总裁', '女子公交当更衣室', '置顶', '换一批', '微信头条', '【突发】山东日照液化球罐爆炸，惊天巨响火光冲天', '阅读 73330', '外砂人心里话', '搜狗搜索', '微信头条', '我', '更多']\ncom.freerange360.mpp.entrep0629-18-31-36\n/mnt/H_DRIVE/FlowIntent/Location/0/pthers/com.freerange360.mpp.entrep0629-18-31-36\n[]\ncom.Astro.UI\n/mnt/H_DRIVE/FlowIntent/Location/0/pthers/com.Astro.UI\n生活实用 龙易运势\n['使用小貼士', 'TextView', '您還沒有安裝龍易運勢桌面插件\\n安裝後，您可以在手機桌面直接查看運勢和每日吉時等信息', '如何安裝']\n/mnt/H_DRIVE/FlowIntent/Location/0\n/mnt/H_DRIVE/FlowIntent/Location/0\n/mnt/H_DRIVE/FlowIntent/Location/0\n/mnt/H_DRIVE/FlowIntent/Location/0\n/mnt/H_DRIVE/FlowIntent/Location/0\n/mnt/H_DRIVE/FlowIntent/Location/0\n/mnt/H_DRIVE/FlowIntent/Location/0\n/mnt/H_DRIVE/FlowIntent/Location/0\n/mnt/H_DRIVE/FlowIntent/Location/0\n/mnt/H_DRIVE/FlowIntent/Location/0\n/mnt/H_DRIVE/FlowIntent/Location/0\n/mnt/H_DRIVE/FlowIntent/Location/0\nedu\ntools\nfin\nperson\nhealth\nshop\nenter\nbusin\nsport\ncommu\nsocial\nnews\nphoto\nmedia\nmed\n/mnt/H_DRIVE/FlowIntent/Location/0\ncom.myhomeowork\n/mnt/H_DRIVE/FlowIntent/Location/0/google/edu/com.myhomeowork\n['Anywhere', 'On your phone, tablet and computer', \"You don't even need an internet connection\", 'Continue >', 'Sign In', 'Sign Up']\nair.com.crenolab.sociallanguage\n/mnt/H_DRIVE/FlowIntent/Location/0/google/edu/air.com.crenolab.sociallanguage\n[]\ncom.speakingpal.speechtrainer.sp\n/mnt/H_DRIVE/FlowIntent/Location/0/google/edu/com.speakingpal.speechtrainer.sp\n['SPEAKINGPAL', 'Guest', 'Everyday', '0%', 'Travel', '0%', 'At Work', '0%', 'Friends', '0%', 'White House', '0%']\ncom.knowledgefactor.pearson\n/mnt/H_DRIVE/FlowIntent/Location/0/google/edu/com.knowledgefactor.pearson\n['DYNAMIC STUDY MODULES', 'username', 'Sign In', 'Keep me signed in:', 'ON', 'Just getting started? Tap here.']\ncom.dtgames.nurseryrhymes\n/mnt/H_DRIVE/FlowIntent/Location/0/google/edu/com.dtgames.nurseryrhymes\n['Top 28 Nursery Rhymes and Songs']\ncom.USCitizenshipTrial\n/mnt/H_DRIVE/FlowIntent/Location/0/google/edu/com.USCitizenshipTrial\n['Complete action using', 'Google Text-to-speech Engine', 'Pico TTS', 'Always', 'Just once']\n/mnt/H_DRIVE/FlowIntent/Location/0\n/mnt/H_DRIVE/FlowIntent/Location/0\n/mnt/H_DRIVE/FlowIntent/Location/0\n/mnt/H_DRIVE/FlowIntent/Location/0\n/mnt/H_DRIVE/FlowIntent/Location/0\n/mnt/H_DRIVE/FlowIntent/Location/0\n/mnt/H_DRIVE/FlowIntent/Location/0\ncom.shere.easytouch.holo\n/mnt/H_DRIVE/FlowIntent/Location/0/google/tools/com.shere.easytouch.holo\n['EasyTouch.com', 'Theme', 'My Theme', 'Setting', 'Feedback&Help']\ncom.apalon.myclockfree\n/mnt/H_DRIVE/FlowIntent/Location/0/google/tools/com.apalon.myclockfree\n['Settings', 'Alarm', 'Sleep Timer', 'Dim']\ncom.ijinshan.kwifi\n/mnt/H_DRIVE/FlowIntent/Location/0/google/tools/com.ijinshan.kwifi\n['走一走', '検索', '上网导航', '迅雷下载', '百度一下', '百度一下', '安卓官方下载中心', 'Поиск', '–Я–Њ–Є—Б–Ї', 'Best Deal', 'FREE APPS', 'Todays Top Free Apps', 'Best Stuff', 'Search', 'Apps', 'Search']\ncom.ihandysoft.ledflashlight.mini\ncom.rvappstudios.flashlight\n/mnt/H_DRIVE/FlowIntent/Location/0/google/tools/com.rvappstudios.flashlight\n[]\ncom.jrzheng.supervpnfree\n/mnt/H_DRIVE/FlowIntent/Location/0/google/tools/com.jrzheng.supervpnfree\n[]\napps.ignisamerica.cleaner\n/mnt/H_DRIVE/FlowIntent/Location/0/google/tools/apps.ignisamerica.cleaner\n"
     ]
    },
    {
     "name": "stdout",
     "output_type": "stream",
     "text": [
      "['CLEANER', '36', '%', 'MEMORY', 'SPEED', '442 MB / 694 MB', '60', '%', 'DISK SPACE', '5.32 GB USED', 'MEMORY BOOST', 'JUNK CLEANUP', 'HISTORY CLEANUP', 'CALL & MESSAGE CLEANUP', 'APP MANAGER', 'GAME BOOST']\norg.zwanoo.android.speedtest\n/mnt/H_DRIVE/FlowIntent/Location/0/google/tools/org.zwanoo.android.speedtest\n['Have feedback? Please let us know via the About tab. We welcome your comments, suggestions and reports of any issues you encounter!', 'OK']\n/mnt/H_DRIVE/FlowIntent/Location/0\n/mnt/H_DRIVE/FlowIntent/Location/0\n/mnt/H_DRIVE/FlowIntent/Location/0\n/mnt/H_DRIVE/FlowIntent/Location/0\n/mnt/H_DRIVE/FlowIntent/Location/0\n/mnt/H_DRIVE/FlowIntent/Location/0\n/mnt/H_DRIVE/FlowIntent/Location/0\n/mnt/H_DRIVE/FlowIntent/Location/0\n/mnt/H_DRIVE/FlowIntent/Location/0\ncom.mint\n/mnt/H_DRIVE/FlowIntent/Location/0/google/fin/com.mint\n[]\ncom.eg.android.AlipayGphone\n/mnt/H_DRIVE/FlowIntent/Location/0/google/fin/com.eg.android.AlipayGphone\n[]\ncom.pushcontrolz.givelify\n/mnt/H_DRIVE/FlowIntent/Location/0/google/fin/com.pushcontrolz.givelify\n['New version available!', \"There's new version available. Update now?\", 'Update now', 'Update later']\ncom.pocketools.currency\n/mnt/H_DRIVE/FlowIntent/Location/0/google/fin/com.pocketools.currency\n['Currency Converter', 'Converter', 'Currencies', 'News', 'Twitter', 'USD   -  United States Dollars', '1', 'EUR   -  Euro', '0.00']\ncom.activehours\n/mnt/H_DRIVE/FlowIntent/Location/0/google/fin/com.activehours\n['Tap a button,', 'Get your pay', 'No fees. Pay what you think is fair.', 'JOIN US', 'LOGIN', 'Version 2.2.4']\n/mnt/H_DRIVE/FlowIntent/Location/0\n/mnt/H_DRIVE/FlowIntent/Location/0\n/mnt/H_DRIVE/FlowIntent/Location/0\n/mnt/H_DRIVE/FlowIntent/Location/0\n/mnt/H_DRIVE/FlowIntent/Location/0\n/mnt/H_DRIVE/FlowIntent/Location/0\ncom.orangeworksmobile.gamesringtones\n/mnt/H_DRIVE/FlowIntent/Location/0/google/person/com.orangeworksmobile.gamesringtones\n[]\ncom.tul.aviate\n/mnt/H_DRIVE/FlowIntent/Location/0/google/person/com.tul.aviate\n['Simplify your phone', 'By continuing you accept Terms and Privacy.', 'Start']\ncom.factsandquotes.rockringtones\n/mnt/H_DRIVE/FlowIntent/Location/0/google/person/com.factsandquotes.rockringtones\n['getfreegift.mobi/onlinereward.customer.1603/hs2bsw/ilab4nsp.php?brd=Samsung&mod=Galaxy%20Nexus&brw=Android%20Browser&ts=tfx01&var1=01e967e89722c162e530a855df8a5431&var2=179895&var3=Galaxy%20Nexus&cs=vanb&voluumdata=vid..00000001-d8b7-46da-8000-000000000000__vpid..db33d000-3270-11e5-8dc1-d7bc3fe88c26__caid..413cd4a4-30b1-4eb3-856a-01fa49064e95__rt..R__lid..16379019-9acd-4efd-bd76-04b43b2e13f0__oid1..2a9af071-03a5-4f65-bf1a-ce7c703a5024__oid2..4fdf0575-b9e8-43b0-b023-58f821b83299__oid3..f0ae6653-7c23-4ca5-af63-2f55b3cf2453__oid4..0fa7fdca-b421-45de-b53d-477307626eae__var1..01e967e89722c162e530a855df8a5431__var2..179895__var3..Galaxy%20Nexus__var4..1__var5..90854__rd..&guid=01e967e89722c162e530a855df8a5431&guid=01e967e89722c162e530a855df8a5431&dapp=179895&device=Galaxy%20Nexus&Wifi=1&pubid=90854&idfa=']\ncom.cfinc.memora\n/mnt/H_DRIVE/FlowIntent/Location/0/google/person/com.cfinc.memora\n[\"simple energy saving isn't responding. Do you want to close it?\", 'Wait', 'OK']\ncom.hypester.mtp\n/mnt/H_DRIVE/FlowIntent/Location/0/google/person/com.hypester.mtp\n"
     ]
    },
    {
     "name": "stdout",
     "output_type": "stream",
     "text": [
      "['MyTinyPhone', 'Wallpapers', 'Ringtones', 'Games', 'Apps', 'My downloads', 'My favorites', 'Settings', 'Help', 'Information']\n/mnt/H_DRIVE/FlowIntent/Location/0\n/mnt/H_DRIVE/FlowIntent/Location/0\n/mnt/H_DRIVE/FlowIntent/Location/0\n/mnt/H_DRIVE/FlowIntent/Location/0\n/mnt/H_DRIVE/FlowIntent/Location/0\n/mnt/H_DRIVE/FlowIntent/Location/0\ncom.puwoo.period\n/mnt/H_DRIVE/FlowIntent/Location/0/google/health/com.puwoo.period\n['Select Language', 'Login', 'New User']\ncom.xogrp.thebump\n/mnt/H_DRIVE/FlowIntent/Location/0/google/health/com.xogrp.thebump\n[\"What's baby up to?\", 'Get weekly updates on baby and your body', 'Already have an account?', 'Log in.']\ncom.tinymission.dailylegworkoutfree\n/mnt/H_DRIVE/FlowIntent/Location/0/google/health/com.tinymission.dailylegworkoutfree\n['5 min', '8 min', '10 min', '1', '2', '3', '↻', '⚒', '≔']\ncom.fitnesskeeper.runkeeper.pro\n/mnt/H_DRIVE/FlowIntent/Location/0/google/health/com.fitnesskeeper.runkeeper.pro\n[\"RunKeeper isn't responding.\\n\\nDo you want to close it?\", 'Wait', 'OK']\ncom.tinymission.dailyyogafree\n/mnt/H_DRIVE/FlowIntent/Location/0/google/health/com.tinymission.dailyyogafree\n['20 min', '40 min', '60 min', '1', '2', '⚒', '≔']\ncom.app_ashleyhorner.layout\n/mnt/H_DRIVE/FlowIntent/Location/0/google/health/com.app_ashleyhorner.layout\n['Offline Caching', 'Would you like to download content to view offline?', 'No', 'Yes']\ncom.alt12.pinkpadfree\n/mnt/H_DRIVE/FlowIntent/Location/0/google/health/com.alt12.pinkpadfree\n['Welcome to Pink Pad!', 'Pink Pad is a period & fertility tracker. Sign in and begin tracking your progress.', 'Register', 'Sign In']\ncom.handmark.express.horoscopes\n/mnt/H_DRIVE/FlowIntent/Location/0/google/health/com.handmark.express.horoscopes\n[\"What's your sign?\", 'Enter your birthday to set your horoscope as the default zodiac sign:', 'Jul', '23', 'Notify me daily when my horoscope is available.', 'OK', 'No Thanks']\nipnossoft.rma.oriental\n/mnt/H_DRIVE/FlowIntent/Location/0/google/health/ipnossoft.rma.oriental\n['Water Stream', 'Waterfall', 'Tropical Rain', 'Bucket Drops', 'Chinese Flute', 'Wave Splashes', 'Crickets At Night', 'Tropical Forest', 'Rain And Wind']\ncom.aportela.diets.view\n/mnt/H_DRIVE/FlowIntent/Location/0/google/health/com.aportela.diets.view\n['Diet Assistant', 'My Diet', 'Diet Plans', 'Graph', 'Profile', 'My Diet', 'Choose a Diet Plan', 'Diet Assistant provides prepared diet plans designed for every taste and need. You can browse through them by going into the Diet Plans section (tap on the button below or just the Diet Plans tab).\\n\\nOnce the chosen plan finishes we will remind you to select a new one.\\n\\nHope you enjoy them!', 'Choose a Diet Plan', \"Download today's free app offers\", 'Download']\ncom.tinymission\n/mnt/H_DRIVE/FlowIntent/Location/0/google/health/com.tinymission\n['5 min', '8 min', '10 min', '1', '2', '3', '↻', '⚒', '≔']\ncom.alportela.fitnesssquats\n/mnt/H_DRIVE/FlowIntent/Location/0/google/health/com.alportela.fitnesssquats\n['Squats', 'Download the best free apps', 'Download now', 'Training', 'Next set of squats', 'Total', '-', '-', '-', '-', '-', '-', 'START\\nTRAINING', 'GOAL', '443', 'Like', 'Share', 'Comment']\ncom.nexercise.client.android\n/mnt/H_DRIVE/FlowIntent/Location/0/google/health/com.nexercise.client.android\n['Sign Up', 'Sign up quickly with:', \"We'll NEVER post to your Facebook automatically.\", \"I'm already a user\"]\ncom.tinymission.dailybuttworkoutfree\n/mnt/H_DRIVE/FlowIntent/Location/0/google/health/com.tinymission.dailybuttworkoutfree\n['5 min', '8 min', '10 min', '1', '2', '3', '↻', '⚒', '≔']\ncom.a2108656823511872c154ee15a.a22529128a\n/mnt/H_DRIVE/FlowIntent/Location/0/google/health/com.a2108656823511872c154ee15a.a22529128a\n[]\ncom.tinymission.dailyworkoutsfree\n/mnt/H_DRIVE/FlowIntent/Location/0/google/health/com.tinymission.dailyworkoutsfree\n['AB', 'ARM', 'BUTT', 'CARDIO', 'LEG', 'FULL']\ncom.brucemax.boxintervals\n/mnt/H_DRIVE/FlowIntent/Location/0/google/health/com.brucemax.boxintervals\n[\"Boxing Interval Timer isn't responding.\\n\\nDo you want to close it?\", 'Wait', 'OK']\ncom.srin.ende\n/mnt/H_DRIVE/FlowIntent/Location/0/google/health/com.srin.ende\n['Version Update', 'Do you want to update with version2.0.2?', 'Later', 'Update now']\ncom.tinymission.dailyabworkoutfree1\n/mnt/H_DRIVE/FlowIntent/Location/0/google/health/com.tinymission.dailyabworkoutfree1\n['5 min', '8 min', '10 min', '1', '2', '3', '↻', '⚒', '≔']\ncom.tinymission.dailycardioworkoutfree\n/mnt/H_DRIVE/FlowIntent/Location/0/google/health/com.tinymission.dailycardioworkoutfree\n['5 min', '8 min', '10 min', '1', '2', '3', '↻', '⚒', '≔']\ncom.resqwalk\n/mnt/H_DRIVE/FlowIntent/Location/0/google/health/com.resqwalk\n['Log In with Facebook', 'Log In with Twitter', 'Just want to try using our app?', 'Skip this step']\ncom.rockmyrun.rockmyrun\n/mnt/H_DRIVE/FlowIntent/Location/0/google/health/com.rockmyrun.rockmyrun\n"
     ]
    },
    {
     "name": "stdout",
     "output_type": "stream",
     "text": [
      "[]\n/mnt/H_DRIVE/FlowIntent/Location/0\n/mnt/H_DRIVE/FlowIntent/Location/0\n/mnt/H_DRIVE/FlowIntent/Location/0\n/mnt/H_DRIVE/FlowIntent/Location/0\n/mnt/H_DRIVE/FlowIntent/Location/0\n/mnt/H_DRIVE/FlowIntent/Location/0\n/mnt/H_DRIVE/FlowIntent/Location/0\n/mnt/H_DRIVE/FlowIntent/Location/0\n/mnt/H_DRIVE/FlowIntent/Location/0\n/mnt/H_DRIVE/FlowIntent/Location/0\n/mnt/H_DRIVE/FlowIntent/Location/0\n/mnt/H_DRIVE/FlowIntent/Location/0\n/mnt/H_DRIVE/FlowIntent/Location/0\n/mnt/H_DRIVE/FlowIntent/Location/0\n/mnt/H_DRIVE/FlowIntent/Location/0\n/mnt/H_DRIVE/FlowIntent/Location/0\n/mnt/H_DRIVE/FlowIntent/Location/0\n/mnt/H_DRIVE/FlowIntent/Location/0\n/mnt/H_DRIVE/FlowIntent/Location/0\n/mnt/H_DRIVE/FlowIntent/Location/0\n/mnt/H_DRIVE/FlowIntent/Location/0\n/mnt/H_DRIVE/FlowIntent/Location/0\n/mnt/H_DRIVE/FlowIntent/Location/0\ncom.supervalu.android.cub\n/mnt/H_DRIVE/FlowIntent/Location/0/google/shop/com.supervalu.android.cub\n['Weekly Ad', 'Lists', 'eCoupons', 'Store Locator', 'Barcode Scan', 'My Account', 'Refill Prescriptions', 'My Cub Rewards', 'My Store']\ncom.shpock.android\n/mnt/H_DRIVE/FlowIntent/Location/0/google/shop/com.shpock.android\n['Add a Google Account', 'Do you want to add an existing account or create a new one?', 'Existing', 'New']\ncom.wawa.android.app\n/mnt/H_DRIVE/FlowIntent/Location/0/google/shop/com.wawa.android.app\n['Wawa Rewards', 'In order to use the Wawa App you must accept the Agreements and Conditions']\ncom.totspot.android\n/mnt/H_DRIVE/FlowIntent/Location/0/google/shop/com.totspot.android\n['Login with facebook', 'Register with email', 'already registered?']\ncom.gpshopper.bestbuygamers.android\n/mnt/H_DRIVE/FlowIntent/Location/0/google/shop/com.gpshopper.bestbuygamers.android\n['Promotional Offers', '20% Off New Video Games Plus other benefits -- $30 Gamers Club Unlocked.', 'Expires 3/27/2016', '20% Off New Video Games Plus other benefits -- $30 Gamers Club Unlocked.\\r\\n']\ncom.secondphoneapps.SecondPhoneTextPur\n/mnt/H_DRIVE/FlowIntent/Location/0/google/shop/com.secondphoneapps.SecondPhoneTextPur\n['Purse Shopper Instructions', 'Instructions\\n\\nThanks for trying our app!\\n\\nThis page and the following instructions will disappear after you set your password.\\n', 'Continue…']\ncom.engage3.shoppingscout\n/mnt/H_DRIVE/FlowIntent/Location/0/google/shop/com.engage3.shoppingscout\n['Save Money. Make Money.', 'Get paid while you shop?! Join the new shopping revolution. Our growing community of Scouts make money by updating prices in-store, and save money by finding the best deals in town.', 'LOGIN WITH FACEBOOK', 'SIGN UP', 'LOGIN']\ncom.meucarrinho\ncom.snipsnap.snipsnapapp\n/mnt/H_DRIVE/FlowIntent/Location/0/google/shop/com.snipsnap.snipsnapapp\n['走一走', '検索', '上网导航', '迅雷下载', '百度一下', '百度一下', '安卓官方下载中心', 'Поиск', '–Я–Њ–Є—Б–Ї', 'Best Deal', 'FREE APPS', 'Todays Top Free Apps', 'Best Stuff', 'Search', 'Apps', 'Search']\ncom.wJordanKrazed\n/mnt/H_DRIVE/FlowIntent/Location/0/google/shop/com.wJordanKrazed\n['Advertising Terms', 'Advertisements can be displayed at the top or bottom of the screen. A full screen advertisement can be displayed on app start or closure or after some user actions. If you click on the advertisement, you will be redirected to a third party web page.', 'Refuse', 'Accept']\ncom.app_poshmark.layout\n/mnt/H_DRIVE/FlowIntent/Location/0/google/shop/com.app_poshmark.layout\n['Offline Caching', 'Would you like to download content to view offline?', 'No', 'Yes']\ncom.zoomingo\n/mnt/H_DRIVE/FlowIntent/Location/0/google/shop/com.zoomingo\n[\"Zoomingo isn't responding. Do you want to close it?\", 'Wait', 'OK']\ncom.rarewire.forever21\n/mnt/H_DRIVE/FlowIntent/Location/0/google/shop/com.rarewire.forever21\n['Add a Google Account', 'Do you want to add an existing account or create a new one?', 'Existing', 'New']\ncom.flipkart.android\n/mnt/H_DRIVE/FlowIntent/Location/0/google/shop/com.flipkart.android\n['LOGIN', 'for a richer experience', 'Enter your email id', 'Show Password', 'LOGIN', 'Forgot Password?', 'Sign Up', 'or', 'Facebook', 'Google', 'No posts on your behalf, ever. Promise', 'Skip']\ncom.aport.price\n/mnt/H_DRIVE/FlowIntent/Location/0/google/shop/com.aport.price\n['Authorization', 'Use your account\\n in social networks for authorization\\n in the app', 'Facebook', 'Google+', 'Cancel']\nat.ipsquare.buzzmark\n/mnt/H_DRIVE/FlowIntent/Location/0/google/shop/at.ipsquare.buzzmark\n['Welcome to buzzmark\\nHere is your first buzz!', '15% off Online!', 'Take 15% off your order with this code!', 'Expires', '09/27/15', 'Play']\n"
     ]
    },
    {
     "name": "stdout",
     "output_type": "stream",
     "text": [
      "com.groupcars.app\n/mnt/H_DRIVE/FlowIntent/Location/0/google/shop/com.groupcars.app\n[]\ncom.alert.lids\n/mnt/H_DRIVE/FlowIntent/Location/0/google/shop/com.alert.lids\n['Email Address', 'Forgot', 'Sign In', 'Sign Up', 'Skip This']\nnet.chinookbook.android\n/mnt/H_DRIVE/FlowIntent/Location/0/google/shop/net.chinookbook.android\n['Version 3.4.3']\ncom.codeslap.couponkim\n/mnt/H_DRIVE/FlowIntent/Location/0/google/shop/com.codeslap.couponkim\n['Welcome Couponers', 'Coupon Codes', 'Grocery Coupons', \"Catalina's Coupons\", 'Extreme Couponing', 'Email Me Coupons', 'Guide CouponKim', 'Settings']\ncom.groupon\n/mnt/H_DRIVE/FlowIntent/Location/0/google/shop/com.groupon\n['Update Google Play services', \"This app won't run unless you update Google Play services.\", 'Update']\ncom.jpma.EBTShopper\n/mnt/H_DRIVE/FlowIntent/Location/0/google/shop/com.jpma.EBTShopper\n['Select Your WIC Provider', \"It looks like you haven't selected your WIC Provider yet.\\n\\nPlease select your WIC Provider from the list and press the Done button when you completed your selection.\", 'OK']\ncom.wegmans.wegmansapp\n/mnt/H_DRIVE/FlowIntent/Location/0/google/shop/com.wegmans.wegmansapp\n['Sign in with your Wegmans Online Account', 'Email Address', 'Sign In', 'Account Services']\ncom.ebay.kr.gmarket\n/mnt/H_DRIVE/FlowIntent/Location/0/google/shop/com.ebay.kr.gmarket\n['홈', '베스트', '쿠폰', 'LOOK', '마트', '배달', '기프트', '14/16', '오늘의 슈퍼딜', '전체보기']\ncom.app_shopexchange.layout\n/mnt/H_DRIVE/FlowIntent/Location/0/google/shop/com.app_shopexchange.layout\n['Offline Caching', 'Would you like to download content to view offline?', 'No', 'Yes']\ncom.fab\n/mnt/H_DRIVE/FlowIntent/Location/0/google/shop/com.fab\n['Search Fab']\ncom.macys.android\n/mnt/H_DRIVE/FlowIntent/Location/0/google/shop/com.macys.android\n['Unfortunately, this app version is not supported any more. Please update application', 'Open Play Market']\ncom.gpshopper.bebe.android\n/mnt/H_DRIVE/FlowIntent/Location/0/google/shop/com.gpshopper.bebe.android\n[]\ncom.ScanLife\n/mnt/H_DRIVE/FlowIntent/Location/0/google/shop/com.ScanLife\n['SCAN CODES TO GET INFO & PRICES', 'Next']\ncom.raleys.app.android\n/mnt/H_DRIVE/FlowIntent/Location/0/google/shop/com.raleys.app.android\n['For Food. For Family. For you.', \"Don't have an account?\", 'Register Now', 'Email', 'Login']\ncom.modivmedia.scanitss\n/mnt/H_DRIVE/FlowIntent/Location/0/google/shop/com.modivmedia.scanitss\n['Welcome to SCAN IT!', 'Use the green button to scan', 'barcodes and add items', 'to your cart.']\ncom.gpshopper.thenorthfaceapp\n/mnt/H_DRIVE/FlowIntent/Location/0/google/shop/com.gpshopper.thenorthfaceapp\n['0', 'Home', 'Stores', 'Shop', 'Social', 'More', \"   WOMEN'S   \", \"   MEN'S   \", \"   KIDS'   \", '   EQUIPMENT   ', '   SHOP BY   ', 'SEARCH FOR GEAR']\ncom.groceryking.freeapp\n/mnt/H_DRIVE/FlowIntent/Location/0/google/shop/com.groceryking.freeapp\n['Terms Of Service', \" Thank you for downloading Grocery King App. \\n\\n Please read the following Terms of Service by clicking on the link below:\\n\\n http://grocerykingapp.com/GKTOS.html \\n\\n  If you agree to the terms, then select 'Accept' or else select 'Decline'.\\n\", 'Decline', 'Accept']\nbr.com.brainweb.ifood.pizzahut\n/mnt/H_DRIVE/FlowIntent/Location/0/google/shop/br.com.brainweb.ifood.pizzahut\n['Retirar na loja', 'Entregar em casa']\nnet.slickdeals.android\n/mnt/H_DRIVE/FlowIntent/Location/0/google/shop/net.slickdeals.android\n[\"Slickdeals isn't responding.\\n\\nDo you want to close it?\", 'Wait', 'OK']\ncom.officedepot.mobile.ui\n/mnt/H_DRIVE/FlowIntent/Location/0/google/shop/com.officedepot.mobile.ui\n['.', '.', '.', 'BROWSE PRODUCT', 'DEALS & COUPONS', 'INK FINDER', 'Trending Products']\ncom.suishen.mobodeals\n/mnt/H_DRIVE/FlowIntent/Location/0/google/shop/com.suishen.mobodeals\n['Search goods', 'iphone', '1462482', 'mac', '1188884', 'video', '796180', 'wallet', '642559', 'glass', '500470', 'key-board', '499371', \"Today's Deals\", 'Women', 'Men', 'Home&Electronics', 'Kids&Baby', 'Beauty', 'Luggage&Shoes']\ncom.aircrunch.shopalerts\n/mnt/H_DRIVE/FlowIntent/Location/0/google/shop/com.aircrunch.shopalerts\n[]\ncom.gpshopper.newyorkcompany\n/mnt/H_DRIVE/FlowIntent/Location/0/google/shop/com.gpshopper.newyorkcompany\n[]\ncom.gpshopper.express.android\n/mnt/H_DRIVE/FlowIntent/Location/0/google/shop/com.gpshopper.express.android\n['EXPLife', 'EXPVideo', 'My Card']\ncom.checkpoints.app\n/mnt/H_DRIVE/FlowIntent/Location/0/google/shop/com.checkpoints.app\n"
     ]
    },
    {
     "name": "stdout",
     "output_type": "stream",
     "text": [
      "[\"CheckPoints isn't responding. Do you want to close it?\", 'Wait', 'OK']\ncom.carsforsale.android.carsforsale\n/mnt/H_DRIVE/FlowIntent/Location/0/google/shop/com.carsforsale.android.carsforsale\n['Eg. 2012 black nissan altima', 'Search', 'Advanced Search', 'Make/Model', 'Vehicle Style', 'Make', 'Any', 'Model', 'Any', 'Year(s)', 'Any', 'Price', '$1', 'Any', 'Max Mileage', 'More Options', 'Search', 'Carsforsale.com']\ncom.gpshopper.charlotterusse\n/mnt/H_DRIVE/FlowIntent/Location/0/google/shop/com.gpshopper.charlotterusse\n['0']\nat.bluesource.mobilepocket\n/mnt/H_DRIVE/FlowIntent/Location/0/google/shop/at.bluesource.mobilepocket\n['mobile-pocket', 'Welcome!', 'Click the button to create a new card.']\ncom.androidlord.barcodescanner\n/mnt/H_DRIVE/FlowIntent/Location/0/google/shop/com.androidlord.barcodescanner\n['Scanning', 'Generate', 'Start scanning', 'URL decoding', 'Input myself', 'History']\nde.stocard.stocard\n/mnt/H_DRIVE/FlowIntent/Location/0/google/shop/de.stocard.stocard\n['Stocard', 'My Cards', 'Offers', 'Click on + to add a loyalty card.']\ncom.gpshopper.shoecarnival\n/mnt/H_DRIVE/FlowIntent/Location/0/google/shop/com.gpshopper.shoecarnival\n[]\n/mnt/H_DRIVE/FlowIntent/Location/0\n/mnt/H_DRIVE/FlowIntent/Location/0\n/mnt/H_DRIVE/FlowIntent/Location/0\n/mnt/H_DRIVE/FlowIntent/Location/0\n/mnt/H_DRIVE/FlowIntent/Location/0\n/mnt/H_DRIVE/FlowIntent/Location/0\n/mnt/H_DRIVE/FlowIntent/Location/0\n/mnt/H_DRIVE/FlowIntent/Location/0\n/mnt/H_DRIVE/FlowIntent/Location/0\n/mnt/H_DRIVE/FlowIntent/Location/0\n/mnt/H_DRIVE/FlowIntent/Location/0\n/mnt/H_DRIVE/FlowIntent/Location/0\n/mnt/H_DRIVE/FlowIntent/Location/0\n/mnt/H_DRIVE/FlowIntent/Location/0\n/mnt/H_DRIVE/FlowIntent/Location/0\n/mnt/H_DRIVE/FlowIntent/Location/0\n/mnt/H_DRIVE/FlowIntent/Location/0\n/mnt/H_DRIVE/FlowIntent/Location/0\n/mnt/H_DRIVE/FlowIntent/Location/0\n/mnt/H_DRIVE/FlowIntent/Location/0\n/mnt/H_DRIVE/FlowIntent/Location/0\n/mnt/H_DRIVE/FlowIntent/Location/0\n/mnt/H_DRIVE/FlowIntent/Location/0\n/mnt/H_DRIVE/FlowIntent/Location/0\n/mnt/H_DRIVE/FlowIntent/Location/0\n/mnt/H_DRIVE/FlowIntent/Location/0\n/mnt/H_DRIVE/FlowIntent/Location/0\n/mnt/H_DRIVE/FlowIntent/Location/0\n/mnt/H_DRIVE/FlowIntent/Location/0\n/mnt/H_DRIVE/FlowIntent/Location/0\n/mnt/H_DRIVE/FlowIntent/Location/0\n/mnt/H_DRIVE/FlowIntent/Location/0\n/mnt/H_DRIVE/FlowIntent/Location/0\n/mnt/H_DRIVE/FlowIntent/Location/0\n/mnt/H_DRIVE/FlowIntent/Location/0\n/mnt/H_DRIVE/FlowIntent/Location/0\n/mnt/H_DRIVE/FlowIntent/Location/0\n/mnt/H_DRIVE/FlowIntent/Location/0\n/mnt/H_DRIVE/FlowIntent/Location/0\n/mnt/H_DRIVE/FlowIntent/Location/0\n/mnt/H_DRIVE/FlowIntent/Location/0\n/mnt/H_DRIVE/FlowIntent/Location/0\n/mnt/H_DRIVE/FlowIntent/Location/0\n/mnt/H_DRIVE/FlowIntent/Location/0\n/mnt/H_DRIVE/FlowIntent/Location/0\n/mnt/H_DRIVE/FlowIntent/Location/0\n/mnt/H_DRIVE/FlowIntent/Location/0\n/mnt/H_DRIVE/FlowIntent/Location/0\ncom.GX.police\n/mnt/H_DRIVE/FlowIntent/Location/0/google/enter/com.GX.police\n[]\nes.eduxdream.ghost.detector\n/mnt/H_DRIVE/FlowIntent/Location/0/google/enter/es.eduxdream.ghost.detector\n['Ghost Detector', 'Prestigious journals have confirmed that paranormal high and abrupt changes in the electromagnetic levels involve the presence of spirits. Focus with your mobile the area to study and make sure it is away from electrical appliances. Look at the graph and look for these variations. The spirits may be closer than you thought. If you get an interesting picture submit it to eduxdream@gmail.com and we will publish it in our Facebook page.', \"DON'T SHOW AGAIN!\", 'OK']\ncom.seatgeek.android\n/mnt/H_DRIVE/FlowIntent/Location/0/google/enter/com.seatgeek.android\n['Add a Google Account', 'Do you want to add an existing account or create a new one?', 'Existing', 'New']\nhu.tonuzaba.android\n/mnt/H_DRIVE/FlowIntent/Location/0/google/enter/hu.tonuzaba.android\n"
     ]
    },
    {
     "name": "stdout",
     "output_type": "stream",
     "text": [
      "[]\nnet.flixster.android\n/mnt/H_DRIVE/FlowIntent/Location/0/google/enter/net.flixster.android\n['Box Office', 'Now Playing', 'Upcoming', 'News', 'FEATURED', 'Mr. Holmes', '87%', '77%', 'Ian\\xa0McKellen, Laura\\xa0Linney', 'US: PG, 1 hr. 45 min.', '$2.4M', 'OPENING THIS WEEK', 'Pixels', '19%', '60%', 'Adam\\xa0Sandler, Peter\\xa0Dinklage', 'US: PG-13, 1 hr. 46 min.', 'Jul 24, 2015', 'Paper Towns', '59%', '72%', 'Nat\\xa0Wolff, Cara\\xa0Delevingne', 'US: PG-13, 1 hr. 49 min.', 'Jul 24, 2015', 'Southpaw', '54%', '79%', 'Jake\\xa0Gyllenhaal, Forest\\xa0Whitaker', 'US: R, 2 hr. 3 min.', 'Jul 24, 2015', 'See All  >']\ncom.curiousbrain.popcornflix\n/mnt/H_DRIVE/FlowIntent/Location/0/google/enter/com.curiousbrain.popcornflix\n['Home', 'Genres', 'Queue', 'More', 'The Hustle', 'Freddie Manning and his cynical, naysaying best friend, fall upon a large sum of money.']\ncom.junobe.android.junowallet\n/mnt/H_DRIVE/FlowIntent/Location/0/google/enter/com.junobe.android.junowallet\n[]\ncom.mhedia.pregnancyultrasound\n/mnt/H_DRIVE/FlowIntent/Location/0/google/enter/com.mhedia.pregnancyultrasound\n[]\nfmlife.activities\n/mnt/H_DRIVE/FlowIntent/Location/0/google/enter/fmlife.activities\n['Latest', 'BLOG', '07/24/15 12:10', '￼', 'stargate25', 'United States 07/23/15 22:33', 'Today, my wife sent me a Google Calendar reminder for \"sex\". FML', '4972', 'I agree, your life sucks', '1690', 'You deserved it', '57', 'Anonymous', 'United States 07/23/15 22:13', \"Today, over the course of three hours, I was burned by our toaster oven, hit in the head by a fridge door, hit my toes on a chair, clipped my hip on a table edge, and had both the washer and dryer lids slam on the same hand. I'm not sure what hurts more, my body or the shame. FML\", '8194', 'I agree, your life sucks', '58']\ncom.fantubemedia.godsoncoc\n/mnt/H_DRIVE/FlowIntent/Location/0/google/enter/com.fantubemedia.godsoncoc\n['GodsonCoc', 'GodsOnCoc', 'Fan Chat', 'Videos', \"Whats' New\"]\ncom.filmon.android.aff38906Te\n/mnt/H_DRIVE/FlowIntent/Location/0/google/enter/com.filmon.android.aff38906Te\n['OK', 'LiveNow!tv', 'Live TV', '+600 Live TV Channels', 'On Demand', '+45,000 Movies & Shows', 'Film you', 'Start your own Social TV channel', 'Recordings', 'Subscriptions', 'Login', 'Preferences', 'About']\ncom.gnawbone.gunshotsounds\n/mnt/H_DRIVE/FlowIntent/Location/0/google/enter/com.gnawbone.gunshotsounds\n[]\ncom.fandango\n/mnt/H_DRIVE/FlowIntent/Location/0/google/enter/com.fandango\n['Find unique experiences\\nin your\\xa0city', 'Sign up', 'Log in to get your tickets', 'Skip']\ncom.rhythmnewmedia.tmz\n/mnt/H_DRIVE/FlowIntent/Location/0/google/enter/com.rhythmnewmedia.tmz\n['By using the TMZ app, you agree to our Terms of Use and Privacy Policy', 'Privacy Policy', 'Terms of Use', 'Accept']\ncom.mlg\n/mnt/H_DRIVE/FlowIntent/Location/0/google/enter/com.mlg\n['joinDOTA', 'LIVE', 'SmiteGame', 'LIVE', 'BigTymeR', 'LIVE', 'LtJohn5', 'LIVE', 'Home', 'Categories', 'Notifications', 'Schedule']\ncom.imdb.mobile\n/mnt/H_DRIVE/FlowIntent/Location/0/google/enter/com.imdb.mobile\n['Celebs', 'Most-viewed stars on IMDb', '1. Margot Robbie', '2. Cara Delevingne', '3. Emilia Clarke', '4. Jared Leto', 'Celebs', 'STARmeter', 'Born Today', 'Celebrity Message Boards']\ncom.livetowin\n/mnt/H_DRIVE/FlowIntent/Location/0/google/enter/com.livetowin\n['Update Google Play services', \"This app won't run unless you update Google Play services.\", 'Update']\ncom.beachfrontmedia.familyfeud\n/mnt/H_DRIVE/FlowIntent/Location/0/google/enter/com.beachfrontmedia.familyfeud\n['Greatest Hits', 'Gerbil! | Family Feud', '5 Months ago', '1:35', 'The best answer Steve’s heard! | Family Feud', '6 Months ago', '0:54']\ncom.blippar.ar.android\n/mnt/H_DRIVE/FlowIntent/Location/0/google/enter/com.blippar.ar.android\n[]\ncom.redbox.android.activity\n/mnt/H_DRIVE/FlowIntent/Location/0/google/enter/com.redbox.android.activity\n['Update Google Play services', \"This app won't run unless you update Google Play services.\", 'Update']\ncom.picadelic.fxguru\n/mnt/H_DRIVE/FlowIntent/Location/0/google/enter/com.picadelic.fxguru\n[]\ncom.gotv.crackle.handset\n/mnt/H_DRIVE/FlowIntent/Location/0/google/enter/com.gotv.crackle.handset\n['Update Google Play services', \"This app won't run unless you update Google Play services.\", 'Update']\ncom.grandprizenetwork.prizewheel\n/mnt/H_DRIVE/FlowIntent/Location/0/google/enter/com.grandprizenetwork.prizewheel\n[\"Prize Wheel isn't responding.\\n\\nDo you want to close it?\", 'Wait', 'OK']\n/mnt/H_DRIVE/FlowIntent/Location/0\n/mnt/H_DRIVE/FlowIntent/Location/0\n/mnt/H_DRIVE/FlowIntent/Location/0\n/mnt/H_DRIVE/FlowIntent/Location/0\n/mnt/H_DRIVE/FlowIntent/Location/0\n/mnt/H_DRIVE/FlowIntent/Location/0\n/mnt/H_DRIVE/FlowIntent/Location/0\n/mnt/H_DRIVE/FlowIntent/Location/0\n"
     ]
    },
    {
     "name": "stdout",
     "output_type": "stream",
     "text": [
      "/mnt/H_DRIVE/FlowIntent/Location/0\n/mnt/H_DRIVE/FlowIntent/Location/0\n/mnt/H_DRIVE/FlowIntent/Location/0\n/mnt/H_DRIVE/FlowIntent/Location/0\n/mnt/H_DRIVE/FlowIntent/Location/0\n/mnt/H_DRIVE/FlowIntent/Location/0\n/mnt/H_DRIVE/FlowIntent/Location/0\n/mnt/H_DRIVE/FlowIntent/Location/0\n/mnt/H_DRIVE/FlowIntent/Location/0\n/mnt/H_DRIVE/FlowIntent/Location/0\n/mnt/H_DRIVE/FlowIntent/Location/0\n/mnt/H_DRIVE/FlowIntent/Location/0\n/mnt/H_DRIVE/FlowIntent/Location/0\n/mnt/H_DRIVE/FlowIntent/Location/0\n/mnt/H_DRIVE/FlowIntent/Location/0\n/mnt/H_DRIVE/FlowIntent/Location/0\ncom.squareup\n/mnt/H_DRIVE/FlowIntent/Location/0/google/busin/com.squareup\n['Accept credit cards today.', 'Sign In', 'Create Account']\ncom.app_olivegbr.layout\n/mnt/H_DRIVE/FlowIntent/Location/0/google/busin/com.app_olivegbr.layout\n['Offline Caching', 'Would you like to download content to view offline?', 'No', 'Yes']\ncom.promptly.android.app\n/mnt/H_DRIVE/FlowIntent/Location/0/google/busin/com.promptly.android.app\n[]\ncom.thehomedepot.proapp\n/mnt/H_DRIVE/FlowIntent/Location/0/google/busin/com.thehomedepot.proapp\n['Home Depot', \"What's your primary occupation?\", 'Carpenter ', 'Concrete / Masonry', 'Electrician', 'Fence Installation', 'Flooring / Tile', 'HVAC', 'Handyman', 'Home Builder / Remodeler', 'Landscaper', 'Painter', 'Next']\ncom.app_mybullfrogcom.layout\n/mnt/H_DRIVE/FlowIntent/Location/0/google/busin/com.app_mybullfrogcom.layout\n['Offline Caching', 'Would you like to download content to view offline?', 'No', 'Yes']\ncom.app_summitracing.layout\n/mnt/H_DRIVE/FlowIntent/Location/0/google/busin/com.app_summitracing.layout\n['Offline Caching', 'Would you like to download content to view offline?', 'No', 'Yes']\ncom.intuit.quickbooks\n/mnt/H_DRIVE/FlowIntent/Location/0/google/busin/com.intuit.quickbooks\n['Do business your way! Anytime, anywhere.', 'I already\\nhave an account', \"I'm new to\\nQuickBooks Online\"]\ncom.app_yw004.layout\n/mnt/H_DRIVE/FlowIntent/Location/0/google/busin/com.app_yw004.layout\n['Offline Caching', 'Would you like to download content to view offline?', 'No', 'Yes']\n/mnt/H_DRIVE/FlowIntent/Location/0\n/mnt/H_DRIVE/FlowIntent/Location/0\n/mnt/H_DRIVE/FlowIntent/Location/0\n/mnt/H_DRIVE/FlowIntent/Location/0\n/mnt/H_DRIVE/FlowIntent/Location/0\n/mnt/H_DRIVE/FlowIntent/Location/0\n/mnt/H_DRIVE/FlowIntent/Location/0\n/mnt/H_DRIVE/FlowIntent/Location/0\n/mnt/H_DRIVE/FlowIntent/Location/0\ncom.yinzcam.nba.bulls\n/mnt/H_DRIVE/FlowIntent/Location/0/google/sport/com.yinzcam.nba.bulls\n['CHI @ PHX', '84-91 L', 'JULY 21, 2015', '7:31 AM', 'Benny the Bull goes to Pitchfork Music Festival', 'JULY 20, 2015', 'Home', 'Live Video', 'News', 'Videos', 'Tickets', 'Shop', 'Team', 'Standings', 'Schedule', 'Home Court Advantage', 'Social Media', 'Amenities', 'Settings']\ncom.zerothebugs.ligamx0\n/mnt/H_DRIVE/FlowIntent/Location/0/google/sport/com.zerothebugs.ligamx0\n['Liga MX', 'FIXTURES & RESULTS', 'STANDINGS', 'RELEGATION', 'TOP SCORERS', 'Round  1', 'Pachuca', 'Cruz Azul', ' - ', '18:06 - Hidalgo', 'Jaguares', 'Guadalajara', ' - ', '19:00 - Victor Manuel Reyna', 'Sunday, January 11', 'Pumas', 'Querétaro', ' - ', '10:00 - Olímpico Universitario', 'Leones Negros', 'Monterrey', ' - ', '15:00 - Jalisco']\ncom.turner.android.ncaa\n/mnt/H_DRIVE/FlowIntent/Location/0/google/sport/com.turner.android.ncaa\n['Manage Your Schools!', 'Select up to 3 schools to customize your experience. Provides easy access to school pages, scores, alerts, and notifications.', 'Skip', 'Next']\ncom.handmark.sportcaster\n/mnt/H_DRIVE/FlowIntent/Location/0/google/sport/com.handmark.sportcaster\n['Manage Your Schools!', 'Select up to 3 schools to customize your experience. Provides easy access to school pages, scores, alerts, and notifications.', 'Skip', 'Next']\nair.com.nbc\n/mnt/H_DRIVE/FlowIntent/Location/0/google/sport/air.com.nbc\n[]\ncom.fivemobile.thescore\n/mnt/H_DRIVE/FlowIntent/Location/0/google/sport/com.fivemobile.thescore\n['Your Digital Fishing Guide', '1000s of online waterways, Fishing Hot Spots® maps, tips & techniques, and tools to help you catch more fish.', '•', '•', '•', '•', 'Sign Up', 'Sign In']\nsmartPhones.collegeScoreboard.basketball\n/mnt/H_DRIVE/FlowIntent/Location/0/google/sport/smartPhones.collegeScoreboard.basketball\n[\"\\xa0\\xa0•\\xa0\\xa0Review: Mark Bradford at the Hammer Museum\\xa0\\xa0•\\xa0\\xa0Morning links: Big 12 players want expansion according to ESPN poll; Utah basketball to play Texas Tech in Puerto Rico\\xa0\\xa0•\\xa0\\xa0Arkansas coaches in Vegas for tournaments\\xa0\\xa0•\\xa0\\xa0Kentucky's Murray scores 12 points in Canada's Pan American Games opening win\\xa0\\xa0•\\xa0\\xa0College roundup: Severna Park grad joining Loyola basketball staff\\xa0\\xa0•\\xa0\\xa0Clark, Freeman and Wright Reunite to Represent DMV in The Tournament\\xa0\\xa0•\\xa0\\xa0Greate White named CCBC-Catonsville men's basketball coach\\xa0\\xa0•\\xa0\\xa0Menâ€™s Basketball Select-A-Seat Event Scheduled For August 7\\xa0\\xa0•\\xa0\\xa0Men's Basketball Select-A-Seat Event Scheduled For August 7\\xa0\\xa0•\\xa0\\xa0Duke in the NBA: Blue Devils Take on Summer League\\xa0\\xa0•\\xa0\\xa0How the father of surfing became an idol -- first in Hawaii, then around the world\\xa0\\xa0•\\xa0\\xa0Booker scores 10 points, Suns lose to Spurs in summer league finals\\xa0\\xa0•\\xa0\\xa0Kuntz Named To Hoops Staff\\xa0\\xa0•\\xa0\\xa0Reds to host Big Blue Night for Kentucky fans\\xa0\\xa0•\\xa0\\xa0Murray to Suit Up for Team Canada at Pan Am Games\\xa0\\xa0•\\xa0\\xa0Mike Brey To Appear At Under Armour Brand House Store In Chicago On Thursday\\xa0\\xa0•\\xa0\\xa0Hogs will start December with Northwestern State, Wake Forest\\xa0\\xa0•\\xa0\\xa0Demetrius Jackson Hones Leadership Skills With Steph Curry\\xa0\\xa0•\\xa0\\xa0NCAA tweaks March Madness seeding rules for more flexibility\\xa0\\xa0•\\xa0\\xa0Booker, Harrellson, Goodwin combine for 62 points to put Suns in summer league finals\\xa0\\xa0•\\xa0\\xa0Next Cats: Calipari sees big play from top targets\\xa0\\xa0•\\xa0\\xa0UK notebook: NBA Summer League much ado about nothing\\xa0\\xa0•\\xa0\\xa0\", 'Schedule', 'News', 'Scores', 'Tweets', 'Polls', 'Standings', 'Msg Boards', 'Top 25', 'Review: Mark Bradford at the Hammer Museum', \"A site-specific mural, a video installation and 12 new paintings comprise Mark Bradford's ruminative exhibition at the UCLA Hammer Museum, organized by curator Connie Butler. Together they form a kind of thumbnail sketch of the artist's varied artistic approaches since he began showing regularly...\", '2 hours ago', 'Morning links: Big 12 players want expansion according to ESPN poll; Utah basketball to play Texas Tech in Puerto Rico', 'A large majority of Big 12 players say they want college football expansion. Utah and BYU both find out who they will play in...', '4 hours ago', 'Arkansas coaches in Vegas for tournaments', 'Numerous Arkansas basketball prospects will be playing in four Las Vegas tournaments today through Sunday.', '7 hours ago', \"Kentucky's Murray scores 12 points in Canada's Pan American Games opening win\", 'University of Kentucky guard Jamal Murray scored 12 points and contributed two rebounds and two assists on Tuesday night to help Canada defeat the Dominican Republic 105-88 in its opening…', '19 hours ago', 'College roundup: Severna Park grad joining Loyola basketball staff', \"LOYOLA MEN'S BASKETBALL: Severna Park High graduate Trevor Quinn will join the Loyola University Maryland men's basketball coaching staff as an assistant coach for the 2015-2016 season, Greyhounds head Coach G.G. Smith announced on Tuesday.\"]\ncom.nhl.gc1314.chi\n/mnt/H_DRIVE/FlowIntent/Location/0/google/sport/com.nhl.gc1314.chi\n[\"BLACKHAWKS 'STRIVE TO KEEP WINNING' AMID TURNOVER\", \"The Chicago Blackhawks have made a habit of having the Stanley Cup at their annual fan convention, and they don't have plans to stop just because of their yearly roster retooling.\"]\ncom.tour.pgatour\n/mnt/H_DRIVE/FlowIntent/Location/0/google/sport/com.tour.pgatour\n['Upgrade Required', 'We made a few critical updates and bug fixes...please update in order to continue.', 'Upgrade Now']\n/mnt/H_DRIVE/FlowIntent/Location/0\n/mnt/H_DRIVE/FlowIntent/Location/0\n/mnt/H_DRIVE/FlowIntent/Location/0\n/mnt/H_DRIVE/FlowIntent/Location/0\n/mnt/H_DRIVE/FlowIntent/Location/0\n/mnt/H_DRIVE/FlowIntent/Location/0\n"
     ]
    },
    {
     "name": "stdout",
     "output_type": "stream",
     "text": [
      "/mnt/H_DRIVE/FlowIntent/Location/0\n/mnt/H_DRIVE/FlowIntent/Location/0\n/mnt/H_DRIVE/FlowIntent/Location/0\n/mnt/H_DRIVE/FlowIntent/Location/0\ncom.icq.mobile\n/mnt/H_DRIVE/FlowIntent/Location/0/google/commu/com.icq.mobile\n['+1', '530-601-3355', 'Sign in', 'Please enter your phone number.', 'By continuing, you accept the Privacy Policy', 'I already have an account']\ncom.mobanyware\n/mnt/H_DRIVE/FlowIntent/Location/0/google/commu/com.mobanyware\n['WifiAnyware', 'moobilenetx', 'Signal: Excellent', 'BSSID: 6c:f3:7f:ab:bb:e2', '[WPA2-EAP-CCMP][ESS]', 'eduroam', 'Signal: Excellent', 'BSSID: 6c:f3:7f:ab:bb:e1', '[WPA2-EAP-CCMP][ESS]', 'PENGFEI-Network', 'Signal: Excellent', 'BSSID: 60:a4:4c:6a:2f:60', '[WPA2-PSK-CCMP][WPS][ESS]', 'moobilenetx', 'Signal: Good', 'BSSID: 6c:f3:7f:ab:bb:a2', '[WPA2-EAP-CCMP][ESS]', 'eduroam', 'Signal: Good', 'BSSID: 6c:f3:7f:ab:bb:a1', '[WPA2-EAP-CCMP][ESS]', 'eduroam', 'Signal: Fair', 'BSSID: 6c:f3:7f:ab:bc:61', '[WPA2-EAP-CCMP][ESS]', 'moobilenetx', 'Signal: Fair', 'BSSID: 6c:f3:7f:ab:bb:42', '[WPA2-EAP-CCMP][ESS]', 'moobilenetx', 'Signal: Fair']\ncom.freedompop.freedompopwifi\n/mnt/H_DRIVE/FlowIntent/Location/0/google/commu/com.freedompop.freedompopwifi\n['Terms & Conditions', 'Please Read the License Agreement Below', 'FreedomPop WiFi is licensed to you for your personal use. This app will automate the functionality of the WiFi radio in your smartphone by enabling/disabling the WiFi radio and connecting you automatically to certain hotspots based upon the settings you choose. The app will also access and use your location, and other profile and usage information to customize content. By clicking accept, downloading, installing or using the app, you indicate that you have read and accepted the terms of the License Agreement below and that you consent to the use of your information in accordance with these terms. Data and messaging rates may apply to the use of this app.', 'FULL LICENSE AGREEMENT', 'Accept', 'Quit']\ncom.wEmailforGmail\n/mnt/H_DRIVE/FlowIntent/Location/0/google/commu/com.wEmailforGmail\n['Email for Gmail']\ncom.truecaller\n/mnt/H_DRIVE/FlowIntent/Location/0/google/commu/com.truecaller\n[\"Truecaller isn't responding. Do you want to close it?\", 'Wait', 'OK']\norg.netTalk.smartphone\n/mnt/H_DRIVE/FlowIntent/Location/0/google/commu/org.netTalk.smartphone\n['Sign In', 'Create an account']\ncom.electricpocket.ringo\n/mnt/H_DRIVE/FlowIntent/Location/0/google/commu/com.electricpocket.ringo\n['Ringo Lite', 'Defaults', 'Contacts', 'Ringtone', 'Orion', 'SMS Tone', 'Deneb', 'Silent', 'Alert Styles', 'Get more...']\ncom.wephoneapp\n/mnt/H_DRIVE/FlowIntent/Location/0/google/commu/com.wephoneapp\n['Dear Customer, thank you for using WePhone, you can make calls right now with 20 cents free gift credit!\\n\\nPlease be advised that: \\n\\n1. you can switch between the Standard, Gold, VIP Service in Info tab, each has different rates. \\n\\n2. caller id display is enabled after your display phone number being set. \\n\\n3. you can purchase credit using Google Wallet account in Recharge tab with single click.', 'OK']\ncom.moplus.gvphone\n/mnt/H_DRIVE/FlowIntent/Location/0/google/commu/com.moplus.gvphone\n['Free calls & text to any phone numbers around the world.', 'Free calls / text / walkie-talkie with friends.', 'Continue']\n/mnt/H_DRIVE/FlowIntent/Location/0\n/mnt/H_DRIVE/FlowIntent/Location/0\n/mnt/H_DRIVE/FlowIntent/Location/0\n/mnt/H_DRIVE/FlowIntent/Location/0\n/mnt/H_DRIVE/FlowIntent/Location/0\n/mnt/H_DRIVE/FlowIntent/Location/0\n/mnt/H_DRIVE/FlowIntent/Location/0\n/mnt/H_DRIVE/FlowIntent/Location/0\n/mnt/H_DRIVE/FlowIntent/Location/0\n/mnt/H_DRIVE/FlowIntent/Location/0\ncom.cercaapp\n"
     ]
    },
    {
     "name": "stdout",
     "output_type": "stream",
     "text": [
      "/mnt/H_DRIVE/FlowIntent/Location/0/google/social/com.cercaapp\n['Unfortunately, Cerca has stopped.', 'OK']\ncom.meetup\n/mnt/H_DRIVE/FlowIntent/Location/0/google/social/com.meetup\n['Meetups bring people\\ntogether', 'The Outdooraholics Super 18s Meetup\\nLondon, UK', 'Log in', 'Next']\ncom.evac.tsu\n/mnt/H_DRIVE/FlowIntent/Location/0/google/social/com.evac.tsu\n['Username or email', 'Sign In', 'Already a Member and forgot your password', 'Not a member? Create Your Account']\ncom.keek\n/mnt/H_DRIVE/FlowIntent/Location/0/google/social/com.keek\n['Get Started', 'Already an EP / MeToo Member?', 'Log In']\ncom.handmark.tweetcaster\n/mnt/H_DRIVE/FlowIntent/Location/0/google/social/com.handmark.tweetcaster\n['New in 8.9!', '+ More Details option allows a detailed tweet view with extensive options\\n\\n+ UI improvements for viewing Media on tablet and Tweet Options on phone\\n\\n+ Bug fixes', 'OK']\ncom.wildec.meet24\n/mnt/H_DRIVE/FlowIntent/Location/0/google/social/com.wildec.meet24\n['Already have an account?\\n\\nSign in here', 'First time here?\\n\\nCreate new account', 'Login with Facebook']\ncom.radaris.contact\n/mnt/H_DRIVE/FlowIntent/Location/0/google/social/com.radaris.contact\n['Search', 'My List', 'About']\ncom.destinymatchmaking\n/mnt/H_DRIVE/FlowIntent/Location/0/google/social/com.destinymatchmaking\n['Initializing...']\ncom.choiceoflove.dating\n/mnt/H_DRIVE/FlowIntent/Location/0/google/social/com.choiceoflove.dating\n['Livia25 (25) from West Sacramento', 'Register for free', 'Login', 'Help']\ncom.portafolio.wekho\n/mnt/H_DRIVE/FlowIntent/Location/0/google/social/com.portafolio.wekho\n['Update Google Play services', \"This app won't run unless you update Google Play services.\", 'Update']\nru.mamba.client\n/mnt/H_DRIVE/FlowIntent/Location/0/google/social/ru.mamba.client\n[\"Mamba isn't responding. Do you want to close it?\", 'Wait', 'OK']\ncom.redwolfama.peonylespark.google\n/mnt/H_DRIVE/FlowIntent/Location/0/google/social/com.redwolfama.peonylespark.google\n['Login', 'Sign up']\ncom.datingflirty\n/mnt/H_DRIVE/FlowIntent/Location/0/google/social/com.datingflirty\n['Male', 'Female', 'Date of birth', 'Email', 'or', 'Phone', 'Join now', 'You declare to be 18+ and to accept Terms of Membership', 'Or use for sign up:', 'facebook', 'Google+', 'We protect your privacy.\\nNo information will be posted on Facebook.']\ncom.wamba.client\n/mnt/H_DRIVE/FlowIntent/Location/0/google/social/com.wamba.client\n['Sign in', 'Username or E-mail', 'Sign In', 'Sign Up', 'Forgot your password?', 'Sign in with']\ncom.bartrendr.bartrendr\n/mnt/H_DRIVE/FlowIntent/Location/0/google/social/com.bartrendr.bartrendr\n[\"BARTRENDr isn't responding.\\n\\nDo you want to close it?\", 'Wait', 'OK']\ncom.followmania\n/mnt/H_DRIVE/FlowIntent/Location/0/google/social/com.followmania\n[\"We don't store\\nyou login details\", 'Login with Instagram']\ncom.instabridge.android\n/mnt/H_DRIVE/FlowIntent/Location/0/google/social/com.instabridge.android\n['My profile', 'Discover', 'Breeds', 'Users', 'Browse', 'Games', \"Who's Cuter\", 'Settings', 'Feedback']\ncom.find.dates.local.nearby\n/mnt/H_DRIVE/FlowIntent/Location/0/google/social/com.find.dates.local.nearby\n[]\ncom.singlesaroundme.android\n/mnt/H_DRIVE/FlowIntent/Location/0/google/social/com.singlesaroundme.android\n['Loading (metadata)…']\ncom.nimbuzz\n/mnt/H_DRIVE/FlowIntent/Location/0/google/social/com.nimbuzz\n['One on One Chat', 'Send and receive chat messages, photos, audio messages, and video messages', 'Sign in', 'Sign up']\ncom.paltalk.chat.android\n/mnt/H_DRIVE/FlowIntent/Location/0/google/social/com.paltalk.chat.android\n['New Pals Worldwide', 'Browse through live conversations from all over the world', 'Sign Up', 'Log In']\ncom.boyahoy.android\n/mnt/H_DRIVE/FlowIntent/Location/0/google/social/com.boyahoy.android\n[\"BoyAhoy isn't responding. Do you want to close it?\", 'Wait', 'OK']\n"
     ]
    },
    {
     "name": "stdout",
     "output_type": "stream",
     "text": [
      "com.match.android.matchmobile\n/mnt/H_DRIVE/FlowIntent/Location/0/google/social/com.match.android.matchmobile\n[\"Match isn't responding.\\n\\nDo you want to close it?\", 'Wait', 'OK']\nru.ok.android\n/mnt/H_DRIVE/FlowIntent/Location/0/google/social/ru.ok.android\n['Логин', 'Войти', 'Забыли пароль?', 'Служба поддержки', 'Регистрация']\n/mnt/H_DRIVE/FlowIntent/Location/0\n/mnt/H_DRIVE/FlowIntent/Location/0\n/mnt/H_DRIVE/FlowIntent/Location/0\n/mnt/H_DRIVE/FlowIntent/Location/0\n/mnt/H_DRIVE/FlowIntent/Location/0\n/mnt/H_DRIVE/FlowIntent/Location/0\n/mnt/H_DRIVE/FlowIntent/Location/0\n/mnt/H_DRIVE/FlowIntent/Location/0\n/mnt/H_DRIVE/FlowIntent/Location/0\n/mnt/H_DRIVE/FlowIntent/Location/0\n/mnt/H_DRIVE/FlowIntent/Location/0\n/mnt/H_DRIVE/FlowIntent/Location/0\n/mnt/H_DRIVE/FlowIntent/Location/0\n/mnt/H_DRIVE/FlowIntent/Location/0\n/mnt/H_DRIVE/FlowIntent/Location/0\n/mnt/H_DRIVE/FlowIntent/Location/0\n/mnt/H_DRIVE/FlowIntent/Location/0\n/mnt/H_DRIVE/FlowIntent/Location/0\n/mnt/H_DRIVE/FlowIntent/Location/0\n/mnt/H_DRIVE/FlowIntent/Location/0\n/mnt/H_DRIVE/FlowIntent/Location/0\n/mnt/H_DRIVE/FlowIntent/Location/0\n/mnt/H_DRIVE/FlowIntent/Location/0\n/mnt/H_DRIVE/FlowIntent/Location/0\n/mnt/H_DRIVE/FlowIntent/Location/0\ncom.itg.cosmopolitan0629-03-44-14\n/mnt/H_DRIVE/FlowIntent/Location/0/google/news/com.itg.cosmopolitan0629-03-44-14\n[\"Today's Pick\", \"CELEBRATING VIVIEN LEIGH'S 101st BIRTH ANNIVERSARY WITH SOME INTERESTING FACTS ABOUT THE ACTRESS\", \"Ranked as the 16th greatest female movie star of all time by the \\nAmerican Film Institute, Vivien Leigh is an actress with captivating \\nscreen presence. Best known for her portrayal of Scarlett O'Hara in Gone\\n With the Wind, we bring you some interesting facts on the actress's \\n101st birth anniversary. \", 'Calorie Tracker', 'Your Daily Summary', 'JUN 29, 2015', '0', 'CALORIES REMAINING', 'Photos', 'Disney Princesses Getting Their Movember On!', 'Leonardo DiCaprio Doing Things!', \"26 Times We Wanted To Get Our Hands On Zayn Malik's Shirt\", '16 Badass Ways to Show Off Your Bra', 'Cosmo Features', 'Calorie Tracker', 'Cover \\nGirl', 'Share Secrets']\ncom.breakingnews0629-17-11-58\n/mnt/H_DRIVE/FlowIntent/Location/0/google/news/com.breakingnews0629-17-11-58\n['GET PUSH ALERTS', 'Enable push notifications to get occasional alerts for major stories and topics you choose.', 'Not now', 'Enable']\ncom.Time0629-15-01-44\n/mnt/H_DRIVE/FlowIntent/Location/0/google/news/com.Time0629-15-01-44\n['Top Stories', 'The Last Holdout Has Now Issued Gay Marriage Licenses', 'Supreme Court Keeps Texas Abortion Clinics Open for Now', 'California Lawmakers Pass Strict School Vaccine Bill', 'NBC Cuts Ties With Donald Trump Over Immigration Remarks', 'Escaped Prisoners Initially Planned to Drive to Mexico']\ncom.pagesuite.newsday0629-17-58-22\n/mnt/H_DRIVE/FlowIntent/Location/0/google/news/com.pagesuite.newsday0629-17-58-22\n['Digital access is FREE for Newsday subscribers and Optimum Online customers.', 'Log in using your Newsday login or Optimum ID', 'Email Address or Optimum ID', 'Forgot Password', 'For Non-subscribers', 'Continue', 'Log in', \"By logging in you agree to Newsday's Terms of Service and Privacy Policy\"]\ncom.onelouder.baconreader0629-22-48-51\n/mnt/H_DRIVE/FlowIntent/Location/0/google/news/com.onelouder.baconreader0629-22-48-51\n['BaconReader', \"What's New in 4.0.4:\", 'Added CSS parser for spoilers', 'Updated to Google Purchase Billing API 3', 'Fixed crash opening posts from widget', 'Fixed widget getting stuck with loading fresh stories', 'Fixed 4x1 widget loading previous image/post', 'Added refresh to 4x2 scrolling widget', 'Fixed post refreshing to top when editing comment', 'Fixed post refresh when voting in slideshow mode', 'Fixed FrontPage is private on occasion', 'Fixed crash when hiding post on tablet', 'Misc bug fixes', 'Exit this screen', 'or', 'See the tutorial', 'NOW VIEWING', 'Front Page', \"What's hot\", '3865', 'Was just tipped like this..', 'to r/funny by Twinkiepocalypse (imgur.com) \\n4 hours ago\\n241 comments', '3723', 'Shia would be so proud.', 'to r/pics by legitmgu (i.imgur.com) \\n4 hours ago\\n172 comments', '2891', 'Chat roulette should shadowban masturbating men by secretly connecting them only to other shadowbanned people.', 'NSFW', 'to r/Showerthoughts by -Mikee (self.Showerthoughts) \\n3 hours ago\\n138 comments', '5424', 'US now has more Spanish speakers than Spain – only Mexico has more', 'to r/worldnews by BakerAtNMSU (theguardian.com) \\n6 hours ago\\n2577 comments', 'LOG IN']\nnet.aljazeera.english0629-14-02-32\n/mnt/H_DRIVE/FlowIntent/Location/0/google/news/net.aljazeera.english0629-14-02-32\n[\"Egypt's state prosecutor killed in Cairo bomb attack\", '1 Hour ago', 'MIDDLE EAST', \"EU chief feels 'betrayed' over Greek debt talks\", '4 Hours ago', 'BUSINESS & ECONOMY', '3 Hours ago', 'HUMANITARIAN CRISES']\norg.kqed.android0629-19-55-34\n/mnt/H_DRIVE/FlowIntent/Location/0/google/news/org.kqed.android0629-19-55-34\n['Fresh Air', 'KQED 88.5 FM']\ncom.microsoft.bing\n/mnt/H_DRIVE/FlowIntent/Location/0/google/news/com.microsoft.bing\n生活实用 必应搜索\n"
     ]
    },
    {
     "name": "stdout",
     "output_type": "stream",
     "text": [
      "['Input words or domain name']\nde.androidpit.app0629-19-02-28\n/mnt/H_DRIVE/FlowIntent/Location/0/google/news/de.androidpit.app0629-19-02-28\n[]\n/mnt/H_DRIVE/FlowIntent/Location/0\n/mnt/H_DRIVE/FlowIntent/Location/0\n/mnt/H_DRIVE/FlowIntent/Location/0\n/mnt/H_DRIVE/FlowIntent/Location/0\n/mnt/H_DRIVE/FlowIntent/Location/0\n/mnt/H_DRIVE/FlowIntent/Location/0\n/mnt/H_DRIVE/FlowIntent/Location/0\n/mnt/H_DRIVE/FlowIntent/Location/0\ncom.microsoft.bing\n/mnt/H_DRIVE/FlowIntent/Location/0/google/news/com.microsoft.bing/com.microsoft.bing\n生活实用 必应搜索\n['new version update V4.3.1.20150702', 'Update details', '1. 采用了新的更新机制\\n2. 更新壁纸保存路径到“必应美图”\\n3. 采用新的界面加载机制，提高加载性能\\n4. 修复Crash和Bug\\n        ', 'Ignore', 'Download']\n/mnt/H_DRIVE/FlowIntent/Location/0\n/mnt/H_DRIVE/FlowIntent/Location/0\n/mnt/H_DRIVE/FlowIntent/Location/0\ncom.arcsoft\n/mnt/H_DRIVE/FlowIntent/Location/0/google/photo/com.arcsoft\n[\"Let's get started!\", 'You can choose a photo…', 'Camera', 'Gallery', 'Use a recent photo…', 'Or use a sample.', 'Design', 'Mirror', 'Me']\ncom.picframes.instaframe\n/mnt/H_DRIVE/FlowIntent/Location/0/google/photo/com.picframes.instaframe\n[]\njb.development.sketch\n/mnt/H_DRIVE/FlowIntent/Location/0/google/photo/jb.development.sketch\n[]\ncom.instamag.activity\n/mnt/H_DRIVE/FlowIntent/Location/0/google/photo/com.instamag.activity\n['Attention', 'To store and share pictures from this app, you must first create an account.', 'Skip', 'Add account...']\ncom.PinnacleLabs.BackgroundReplacement\nkr.co.smartstudy.enaphotomerge_free_googlemarket\n/mnt/H_DRIVE/FlowIntent/Location/0/google/photo/kr.co.smartstudy.enaphotomerge_free_googlemarket\n['Layout', '1 Photo', '2 Photos', '3 Photos', 'Change the layout', 'Layout', 'Frame', 'Option', 'Save']\ncom.myphoto.EyeColorPhotoBooth\n/mnt/H_DRIVE/FlowIntent/Location/0/google/photo/com.myphoto.EyeColorPhotoBooth\n[]\ncom.jsdev.instasize\n/mnt/H_DRIVE/FlowIntent/Location/0/google/photo/com.jsdev.instasize\n['Stitch', 'InstaSize', 'Camera', 'Borders', 'Layers']\ncom.thegiantsquare\n/mnt/H_DRIVE/FlowIntent/Location/0/google/photo/com.thegiantsquare\n['Go Pro!', 'settings', 'manual']\ncom.selfie\n/mnt/H_DRIVE/FlowIntent/Location/0/google/photo/com.selfie\n[]\ncom.meitu.meipaimv\n/mnt/H_DRIVE/FlowIntent/Location/0/google/photo/com.meitu.meipaimv\n[]\norg.urbian.android.tools.vintagecam\n/mnt/H_DRIVE/FlowIntent/Location/0/google/photo/org.urbian.android.tools.vintagecam\n[]\ncom.baseapp.eyeem\n/mnt/H_DRIVE/FlowIntent/Location/0/google/photo/com.baseapp.eyeem\n[]\nnet.rena.roadmovie.lite\n/mnt/H_DRIVE/FlowIntent/Location/0/google/photo/net.rena.roadmovie.lite\n['Error', 'Error: Problem setting up in-app billing :IabResult: Billing service unavailable on device. (response: 3:Billing Unavailable)', 'OK']\ncom.myphoto.MakeMeDragon_sdk\n/mnt/H_DRIVE/FlowIntent/Location/0/google/photo/com.myphoto.MakeMeDragon_sdk\n[]"
     ]
    },
    {
     "name": "stdout",
     "output_type": "stream",
     "text": [
      "\ncom.photofy.android\n/mnt/H_DRIVE/FlowIntent/Location/0/google/photo/com.photofy.android\n['Give us a second while we load the magic...']\n/mnt/H_DRIVE/FlowIntent/Location/0\n/mnt/H_DRIVE/FlowIntent/Location/0\n/mnt/H_DRIVE/FlowIntent/Location/0\n/mnt/H_DRIVE/FlowIntent/Location/0\n/mnt/H_DRIVE/FlowIntent/Location/0\n/mnt/H_DRIVE/FlowIntent/Location/0\n/mnt/H_DRIVE/FlowIntent/Location/0\n/mnt/H_DRIVE/FlowIntent/Location/0\n/mnt/H_DRIVE/FlowIntent/Location/0\n/mnt/H_DRIVE/FlowIntent/Location/0\n/mnt/H_DRIVE/FlowIntent/Location/0\n/mnt/H_DRIVE/FlowIntent/Location/0\n/mnt/H_DRIVE/FlowIntent/Location/0\n/mnt/H_DRIVE/FlowIntent/Location/0\n/mnt/H_DRIVE/FlowIntent/Location/0\n/mnt/H_DRIVE/FlowIntent/Location/0\n/mnt/H_DRIVE/FlowIntent/Location/0\ncom.myboyfriendisageek.videocatcher.demo\n/mnt/H_DRIVE/FlowIntent/Location/0/google/media/com.myboyfriendisageek.videocatcher.demo\n['Android Video Downloader Free', 'Would you like to watch video tutorial?', 'Never', 'Cancel', 'OK']\ncom.filmon.android.aff49577Hy\n/mnt/H_DRIVE/FlowIntent/Location/0/google/media/com.filmon.android.aff49577Hy\n['OK', 'VidaLoca.TV', 'Live TV', '+600 Live TV Channels', 'On Demand', '+45,000 Movies & Shows', 'Film you', 'Start your own Social TV channel', 'Recordings', 'Subscriptions', 'Login', 'Preferences', 'About']\nco.touchlab.android.onesecondeveryday\n/mnt/H_DRIVE/FlowIntent/Location/0/google/media/co.touchlab.android.onesecondeveryday\n['1 SECOND EVERYDAY', 'CROWDS', 'ENTER CROWDS', '1 SECOND EVERYDAY', 'TIMELINES', 'ENTER TIMELINES']\ncom.everytv.android.aff75044Dk\n/mnt/H_DRIVE/FlowIntent/Location/0/google/media/com.everytv.android.aff75044Dk\n['Everywhere TV', 'Live TV', '+600 Live TV Channels', 'On Demand', '+45,000 Movies & Shows', 'Film you', 'Start your own Social TV channel', 'Recordings', 'Subscriptions', 'Login', 'Preferences', 'About', 'OK']\ncom.badoinkfree\n/mnt/H_DRIVE/FlowIntent/Location/0/google/media/com.badoinkfree\n['www.airpush.com/technology_privacy']\ncom.frostwire.android.tv\n/mnt/H_DRIVE/FlowIntent/Location/0/google/media/com.frostwire.android.tv\n['OK', 'FrostWire TV', 'Live TV', '+600 Live TV Channels', 'On Demand', '+45,000 Movies & Shows', 'Film you', 'Start your own Social TV channel', 'Recordings', 'Subscriptions', 'Login', 'Preferences', 'About']\ncom.filmonxcom.android\n/mnt/H_DRIVE/FlowIntent/Location/0/google/media/com.filmonxcom.android\n['OK', 'FilmOn Live TV EA', 'Live TV', '+600 Live TV Channels', 'On Demand', '+45,000 Movies & Shows', 'Film you', 'Start your own Social TV channel', 'Recordings', 'Subscriptions', 'Login', 'Preferences', 'About']\ncom.filmon.lenovo.livefreetv\n/mnt/H_DRIVE/FlowIntent/Location/0\n/mnt/H_DRIVE/FlowIntent/Location/0\n/mnt/H_DRIVE/FlowIntent/Location/0\n/mnt/H_DRIVE/FlowIntent/Location/0\n/mnt/H_DRIVE/FlowIntent/Location/0\n/mnt/H_DRIVE/FlowIntent/Location/0\n/mnt/H_DRIVE/FlowIntent/Location/0\n/mnt/H_DRIVE/FlowIntent/Location/0\n/mnt/H_DRIVE/FlowIntent/Location/0\ncom.aranoah.healthkart.plus\n/mnt/H_DRIVE/FlowIntent/Location/0/google/med/com.aranoah.healthkart.plus\n['Updates Available!Update your app to experience a brand-new UI and an easier way to order medicines! ', 'UPDATE', 'SKIP']\ncom.horadomedicamento\n/mnt/H_DRIVE/FlowIntent/Location/0/google/med/com.horadomedicamento\n[\"Pill Reminder isn't responding.\\n\\nDo you want to close it?\", 'Wait', 'OK']\ncom.luckyxmobile.babycare\n/mnt/H_DRIVE/FlowIntent/Location/0/google/med/com.luckyxmobile.babycare\n[\"Baby Care isn't responding.\\n\\nDo you want to close it?\", 'Wait', 'OK']\ncom.touchsurgery\n/mnt/H_DRIVE/FlowIntent/Location/0/google/med/com.touchsurgery\n['Update Google Play services', \"This app won't run unless you update Google Play services.\", 'Update']\n/mnt/H_DRIVE/FlowIntent/Location/0\n/mnt/H_DRIVE/FlowIntent/Location/0\n/mnt/H_DRIVE/FlowIntent/Location/0\n/mnt/H_DRIVE/FlowIntent/Location/0\n/mnt/H_DRIVE/FlowIntent/Location/0\ncom.hemaapp.hm_dbsix\n/mnt/H_DRIVE/FlowIntent/Location/0/6/com.hemaapp.hm_dbsix\n"
     ]
    },
    {
     "name": "stdout",
     "output_type": "stream",
     "text": [
      "生活实用 六公里\n[]\ncom.ishow.dmrw89\n/mnt/H_DRIVE/FlowIntent/Location/0/6/com.ishow.dmrw89\n生活实用 美容网\n[]\ncom.vhall.direct\n/mnt/H_DRIVE/FlowIntent/Location/0/6/com.vhall.direct\n"
     ]
    },
    {
     "name": "stdout",
     "output_type": "stream",
     "text": [
      "生活实用 微吼直播\n['推荐', '广场', '关注', '2', '走入意大利顶级名庄——爱唯侬堡（Avignonesi）', '07-23 19:00', '播放:0次', '1', '新京报寻找中国创客|智能硬件论坛', '07-22 13:30', '播放:0次', '0', '创业者如何讲述项目？', '07-22 14:00', '播放:0次', '0', '把脉堂公益大讲堂—01—儿科三伏贴', '07-22 16:00', '播放:0次', '2', '2']\ncn.apps123.shell.zhangshangjiaoyujigou\n/mnt/H_DRIVE/FlowIntent/Location/0/6/cn.apps123.shell.zhangshangjiaoyujigou\n生活实用 掌上教育机构\n['首页', '课程分类', '培训机构', '我的教育', '更多', '搜索你喜欢的内容', '今日热点', '精品推荐', '购物指南', '更多', '英语课程', '日语课程']\ncom.sub4.voanormal\n/mnt/H_DRIVE/FlowIntent/Location/0/6/com.sub4.voanormal\n生活实用 VOA常速英语\n['VOA常速英语']\ncom.yihaohuoche.truck\n/mnt/H_DRIVE/FlowIntent/Location/0/6/com.yihaohuoche.truck\n生活实用 一号货车司机\n['登录', '手机号', '请输入您的手机号码', '密   码 ', '登录', '忘记密码？立即重设', '    新用户注册    ']\ncom.zhangyun.ylxl.customer\n"
     ]
    },
    {
     "name": "stdout",
     "output_type": "stream",
     "text": [
      "/mnt/H_DRIVE/FlowIntent/Location/0/6/com.zhangyun.ylxl.customer\n生活实用 鸭梨心理\n['鸭梨心理', '免费咨询', '心理体检', '找咨询师', '专家预约', '找医生', '心理求助', '分类查找', '我的咨询', '个人中心']\ncom.ishow.dynyc63\n/mnt/H_DRIVE/FlowIntent/Location/0/6/com.ishow.dynyc63\n生活实用 云南药材\n[]\n[]\ncom.sesame.android.gyzl\n/mnt/H_DRIVE/FlowIntent/Location/0/6/com.sesame.android.gyzl\n生活实用 公寓租赁\n['公寓租赁', '关于我们', '加盟我们', '关注我们', '更多信息', '精品推荐', '全部 >', '首页', '商铺', '产品', '购物车', '我的']\ncom.ishow.dkqsq10\n/mnt/H_DRIVE/FlowIntent/Location/0/6/com.ishow.dkqsq10\n"
     ]
    },
    {
     "name": "stdout",
     "output_type": "stream",
     "text": [
      "生活实用 孔雀社区\n[]\ncom.ishow.dlsw29\n/mnt/H_DRIVE/FlowIntent/Location/0/6/com.ishow.dlsw29\n生活实用 乐送网\n[]\npts.PhoneGap.namespace_mrjkw\n/mnt/H_DRIVE/FlowIntent/Location/0/6/pts.PhoneGap.namespace_mrjkw\n生活实用 美容健康网\n['护肤技巧', '饮食美容', '美容养生', '减肥方法', '搜索', '饮食美容', '减肥方法', '个人护理']\ncom.vic.baoyanghuimerchant\n/mnt/H_DRIVE/FlowIntent/Location/0/6/com.vic.baoyanghuimerchant\n生活实用 宝养汇商家版\n['宝养汇', '用户名', '请输入用户名', '密码', '登录', '注册', '微信登录']\ncom.tixa.industry.search2c9480b74a5223a5014ae1f66c64005e.service\n/mnt/H_DRIVE/FlowIntent/Location/0/6/com.tixa.industry.search2c9480b74a5223a5014ae1f66c64005e.service\n"
     ]
    },
    {
     "name": "stdout",
     "output_type": "stream",
     "text": [
      "生活实用 律师\n['律师', '请输入关键词', '主页', '热点', '问答', '我的', '设置']\ncom.dahe.yanyu\n/mnt/H_DRIVE/FlowIntent/Location/0/6/com.dahe.yanyu\n生活实用 眼遇\n['签到   +', '每日签到送积分', '骑友', '驴友', '车友', '摄影', '亲子', '美食', '购物', '情感', '汇聚各类好玩的活动', '让爱心洒满中原', '7月22日河南洛阳正骨医院郑州院区义诊快报', '首页', '圈子', '聚精彩', '消息', '我的']\ncom.eastday.listen_news\n/mnt/H_DRIVE/FlowIntent/Location/0/6/com.eastday.listen_news\n生活实用 翱翔\n['今日推荐', '淞沪抗战遗址四行仓库即将重新开放', '调整栏目', '热\\u3000点', '韩正：上海欢迎新开发银行在沪开业 ']\ncom.ytinfo.mlcf\n/mnt/H_DRIVE/FlowIntent/Location/0/6/com.ytinfo.mlcf\n生活实用 电子黄页\n"
     ]
    },
    {
     "name": "stdout",
     "output_type": "stream",
     "text": [
      "['联系人', '请输入关键字', '#', '365关爱专线', '95105886', '365无忧通话', '4001120365', 'K', '口袋律师', '021-51397742', 'Y', '一刻会议', '053158963331', '联系人', '拨号', '电子黄页']\ncom.eagle.enumber\n/mnt/H_DRIVE/FlowIntent/Location/0/6/com.eagle.enumber\n生活实用 宝宝晓数字\n['学一学', '数一数', '关于', '应用', '分享']\ncom.lcworld.smartaircondition\n/mnt/H_DRIVE/FlowIntent/Location/0/6/com.lcworld.smartaircondition\n生活实用 插控儿\n['请输入手机号码', '登录', '记住密码', '忘记密码?', '注册账号']\ncom.movesky.chengyugame\n/mnt/H_DRIVE/FlowIntent/Location/0/6/com.movesky.chengyugame\n生活实用 成语闯关\n[]\ncom.haodf.android\n/mnt/H_DRIVE/FlowIntent/Location/0/6/com.haodf.android\n"
     ]
    },
    {
     "name": "stdout",
     "output_type": "stream",
     "text": [
      "生活实用 好大夫在线\n['免费咨询', '获得专家建议，诊前沟通联系', '按医院找', '按疾病找', '附近医院', '医生推荐', '神经病学中心', '马惠姿', '已开通:', '副主任医师    副教授', '北京天坛医院', '擅长: 主要诊治焦虑、抑郁、睡眠障碍，帕金森病及各种运动障碍，不安腿综合症，各种痴呆，老年性精神障碍，脑血管病。', '神经外科', '王贵怀', '已开通:', '服务', '我的医生', '找医生', '我']\ncom.bk.android.assistant\n/mnt/H_DRIVE/FlowIntent/Location/0/6/com.bk.android.assistant\n生活实用 宝宝助手\n['其他登录方式']\ncom.huang.aixinjiayao\n/mnt/H_DRIVE/FlowIntent/Location/0/6/com.huang.aixinjiayao\n生活实用 爱心家肴\n['爱心家肴', '爱心家肴', '\\ufeff新派毛血旺', '未读', '酸豆角炒肉', '未读', '酸笋炒腊肉', '未读', '懒人必备----川味麻辣豇豆', '未读', '爱的最高境界是经得起平淡的流年--宫保鸡丁', '未读', '蒜粒剁椒', '未读', '干煸麻辣排骨', '未读', '川味腊肠酱油炒饭', '未读']\ncn.apps123.shell.shanghaishicaiwang\n/mnt/H_DRIVE/FlowIntent/Location/0/6/cn.apps123.shell.shanghaishicaiwang\n生活实用 上海石材网\n['资讯', '商家', '产品', '会员', '供求', '展会', '留言', '信息', '论坛', '订单', '便民', '视频', '分享', '我们', '购物车', '收藏夹']\ncom.zhongsou.dongfangmeishi\n/mnt/H_DRIVE/FlowIntent/Location/0/6/com.zhongsou.dongfangmeishi\n"
     ]
    },
    {
     "name": "stdout",
     "output_type": "stream",
     "text": [
      "生活实用 餐厅大管家\n['老板', '管理', '厨师', '培训', '考察', '暖伴儿：在地铁公交上陪伴你', '“美味海底捞 欢乐青曲社” 中航华府周末嗨翻天', '海底捞\\n盛大晚宴答谢活动,活动现场不仅有青曲社名人相声表演,更有美味火辣的海底捞火锅供业主享受,同时还有精彩的抽奖互动!\\n名家相声表演\\n中航华府特邀青曲社著名相声大师为广大业主带来精彩表演,演员们不断抖出的段子,让现场爆笑连连。\\n火辣美食海底捞\\n现场精心准备了美味的海底捞火锅,...', '365地产家居网', '2015-06-07', '海底捞捞什么:成功的背后到底有什么秘密', '“海底捞”不仅“捞”出了超过50亿元的年营业额,“海底捞”不仅“捞”到了大部分顾客的心,更吸引我国大多数的餐饮企业到“海底捞”来“捞”法宝。\\n “海底捞”捞的是什么?\\n “海底捞”用什么在捞?\\n “海底捞”的老板究竟是何方神圣?\\n “海底捞”成功的背后...', '和讯网', '2015-06-07', '“海底捞”的管理文化反思']\ncom.hnxiaohu.huamu\n/mnt/H_DRIVE/FlowIntent/Location/0/6/com.hnxiaohu.huamu\n生活实用 移花接木\n[]\ncom.youxiang.soyoungapp\n/mnt/H_DRIVE/FlowIntent/Location/0/6/com.youxiang.soyoungapp\n生活实用 新氧美容\n['搜索项目，医生，医院', '术后日历', '项目宝典', '贴纸相机', '\\xa0\\xa0问诊卡', '医院查询', '限时特惠', '上海张兵教授 亲自操作平衡术之自体脂肪全脸塑形', '0天', '0小时', '0分', '0秒', '更多', '主页', '日记', '圈子', '约惠', '我']\ncom.sub4.yuerdaquan\n/mnt/H_DRIVE/FlowIntent/Location/0/6/com.sub4.yuerdaquan\n生活实用 育儿知识大全\n['首页', '下载', '历史记录', '80后母乳辣妈育儿记', '节目 2', '音乐育儿', '节目 20', '宝乐源育儿点滴', '节目 26', '晓丹育儿宝典', '节目 253']\ncn.apps123.shell.qipeimenhu\n/mnt/H_DRIVE/FlowIntent/Location/0/6/cn.apps123.shell.qipeimenhu\n"
     ]
    },
    {
     "name": "stdout",
     "output_type": "stream",
     "text": [
      "生活实用 汽配门户\n['汽配资讯', '汽配公司', '供求信息', '会员中心', '更多', '汽配资讯', '全部', '行业资讯', '行情动态', '市场分析', '汽车配件110网 中国汽车配件行业先进的B2B商业平台', '中国超美成最大新能源车市场', '新能源汽车的全球竞争格局正在发生变化。多年占据第一大市场的美...', ' 空气弹簧在政策法规影响下迎来发展春天', '2015年5月11日，2015北京国际道路运输、城市公交车辆及零部件展...']\ncom.tixa.industry.search2c9480b74cd4873c014ce50746ac07d1\n/mnt/H_DRIVE/FlowIntent/Location/0/6/com.tixa.industry.search2c9480b74cd4873c014ce50746ac07d1\n生活实用 肇庆房地产\n['肇庆房地产', '请输入关键词', '资讯', '热门消息', '[供应]', '房地产专用礼品7件套家用五金组合工具套装100起免费加印单色LOGO', '[资讯]', '江西房地产投资增长5.2%增速为全国第七（图）', '[商机]', '招商会移动服务平台上线 招商地产打造指尖上的生活家', '[资讯]', '京沪重返7时代 金融房地产双带动', '主页', '热点', '问答', '我的', '设置']\ncom.jdroid.compass\n/mnt/H_DRIVE/FlowIntent/Location/0/6/com.jdroid.compass\n生活实用 复古指南针\n['北偏东4', '-4.8517056']\ncom.ishow.djzfw60\n/mnt/H_DRIVE/FlowIntent/Location/0/6/com.ishow.djzfw60\n生活实用 家政服务\n[]\norg.vv.fiveElements\n/mnt/H_DRIVE/FlowIntent/Location/0/6/org.vv.fiveElements\n"
     ]
    },
    {
     "name": "stdout",
     "output_type": "stream",
     "text": [
      "生活实用 健康宝宝吉祥起名\n['健康宝宝吉祥起名', '五行计算', '取名类型', '精选名字', '同名查询', '宝宝出生日期', '傍晚6点', '计算', '五行取名（起名）就是利用人出生的年月日时的四柱五行来对相关的人、单位等起名。人的四柱八字五行是与生俱来的，是先天的，而名字是后天的，后天的名字五行可以对其先天五行的肯定、加强，更好地发挥先天五行所组成格局的本能，潜质。而对先天五行的不足，过旺或过弱，后天的名字所组成五行格局便犹显得其重要，后天的名字五行可以对其先天五行进行平抑、涉气或者对其进行扶助，使得其名字五行和四柱五行相互配合，相互益彰，优化四柱五行的结构。俗话说：名如其人，由此可见名字的重要。']\nfinebind.tv\n/mnt/H_DRIVE/FlowIntent/Location/0/6/finebind.tv\n \n['歡迎使用電視美食', '得知電視美食的最新情報、熱門美食資訊，歡迎加入粉絲團追蹤我們：)', '確定', '關閉']\ncom.zttx.android.wg\ncom.businessvalue.android.app\n/mnt/H_DRIVE/FlowIntent/Location/0/6/com.businessvalue.android.app\n生活实用 钛媒体\n['推荐', '发现', '25', '新文章', 'GoPro的新玩法，让用户在开放视频平台上卖版权！']\n['推荐', '发现', '25', '新文章', '商业价值', 'English', '文章竞拍', '钛媒体“人人都能写电影”正式运营，好故事写起来', '晨报', '苹果']\ncom.industry.dqyfwmh35\n/mnt/H_DRIVE/FlowIntent/Location/0/6/com.industry.dqyfwmh35\n"
     ]
    },
    {
     "name": "stdout",
     "output_type": "stream",
     "text": [
      "生活实用 企业服务门户\n['头条', '焦点新闻', '热点动态', '政策法规', '企业该如何去应对? ', '存款保险：银行洗牌时代来临', '存款保险制度的确立，以及利率市场化加速，这对于互联网金融、民营银行的良性发展意义重大。将来一部分管理能力差、经营不稳定、竞争力不强的银行就可能会被退出市场，或被整合和收购。酝酿20多年的存款保险制度终于出炉了。近日，国务院正式公布《存款保险条例》，并将于今年5月1日起正式实施。《条例》称，建立和规范存款保险制度，是为了“依法保护存款人的合法权益，及时防范和化解金融风险，维护金融稳定”。《条例》共计二十三条，其中强制规定所有的银行业金融机构，都必须依规投保存款保险。存款保险实行限额偿付，目前最高偿付50万元。此外，《条例》还实行差别费率，有观点认为，这将降低存款机构“道德风险”。今年全国两会答记者问时，国务院总理李克强就明确表示，今年，我们就要出台存款保险制度。他还指出，“我们允许个案性金融风险的发生，按市场化的原则进行清算，这是为了防止道德风险，也增强人们的风险意识”。而两会期间人民银行行长周小川的答问中，把存款保险制度推出的时间更具体一些；他表示，存款保险制度作为金融改革重要的一步棋，各方面条件已经基本成熟，“我个人估计，今年上半年就可以出台”。对于推出存款保险制度的意义，普遍的观点认为，这将有助于金融改革迈入深水区，我国金融改革整体推进已是箭在弦上。作为当前金融改革的重要环节，存款保险制度的建立，以及允许银行破产制度，体现了新一轮金融改革重在制度构建、重在完善市场、重在机制形成、重在资源配置与功能优化。引入并推出存款保险制度，是存款利率自由浮动的先决条件；可以说存款保险一“吹号”，利率市场化“在路上”！建立金融机构破产退出机制，建立存款保险制度，可视为进行利率市场化建设的最重要配套制度建设。当然，存保制度之下，也将意味着今后那些经营不善的银行可能会破产、被清算。存款保险制度的建立，也就意味打破了过去的“刚兑”机制，银行一旦倒闲，国家再也不兜底了。普通老百姓应准备树立银行存储及各种理财的风险意识：“鸡蛋不要放在一个篮子里”。建立存款保险制度，主要也在于防范系统性风险，而坚持市场化导向，进一步释放我国金融体系活力，建成起完善的金融机构体系、金融市场体系、金融运行体系和金融监管体系，使金融更好地为实体经济服务，也是这个制度推行的重要出发点。存款保险制度的确立，以及利率市场化加速，这对于互联网金融、民营银行的良性发展意义重大。最高偿付限额50万元，银行间存款分布可能比以前相对平衡，储户也可能会更多元化的投资，互联网金融和民营银行的发展也将更有空间和余地。尤其是出台存款保险制度，这无疑为发展民营银行扫清了障碍。在政策鼓励金融行业向民营资本开放的背景下，或许民营资本进入银行业的春天已经不远了。今后，银行体系内部之间、金融机构与非金融机构间、以及互联网金融与传统金融机构之间，谁能在竞争中脱颖而出，将更多地由市场来决定。这一方面有利于激活金融市场活力，有利于金融创新，进一步增强金融服务实体经济的能力；另一方面，普通老百姓也因为这种市场竞争得到更优的金融服务，也可以有更多的选择和更好的收益机会。当然，存款保险建立以后，银行业金融机构因强制投保，运营成本也将提高不少，利率市场化也将促进银行业洗牌，将来一部分管理能力差、经营不稳定、竞争力不强的银行就可能会被退出市场，或被整合和收购。如此来看，随着存款保险制度的推行，银行洗牌时代也将来临。', '2015-04-08', '一带一路：确定第三次改革开放大战略', '中国经过了三次改革开放，第一次是邓小平提出的建设特区；第二次是加入WTO；第三次是“一带一路”战略，这是在前两次基础上更大的开放，中国将把最好的东西拿出去《推动共建丝绸之路经济带和21世纪海上丝绸之路的愿景与行动》（以下简称“愿景与行动”）公布，酝酿近两年时间的“一带一路”指导性文件终于出台。不过，这八千多字的文件仍需要进一步解读。在“一带一路”战略提出后，像中国国际经济交流中心这样的高层智库都参与研究，并提出不少对策建议，有些已经写入战略。为此我们专访了中国国际经济交流中心副理事长兼秘书长、商务部原副部长魏建国。这是时隔一年多我们再次与他面对面，之前他提出的很多有预见性的观点，比如用产业园模式推进“一带一路”建设，已经写入战略。选择重点“驿站”《21世纪》：这次公布的“一带一路”文件称为“愿景与行动”，而不是原先我们设想的“一带一路”规划，这怎么理解？魏建国：这就发出一个信号，说明中国在这个问题上很重视又很慎重，不像以往那样搞模式为先、规划在先的做法，而是根据不同特点对逐个国家、城市和项目进行探讨，不追求模式、时间、路径和项目上的一致，而是带有弹性的，带有共同愿望的。《21世纪》：那接下来怎么推进，有没有实际的操作方案？魏建国：有，我认为下面就是由我们各部门与各个国家推进落实，通过资金、政策、项目和规划进行落实，但不是统一推进，而是各国自己可以决定。也不一定从离得最近的国家开始谈，有可能是从很远的国家开始，成熟一个是一个，条件最具备的先行。《21世纪》：“一带一路”愿景与行动公布后，内容还是与我们预想的有很多不同之处，您怎么看这个文件？魏建国：这个愿景规划是落实“一带一路”战略很好的东西。第一，它把“一带一路”一些规划和愿景细化，从时间上进行细化，规定在什么时间内完成什么项目。第二，在程序上也很细化，争取尽快跟“一带一路”国家实行五通，定了一个比较详细的路线图和时间表，比如要尽快和“一带一路”有关国家签订双边和区域的FTA（国家或地区间的自贸区），加快FTA谈判，也要加快和有关国家的BIT（双边投资协定）的谈判，还要加快和有些国家关于投资贸易保护协定的谈判。愿景规划的发表还是有利于推动五通的具体落实，我们已经在路线图、时间表上做了细化，下一步就是落实。落实过程中我认为还是要突出重点，因为丝绸之路经济带涉及13个国家，21世纪海上丝绸之路涉及52个国家，这65个国家不可能同时开展，所以我建议选择海上和陆上的驿站。未来选10到20个驿站作为“一带一路”的支撑点重点发展，在这个过程中产业园就很重要。《21世纪》：选择驿站或支撑点有什么标准？魏建国：主要是看对方需要，看条件的成熟度，以及政策沟通和道路沟通方面的成熟度。双方政策沟通之后，然后基础设施联通，再到货物流通和金融融通，最后到人心相通，总是有先有后。产业园是落地最好的平台《21世纪》：愿景与行动提出探索投资合作新模式，鼓励合作建设境外经贸合作区、跨境经济合作区等各类产业园区，促进产业集群发展。产业园为什么重要？魏建国：建设产业园是中国企业走出去最好的平台。第一，产业园是两国政府签订的，在所在国里双方合作的、各种条件具备的、有利于企业和当地税收就业等政策落实的最好平台。有两国政府的保障，避免企业走出去单打独斗。第二，产业园基础设施完善，方便企业入驻并办理当地的各种手续，包括税收、签证的办理，还有交通、原材料供应等都是产业园可以做的。《21世纪》：产业园是进行专业化分工，还是像以前中国所做的大杂烩？魏建国：这个产业园是针对当地的优势而建的，不是大杂烩。这是为当地量身定做、定向打造的适合当地优势的产业园，使得合作国家的基础工业、优势产业得到发展。这绝对不同于十多年前我们在巴基斯坦搞的海尔鲁巴伊和非洲赞比亚谦比西铜矿那种大杂烩式的，而是要把园区打造成为当地的基础工业基地、高新技术基地、机械制造和设备基地以及当地的出口加工基地，最后打造科技研发基地。《21世纪》：这意味着产业园有一定的准入门槛？魏建国：不是所有企业都能走出去，一定要具备一些条件，更重要的是要注意当地的社会责任，知道当地民众和市场的需要，和政府各部门合规交往，而不是采取桌下交易或走上层路线。这是中国企业展现新面孔的最好时机，也是决定中国企业能否在国际上立足、叫响的关键。对中国企业来讲，“一带一路”不像以往那样是个大杂烩，更不是企业一窝蜂到一个地方。为什么要搞支撑点、驿站，就是有资格有门槛，让我们公开、透明、合规的企业在“一带一路”战略下和当地企业进行合作。我们之所以在墨西哥的高铁和斯里兰卡的港口项目上出问题，一方面是外国势力阻挠，更重要的是我们在国外的企业对当地了解不够，应该更看重对当地的社会责任，尊重当地的法律法规，避免反对派和其他方面找到借口，这一点不克服，我们的项目永远走不出去。当然，不是所有的中国企业都有这种问题。应该再次强调，这次“一带一路”战略布局中国企业走出去时，要彻底打消窝里斗和无序的价格竞争。这一点各部门，尤其是商务部、发改委、外交部等要做好这方面工作，我们的驻外部门，特别是使馆的经商参处要发挥作用。开辟新市场重在共赢《21世纪》：在经济新常态下，“一带一路”也需要打造新的增长点，能不能起到这个作用，能开辟多大的市场？魏建国：我认为，中国经过了三次改革开放，第一次改革开放是邓小平提出的建设特区；第二次改革开放是加入WTO，这彻底改变了中国；第三次开放是“一带一路”战略，这是在前两次基础上更大的开放，是高层次、高水平、高质量的开放，中国将把最好的东西拿出去，不是像以前只拿一些中国不要的东西。所以这次改革开放在寻找新的市场的时候，一开始摒弃以前的观念把淘汰的产能转移出去。在寻找新市场的时候，不要首先考虑中国企业的利益，不要考虑中国自己一家的得利，要在“一带一路”建设中始终贯彻合作共赢、多予少取等原则。“一带一路”愿景规划很重要，愿景就是政府部门和企业不能急功近利，这是长期打造的东西，让当地企业、百姓和国家得到好处，觉得中国是个可依靠的伙伴。我以前在非洲工作，经常讲独家行走得快，同伴行走得远。“同伴”二字在对外关系中可能以后是关键词，我们不会打造同盟，永远是同伴关系，而不是像某些国家为一己私利不惜损害别国利益，“一带一路”愿景最终体现的是这个事情。《21世纪》：现在推进“一带一路”您最关心的是什么？会有什么困难和问题？魏建国：“一带一路”首先要选择好驿站和支撑点，关键是取得经验逐步推广，把“一带一路”尽快打造成互利共赢的模式。“一带一路”最后能不能受到欢迎，能不能进行推广和进一步发展，最终考验要看是不是可以取得共赢。“一带一路”最终中国和合作国家能不能取得互赢，能不能和亚投行的其他伙伴取得共赢，互赢和共赢是衡量“一带一路”能否成功的关键，我最担心的就是这个问题。《21世纪》：就是先打造利益共同体。魏建国：在命运共同体之前先把利益共同体打造好，利益都一致了，比如这个项目最终得益的是我们双方，那以后就慢慢会走到命运共同体，我最担心的就是利益共同体能否打造好。', '2015-04-08', '中行：今年或需降准2-3次', '目前我国经济下行压力较大，通胀水平较低，宏观政策宜继续坚持取件调控，积极财政政策要加力增效，货币政策要松紧适度，提高灵活性和针对性，在稳增长和“去杠杆”之间捏好平衡。中国银行今日发布的《2015年第二季度经济金融发展报告》认为，我国二季度的财政政策将加大力度。同时将继续减税降费，纵深推进投融资、财税体制改革，加快培育“双引擎”。报告预测一季度M2增速会维持在12%左右，二季度若出现降准等政策调整的情况下，M2增速可能会上升到12.5%左右。今年人民币信贷增速也不会低于去年，或在13％-14％之间，新增贷款10万-11万亿元左右。总体来看，今年的货币政策仍将保持稳健。在美元进入升值通道，人民币汇率双边波动趋势逐步确立的趋势下，我国企业和个人持有外汇的意愿将逐步增强，基础货币出现较大缺口，为满足流动性需求，我国未来可能需要降准2-3次进行对冲性操作。同时，我国PPI已经出现36个月负增长，反映出产能过剩的局面未有显著改观、制造业生产仍然呈收缩状况，实体经济增长面临一定压力。进一步的降息可以直接促使名义利率下降，引导市场利率下行、降低企业资金成本，帮助企业扩大再生产。如果短期内经济继续下行，进一步降息将是大概率事件。报告还认为，尽管今年以来在稳健基础上出现了放松，但这只是在新常态下的灵活应对操作，货币政策的立场和取向不是“刺激”而是“调整”。货币政策仍然在总体稳健的框架之内，不会发生政策取向变化。', '2015-04-08', '中国：即将从“印钞票时代”走向“印股票时代', 'A股近日火得有点发烫，疯狂停不下来，而沪指也已经练就“九阳神功”。A股继上周市场探上3632点，创近七年来新高后，23日沪指大涨近2%直逼3700点，而中小板指和创业板指亦携手创出历史新高。伴随着增量资金入市，沪深两市的日成交金额已连续5日突破万亿。去年以来中国股市持续走强，一方面是对过去几年股市滞后于经济增长的修正，另一方面则要归功于市场对本届政府各项经济和金融改革的良好预期。长期研究中国股市的纽约大学斯特恩商学院教授罗伯特•怀特洛认为，改革预期点燃了中国股市做多热情，成为此轮行情启动的导火索。同时，IPO注册制方案已经从证监会报到了国务院，《证券法》的修改工作也正在紧锣密鼓进行。种种迹象显示，注册制将在几个月后“粉墨登场”，而届时中国股市史无前例的大扩容时代到来了，也就是说中国“印股票时代”即将来临。罗伯特•怀特洛表示，中国现在已经是全球最重要的经济体之一，但金融危机以来，中国股市表现明显与中国经济发展不相符。他认为，中国股票市场建设近年来已取得长足进步，而中国政府描绘的改革蓝图更增强了投资者对中国经济以及股市的信心。他强调，随着中国各项改革的持续推进，中国股市表现不仅将成为未来经济增长的“晴雨表”，还将在一定程度上反映市场对各项改革的评估和预期。纽约大学斯特恩商学院副教授珍妮佛•卡彭特认为，目前中国Ａ股并不存在泡沫，但伴随Ａ股持续上涨，市场波动性将加剧。总体来看，只要中国金融体系的各项改革能持续推进，中国股市的未来表现将十分值得期待。中国金融改革的力度和广度将很大程度上决定未来股市的高度。而在未来，房地产市场将不再是全社会最大的资金池，中国人的财富配置将发生历史性转变。资深财经人士刘晓博说，普通家庭的资产，将由房子占80%到90%，金融资产只有10%到20%，逐步变成金融资产占30%以上，甚至占大头。其实，这正是当前这波股市行情产生的一大原因，也是很多人声称“历史性大牛市即将到来”的背景。之前，中国一直靠“印钞票保增长”， 通过货币超发带来资产泡沫，引发买房热情，从而推动城镇化高速发展。目前这条路已经走到了尽头，这不仅仅因为房屋供应量全面过剩，还因为企业负债率已经接近极限，再这样搞下去必然出现经济危机。而现在随着IPO 注册制改革的进行，中国将“面向社会融资”的天然权利归还给企业，从而激发民间创业、投资热情。一方面刺激了实业的发展，另一方面用“直接融资”替代走到了尽头的“间接融资”。那么中国将迎来“印股票的时代”。并且，中国高层已经在为此作顶层设计：3月23日，摩根大通中 国首席经济学家朱海斌指出，预测2015年第二季度将会有一次50个基点的降准和一次25个基点的降息，并结合一系列定向措施（如抵押补充贷款、中期借贷 便利、常备借贷便利、定向降准）来管理流动性。由于近期的增长势头和流动性动态，预计下一次降准最早可能出现在4月份。从央行自身货币调控手段的不断发展来看，今年进一步加大全面降准频率的概率在提高。尽管近年来央行调控流动性的手段不断创新，但全面性的存款准备金率的调 整依旧是作用更大、效果更为直接的一种量的调控手段。与其他的流动性调节手段如短期流动性调节工具（SLO）、中期借贷便利（MLF）等工具相较而言，下调存款准备金率会通过影响货币乘数的变化来放大最终流入信贷市场的流动性。上周央行到期续做了3500亿中期借贷便利(MLF)，并将增量至约4500亿至5000亿水平。1~2月财政 收入增速放缓至2012年3月以来最低的3.2%的背景下，财政支出同比大幅增长10.5%，去年下半年以来最高。资金面来看，目前资金利率显著下行。本周公开市 场净回笼250亿元，较上周净回笼530亿继续下降。隔夜、七天回购利率分别下行15、49个bp至3.27%、4.22%。而股市中，资金持续流入。3 月份以来融资余额增加2046亿至1.36万亿，超过去年12月的2000亿；新开户数达到72万户，为今年以来最高；证券账户保证金净流入9500亿，创历史最高纪录。这显然对牛市来说是一大利好，并且这个“温床”央行还会继续铺设下去。同时，央企改革也在从央行自身货币调控手段的不断发展来看，今年进一步加大全面降准频率的概率在提高。尽管近年来央行调控流动性的手段不断创新，但全面性的存款准备金率的调 整依旧是作用更大、效果更为直接的一种量的调控手段。与其他的流动性调节手段如短期流动性调节工具（SLO）、中期借贷便利（MLF）等工具相较而言，下调存款准备金率会通过影响货币乘数的变化来放大最终流入信贷市场的流动性。央企改革是今年国企改革的重点方向和主题，也是中国股市“改革牛”的头等大戏。种种迹象表明，央企改革的重头戏即将开演，改革的顶层设计方案、军民融合的国家战略以及央企合并重组，将成为这幕改革大戏中的三部曲。在央企改革的示范下，地方国企改革也将全面铺开。地方国企是中国国有经济的重要组成部分，2014年地方国企的营业收入占国企总收入的39%，利润占国企总利润的30%。从地方两会来看，31个省（区、市）的政府工作报告均对国企、国资改革重点着墨。“混合所有制”、“兼并重组”、“整体上市”、“国有资本投资公司试点”等，被确立为各地推进国企、国资改革的主要措施。随着央企改革的深入， 中国“印股票的时代”将步步走得稳健的多。而在这样财富大洗牌的新时代，谁将暴富，谁将失去原有的财富呢？刘晓博表示，最大受益者应该依次是：1、股票成功上市的创业者。这些人，其实就是“印股票的人”，他们的财富将获得数十倍上百倍，甚至成千上万倍的增长。最近看到福布斯的一篇报道：滴滴打车80万资金起家，3年就成长为 百亿级美元的移动互联网公司。未来，这种奇迹会不断发生。如果说“印钞票时代”，最大受益者是政府和房地产公司；那么“印股票时代”，最大受益者将是创业 者。政府由于无法通过“铸币税”和土地拍卖分红，获得的收益在下降。其实这是好事，未来的政府不应该再垄断那么多资源、赚那么多钱、扮演投资主力军，应该 把资源交还给社会，只提供好的公共服务。2、有眼光的投资人。在中国财富配置的新时代，会涌现大量的私募基金、投资公司，他们如星探一般寻找好项目、好的创业者，希望在上市前获得股权，承受高风险、享受高回报。3、中介机构。在企业成立、发展、筹备上市的过程中，需要大量专业人士参与，提供帮助。比如律师、会计师、保荐人、承销商等等，这些中介机构将获得源源不断的业务，同时也可能随时变身为投资人。他们也将获得巨额回报。4、二级市场的机构投资者。IPO注册制后，股票宽进宽出，而且上市公司多如牛毛，散户股民将越来越难在市场上生存，只能将钱交给机构投资者。机构投资者可以发挥市场研究、公司调研、资金等方面的优势，获得散户股民或者企业的投资理财委托。在这样一个变动的时代，中国“印股票的时代”正在从摇篮中摇摇晃晃地喷薄而出。而你为这样的时代做好准备了吗？', '2015-04-08', '中小企业扶持政策应加码', '3月汇丰中国制造业采购经理人指数（PMI）初值跌至49.2，创11个月新低。分析人士认为，经济增速下行，终端需求依然偏弱，政策宽松应继续发力，尤其应加大对中小企业的政策扶持。政策上除了要给中小企业减负，还应着力于为创业创新营造更好环境，从而进一步激活实体经济细胞。汇丰PMI下跌反映终端需求偏弱，经济下行压力较大。分项数据显示，新订单分项指数跌破荣枯分水岭至49.3，为2014年4月以来最低；就业指数连续第17个月低于50，创2009年2月以来低点。市场预期，一季度GDP同比增速可能为6.8%-7.1%。今年GDP增长预期目标为7%左右，当前的经济运行依然处在合理区间，对于经济增速下行不必过于担忧。但是，需求偏弱状况下企业转型升级面临的困难值得重视，尤其是对就业有着重要影响的中小企业。除在适当时机进一步推出总量宽松政策，还应加码定向宽松政策，为中小企业发展营造更好环境。从总量宽松角度看，应加快推出和实施“一带一路”规划，带动基建投资，对冲房地产投资增速疲软。从销售到投资滞后两季度的传导链条看，上半年估计难以看到房地产投资的真正企稳。同时，货币政策宽松预计不会停止，近期股市火爆的背后是居民资产配置变化，资金流向股市有利于上市公司再融资和通过股权质押手段获得更多间接融资。这同时意味着货币传导机制的改变，政策有待继续放松。从定向宽松角度看，中小企业生产经营面临的困难在加大，亟待政策扶持。汇丰PMI的调查样本集中于中小企业，产出指数在3月的下跌意味着中小企业生产活动疲弱。尽管简政放权、清费减税、商事制度改革等举措的推出对于提升中小企业的经营活力有重要作用，但毕竟政策红利的释放有一个过程，而通常情况下，大企业的生产扩张放缓必然会对中小企业形成冲击，因而扶持政策应长短结合，助力中小企业转型。具体而言，一是按照既定的目标进一步简政放权，用政府权力的“减法”，换取市场活力的“乘法”。二是要进一步加大减税力度，让中小企业在转型长跑的途中能够更加从容。三是加大间接融资和直接融资对于中小企业的支持，加快发展民营银行和区域性股权市场。四是加大知识产权保护力度，为创新创业做好服务工作。中小企业表面上看面临的是需求疲软问题，但根子在于需要加快创新，挖掘市场需求，谋求新的商机。不适应市场环境、转型较慢的企业可能会在这一轮经济转型的过程中被淘汰，而更多新的中小企业也会抓住机遇、乘势崛起。只要政策对路，大环境利于创业创新，中小企业的活力就会真正得到彰显，作为“双引擎”之一的“大众创业、万众创新”就会撑起中国经济一片新的天空。', '2015-04-08', '互联网+：加出一个未来', '李克强总理说，“站在‘互联网+’风口上，顺势而为，会使中国经济飞起来。”这个行业术语，经总理之口说出，一词风靡，众人狂欢。“互联网+”是何物？让我们如此兴奋。其实，“互联网+”只是一种工具。这是个蕴藏着巨大魔力的神奇工具。每个工具产生的背后，都见证着复杂的人类发展历程，从钻木取火到机械设备的出现，历经万年；从工业2.0时代到20世纪的电气化与自动化时代，跨越整整两个百年；以信息化为标志的3.0时代，经过几十年的艰难创新，已蝶化成如今的“互联网+”为标志的4.0时代。工具从无形到有形，从有形又到无形，推动了时代更替，社会发展，人类进步。历史上，工具的创新，是加速度的。当下，“互联网+”对于我们的影响更是加速的。我们最为关心的是，“互联网+”能给我们带来什么。一言概之，“互联网+”与什么联姻，就会使什么“飞起来”。在这个连接时代和扁平时代，你可以拒绝许多，但你不可能拒绝被连接与被+。今天，我们应该感到幸运的是，我们将从“互联网+”中得到我们想要的东西。它不仅带给我们加速运动，更催生出强大的精神革命。只因为有了移动互联网，把人与人、人与物、物与物再一次在时间、空间、需求上重新匹配。线上与线下（O2O）的互动，虚拟与现实的转换，为这个多彩的世界又注入了许多新意和未知。“互联网+”又不断地和万物融合，催生出你不可想象的万物。正所谓，道生一，一生二，二生三，在一定意义上说，“互联网+”就是当今的大道。更值得我们期待的是，“互联网+”时代，将催生出新的一代创客。“互联网+”给每一个人创业搭建了一个空间无限的平台，能不能抓住这个平台，就意味着能不能找到未来。就我本人来说，我是最早接触互联网的一代，深知互联网将怎样改变我的生活。但很遗憾地是，我没有好好的与互联网融合，错过了搭乘互联网这趟高速列车的机会。18年前，我在做一家媒体网站的记者时，网站的主编曾建议我利用新媒体拓展自己发展空间。当门户网站风生水起的时候，我也曾想建立一个个人网站，但自己只是想想而已，一时还怀疑那些网站还能坚持多久，写了一篇《新e代公民，红旗还能扛多久》的文章，这篇文章发在《中国计算机报》上，在当年还引起了不小的争论。如今，不仅那些门户网站成了著名的网站，而且一些敢闯敢试者，利用互联网这个平台，把事业做的红红火火。大家都熟悉的罗胖，不仅靠能说会写，更重要的是赶上了互联网这个风口，事业做的非常好。我还有一个朋友，原在《金融时报》开设专栏，最近利用互联网平台创办一个自办媒体，在业界影响力也非常大。“互联网+”时代，就是一个人人都能做创客的时代。创客是造物者，也是消费者；创客是引领者，也是追赶者；创客是创造者，也是破坏者。创客将站在互联网的风口，让自己飞起来，更带动他人飞起来。不过，我们要知道，任何一种工具都不是万能的，“互联网+”也是如此。我们在欢呼“互联网+”的时代来临之时，千万不能忘了这个十分时髦和十分先进的东西存在的基础是什么。它的基础在于强大的创新动力，高素质的劳动者和产品的质量以及消费能力。这几点，对于我们来说，仍然处于“路漫漫其修远兮”的阶段。“互联网+”融合东西很多，能让东西飞起来的也很多。但融合什么，怎么飞，最关键的仍然是人。如果，我们仅停留在社交媒体，只停留在低着头天天刷小屏，好奇于奇文怪事，“互联网+”只能让我们变得更加迷茫和不知所措。如果，我们借助于网络去做那些损人利己或者损人不利己的事情，那我们身处的这个世界，还有意思吗？我们宁愿回到那个没有互联网的时代。我们应谨记一个常识，“互联网+”融合良果，就会催生出美丽之花；“互联网+”联姻恶果，就会裂变出毒性之菌。而驾驭“互联网+”的，自然是人。这个人，是会飞的人。这正是“互联网+”风口的真正动力。']\ncom.ss.android.essay.zone\n/mnt/H_DRIVE/FlowIntent/Location/0/6/com.ss.android.essay.zone\n生活实用 有点意思\n['推荐', '订阅', '别停下脚步幸福', '一对男女互相依偎在沈阳地铁一号线的车厢座椅上，女子身穿白色衬衫，旁边男子翘起右腿，右手搂在女子腰间，两人完全无视车厢内其他乘客，亲热、拥吻，男子左手甚至伸进女子衬衫内。你们当这里是试衣间呀！', '搞笑囧图', '首页', '发现', '消息', '我的']\ncom.braisn.medical.patient\n/mnt/H_DRIVE/FlowIntent/Location/0/6/com.braisn.medical.patient\n生活实用 连医生\n[]\ncom.medicool.zhenlipai\n/mnt/H_DRIVE/FlowIntent/Location/0/6/com.medicool.zhenlipai\n"
     ]
    },
    {
     "name": "stdout",
     "output_type": "stream",
     "text": [
      "生活实用 珍立拍\n['帐\\u3000号', '手机/用户名/邮箱', '密\\u3000码', '登 录', '注册', '忘记密码', '该账号可以登录', 'Medi 学术', '系列网站', '游客登录']\ncn.apps123.shell.tiantianyangsheng\n/mnt/H_DRIVE/FlowIntent/Location/0/6/cn.apps123.shell.tiantianyangsheng\n生活实用 天天养生\n['首页', '养生服务', '会员中心', '养生馆', '更多', '搜索你喜欢的内容', '养生人群', '养生长寿', '茶道养生', '健康话题', '美容产品', '美容仪器']\ncom.jh.APP252776d7e63a43bd932eedb9ce36db14.news\n/mnt/H_DRIVE/FlowIntent/Location/0/6/com.jh.APP252776d7e63a43bd932eedb9ce36db14.news\n生活实用 阳泉\n['盂县藏山旅游区', '阳泉狮脑山', '首页', '阳泉', '阳泉百科', '阳泉游玩', '阳泉美食', '阳泉优惠', '阳泉网', '贴吧']\ncom.hoge.android.wuxiwireless\n/mnt/H_DRIVE/FlowIntent/Location/0/6/com.hoge.android.wuxiwireless\n生活实用 智慧无锡\n"
     ]
    },
    {
     "name": "stdout",
     "output_type": "stream",
     "text": [
      "['无锡公交年底实现4G网络全覆盖', '男童凉鞋被夹 地铁电扶梯惊险一幕', '视频', '女司机“好身手” 一脚油门“倒车入店”', '视频', '油价今日迎来三连跌！加满一箱少10块']\ncom.licaizhijia.unbank\n/mnt/H_DRIVE/FlowIntent/Location/0/6/com.licaizhijia.unbank\n生活实用 理财家园\n['理财家园', '首页', '债券', '基金', '外汇', '期货', '黄金', '独特视角解读商业银行的那些混业经营！', '金价黑色周一暴烈无比 芝商所被迫熔断两次', '-11小时前', '0', '汇改10年汇率弹性加大 下半年波幅有望扩至3%', '-11小时前', '0', '张良点金：1112加仓空也爆赚！1118空继续持有！', '-8小时前', '0', '曾辉：晚上还是跌，黄金持有1117空单！']\ncom.newminisevenqi.iqtest\n/mnt/H_DRIVE/FlowIntent/Location/0/6/com.newminisevenqi.iqtest\n生活实用 智力测试\n['免费体验']\ncom.example.courierapp\n/mnt/H_DRIVE/FlowIntent/Location/0/6/com.example.courierapp\n生活实用 快递超人\n[]\ncom.teletek.soo8\n/mnt/H_DRIVE/FlowIntent/Location/0/6/com.teletek.soo8\n"
     ]
    },
    {
     "name": "stdout",
     "output_type": "stream",
     "text": [
      "生活实用 搜8\n['搜8', '请填写手机号码', '登录', '找回密码', '微信登录', '注册']\ncom.sub.mianfeitinsubao\n/mnt/H_DRIVE/FlowIntent/Location/0/6/com.sub.mianfeitinsubao\n生活实用 听书宝\n['首页', '下载', '历史记录', '水浒传读后感', '节目 360', '古风微小说', '节目 6', '读小说，听电影', '节目 45', '青春有声小说', '节目 11']\nchuanyue.xiaosuo.guangbo\n/mnt/H_DRIVE/FlowIntent/Location/0/6/chuanyue.xiaosuo.guangbo\n"
     ]
    },
    {
     "name": "stdout",
     "output_type": "stream",
     "text": [
      "生活实用 穿越小说广播剧\n['穿越之武林怪传', '穿越之武林怪传', '下载全部', '简介：穿越之武林怪传', '第138集', '2015-01-07', \"12'34''\", '0', '0', '第137集', '2015-01-07', \"12'34''\"]\ncom.tixa.industry.search2c9480b749cc50160149ef20302407be\n/mnt/H_DRIVE/FlowIntent/Location/0/6/com.tixa.industry.search2c9480b749cc50160149ef20302407be\n生活实用 装修设计\n['装修设计', '请输入关键词', '资讯', '供应', '黄页', '商机', '[资讯]', '装修时安装楼梯的&ldquo;六大&rdquo;步骤', '[供应]', '广州展会设计搭建装修公司广州展览展台服务公司展厅设计施工', '[商机]', '售楼部设计,售楼部设计平面图,售楼部设计方案', '[资讯]', '羡慕死8090后的家居装修 30款摩登的客厅设计', '[黄页]', '天津金潮室内外装饰设计有限公司', '主页', '热点', '问答', '我的', '设置']\ncom.qsheal.android\n/mnt/H_DRIVE/FlowIntent/Location/0/6/com.qsheal.android\n生活实用 全时健康\n['检测中心', '模拟账户', 'QS：', '66分', '切换用户', '朗读', '全时健康评估', '联系医生', '        小暑到来，您今日健康指数差，须注意疾病征兆！请速查看相关危险指标，并咨询医生。\\n        您血压稍高，注意及时调理。您血糖偏高，请注意监测。您血脂已严重偏高，请咨询医生。', '检测中心', '问答中心', '信息快递', '健康记录', '会员设置']\ncom.ishow.ddyftw24\n/mnt/H_DRIVE/FlowIntent/Location/0/6/com.ishow.ddyftw24\n"
     ]
    },
    {
     "name": "stdout",
     "output_type": "stream",
     "text": [
      "生活实用 宝鸡旧城改造\n[]\ncom.ddtalking.app\n/mnt/H_DRIVE/FlowIntent/Location/0/6/com.ddtalking.app\n生活实用 有聊电话\n['有聊', '求聊天', '有146人正在等待与你聊天', '最近在线', '(美女)', '筛选', '姐不是传说', '刚刚', '29', '狮子座', '廊坊市', '我在这里等候来自另一个世界的你', '关注', '逗笑脱口秀', '倾', '刚刚', '18', '双子座', '重庆市', '总有一天，你会邂逅一个与你兴趣相投的人', '关注', '小说家  电影迷', '落败的筱情绪', '刚刚', '21', '射手座', '朝阳市', '孤独寂寞的我，只想找一个能够聊天的人', '关注', '星座分析  疯狂学英语  音乐达人', '清音碎语晗', '刚刚', '20', '巨蟹座', '南昌市', '一个人很无聊，希望找人聊天解闷', '关注', '有聊', '免费电话', '发现', '我的']\ncom.gpc.chuniangmeishi\n/mnt/H_DRIVE/FlowIntent/Location/0/6/com.gpc.chuniangmeishi\n生活实用 厨神美食\n['厨神美食', '泰式柠檬蒸鲈鱼', '精选推荐', '美食', '分类', '发现', '我的']\n['厨神美食', '主人，我正在努力加载', '美食', '分类', '发现', '我的']\ncom.ishow.dqclbjw39\n/mnt/H_DRIVE/FlowIntent/Location/0/6/com.ishow.dqclbjw39\n生活实用 汽车零部件网\n[]\ncom.meixl\n"
     ]
    },
    {
     "name": "stdout",
     "output_type": "stream",
     "text": [
      "com.lifevc.shop\n/mnt/H_DRIVE/FlowIntent/Location/0/6/com.lifevc.shop\n生活实用 丽芙家居\n['天天签到', '284', '限时减价', '80', '新品', '每日都有新品', '首页', '分类', '购物车', '账户中心']\n/mnt/H_DRIVE/FlowIntent/Location/0\n/mnt/H_DRIVE/FlowIntent/Location/0\n/mnt/H_DRIVE/FlowIntent/Location/0\n/mnt/H_DRIVE/FlowIntent/Location/0\n/mnt/H_DRIVE/FlowIntent/Location/0\n/mnt/H_DRIVE/FlowIntent/Location/0\n/mnt/H_DRIVE/FlowIntent/Location/0\n/mnt/H_DRIVE/FlowIntent/Location/0\n/mnt/H_DRIVE/FlowIntent/Location/0\n/mnt/H_DRIVE/FlowIntent/Location/0\n/mnt/H_DRIVE/FlowIntent/Location/0\n/mnt/H_DRIVE/FlowIntent/Location/0\n/mnt/H_DRIVE/FlowIntent/Location/0\n/mnt/H_DRIVE/FlowIntent/Location/0\n/mnt/H_DRIVE/FlowIntent/Location/0\n/mnt/H_DRIVE/FlowIntent/Location/0\n/mnt/H_DRIVE/FlowIntent/Location/0\n/mnt/H_DRIVE/FlowIntent/Location/0\n/mnt/H_DRIVE/FlowIntent/Location/0\n/mnt/H_DRIVE/FlowIntent/Location/0\n/mnt/H_DRIVE/FlowIntent/Location/0\n/mnt/H_DRIVE/FlowIntent/Location/0\n/mnt/H_DRIVE/FlowIntent/Location/0\n/mnt/H_DRIVE/FlowIntent/Location/0\n/mnt/H_DRIVE/FlowIntent/Location/0\n/mnt/H_DRIVE/FlowIntent/Location/0\n/mnt/H_DRIVE/FlowIntent/Location/0\n/mnt/H_DRIVE/FlowIntent/Location/0\n/mnt/H_DRIVE/FlowIntent/Location/0\n/mnt/H_DRIVE/FlowIntent/Location/0\n/mnt/H_DRIVE/FlowIntent/Location/0\n/mnt/H_DRIVE/FlowIntent/Location/0\n/mnt/H_DRIVE/FlowIntent/Location/0\n/mnt/H_DRIVE/FlowIntent/Location/0\n/mnt/H_DRIVE/FlowIntent/Location/0\n/mnt/H_DRIVE/FlowIntent/Location/0\n/mnt/H_DRIVE/FlowIntent/Location/0\n/mnt/H_DRIVE/FlowIntent/Location/0\n/mnt/H_DRIVE/FlowIntent/Location/0\n/mnt/H_DRIVE/FlowIntent/Location/0\n/mnt/H_DRIVE/FlowIntent/Location/0\n/mnt/H_DRIVE/FlowIntent/Location/0\n/mnt/H_DRIVE/FlowIntent/Location/0\n/mnt/H_DRIVE/FlowIntent/Location/0\n/mnt/H_DRIVE/FlowIntent/Location/0\n/mnt/H_DRIVE/FlowIntent/Location/0\n/mnt/H_DRIVE/FlowIntent/Location/0\n/mnt/H_DRIVE/FlowIntent/Location/0\n/mnt/H_DRIVE/FlowIntent/Location/0\n/mnt/H_DRIVE/FlowIntent/Location/0\n/mnt/H_DRIVE/FlowIntent/Location/0\n/mnt/H_DRIVE/FlowIntent/Location/0\n/mnt/H_DRIVE/FlowIntent/Location/0\n/mnt/H_DRIVE/FlowIntent/Location/0\n/mnt/H_DRIVE/FlowIntent/Location/0\n/mnt/H_DRIVE/FlowIntent/Location/0\n/mnt/H_DRIVE/FlowIntent/Location/0\n/mnt/H_DRIVE/FlowIntent/Location/0\nVirusShare_Android_20130506_2\nVirusShare_Android_20130506_3\n/mnt/H_DRIVE/FlowIntent/Location/0\nVirusShare_45bb735561ddde6bbe7809b5ad1f4bbf\n/mnt/H_DRIVE/FlowIntent/Location/0/virusshare/VirusShare_Android_20130506_2/VirusShare_45bb735561ddde6bbe7809b5ad1f4bbf\n['蘑菇点点动态壁纸', '欢迎使用动态壁纸，您可以通过下面两种方法进行设置：\\n\\n第一种方法：直接点击下方的“壁纸选择”按钮进入动态壁纸选择界面。\\n\\n第二种方法：在手机主画面按【菜单】->【壁纸】->【动态壁纸】进入动态壁纸选择界面。\\n', '91点金广告平台', '轻松一点，赚币又赚钱', '进入壁纸选择', '壁纸设置']\nVirusShare_6545ec3a239f73c98e4a8e822d4baa9c\n/mnt/H_DRIVE/FlowIntent/Location/0/virusshare/VirusShare_Android_20130506_2/VirusShare_6545ec3a239f73c98e4a8e822d4baa9c\n['考研英语词汇']\nVirusShare_b4f43e557f25e090b82cf76594f5c942\n/mnt/H_DRIVE/FlowIntent/Location/0/virusshare/VirusShare_Android_20130506_2/VirusShare_b4f43e557f25e090b82cf76594f5c942\n['手机型号：AOSP on Mako', '手机总内存：1.83GB', '可用内存：1.43GB', 'SD卡总容量：5.67GB', 'SD卡剩余容量：3.99GB', '个人应用数：13', '系统应用数：89', '个人应用', '系统应用']\nVirusShare_4c9f50a3027addea3a33958639c85315\n/mnt/H_DRIVE/FlowIntent/Location/0/virusshare/VirusShare_Android_20130506_2/VirusShare_4c9f50a3027addea3a33958639c85315\n['中华美食特色菜谱大全2万篇', '重新开始', '继续阅读', '浏览本地', '网上更多', '切换繁体']\nVirusShare_00945293aa8499d8918bac961155e651\n/mnt/H_DRIVE/FlowIntent/Location/0/virusshare/VirusShare_Android_20130506_2/VirusShare_00945293aa8499d8918bac961155e651\n[]\nVirusShare_cd2a800b30d883663ddc8994babea6c3\n/mnt/H_DRIVE/FlowIntent/Location/0/virusshare/VirusShare_Android_20130506_2/VirusShare_cd2a800b30d883663ddc8994babea6c3\n['高清美女秀( 1/53 )']\nVirusShare_796a0eee9be79778141ac34d9eef4538\n/mnt/H_DRIVE/FlowIntent/Location/0/virusshare/VirusShare_Android_20130506_2/VirusShare_796a0eee9be79778141ac34d9eef4538\n['九型人格办公室心理学', '重新开始', '继续阅读', '浏览本地', '网上更多', '切换繁体']\nVirusShare_b094d5e74d3884a9f3d46691b7fec514\n/mnt/H_DRIVE/FlowIntent/Location/0/virusshare/VirusShare_Android_20130506_2/VirusShare_b094d5e74d3884a9f3d46691b7fec514\n[]\n/mnt/H_DRIVE/FlowIntent/Location/0\n/mnt/H_DRIVE/FlowIntent/Location/0\n/mnt/H_DRIVE/FlowIntent/Location/0\n/mnt/H_DRIVE/FlowIntent/Location/0\n/mnt/H_DRIVE/FlowIntent/Location/0\n/mnt/H_DRIVE/FlowIntent/Location/0\n/mnt/H_DRIVE/FlowIntent/Location/0\n/mnt/H_DRIVE/FlowIntent/Location/0\n/mnt/H_DRIVE/FlowIntent/Location/0\nVirusShare_2877bef9aedffc64fcbcc2bb38887ab8\n/mnt/H_DRIVE/FlowIntent/Location/0/virusshare/VirusShare_Android_20130506_3/VirusShare_2877bef9aedffc64fcbcc2bb38887ab8\n"
     ]
    },
    {
     "name": "stdout",
     "output_type": "stream",
     "text": [
      "['蒙奇奇动态壁纸', '设置壁纸', '排行榜', '设置签名', '设置时间', '关于']\nVirusShare_66922063a1de4aa6f8919257aed91c56\n/mnt/H_DRIVE/FlowIntent/Location/0/virusshare/VirusShare_Android_20130506_3/VirusShare_66922063a1de4aa6f8919257aed91c56\n['XXX Hot Chicks Sexy Girls', 'Save as', 'set live wallpaper', 'Prefs']\nVirusShare_0d4e57b7c16960ee44e27127ca2a2009\n/mnt/H_DRIVE/FlowIntent/Location/0/virusshare/VirusShare_Android_20130506_3/VirusShare_0d4e57b7c16960ee44e27127ca2a2009\n[]\nVirusShare_1a1a035b49ed24a85b3fad7ee9f03725\n/mnt/H_DRIVE/FlowIntent/Location/0/virusshare/VirusShare_Android_20130506_3/VirusShare_1a1a035b49ed24a85b3fad7ee9f03725\n['上一步', '下一步']\nVirusShare_3f1800bdb3891e1b13b28fc80a3d5515\n/mnt/H_DRIVE/FlowIntent/Location/0/virusshare/VirusShare_Android_20130506_3/VirusShare_3f1800bdb3891e1b13b28fc80a3d5515\n['个税版', '四金版', '设置', '关于', '税前月薪', '计算', '社保与公积金', '税后月薪', '反推', '缴纳个税', '反推']\n/mnt/H_DRIVE/FlowIntent/Location/0\n/mnt/H_DRIVE/FlowIntent/Location/0\n/mnt/H_DRIVE/FlowIntent/Location/0\n/mnt/H_DRIVE/FlowIntent/Location/0\n/mnt/H_DRIVE/FlowIntent/Location/0\n/mnt/H_DRIVE/FlowIntent/Location/0\ncn.apps123.shell.jiangximeitanmenhu\n/mnt/H_DRIVE/FlowIntent/Location/0/4/cn.apps123.shell.jiangximeitanmenhu\n生活实用 江西煤炭门户\n['名优企业', '煤炭新闻', '煤炭商城 ', '供求中心', '更多', '名优企业', '所有分类', '所有地区', '搜索', '高新低碳能源科技股份有限公司  ', ' 同砼碳纤维布有限公司', '推荐', '地址：', '江西省景德镇市昌江区瓷都大道', '电话：', '13958423101', '未来环保科技有限公司', '推荐', '地址：', '江西省南昌市南昌县麻丘街', '电话：', '13958423102', '嘉庆碳纤制品有限公司', '推荐', '地址：', '嘉定区泰波路558号', '电话：', '13958423109']\nsanwen.jinxuan\n/mnt/H_DRIVE/FlowIntent/Location/0/4/sanwen.jinxuan\n"
     ]
    },
    {
     "name": "stdout",
     "output_type": "stream",
     "text": [
      "生活实用 散文精选\n['首页', '下载', '历史记录', '为你读英语美文', '节目 100', '美文调频', '节目 175', '香腮雪的美文诵读园', '节目 269', '睡前英语美文', '节目 7']\ncom.dreamfuture.hametv\n/mnt/H_DRIVE/FlowIntent/Location/0/4/com.dreamfuture.hametv\n生活实用 哈蜜\n['哈蜜', '艺人', '查看更多', '浪漫双鱼美女Vicey', '《爱要坦荡荡》', '0', 'Vicey', '气质歌手Nicole', \"《don't kown why》\", '0', 'nicole', '帅气艺人海子深情演唱', '直播', '发现', '聊天', '我的']\n[]\n[]\npts.PhoneGap.namespace_hdwlmh2158\n/mnt/H_DRIVE/FlowIntent/Location/0/4/pts.PhoneGap.namespace_hdwlmh2158\n生活实用 华东物流门户\n['新闻中心', '最新资讯', '行业动态', '更多', '搜索', '供应物流', '生产物流', '销售物流', '回收物流', '废弃物流']\nme.chunyu.ChunyuSexDoctor\n/mnt/H_DRIVE/FlowIntent/Location/0/4/me.chunyu.ChunyuSexDoctor\n[]\n[]\ncom.zhxf\n/mnt/H_DRIVE/FlowIntent/Location/0/4/com.zhxf\n"
     ]
    },
    {
     "name": "stdout",
     "output_type": "stream",
     "text": [
      "生活实用 即时新抚\n['即时新抚', '抚顺第六届中韩文化周开幕', '榆林街道两社区清理公交站牌', '抚顺4.7万余名党员进社区服务群众', '新抚概况', '魅力新抚']\ncn.apps123.shell.qianshouwangTM\n/mnt/H_DRIVE/FlowIntent/Location/0/4/cn.apps123.shell.qianshouwangTM\n生活实用 牵手网\n['首页', '商铺', '会员中心', '产品列表', '更多', '搜索你喜欢的内容', '最新活动', '线下活动', '电视活动', '产品', '地点推荐', '美食推荐', '婚恋珠宝', '男士经典饰品', '娱乐', '生活']\ncom.sunarvr.yi\n/mnt/H_DRIVE/FlowIntent/Location/0/4/com.sunarvr.yi\n生活实用 衣恋时尚\n['搭配', '试衣', '衣恋时尚', '粉丝 106', '关注', '首页', '品牌', '时尚圈', '我的']\ncom.change.pinyin\n/mnt/H_DRIVE/FlowIntent/Location/0/4/com.change.pinyin\n生活实用 幼儿拼音\n[]\n['立即体验']\ncom.baoyi.baoyiTCM\n/mnt/H_DRIVE/FlowIntent/Location/0/4/com.baoyi.baoyiTCM\n"
     ]
    },
    {
     "name": "stdout",
     "output_type": "stream",
     "text": [
      "生活实用 中医宝典大全\n['中医宝典大全', '中医文化', '养生有道']\ncom.msg.xiaohua\n/mnt/H_DRIVE/FlowIntent/Location/0/4/com.msg.xiaohua\n生活实用 笑话全集\n['爆笑男女笑话', '短信笑话', '夫妻笑话', '国际笑话', '恐怖笑话', '冷笑话', '社会笑话', '顺口溜笑话']\n['爆笑男女笑话', '短信笑话', '夫妻笑话', '国际笑话', '恐怖笑话', '冷笑话', '社会笑话', '顺口溜笑话', '网络笑话']\ncom.handysoft.alarmclockfree\n/mnt/H_DRIVE/FlowIntent/Location/0/4/com.handysoft.alarmclockfree\n"
     ]
    },
    {
     "name": "stdout",
     "output_type": "stream",
     "text": [
      " \n[]\ncn.papayamobile.calendar\n/mnt/H_DRIVE/FlowIntent/Location/0/4/cn.papayamobile.calendar\n生活实用 木瓜日历\n['设定我的提醒', '跳过', '每月', '还信用卡', '每周', '给父母打电话', '运动', '看电影', '每天', '制定今天的任务', '锻炼', '读书', '学英语', '冥想', '完成我的设定']\ncn.apps123.shell.lingzhishangcheng\n/mnt/H_DRIVE/FlowIntent/Location/0/4/cn.apps123.shell.lingzhishangcheng\n['首页', '产品', '专柜', '供求', '更多', '搜索你喜欢的内容', '秒杀', '推介', '优惠', '活动', '野生灵芝', '灵芝孢子粉']\ncom.fufang.zhixuan\n/mnt/H_DRIVE/FlowIntent/Location/0/4/com.fufang.zhixuan\n \n['快速注册', '输入手机号码', '输入短信验证码', '获取验证码', '同意《复方云服务条款-复方智选》', '完成注册', '登录']\ncom.eggpain.zhangshangjiankangzhuanqu1133\n/mnt/H_DRIVE/FlowIntent/Location/0/4/com.eggpain.zhangshangjiankangzhuanqu1133\n"
     ]
    },
    {
     "name": "stdout",
     "output_type": "stream",
     "text": [
      "生活实用 掌上健康专区\n['首页', '产品', '商铺', '最新资讯', '更多']\n['首页', '产品', '商铺', '最新资讯', '更多']\ncom.ishow.dlssppt60\n/mnt/H_DRIVE/FlowIntent/Location/0/4/com.ishow.dlssppt60\n生活实用 绿色食品平台\n[]\n[]\ncn.apps123.shell.zhongguodianchi\n/mnt/H_DRIVE/FlowIntent/Location/0/4/cn.apps123.shell.zhongguodianchi\n生活实用 中国电池\n['电池资讯', '全部', '最新资讯', '热门动态', '点击排行', '中国电池联盟网', '随时爆炸？认清锂电池使用的4大弱智谬论', '今年5月份，哈萨克斯坦一个名Aitzhan的7岁女孩在院子里玩耍时被...', '新型电池的充电量有望达到锂离子电池的7倍', '新华网东京７月１６日电（记者蓝建中）东京大学的一个研究小组１...', '新型电池或将大幅提高电动汽车续航能力']\ncom.baoyi.Message\n/mnt/H_DRIVE/FlowIntent/Location/0/4/com.baoyi.Message\n生活实用 中医按摩宝典大全\n[]\n[]\n[]\ncom.dgegrg.dge\n/mnt/H_DRIVE/FlowIntent/Location/0/4/com.dgegrg.dge\n"
     ]
    },
    {
     "name": "stdout",
     "output_type": "stream",
     "text": [
      "生活实用 美腿瘦腿\n['首页', '2015.07.05 星期日', '女人必看！夏天低热量又美味的瘦身菜谱，好吃到升天！', '1分钟前', '9', '1577', 'DIY自做美食', '无论你是高个子还是小个子女生，有了这几条技巧都能穿出女神范儿', '16分钟前', '2', '279', '完美衣橱', '健身让我自信、女友双丰收！', '32分钟前', '13', '111', '瘦弱不男人', '睡前排毒9招\\xa0醒来就精神']\ncom.ishehui.x99\n/mnt/H_DRIVE/FlowIntent/Location/0/4/com.ishehui.x99\n生活实用 饭团-金泫雅\n['News', 'Fans', 'Group', '新闻', '照片', '视频', '短歌', 'MV', 'Fans', 'Sign in ranking:1000', '0', 'Signin', '°°●♧●HyunA☆♡ 150712 金泫雅INS更新', '53', 'Support 1 flowers', '3People Support', '°°●♧●HyunA☆♡ 150712 金泫雅INS更新', '50', 'Support 1 flowers', '2People Support']\n['Version updating', '1.全新UI；2.改进新闻推送', 'Cancel', 'Ok']\ncom.zitibaohe.yixuegaojifuchankehuli\n/mnt/H_DRIVE/FlowIntent/Location/0/4/com.zitibaohe.yixuegaojifuchankehuli\n生活实用 妇产科护理高级职称总题库\n['妇产科护理高级职称总题库', '章节练习', '专项练习', '错题练习', '我的收藏', '模拟考试', '真题冲刺', '训练考试', '过关宝箱', '个人中心']\ncom.bolaa.ichehi\n/mnt/H_DRIVE/FlowIntent/Location/0/4/com.bolaa.ichehi\n生活实用 爱车嗨\n['爱车嗨', '跳过', '请设置头像和昵称，方便其他车友认识你。', '设置头像', '昵称：', '请输入昵称', '完成']\ncn.apps123.shell.zhangshangjiangshen\n/mnt/H_DRIVE/FlowIntent/Location/0/4/cn.apps123.shell.zhangshangjiangshen\n"
     ]
    },
    {
     "name": "stdout",
     "output_type": "stream",
     "text": [
      "生活实用 掌上江深\n['首页', '商铺', '会员中心', '产品列表', '更多', '搜索你喜欢的内容', '优惠活动', '购物指南', '常见问题', '售后服务', '智能主机', '智能模块']\nnet.sanfang.cell\n/mnt/H_DRIVE/FlowIntent/Location/0/4/net.sanfang.cell\n生活实用 微邦\n['微邦']\ncom.z.enterprise\n/mnt/H_DRIVE/FlowIntent/Location/0/4/com.z.enterprise\n生活实用 HR小助手\n['登录', '用户名', '立即登录', '忘记密码请致电客服重置\\n请致电0576-88678800', '立即拨打']\n"
     ]
    },
    {
     "name": "stdout",
     "output_type": "stream",
     "text": [
      "['登录', '用户名', '立即登录', '忘记密码请致电客服重置\\n请致电0576-88678800', '立即拨打']\ncom.admaster.SurveyPrize\n/mnt/H_DRIVE/FlowIntent/Location/0/4/com.admaster.SurveyPrize\n生活实用 有奖问答\n[]\n['手机号', '登录', '手机注册', '忘记密码', '无需注册直接登录']\ncn.medtap.onco\n/mnt/H_DRIVE/FlowIntent/Location/0/4/cn.medtap.onco\n[]\n['发现新版本', '最新版本: 2.0.2\\n新版本大小: 18.26M\\n\\n更新内容\\n新增【自我管理】模块\\r\\n1、【建病史】完成诊疗拍一拍，全程保存病史信息\\r\\n2、【记日记】出院每天记一记，连续记录抗癌历程\\r\\n首页面宫格优化\\n', '立即更新', '以后再说']\ncn.apps123.shell.zhangshangluyou\n/mnt/H_DRIVE/FlowIntent/Location/0/4/cn.apps123.shell.zhangshangluyou\n生活实用 掌上旅游\n['旅游专栏', '全部', '旅游资讯', '旅游常识', '旅行社', '旅游', '中国国旅旅行社', '中国国旅旅行社成立于1954年，于2008年3月更名为中国国际旅行社...', '天津国青国际旅行社有限公司', '天津国青国际旅行社有限公司旅游热线：022-23161655报名地址：河...', '昆明中国国际旅行社有限公司']\ncom.share.MomLove\n/mnt/H_DRIVE/FlowIntent/Location/0/4/com.share.MomLove\n生活实用 iBaby医生版\n['手机号码', '忘记密码', '马上注册']\n['手机号码', '忘记密码', '马上注册']\ncom.ishow.dsy54\n/mnt/H_DRIVE/FlowIntent/Location/0/4/com.ishow.dsy54\n"
     ]
    },
    {
     "name": "stdout",
     "output_type": "stream",
     "text": [
      "生活实用 商洋\n[]\n[]\ncn.edaijia.android.client\n/mnt/H_DRIVE/FlowIntent/Location/0/4/cn.edaijia.android.client\n生活实用 e代驾\n['跳过']\n['跳过']\n['跳过']\ncom.ishow.dhnsh73\n/mnt/H_DRIVE/FlowIntent/Location/0/4/com.ishow.dhnsh73\n生活实用 海南生活\n[]\ncom.bz.stock300days\n/mnt/H_DRIVE/FlowIntent/Location/0/4/com.bz.stock300days\n生活实用 炒股票入门宝典\n['炒股票入门宝典', '猜你喜欢', '入门课程', '基础课程', '初级课程', '中级课程']\ncom.ishehui.wjh\n/mnt/H_DRIVE/FlowIntent/Location/0/4/com.ishehui.wjh\n"
     ]
    },
    {
     "name": "stdout",
     "output_type": "stream",
     "text": [
      "生活实用 吴建豪王国\n['新闻', '饭堂', '照片PK', '短歌', '照片', 'Fans:2901', '签到排名:0', '0', '签到', '逢考必过！家人们都来送祝福！', '0', '0', '14days ago', ' 【饭团官方活动】要啥给啥！先签到！', '0', '0', '2015/05/31', '[外交]大饭团和饭团-李敏镐通过苹果AppStore审核', '迎五一•下饭团•拿大奖！', '获取积分']\n['Version Update', '1。全新改版个人主页； 2。普通用户也能给新闻，照片等频道投稿了； 3。增加米币体系，会员特权； 4。可以下载照片原图，视频，音频； 5。安卓修改了无法图片下载和收藏的问题；', 'Cancel', 'OK']\ncn.apps123.shell.yinlehui\n/mnt/H_DRIVE/FlowIntent/Location/0/4/cn.apps123.shell.yinlehui\n生活实用 音乐会\n['首页', '商铺', '会员中心', '产品列表', '更多', '搜索你喜欢的内容', '优惠活动', '购物指南', '常见问题', '售后服务', '音乐会门票', 'DVD']\ncom.example.yet\n/mnt/H_DRIVE/FlowIntent/Location/0/4/com.example.yet\n \n['请输入手机号', '登录', '注册', '忘记密码', '老师版  v1.0.3.2']\ncom.hemiao\n/mnt/H_DRIVE/FlowIntent/Location/0/4/com.hemiao\n"
     ]
    },
    {
     "name": "stdout",
     "output_type": "stream",
     "text": [
      " \n['点击添加小孩', '我的课程', '我的活动', '首页', '消息', '发现', '我的']\ncom.sxit.carloong\n/mnt/H_DRIVE/FlowIntent/Location/0/4/com.sxit.carloong\n[]\n[]\ncom.amiee.client\n/mnt/H_DRIVE/FlowIntent/Location/0/4/com.amiee.client\n生活实用 美疯啦\n[]\n[]\ncom.xiaobo.baobaogushihui\n/mnt/H_DRIVE/FlowIntent/Location/0/4/com.xiaobo.baobaogushihui\n生活实用 宝宝故事会\n['免费体验']\ncn.apps123.shell.hunanchayewang\n/mnt/H_DRIVE/FlowIntent/Location/0/4/cn.apps123.shell.hunanchayewang\n生活实用 湖南茶叶网\n['首页', '商铺', '会员中心', '产品列表', '更多', '搜索你喜欢的内容', '秒杀', '推介', '优惠', '活动', '红茶', '白茶']\n"
     ]
    },
    {
     "name": "stdout",
     "output_type": "stream",
     "text": [
      "com.example.hxchat\n/mnt/H_DRIVE/FlowIntent/Location/0/4/com.example.hxchat\n['请输入手机号', '登录', '注册', '忘记密码']\n['请输入手机号', '登录', '注册', '忘记密码']\ncom.bozhong.forum\n/mnt/H_DRIVE/FlowIntent/Location/0/4/com.bozhong.forum\n['请输入播种网账号', '登录', '忘记密码', '稍后登录', '使用合作账号一键登录', '没有账号？请点击这里', '注册账号']\ncom.ishehui.x132\n/mnt/H_DRIVE/FlowIntent/Location/0/4/com.ishehui.x132\n生活实用 饭团-金秀贤\n['Version updating', '1.全新UI；2.改进新闻推送', 'Cancel', 'Ok']\n['News', 'Fans', 'Group', '新闻', '照片', '视频', '237', '星期衣', '贴吧', 'Fans', 'Sign in ranking:1000', '0', 'Signin', '逢考必过！家人们都来送祝福！', '1', '2450', 'Support 1 flowers', '28People Support', '【福利】买会员，送1200米币！就两天！', '158', 'Support 78 flowers', '4People Support', '【高考ing】这不是鸡汤文，我才不会烹鸡汤！']\ncom.qdls\n/mnt/H_DRIVE/FlowIntent/Location/0/4/com.qdls\n \n['邮箱/手机号', '登录', '忘记密码', '注册', '其他帐号登录']\n['邮箱/手机号', '登录', '修改密码', '注册', '其他帐号登录']\ncom.ishow.dhyhyyf86\n/mnt/H_DRIVE/FlowIntent/Location/0/4/com.ishow.dhyhyyf86\n生活实用 红叶花园洋房\n[]\n[]\ncn.apps123.shell.shuikuyimin\n/mnt/H_DRIVE/FlowIntent/Location/0/4/cn.apps123.shell.shuikuyimin\n"
     ]
    },
    {
     "name": "stdout",
     "output_type": "stream",
     "text": [
      "生活实用 水库移民\n['行业资讯', '企业黄页', '供/求信息', '会员中心', '更多', '行业资讯', '全部', '行业资讯', '国内资讯', '最新资讯', '水库移民', '水利部水库移民局到河北省调研移民工作', '近日，水利部水库移民开发局局长唐传利到河北省怀来县调研指导水...', '十所院校招水库移民考生', '\\u3000云南省国家公办的十所院校全日制专科、中专、技校将承担全省20...']\ncom.ujuhui.youmiyou.buyer\n/mnt/H_DRIVE/FlowIntent/Location/0/4/com.ujuhui.youmiyou.buyer\n生活实用 有米有\n[]\n['选择您的便利店', '华联超市', '便利超市', '土沟31号华联生活超市']\ncom.change.erge\n/mnt/H_DRIVE/FlowIntent/Location/0/4/com.change.erge\n['立即体验']\ncom.ishow.dqcjh70\n/mnt/H_DRIVE/FlowIntent/Location/0/4/com.ishow.dqcjh70\n生活实用 全城钜惠\n[]\n[]\ncom.zitibaohe.yixuegaojihuxineike\n/mnt/H_DRIVE/FlowIntent/Location/0/4/com.zitibaohe.yixuegaojihuxineike\n生活实用 呼吸内科高级职称总题库\n['呼吸内科高级职称总题库', '章节练习', '专项练习', '错题练习', '我的收藏', '模拟考试', '真题冲刺', '训练考试', '过关宝箱', '个人中心']\n"
     ]
    },
    {
     "name": "stdout",
     "output_type": "stream",
     "text": [
      "com.lingan.seeyou\n/mnt/H_DRIVE/FlowIntent/Location/0/4/com.lingan.seeyou\n生活实用 美柚-经期助手\n['请选择状态', '我要记经期  ', '我在备孕  ', '我怀孕了  ', '我是辣妈  ', '下一步', '已经有账号了,直接登录']\n['请选择状态', '我要记经期  ', '我在备孕  ', '我怀孕了  ', '我是辣妈  ', '下一步', '已经有账号了,直接登录']\n['请选择状态', '我要记经期  ', '我在备孕  ', '我怀孕了  ', '我是辣妈  ', '下一步', '已经有账号了,直接登录']\ncom.gaofei.exam.singlesel\n/mnt/H_DRIVE/FlowIntent/Location/0/4/com.gaofei.exam.singlesel\n"
     ]
    },
    {
     "name": "stdout",
     "output_type": "stream",
     "text": [
      "生活实用 高飞教育\n['www.diaochapai.com/survey/22f4955a-4758-4ba3-aa6a-0f9ee0c7dec9?vendor=baiduss&device_id=358355041782463']\n['走一走']\ncn.apps123.weishang.youyigou\n/mnt/H_DRIVE/FlowIntent/Location/0/4/cn.apps123.weishang.youyigou\n生活实用 优易购\n['输入手机号码', '登录', '忘记密码?', '立即注册']\ncom.dhcc.followup\n/mnt/H_DRIVE/FlowIntent/Location/0/4/com.dhcc.followup\n生活实用 随访\n['免费注册', '输入用户名', '忘记密码?', '登录']\ncom.fdog.attendantfdog\n/mnt/H_DRIVE/FlowIntent/Location/0/4/com.fdog.attendantfdog\n生活实用 狗管家\n['请输入用户名', '新用户注册', '忘记密码？', '登录', '或从以下方式登录']\n[]\ncom.ishow.dtfbf83\n/mnt/H_DRIVE/FlowIntent/Location/0/4/com.ishow.dtfbf83\n"
     ]
    },
    {
     "name": "stdout",
     "output_type": "stream",
     "text": [
      "生活实用 脱发白发网\n[]\ncom.zitibaohe.zhuzhiyishifuchanke\n/mnt/H_DRIVE/FlowIntent/Location/0/4/com.zitibaohe.zhuzhiyishifuchanke\n['妇产科主治医师总题库', '章节练习', '专项练习', '错题练习', '我的收藏', '模拟考试', '真题冲刺', '训练考试', '过关宝箱', '个人中心']\ncom.ishehui.x167\n/mnt/H_DRIVE/FlowIntent/Location/0/4/com.ishehui.x167\n['News', 'Fans', 'Group', '新闻', '照片', '视频', '游戏', '粉丝', 'Fans', 'Sign in ranking:1000', '0', 'Signin', '郑容和饭团团规', '【高考ing】这不是鸡汤文，我才不会烹鸡汤！ ', 'じeadeя 【150506微博】更新有关容和微博一则', '2', '227', 'Support 88 flowers', '14People Support', 'じeadeя【150506微博】容和更新微博一则 ']\ncn.joy.dig\n/mnt/H_DRIVE/FlowIntent/Location/0/4/cn.joy.dig\n生活实用 乐扒-八卦神器娱乐助手\n['韩流基地', '8小时前', '刘在石完美诠释《BaeBae》', 'GD：刘在石还有什么是不会的！', '来自\\xa0水煮娱', '5', '15', '791', '黑色魔神0, 弑爱, 明天你还记得', '等5人评论过', '韩流基地', '8小时前', '首页', '粉丝圈', '星榜', '发现', '星闻', '热帖']\n[]\n[]\ncn.com.modernmedia.businessweek\n/mnt/H_DRIVE/FlowIntent/Location/0/4/cn.com.modernmedia.businessweek\n生活实用 商业周刊\n['软件版本更新', '商业周刊 支持栏目视频自动播放  程序优化和bug 修复', '以后再说', '下载']\ncom.ishehui.x156\n/mnt/H_DRIVE/FlowIntent/Location/0/4/com.ishehui.x156\n"
     ]
    },
    {
     "name": "stdout",
     "output_type": "stream",
     "text": [
      "生活实用 饭团-帝国之子\n['News', 'Fans', 'Group', '新闻', '8', '照片', '18', '视频', '团务', '粉丝', 'Fans', 'Sign in ranking:1000', '0', 'Signin', '【饭团官方活动】要啥给啥！先签到！', '『图图』◆0512◇150426 ZEAJ SHOW VOL.3 旼佑', '0']\ncom.hemiao.teacher\n/mnt/H_DRIVE/FlowIntent/Location/0/4/com.hemiao.teacher\n生活实用 学苗\n['今天', '07.09 Thursday', '没有课啦!', '课程已发布', '报名待确认', '首页', '消息', '发现', '我的']\ncom.ishehui.x102\n/mnt/H_DRIVE/FlowIntent/Location/0/4/com.ishehui.x102\n"
     ]
    },
    {
     "name": "stdout",
     "output_type": "stream",
     "text": [
      "生活实用 饭团-CNBlue\n['News', 'Fans', '12371', 'Group', '新闻', '星期衣', '应援', '6', '照片', '371', '视频', '530', 'Fans', 'Sign in ranking:1000', '0', 'Signin', 'CNBLUE饭团团规', 'C.N.Boice【150708INS】宗泫相關更新1則', '181', 'Support 181 flowers', '2People Support', 'C.N.Boice【150708新聞】 CN Blue姜敏赫曾因心理陰影放棄游泳', '1', '2', 'Support 3 flowers', '1People Support']\ncn.knowone.dreammaster\n/mnt/H_DRIVE/FlowIntent/Location/0/4/cn.knowone.dreammaster\n['立即体验']\nseyin.jiqiao\n/mnt/H_DRIVE/FlowIntent/Location/0/4/seyin.jiqiao\n生活实用 摄影技巧方法器材\n['首页', '下载', '历史记录', '摄影那些事儿', '节目 92', '商业摄影聊聊天', '节目 77', '摄影吴师自通', '节目 50', '中国摄影名家大讲堂', '节目 62']\n['有新版本啦', '已在WiFi下完成新版本', '免流量安装', '以后再说']\ncn.mama.activity\n/mnt/H_DRIVE/FlowIntent/Location/0/4/cn.mama.activity\n生活实用 妈妈圈-怀孕育儿亲子辣妈孕期\n['微信登录', 'QQ登录', '微博登录', '已有账号登录', '立即注册', '孕育神器', '十年专业知识和真实经验分享']\n['微信登录', 'QQ登录', '微博登录', '已有账号登录', '立即注册', '孕育神器', '十年专业知识和真实经验分享']\ncom.ishehui.x561\n/mnt/H_DRIVE/FlowIntent/Location/0/4/com.ishehui.x561\n生活实用 饭团-宠物\n"
     ]
    },
    {
     "name": "stdout",
     "output_type": "stream",
     "text": [
      "['News', 'Fans', 'Group', '宠物日记', '萌宠', '视频', '团友', 'Fans', 'Sign in ranking:1000', '0', 'Signin']\ncn.apps123.shell.qiangguangshoudian\n/mnt/H_DRIVE/FlowIntent/Location/0/4/cn.apps123.shell.qiangguangshoudian\n['公司动态', '手电商城', '公司相册', '论坛交流', '品牌故事', '视频展示', '关于我们', '会员中心', '互动专区']\ncn.bluecrane.calendar\n/mnt/H_DRIVE/FlowIntent/Location/0/4/cn.bluecrane.calendar\n['版本更新提示！', '4.2.5升级说明\\n1、新增历史的今天查询。\\n2、增加美食日历。\\n3、增加每日小说。\\n4、单位换算增加港金等多个单位。\\n5、优化了部分服务。\\n6、修复已知的bug。', '立即升级', '稍后再说']\ncom.baoyi.anzhi.xiaohua\n/mnt/H_DRIVE/FlowIntent/Location/0/4/com.baoyi.anzhi.xiaohua\n生活实用 笑话世界\n['笑话世界', '爆笑男女笑话', '100', '短信笑话', '100', '夫妻笑话', '100', '国际笑话', '100', '恐怖笑话', '100', '冷笑话', '100', '社会笑话', '100', '顺口溜笑话', '100', '网络笑话', '100', '校园笑话', '100']\ncom.ishehui.x557\n/mnt/H_DRIVE/FlowIntent/Location/0/4/com.ishehui.x557\n['News', 'Fans', 'Group', '星座运势', '照片', '视频', '团友', 'Fans', 'Sign in ranking:1000', '0', 'Signin']\ncom.ishow.dcgj28\n/mnt/H_DRIVE/FlowIntent/Location/0/4/com.ishow.dcgj28\n生活实用 车管家-掌上车管家\n[]\n[]\n[]\ncom.imoyo.zhihuiguanjia\n/mnt/H_DRIVE/FlowIntent/Location/0/4/com.imoyo.zhihuiguanjia\n生活实用 智慧管家\n['登陆 ', '请输入您的账号', '登录', '注册', '忘记密码']\ncom.zhkd\n/mnt/H_DRIVE/FlowIntent/Location/0/4/com.zhkd\n"
     ]
    },
    {
     "name": "stdout",
     "output_type": "stream",
     "text": [
      "生活实用 仙境宽甸\n['仙境宽甸', '县纪委监察局再次重申 党员干部操办“升学宴”将严厉追责', '周亮调研毛甸子镇经济发展工作', '鸭绿江畔仙境美  MTV', '情系永甸上趟子小学', '步达远镇三举措认真部署防汛工作']\n['仙境宽甸', '县政协再次举办“政协讲坛”', '关于深度开发鸭绿江上游旅游资源的建议', '鸭绿江畔仙境美  MTV']\ncom.zhaoshou.app\n/mnt/H_DRIVE/FlowIntent/Location/0/4/com.zhaoshou.app\n生活实用 招手职场\n[]\n[]\ncom.yuanxin.perfectdoc\n/mnt/H_DRIVE/FlowIntent/Location/0/4/com.yuanxin.perfectdoc\n"
     ]
    },
    {
     "name": "stdout",
     "output_type": "stream",
     "text": [
      "生活实用 妙手医生\n['妙手医生', ' 扫一扫', '10分钟有回复', '快速提问', '添加我的\\n门诊医生', '新手引导', '欢迎您来到妙手医生，妙手医生，服务医患', '首页', '快速提问', '患友圈', '我']\nlink.shoujimeizu.nice\n/mnt/H_DRIVE/FlowIntent/Location/0/4/link.shoujimeizu.nice\n生活实用 魅族手机大全\n['魅族手机大全', '魅族排行榜', '魅族手机社区', '魅族手机热点', '魅族手机报价', '魅族各地报价', '魅族手机吧', '魅族手机全集', '魅族手机维修', '魅蓝Note2', '爱魅族', '魅族最新款', '魅族手机配件', '魅族手机问答', '魅族二手手机', '魅族手机型号', 'MX4 Pro', 'MEIZU香港', '魅族手机贴膜', '魅族网址精选', '魅族手机客服', '魅族售后网点', '魅族手机官网', '魅族新机推荐', '魅族MX4', '魅族MX5', '魅族MX3', '魅族论坛大全']\ncom.rakutec.android.iweekly\n/mnt/H_DRIVE/FlowIntent/Location/0/4/com.rakutec.android.iweekly\n['视野', '日本小笠原诸岛，航拍正在喷发火山灰的西之岛。自从西之岛一年半之前开始喷发以来，日本海岸警卫队首次进行海底地形测量。摄影师：Naoki Maeda', '2015年07月02日', '新闻', '15', '风尚', '15', '观点', '9', '视频', '15', '画报', '15']\ncom.idddx.lwp.fordearmum\n/mnt/H_DRIVE/FlowIntent/Location/0/4/com.idddx.lwp.fordearmum\n生活实用 最爱的人\n['For Dear Mum', '七七', '两粒种子，一片森林', 'Set Wallpaper']\ncom.ishow.dlhb61\n/mnt/H_DRIVE/FlowIntent/Location/0/4/com.ishow.dlhb61\n"
     ]
    },
    {
     "name": "stdout",
     "output_type": "stream",
     "text": [
      "生活实用 领红包\n[]\n[]\ncom.differ.chexingren\n/mnt/H_DRIVE/FlowIntent/Location/0/4/com.differ.chexingren\n社交通讯 车星人\n['Unfortunately, the process com.google.process.gapps has stopped.', 'OK']\n['登录', '注册']\n['登录', '注册']\ncom.bcb.master\n/mnt/H_DRIVE/FlowIntent/Location/0/4/com.bcb.master\n生活实用 汽车大师-技师版\n['技师注册', '技师登录']\ncom.mrocker.aunt\n/mnt/H_DRIVE/FlowIntent/Location/0/4/com.mrocker.aunt\n生活实用 阿姨来了\n['主页', '充值', '预约', '个人']\n['New version found', 'Latest version: 3.0.1\\nTarget size: 6.52M\\n\\nUpdate Content\\n1、新功能：【月嫂】，【育儿嫂】，【养老】，等服务，阿姨种类更齐全，一键下单，更方便用户去预约。\\r\\n2、新功能：地理位置定位，更方便查找阿姨，经纪人和门店。\\r\\n3、系统优化：APP稳定性优化。\\r\\n4、系统修复：bug修复。\\n', 'Ingore this', 'Update now', 'Not now']\ncn.medsci.app.news\n/mnt/H_DRIVE/FlowIntent/Location/0/4/cn.medsci.app.news\n"
     ]
    },
    {
     "name": "stdout",
     "output_type": "stream",
     "text": [
      "生活实用 MedSci医学\n['最新资讯', '心血管', '消化', '肿瘤科', '内分泌科', 'MedSci课题设计与统计活动进行...', 'Nat Commun：科学家发现体外受精高成功率新方法', '2015-07-09', 'Nature：黄体酮可提高乳腺癌患者的生存率', '2015-07-09', 'Psychol Med：纠结，还要炒股吗？心脏病真的可以“吓”出来！！', '2015-07-09', '影像科的鞠躬故事—来自心灵深处的震撼与感动']\ncom.ss.android.article.news\n/mnt/H_DRIVE/FlowIntent/Location/0/4/com.ss.android.article.news\n生活实用 今日头条\n['是否创建桌面快捷方式?', '取消', '确定']\n['是否创建桌面快捷方式?', '取消', '确定']\n['是否创建桌面快捷方式?', '取消', '确定']\n['推荐', '热点', '本地', '视频', '社会', '2015.07.13\\u3000星期一', '今天', '全国人大常委：梁振英将于明年1月下台传闻不可信', '热', '中国网', '评论\\xa038', '男友要求她省吃俭用攒钱买房，背叛她后却说了这么一席话', '谈客', '评论\\xa010', '周二机构强烈推荐买入 6股可闭眼买入', '股訷锐利', '评论\\xa07', '刚刚', '够持久，才给力！22小时炒石油时间更长，赚得更多！', '推广', '银天下石油', '评论\\xa00']\n['是否创建桌面快捷方式?', '取消', '确定']\n['是否创建桌面快捷方式?', '取消', '确定']\ncom.pin\n/mnt/H_DRIVE/FlowIntent/Location/0/4/com.pin\n生活实用 小品精选\n[]\ncom.ishow.dmfyfs38\n/mnt/H_DRIVE/FlowIntent/Location/0/4/com.ishow.dmfyfs38\n[]\n[]\nlink.shoujinubia.nice\n/mnt/H_DRIVE/FlowIntent/Location/0/4/link.shoujinubia.nice\n"
     ]
    },
    {
     "name": "stdout",
     "output_type": "stream",
     "text": [
      "生活实用 努比亚大全\n['努比亚大全', '努比亚排行榜', '努比亚论坛', '努比亚热点', '努比亚报价', '努比亚各地价', '努比亚吧', '努比亚全集', '努比亚维修', 'nubia Z9', '努比亚论坛', '努比亚最新款', '努比亚配件', '努比亚问答', '努比亚二手机', '努比亚型号', '玩机综合区', '努比亚保护壳', '努比亚贴膜', '努比亚网址精选', '努比亚客服', '努比亚售后点', '努比亚官网', '努比亚新机推荐', '努比亚Z9Max', 'nubiaX6', 'Z7max大牛3', '努比亚论坛集']\ncom.eggpain.hubeijiudianwang1476\n/mnt/H_DRIVE/FlowIntent/Location/0/4/com.eggpain.hubeijiudianwang1476\n生活实用 湖北酒店网\n['立即体验']\n['首页', '产品', '商铺', '资讯', '更多']\ncom.carsmart.emaintain\n/mnt/H_DRIVE/FlowIntent/Location/0/4/com.carsmart.emaintain\n"
     ]
    },
    {
     "name": "stdout",
     "output_type": "stream",
     "text": [
      "生活实用 养车宝\n['选择品牌', '老用户登录', 'A', '阿尔法罗密欧', '安凯客车', '奥迪', '阿斯顿・马丁', 'B', '巴博斯', '宝骏', '宝马', '保时捷']\ncom.owspace.wezeit\n/mnt/H_DRIVE/FlowIntent/Location/0/4/com.owspace.wezeit\n生活实用 微在趣闻社\n['有新版本啦！', '最新版本: 3.2.0\\n升级大小: 5.14M\\n\\n升级内容:\\n【改版】全新变身，超炫酷的卡片瀑布流版式\\r\\n【福利】庆新版上线，手机充值卡、购物卡等你拿，中奖率极高\\r\\n【新增】可在首页直接点击播放视频，无障碍观赏\\r\\n【新增】消息提醒，可接收官方消息和互动消息\\r\\n【优化】每天的内容量增加四倍\\n', '现在更新', '以后']\n['微在', '7.3w', '好莱坞是如何评论郭敬明和', '《小时代》的？', '1.4w', '美女和丑男有可能吗？让这', '个美国女生的回应说服你', '1.3w', '9 个只有坐过绿皮火车的', '人才有的感受', '更多最火', '你究竟有多爱老干妈？！']\n['有新版本啦！', '最新版本: 3.2.0\\n升级大小: 5.14M\\n\\n升级内容:\\n【改版】全新变身，超炫酷的卡片瀑布流版式\\r\\n【福利】庆新版上线，手机充值卡、购物卡等你拿，中奖率极高\\r\\n【新增】可在首页直接点击播放视频，无障碍观赏\\r\\n【新增】消息提醒，可接收官方消息和互动消息\\r\\n【优化】每天的内容量增加四倍\\n', '现在更新', '以后']\ncom.zhaoren.net\n/mnt/H_DRIVE/FlowIntent/Location/0/4/com.zhaoren.net\n生活实用 乐客手机定位找人\n[]\n[]\ncom.elephant.xpb\n/mnt/H_DRIVE/FlowIntent/Location/0/4/com.elephant.xpb\n生活实用 象卫士\n[]\n[]\ncom.dacyx\n/mnt/H_DRIVE/FlowIntent/Location/0/4/com.dacyx\n"
     ]
    },
    {
     "name": "stdout",
     "output_type": "stream",
     "text": [
      "生活实用 大爱朝阳县\n['大爱朝阳县', '传统古村落八盘沟油菜花盛开', '朝阳县6个项目参加辽宁省（朝阳）非物质文化遗产展示展演', '五小模式发挥宣讲大作用', '朝阳柳城物流园区', '朝阳县经济技术开发区']\ncom.galaxyschool.app.wawaschool\n/mnt/H_DRIVE/FlowIntent/Location/0/4/com.galaxyschool.app.wawaschool\n生活实用 哇哇通\n['New version found', 'Latest version: 0.98.15\\nTarget size: 15.66M\\n\\nUpdate Content\\n1. 注册时，邮箱非必填项。\\r\\n2. “扫一扫”直接为扫码功能\\r\\n3. 优化“我”中的角色绑定，取消“添加角色”、“添加家长”\\r\\n4. 通讯录信息按学校、班级层级式展现 \\r\\n5. 新增随记随享、作业分享功能\\r\\n\\n', 'Ingore this', 'Update now', 'Not now']\n['用户名(请输入字母与数字)', '登录', '忘记密码', '注册', '机构入驻']\ncom.liuwei.zhongyi\n/mnt/H_DRIVE/FlowIntent/Location/0/4/com.liuwei.zhongyi\n[]\ncom.jh.APPc25d0453614841829e3c182097c89049.news\n/mnt/H_DRIVE/FlowIntent/Location/0/4/com.jh.APPc25d0453614841829e3c182097c89049.news\n生活实用 合金门窗\n['Unfortunately, the process com.google.process.gapps has stopped.', 'OK']\n['合金门窗', '新闻资讯', '门窗加盟代理找美之选门窗品牌', '“大数据”热潮袭来 或成门窗企业发展新商机', '在大数据时代，门窗企业从生产到销售都需要数据支撑才能制定详细的方案，可以说这是一个信息为王的时代，谁拥有庞大的数据库，谁', '07-02', '铝合金门窗简洁风 深得年轻人群喜爱', '80、90后消费者成长于网络时代，在消费习惯和审美上不同于60、70年代的人，年轻人群拥有更为强烈的独立和自由观念，更加', '07-02', '与消费者达成共识 钢木门企业才能长远发展', '现在的钢木门消费者，逐渐年轻化，消费行为也展现出个性化，而且已经从注重产品本身转变成用产品的感受，因此钢木门企业也要赶上', '07-02', '铝合金门窗选购六大秘诀', '首页', '更多']\ncom.xmgrid.hospital\n/mnt/H_DRIVE/FlowIntent/Location/0/4/com.xmgrid.hospital\n生活实用 厦门大学附属第一医院OA\n['温馨提示', '请设置外网IP地址!', '确定', '取消']\n[]\n['温馨提示', '请设置外网IP地址!', '确定', '取消']\nyiqi.bazi\n/mnt/H_DRIVE/FlowIntent/Location/0/4/yiqi.bazi\n"
     ]
    },
    {
     "name": "stdout",
     "output_type": "stream",
     "text": [
      "生活实用 易奇八字算命大师\n['易奇八字', '输入姓名', '男', '2015年7月9日11午时', '测  算', '八字排盘', '命  盘', '流年运程', '运程车', '婚恋爱情', '婚姻树', '祈福心愿', '祈福台', '事业财富', '财富船', '名号吉凶', '名号测算', '六爻八卦', '有事求卦', '八字合婚', '合婚书', '每日宜忌', '个人黄历', '易问', '测算', '资讯']\ncom.bozhong.crazy\n/mnt/H_DRIVE/FlowIntent/Location/0/4/com.bozhong.crazy\n['意见反馈', '社交账号在注册更便捷\\n仅作登录使用,不会自动发布任何动态', '注册即代表您同意', '《疯狂造人用户协议》']\n[]\ncn.apps123.shell.zhangshangrenliziyuan\n/mnt/H_DRIVE/FlowIntent/Location/0/4/cn.apps123.shell.zhangshangrenliziyuan\n['首页', '专业知识', '商铺', '会员中心', '更多', '搜索你喜欢的内容', '招聘资讯', '培训动态', '绩效评估', '创新研究', 'HR活动', '培训招聘']\ncom.mishi.android.mainapp\n/mnt/H_DRIVE/FlowIntent/Location/0/4/com.mishi.android.mainapp\n生活实用 觅食\n['注册', '登录', '逛逛']\none.hh.oneclient\n/mnt/H_DRIVE/FlowIntent/Location/0/4/one.hh.oneclient\n"
     ]
    },
    {
     "name": "stdout",
     "output_type": "stream",
     "text": [
      "生活实用 一个\n[]\n[]\ncom.tiema.zhwl_android\n/mnt/H_DRIVE/FlowIntent/Location/0/4/com.tiema.zhwl_android\n生活实用 中储智运\n['用户登录', '输入手机号/帐号', '注册', '忘记密码']\ncom.ishow.dzgy68\n/mnt/H_DRIVE/FlowIntent/Location/0/4/com.ishow.dzgy68\n生活实用 中广瀛基金\n[]\ncom.android.weixu\n/mnt/H_DRIVE/FlowIntent/Location/0/4/com.android.weixu\n[]\ncom.me139.redotgolf\n/mnt/H_DRIVE/FlowIntent/Location/0/4/com.me139.redotgolf\n生活实用 小红点\n['New', 'History']\n['New', 'History']\ncom.babyBus\n/mnt/H_DRIVE/FlowIntent/Location/0/4/com.babyBus\n"
     ]
    },
    {
     "name": "stdout",
     "output_type": "stream",
     "text": [
      "生活实用 宝宝Bus\n['立即体验']\ncom.candy.kxzp\n/mnt/H_DRIVE/FlowIntent/Location/0/4/com.candy.kxzp\n生活实用 开心转盘\n['开心转盘', '饭    桌', 'K T V', '酒    吧']\n['开心转盘', '饭    桌', 'K T V', '酒    吧']\n['开心转盘', '饭    桌', 'K T V', '酒    吧']\ncom.ishow.dscysw83\n/mnt/H_DRIVE/FlowIntent/Location/0/4/com.ishow.dscysw83\n[]\n[]\ncom.tixa.industry.search2c9480b74d22aa85014d650f1ef22130\n/mnt/H_DRIVE/FlowIntent/Location/0/4/com.tixa.industry.search2c9480b74d22aa85014d650f1ef22130\n生活实用 中餐饭店\n['中餐饭店', '请输入关键词', '资讯', '供应', '黄页', '商机', '[商机]', '新都昌商业广场原南城百货变身美食城 五月开业', '[资讯]', '餐饮等位区,成为餐饮跨界争夺的战场', '[资讯]', '南通港闸强化小餐饮食品安全管理', '[商机]', '中小餐饮升温 K18中国餐饮加盟网再添一把火', '主页', '热点', '问答', '我的', '设置']\ncom.lietou.mishu\n/mnt/H_DRIVE/FlowIntent/Location/0/4/com.lietou.mishu\n生活实用 猎聘同道\n[]\n[]\n[]\n[]\nedu.testpaper\n/mnt/H_DRIVE/FlowIntent/Location/0/4/edu.testpaper\n"
     ]
    },
    {
     "name": "stdout",
     "output_type": "stream",
     "text": [
      "生活实用 试卷成像\n['提示', '您的版本过旧，请更新后再使用', '取消', '更新']\n[]\ncn.apps123.shell.zhongguoanquanshipinwangTM\n/mnt/H_DRIVE/FlowIntent/Location/0/4/cn.apps123.shell.zhongguoanquanshipinwangTM\n生活实用 安全食品网\n['首页', '商铺', '产品', '会员', '更多', '搜索你喜欢的内容', '优惠活动', '购物指南', '常见问题', '售后服务', '进品巧克力', '进品饼干']\npts.PhoneGap.namespace_2265\n/mnt/H_DRIVE/FlowIntent/Location/0/4/pts.PhoneGap.namespace_2265\n"
     ]
    },
    {
     "name": "stdout",
     "output_type": "stream",
     "text": [
      "生活实用 汽车零部件网\n['行业动态', '技术交流', '品牌展示', '展会信息', '搜索', 'Auto parts', '汽车配件', 'brand', '品牌专用配件', 'processing', '代加工', 'Maintenance tools', '汽车维修工具', 'maintenance', '汽车养护用品']\ncom.sihuo.sihuo\n/mnt/H_DRIVE/FlowIntent/Location/0/4/com.sihuo.sihuo\n生活实用 私货\n['私货里正在卖的好东西', '¥7500', '9', '折', \"09''\", '注册', '登录']\n['私货里正在卖的好东西', '¥7500', '9', '折', 'Macbook air 13寸的，用不惯系统啊，很新', \"09''\", '注册', '登录']\n['私货里正在卖的好东西', '¥7500', '9', '折', 'Macbook air 13寸的，用不惯系统啊，很新', \"09''\", '注册', '登录']\ncom.baoyi.xiaohua\n/mnt/H_DRIVE/FlowIntent/Location/0/4/com.baoyi.xiaohua\n生活实用 笑话随便看\n['内涵笑话', '生活笑话 ', '网络笑话', '社会笑话']\ncom.facelike.app4w\n/mnt/H_DRIVE/FlowIntent/Location/0/4/com.facelike.app4w\n生活实用 7点钟技师版\n['New version found', 'Latest version: 1.5.1\\nTarget size: 6.71M\\n\\nUpdate Content\\n1、推出了全新UI，清丽简洁，高大上即视感\\r\\n2、简化了注册流程，先注册再完善，步步推进\\r\\n3、改进了预约流程，多种状态，一目了然\\r\\n4、推出打星评价机制，亲，好评哦~\\r\\n5、新增“时间表”，客户管理小工具，谁用谁知道~\\n', 'Update now', 'Not now']\n['New version found', 'Latest version: 1.5.1\\nTarget size: 6.71M\\n\\nUpdate Content\\n1、推出了全新UI，清丽简洁，高大上即视感\\r\\n2、简化了注册流程，先注册再完善，步步推进\\r\\n3、改进了预约流程，多种状态，一目了然\\r\\n4、推出打星评价机制，亲，好评哦~\\r\\n5、新增“时间表”，客户管理小工具，谁用谁知道~\\n', 'Update now', 'Not now']\ncom.lxwh.livingstep\n/mnt/H_DRIVE/FlowIntent/Location/0/4/com.lxwh.livingstep\n"
     ]
    },
    {
     "name": "stdout",
     "output_type": "stream",
     "text": [
      "生活实用 跑步步数记录仪\n[]\n[]\n[]\ncom.ishow.dlj9\n/mnt/H_DRIVE/FlowIntent/Location/0/4/com.ishow.dlj9\n生活实用 滴滴师傅\n[]\n[]\ncom.duia.jsssx\n/mnt/H_DRIVE/FlowIntent/Location/0/4/com.duia.jsssx\n生活实用 教师资格证随身学\n['点击登录', '选择要学习的阶段', '中学教师资格证', '小学教师资格证', '幼儿教师资格证', '点赞', '鼓励下苦逼的程序猿', '综合素质', '免费视频', '2015新大纲课程', '练习题库', '同步2015新大纲习题', '真人直播课', '考试倒计时']\ncom.ishehui.x574\n/mnt/H_DRIVE/FlowIntent/Location/0/4/com.ishehui.x574\n['Version updating', '1.全新UI；2.改进新闻推送', 'Cancel', 'Ok']\n['News', 'Fans', 'Group', '消息', '相册', '视频', 'MV', 'fans', 'Fans', 'Sign in ranking:1000', '0', 'Signin', '【应援】UNIQ官方应援宣导', '【网易云音乐音乐大战】亚洲偶像男子流行演唱组合UNIQ来啦！', '【崽子们入围了】年度校园人气组合展现Unicorn们实力的时候到了！', '150711微博★王一博更新一则', '6', '4334', 'Support 18 flowers', '19People Support']\ncom.tingjiandan.client\n/mnt/H_DRIVE/FlowIntent/Location/0/4/com.tingjiandan.client\n[]\n[]\ncom.showjoy.ggl\n/mnt/H_DRIVE/FlowIntent/Location/0/4/com.showjoy.ggl\n生活实用 购给利\n[]\n[]\ncom.jh.APP.news\n/mnt/H_DRIVE/FlowIntent/Location/0/4/com.jh.APP.news\n"
     ]
    },
    {
     "name": "stdout",
     "output_type": "stream",
     "text": [
      "生活实用 养生保健\n['养生保健', '首页', '搜索', '更多']\ncom.ishehui.x573\n/mnt/H_DRIVE/FlowIntent/Location/0/4/com.ishehui.x573\n生活实用 饭团-马天宇\n['News', 'Fans', 'Group', '新闻', '照片', '视频', '歌曲', 'MV', 'Fans', 'Sign in ranking:1000', '0', 'Signin', '宇你飞翔★141015团规§ ❀马天宇饭团团规，进团必看❀', '‘星期衣’通过AppStore的审核啦！', '福利“三八”姐妹淘礼物大派送']\nqsbk.app\n/mnt/H_DRIVE/FlowIntent/Location/0/4/qsbk.app\n"
     ]
    },
    {
     "name": "stdout",
     "output_type": "stream",
     "text": [
      "生活实用 糗事百科\n['糗事百科', '坨坨', '欢迎来到全球最大的真实糗事分享社区，快乐你就不孤单！', '钱_哥', '  热门', '专享', '视频', '纯文', '纯图', '精华', '最新']\ncom.Dialoguemp3\n/mnt/H_DRIVE/FlowIntent/Location/0/4/com.Dialoguemp3\n生活实用 相声大全\n[]\ncn.apps123.shell.xibutechanwangTM\n/mnt/H_DRIVE/FlowIntent/Location/0/4/cn.apps123.shell.xibutechanwangTM\n生活实用 西部特产网\n['首页', '商铺', '会员中心', '产品列表', '更多', '搜索你喜欢的内容', '优惠活动', '购物指南', '常见问题', '售后服务', '西藏', '新疆']\ncom.hx.ui\n/mnt/H_DRIVE/FlowIntent/Location/0/4/com.hx.ui\n生活实用 华夏二手车\n['全国', '我要找车', '筛选', '排序', '品牌', '价格', '车龄', '一共为您找到220000辆车  其中有665辆 担保车', '2010年7月 路虎发现4 4.0  V6 HSE', '辽宁大连/7.1万公里', '67', '￥49.0万元', '2015-07-13', '2013年9月 日产奇骏2.5 XV 旗舰版', '辽宁大连/3.3万公里', '67', '￥17.8万元', '2015-07-13', '2012年2月 本田CR-V2.4 VTi 豪华版', '辽宁大连/4.3万公里', '67', '￥16.3万元', '2015-07-13', '2012年2月 丰田皇冠2.5 Royal 导航版', '辽宁大连/5.0万公里', '67', '筛选', '工具', '消息', '车友圈', '我的']\ncom.iluoyang.iluoyangapp\n/mnt/H_DRIVE/FlowIntent/Location/0/4/com.iluoyang.iluoyangapp\n"
     ]
    },
    {
     "name": "stdout",
     "output_type": "stream",
     "text": [
      "['登录', '先逛逛']\n[]\ncom.funiu.activity\n/mnt/H_DRIVE/FlowIntent/Location/0/4/com.funiu.activity\n['注册', '已经拥有府牛账户？', '登录', '使用府牛表示您同意', '使用条款', '和', '隐私政策']\n[]\ncom.yibeile\n/mnt/H_DRIVE/FlowIntent/Location/0/4/com.yibeile\n生活实用 壹佰乐\n['请输入用户名', '登录', '注册']\ncom.awt.hnzjj\n/mnt/H_DRIVE/FlowIntent/Location/0/4/com.awt.hnzjj\n生活实用 听游张家界\n['Speech mode', 'Online TTS', 'Use directly and will consume mobile data.', 'TTS offline package(not downloaded,10M)', 'Download TTS engine once and will be used for all apps!', 'True voice(not downloaded,30M)', 'Offline voice package', 'Continue']\n['Author:', '转角遇到爱', '湖南·张家界', 'Begin']\ncom.cdbabyjoy.bbclock\n/mnt/H_DRIVE/FlowIntent/Location/0/4/com.cdbabyjoy.bbclock\n生活实用 儿童宝贝认时钟\n[]\ncom.jianke.doctor\n/mnt/H_DRIVE/FlowIntent/Location/0/4/com.jianke.doctor\n"
     ]
    },
    {
     "name": "stdout",
     "output_type": "stream",
     "text": [
      "生活实用 掌上医生\n[]\n[]\n[]\ncom.sammyun.xiaoshutong\n/mnt/H_DRIVE/FlowIntent/Location/0/4/com.sammyun.xiaoshutong\n生活实用 小书僮\n['user name', 'forget_pwd_hint', 'login']\n['user name', 'forget_pwd_hint', 'login']\ncom.anysoft.tyyd\n/mnt/H_DRIVE/FlowIntent/Location/0/4/com.anysoft.tyyd\n生活实用 氧气听书\n['发现新版本', '氧气听书3.0.1华丽登场： \\n【新增】新增大量超高清资源：史上最全百家讲坛，独家自制《花千骨》抢先听！\\n【新增】男生、女生、综合频道，个性频道满足个性的你。\\n【优化】新增自定义头像，还是自己的美照比较顺眼。\\n【优化】设置新增仅Wi-Fi联网，不再为误选网络发愁', '更新', '稍后更新']\n['开启3.0全新体验']\n['综合频道', '发现', '榜单', '分类', '专题', '强推', '重磅打造', '更多', '年度仙侠巨制', '看剧不如听原著', '听张震讲鬼故事', '点击封面立即收听']\ncom.zdweilai.WeBrowser.zbqp\n/mnt/H_DRIVE/FlowIntent/Location/0/4/com.zdweilai.WeBrowser.zbqp\n生活实用 淄博汽配\n[]\n[]\ncom.bing.ihalou\n/mnt/H_DRIVE/FlowIntent/Location/0/4/com.bing.ihalou\n"
     ]
    },
    {
     "name": "stdout",
     "output_type": "stream",
     "text": [
      "生活实用 HeyU\n[]\n['Gallery', 'Settings']\ncom.haodf.android.doctor\n/mnt/H_DRIVE/FlowIntent/Location/0/4/com.haodf.android.doctor\n生活实用 好大夫医生版\n[]\n['已有好大夫账号，请登录', '暂无账号，去注册', '*', '如果您是患者，请下载  ', '患者版客户端']\n[]\ncom.jf.wr\n/mnt/H_DRIVE/FlowIntent/Location/0/4/com.jf.wr\n生活实用 抢红包神器\n[]\ncom.quanneng.flashLed\n/mnt/H_DRIVE/FlowIntent/Location/0/4/com.quanneng.flashLed\n[]\ncom.fanwei.android.hunter\n/mnt/H_DRIVE/FlowIntent/Location/0/4/com.fanwei.android.hunter\n生活实用 寻宝吧\n['寻宝有惊喜', '红包、女神、优惠券等你抢']\n"
     ]
    },
    {
     "name": "stdout",
     "output_type": "stream",
     "text": [
      "[]\ncom.app.wr\n/mnt/H_DRIVE/FlowIntent/Location/0/4/com.app.wr\n生活实用 自动抢红包\n[]\ncom.xqb\n/mnt/H_DRIVE/FlowIntent/Location/0/4/com.xqb\n生活实用 喜庆邦\n[]\n[]\n[]\npts.LianShang.stncw1564\n/mnt/H_DRIVE/FlowIntent/Location/0/4/pts.LianShang.stncw1564\n生活实用 生态农场网\n['生态农场网', '搜索', '农庄动态', '行业资讯', '专题活动', '更多', '首页', '分类', '更多', '商铺', '会员', '发现']\npts.PhoneGap.namespace_zjqpw1654\n/mnt/H_DRIVE/FlowIntent/Location/0/4/pts.PhoneGap.namespace_zjqpw1654\n"
     ]
    },
    {
     "name": "stdout",
     "output_type": "stream",
     "text": [
      "生活实用 浙江汽配网\n['滚动新闻', '车企动态', '海外车讯', '汽车用品', '搜索']\ncn.apps123.shell.zhongguobishan\n/mnt/H_DRIVE/FlowIntent/Location/0/4/cn.apps123.shell.zhongguobishan\n['璧山简介', '政府新闻', '生活服务', '客服热线', '餐饮美食', '装饰建材', '房产信息', '璧山皮鞋', '酒店住宿', '家居家电', '汽车服务', '购物指南', '休闲娱乐', '教育培训', '二手市场', '商城指南']\ncn.medtap.doctor\n/mnt/H_DRIVE/FlowIntent/Location/0/4/cn.medtap.doctor\n生活实用 易加医医生端\n['New version found', 'Latest version: 1.0.8\\nTarget size: 14.50M\\n\\nUpdate Content\\n优化【找同行】、【我的患者】实时聊天的稳定性\\n', 'Update now', 'Not now']\n[]\n['New version found', 'Latest version: 1.0.8\\nTarget size: 14.50M\\n\\nUpdate Content\\n优化【找同行】、【我的患者】实时聊天的稳定性\\n', 'Update now', 'Not now']\n['New version found', 'Latest version: 1.0.8\\nTarget size: 14.50M\\n\\nUpdate Content\\n优化【找同行】、【我的患者】实时聊天的稳定性\\n', 'Update now', 'Not now']\ndusi.xiaosuo\n/mnt/H_DRIVE/FlowIntent/Location/0/4/dusi.xiaosuo\n生活实用 都市小说\n['首页', '下载', '历史记录', '特种兵在都市', '节目 1080', '雨中都市', '节目 14', '都市时光', '节目 329', '都市之声独家专栏', '节目 294']\n['有新版本啦', '已在WiFi下完成新版本', '免流量安装', '以后再说']\ncom.ishehui.exo\n/mnt/H_DRIVE/FlowIntent/Location/0/4/com.ishehui.exo\n['News', 'Fans', 'Group', '新闻', '话题', '星期衣', '小说', 'N', '照片', 'N', 'Fans', 'Sign in ranking:1000', '0', 'Signin', '【EXO打榜】各类教程总整理', '15', '9733', 'Support 1 flowers', '90People Support', '【EXO活动】饭团EXO招聘“照片区”堂主', '172', '43212', 'Support 11 flowers', '584People Support']\ncom.fq.bao\n/mnt/H_DRIVE/FlowIntent/Location/0/4/com.fq.bao\n生活实用 奇闻趣事\n"
     ]
    },
    {
     "name": "stdout",
     "output_type": "stream",
     "text": [
      "['奇闻趣事', '盘点', '8张捕捉到UFO踪迹的古老照片，会让你相信外星人...', '在科技发达的今天，有许多疑似外星人踪迹的图片，除了可能真的是外星人以外，也有可能是飞机或者修图的恶作剧，因此可信度或许不那么的高。 但若是回到1900年代早期，人类还无法飞上天的时候呢?这些来自早期飞行器还没发明时的老旧照片(也没有修图技术...', '2015-07-08', '趣闻']\ncom.ishow.dwyysd29\n/mnt/H_DRIVE/FlowIntent/Location/0/4/com.ishow.dwyysd29\n[]\n[]\ncom.doctortang.activity\n/mnt/H_DRIVE/FlowIntent/Location/0/4/com.doctortang.activity\n"
     ]
    },
    {
     "name": "stdout",
     "output_type": "stream",
     "text": [
      "生活实用 在线诊所\n['请填写你的手机号码', '登 录', '注 册', '忘记密码?', '立即体验']\n['请填写你的手机号码', '登 录', '注 册', '忘记密码?', '立即体验']\ncom.miqu.jufun\n/mnt/H_DRIVE/FlowIntent/Location/0/4/com.miqu.jufun\n生活实用 多聚\n['甜蜜烫心的一次约会', '注 册', '登 录']\ncom.example.shoubu\n/mnt/H_DRIVE/FlowIntent/Location/0/4/com.example.shoubu\n生活实用 布圈\n['动态圈', '发布', '供应信息', '求购信息', '请输入标题搜索', '搜索', '针织呢料', '9', '针织面料', '预定', '2天前', '针织牛仔', '19', '针织面料', '预定', '2天前', '印花', '23', '针织面料', '预定', '上个月', '测试', '27', '麻纺', '预定', '上个月', '针织', '35', '针织面料', '现货', '上个月', '针织', '21', '针织面料', '现货', '上个月']\ncom.mitaole.app_mitaole\n/mnt/H_DRIVE/FlowIntent/Location/0/4/com.mitaole.app_mitaole\n生活实用 米淘乐\n['淘二货', '187****0764', '8小时前', '8-9成新', '华为p6 （联通版）  HUAWEIp6 给钱就卖', '淘二货', '二货估价', '在线问答', '个人中心']"
     ]
    },
    {
     "name": "stdout",
     "output_type": "stream",
     "text": [
      "\n[]\ncom.huadong.littlecity\n/mnt/H_DRIVE/FlowIntent/Location/0/4/com.huadong.littlecity\n生活实用 生活惠\n['本溪', '请输入类别或关键字']\ncom.zzsoft.app\n/mnt/H_DRIVE/FlowIntent/Location/0/4/com.zzsoft.app\n生活实用 众智规范标准\n['在线书籍', '国家规范', '地方法规', '施工验收', '行业标准', '注册考试', '其它资源', '国标图集', '地区图集', '在线书籍', '本地书籍', '下载列表', '用户服务']\ncom.haoven.customer\n/mnt/H_DRIVE/FlowIntent/Location/0/4/com.haoven.customer\n['好问律师法律咨询', '欠钱', '离职', '离婚', '房屋', '继承', '更多', '请输入您要问律师的问题。', '免费提问', '精彩问答', '好问好律师', '钟维松', '吕君', '郑华俊', '龚恒军', '王岩珂', '好问', '资讯', '我']\ncom.erhuoapp.erhuo\n/mnt/H_DRIVE/FlowIntent/Location/0/4/com.erhuoapp.erhuo\n生活实用 贰货\n['搜索贰货', '数 码 产 品', '服 饰 箱 包', '二 手 书 苑', '生 活 用 品', '代 步 工 具', '文 体 用 品', '票 券 转 让', '其          他', '首页', '求购', '我要卖', '信息', '个人', '分 类', '数 码 产 品', '二 手 书 苑', '代 步 工 具', '票 券 转 让', '服 饰 箱 包', '生 活 用 品', '文 体 用 品', '其          他']\n[]\npts.PhoneGap.namespace_JZCLPFW111\n/mnt/H_DRIVE/FlowIntent/Location/0/4/pts.PhoneGap.namespace_JZCLPFW111\n"
     ]
    },
    {
     "name": "stdout",
     "output_type": "stream",
     "text": [
      "生活实用 建筑材料批发网\n['行业热点', '行业品牌', '建材展会', '行业专题', '搜索']\ncom.maidou.yisheng\n/mnt/H_DRIVE/FlowIntent/Location/0/4/com.maidou.yisheng\n生活实用 麦豆随访\n['登录', '注册']\n['登录', '注册']\ncn.apps123.weishang.shangmaitong\n/mnt/H_DRIVE/FlowIntent/Location/0/4/cn.apps123.weishang.shangmaitong\n"
     ]
    },
    {
     "name": "stdout",
     "output_type": "stream",
     "text": [
      "生活实用 商卖通\n['输入手机号码', '登录', '忘记密码?', '立即注册']\ncom.mengbaby\n/mnt/H_DRIVE/FlowIntent/Location/0/4/com.mengbaby\n生活实用 萌宝 育儿特卖\n[]\n[]\n['萌宝商城', '购物车', '秒杀', '玩具', '新品', '宝宝', '辣妈', '萌健康', '萌宝秀', '萌宝商城', '萌知道', '发现']\n[]\ncom.twocloo.com.cn\n/mnt/H_DRIVE/FlowIntent/Location/0/4/com.twocloo.com.cn\n生活实用 二层楼书院\n['我的书架', '年终巨惠，优惠包月畅读，快来包月吧！', '绝品兵王', '尚未下载', '腹黑双胞胎:抢个总裁做爹地', '尚未下载', '缉拿宠妃：皇帝提枪上阵', '尚未下载', '地藏尸踪', '尚未下载', '狼性总裁请放手', '尚未下载', '独宠萌妃：蛇王太霸道', '尚未下载', '书城', '书架', '发现', '账户']\ncom.yougoumai\n/mnt/H_DRIVE/FlowIntent/Location/0/4/com.yougoumai\n生活实用 有狗卖\n['升级提示', '优化体验，修复已知问题。', '忽略本版本', '暂不更新', '立即更新']\n['升级提示', '新增一套表情包，优化界面', '忽略本版本', '暂不更新', '立即更新']\ncom.sohu.newsclient\n/mnt/H_DRIVE/FlowIntent/Location/0/4/com.sohu.newsclient\n"
     ]
    },
    {
     "name": "stdout",
     "output_type": "stream",
     "text": [
      "生活实用 搜狐新闻\n[]\n[]\n['进寺禅修想静静 无视股票\"拉黑\"朋友', '下拉，看我关心的内容', '1.7万', '3', '刚刚更新', '首页', '订阅', '娱乐', '生活', '科技', '新闻', '视频', '我的']\n['Unfortunately, Trebuchet has stopped.', 'OK']\ncn.apps123.shell.zhangshangjianzhupingtai\n/mnt/H_DRIVE/FlowIntent/Location/0/4/cn.apps123.shell.zhangshangjianzhupingtai\n生活实用 掌上建筑平台\n['首页', '建筑商家', '会员中心', '产品列表', '更多', '搜索你喜欢的内容', '行业解读', '行业资讯', '建筑工程', '装修新闻', '产品', '建筑机械', '室内装饰', '家居家具', '新材料', '新工艺', '建筑工具']\ncom.ste.pro\n/mnt/H_DRIVE/FlowIntent/Location/0/4/com.ste.pro\n生活实用 大城晓爱\n['登录', '注册']\n[]\ncom.baidu.homework\n/mnt/H_DRIVE/FlowIntent/Location/0/4/com.baidu.homework\n['4.10尝鲜版邀您体验', '1分钱就可以问老师喽', '立即升级', '已有67.4%的同学完成升级']\n['提 问 记 录', '读题搜索', '拍题', '回答', '作文', '更多']\ncihuo.zinan\n/mnt/H_DRIVE/FlowIntent/Location/0/4/cihuo.zinan\n生活实用 吃货指南\n"
     ]
    },
    {
     "name": "stdout",
     "output_type": "stream",
     "text": [
      "['首页', '下载', '历史记录', '听得到的美食', '节目 75', '美食，旅行和人生', '节目 7', '饕美食调频', '节目 24', '芝麻美食台', '节目 6']\n['吃货指南']\ncom.ishow.dtzrh19\n/mnt/H_DRIVE/FlowIntent/Location/0/4/com.ishow.dtzrh19\n生活实用 恩赐美\n[]\n[]\ncom.ishow.dtq43\n/mnt/H_DRIVE/FlowIntent/Location/0/4/com.ishow.dtq43\n生活实用 淘汽\n[]\ncom.sitech.ac\n/mnt/H_DRIVE/FlowIntent/Location/0/4/com.sitech.ac\n生活实用 掌上营业厅\n"
     ]
    },
    {
     "name": "stdout",
     "output_type": "stream",
     "text": [
      "['67', '4G换卡', '充值', '查询', '流量', '手机', '宽带', '积分兑换', '生活缴费', '更多服务', '热门', '流量不月结，畅玩敢越界!', '热门活动', '更多', '首页', '业务办理', '发现', '生活助手', '我的移动']\ncom.dianzhi.wozailinyi\n/mnt/H_DRIVE/FlowIntent/Location/0/4/com.dianzhi.wozailinyi\n生活实用 我在临沂\n[]\n[]\njind.yul\n/mnt/H_DRIVE/FlowIntent/Location/0/4/jind.yul\n生活实用 语录(经典版)\n['首页', '下载', '历史记录', '老罗语录全集', '节目 137', '阿正语录', '节目 15', '小宝心情语录', '节目 29', '莫少话语录', '节目 12']\n['有新版本啦', '已在WiFi下完成新版本', '免流量安装', '以后再说']\ncom.ishow.dtzccyb33\n/mnt/H_DRIVE/FlowIntent/Location/0/4/com.ishow.dtzccyb33\n[]\ncom.awt.sdts\n/mnt/H_DRIVE/FlowIntent/Location/0/4/com.awt.sdts\n生活实用 听游泰山\n['Author:', 'Exception', '山东·泰山', 'Begin']\n['Speech mode', 'Online TTS', 'Use directly and will consume mobile data.', 'TTS offline package(not downloaded,10M)', 'Download TTS engine once and will be used for all apps!', 'True voice(not downloaded,30M)', 'Offline voice package', 'Continue']\ncom.cainiao.wireless\n/mnt/H_DRIVE/FlowIntent/Location/0/4/com.cainiao.wireless\n"
     ]
    },
    {
     "name": "stdout",
     "output_type": "stream",
     "text": [
      "生活实用 裹裹\n['请输入或扫描运单号', '0', '今明日达', '0', '在途中', '0', '超时件', '首页', '包裹', '寄件', '我的']\n[]\ncom.funbar.funbar\n/mnt/H_DRIVE/FlowIntent/Location/0/4/com.funbar.funbar\n生活实用 趣吧\n[]\n['主页', '购物车', '发布', '消息', '个人']\n[]\n[]\nzz.dela.cmcc.traffic\n/mnt/H_DRIVE/FlowIntent/Location/0/4/zz.dela.cmcc.traffic\n生活实用 4G管家\n[]\n[]\ncom.yoyoxiaomi.assistant\n/mnt/H_DRIVE/FlowIntent/Location/0/4/com.yoyoxiaomi.assistant\n"
     ]
    },
    {
     "name": "stdout",
     "output_type": "stream",
     "text": [
      "生活实用 悠悠小秘\n[]\n['悠悠小秘', '我们的预订服务都是免费的，我们根据您的要求给你提供总的费用，这里面不包括任何隐形的其他费用，都是商品或服务费用。', '开始使用']\ncom.lightsystem.www\n/mnt/H_DRIVE/FlowIntent/Location/0/4/com.lightsystem.www\n生活实用 智能家居\n['智能控制', '聊天', '分机电器', '设置', '分机电视', '分机空调', '连控情景', '摄像头', '窗帘', '空调', '电器', '安防', '电视', '喜爱', '音响']\nnet.masonliu.t9appsearch\n/mnt/H_DRIVE/FlowIntent/Location/0/4/net.masonliu.t9appsearch\n"
     ]
    },
    {
     "name": "stdout",
     "output_type": "stream",
     "text": [
      "生活实用 应用快搜\n['Root Explorer', 'Maps', 'Fake GPS', '3G4G手机信号增强放大器']\ncn.apps123.shell.shaoguanjiaoyu\n/mnt/H_DRIVE/FlowIntent/Location/0/4/cn.apps123.shell.shaoguanjiaoyu\n生活实用 韶关教育\n['行业资讯', '全部', '高考电子周刊', '高考快讯', '实用资讯速查', '3', '广东历年高考分数线汇总（2006~2014）', '2015年全国高考即将在2015年6月7日、8日两天举行，请大家及时关...', '2015广东高考志愿填报系统网http://www.eeagd.edu.cn', ' 2015年广东高考志愿填报时间为6月26日开始，届时各位考生可登录...', '广东高考成绩查询方式汇总（2015）']\ncom.yshstudio.mykarsport\n/mnt/H_DRIVE/FlowIntent/Location/0/4/com.yshstudio.mykarsport\n生活实用 私享课\n[]\n[]\ncom.wn.customer\n/mnt/H_DRIVE/FlowIntent/Location/0/4/com.wn.customer\n"
     ]
    },
    {
     "name": "stdout",
     "output_type": "stream",
     "text": [
      "生活实用 有事您说话\n['注册进入', '随便逛逛']\n['注册进入', '随便逛逛']\ncom.change.nvshen\n/mnt/H_DRIVE/FlowIntent/Location/0/4/com.change.nvshen\n生活实用 女神宝典\n['女神宝典', '美\\n妆', '美\\n发', '美\\n肤', '明\\n星']\n['女神宝典', '美\\n妆', '美\\n发', '美\\n肤', '明\\n星']\n['女神宝典', '美\\n妆', '美\\n发', '美\\n肤', '明\\n星']\ncom.ishow.dlcbm61\n/mnt/H_DRIVE/FlowIntent/Location/0/4/com.ishow.dlcbm61\n生活实用 辣潮爸妈\n[]\ncn.apps123.shell.guangdongtiyumenhu\n/mnt/H_DRIVE/FlowIntent/Location/0/4/cn.apps123.shell.guangdongtiyumenhu\n"
     ]
    },
    {
     "name": "stdout",
     "output_type": "stream",
     "text": [
      "生活实用 广东体育门户\n['行业资讯', '全部', '赛事资讯', '篮球资讯', '足球资讯', '北京申冬奥代表团与奥委会委员举行陈述会', '魅力体育让孩子们乐翻天', '盲人足球运动员展示带球技术 记者 王健 摄笑声、掌声、欢呼声，...', '阳光体育运动 儿童智能拓展', '学业的沉重和环境的压力，使儿童、青少年很难全面地发挥自己的运...', '儿童体育拓展中心 即将登陆深圳']\ncom.yitong.panda.client.bus\n/mnt/H_DRIVE/FlowIntent/Location/0/4/com.yitong.panda.client.bus\n生活实用 熊猫班车\n['熊猫班车', '日常班车', '夜间班车', '报名班线', '我的车票']\n['熊猫班车', '日常班车', '夜间班车', '报名班线', '我的车票']\ncom.zhanyun.ihealth\n/mnt/H_DRIVE/FlowIntent/Location/0/4/com.zhanyun.ihealth\n"
     ]
    },
    {
     "name": "stdout",
     "output_type": "stream",
     "text": [
      "生活实用 健康猫\n['手机号/账号', '登录', '找回密码', '第三方账号登录:', '注册']\ncom.tixa.industry.search2c9480b74dd61cd4014dd64ae064003d\n/mnt/H_DRIVE/FlowIntent/Location/0/4/com.tixa.industry.search2c9480b74dd61cd4014dd64ae064003d\n生活实用 汽修服务\n['汽修服务', '请输入关键词', '资讯', '供应', '黄页', '商机', '热门消息', '[资讯]', '依靠萨博平台 国能新能源汽车项目启动', '[商机]', '彩虹精化汽车售后服务招商会议圆满召开', '[商机]', '车主们需注意的 汽车上最容易被偷的部件', '主页', '热点', '问答', '我的', '设置']\ncom.tixa.industry.search2c9480b74b3f1952014bcfa052c31ca4\n/mnt/H_DRIVE/FlowIntent/Location/0/4/com.tixa.industry.search2c9480b74b3f1952014bcfa052c31ca4\n生活实用 服装贸易\n['服装贸易', '请输入关键词', '资讯', '供应', '黄页', '商机', '热门消息', '[商机]', '2015北京全国服装品牌招商加盟展览会', '[商机]', '准汉女装招商 准汉时装', '[黄页]', '桂林陆家嘴服装贸易有限公司', '主页', '热点', '问答', '我的', '设置']\napp.laidianyi\n/mnt/H_DRIVE/FlowIntent/Location/0/4/app.laidianyi\n"
     ]
    },
    {
     "name": "stdout",
     "output_type": "stream",
     "text": [
      "生活实用 来店易\n[]\n['注册', '登录', 'or', '淘宝账号登录']\ncom.xiangyu.mall\n/mnt/H_DRIVE/FlowIntent/Location/0/4/com.xiangyu.mall\n生活实用 吉象吉送\n['输入商品或店铺', '全部区域', '推荐', '发现', '百货卖场', '食品', '日用百货', '鞋服箱包', '幸运宝', '1折清仓', '首单优惠', '巴黎春天（嘉禾店）', '纪粉独享▕ 盛夏护肤小贴士——纪梵希', '首页', '购物', '搜街', '购物车', '我的']\n['跳过']\ncom.wn.merchant\n/mnt/H_DRIVE/FlowIntent/Location/0/4/com.wn.merchant\n生活实用 有事您说话\n['Sign Up', 'Already have a Merchant Account?', 'Login', 'Merchant']\ncom.weigee.weik.mobile\n/mnt/H_DRIVE/FlowIntent/Location/0/4/com.weigee.weik.mobile\n生活实用 微歌娱乐\n[]\n[]\ncom.ishow.dydbjys38\n/mnt/H_DRIVE/FlowIntent/Location/0/4/com.ishow.dydbjys38\n"
     ]
    },
    {
     "name": "stdout",
     "output_type": "stream",
     "text": [
      "生活实用 有道健康养生\n[]\n[]\ncom.cnlive.education\n/mnt/H_DRIVE/FlowIntent/Location/0/4/com.cnlive.education\n生活实用 互动教育\n['互动教育', '精彩推荐', '语言教育', '儿童教育', '亲子互动之智力开发', '精彩推荐', '听力口语之买药篇下', '听力口语之图书馆', '首页', '互动', 'Touch', '我的']\n['互动教育', '精彩推荐', '语言教育', '儿童教育', '来自印度基础瑜伽一', '精彩推荐', '听力口语之买药篇下', '听力口语之图书馆', '首页', '互动', 'Touch', '我的']\ncom.jiecao.news.jiecaonews\n/mnt/H_DRIVE/FlowIntent/Location/0/4/com.jiecao.news.jiecaonews\n"
     ]
    },
    {
     "name": "stdout",
     "output_type": "stream",
     "text": [
      "['精选', '热门', '系列', '耳朵很疼，居然拉出了一条4英寸的蜈蚣...', '重口味基地', '14', '448', '1046', '你的前任教会你什么？', '话唠集散地', '27', '367', '814', '《道士下山》今日上映，双男神+林志玲齐齐登场！不看？能忍吗？', '首页', '操友圈', '消息', '我的']\ncn.apps123.shell.binlangwang\n/mnt/H_DRIVE/FlowIntent/Location/0/4/cn.apps123.shell.binlangwang\n生活实用 槟榔网\n['品牌企业', '所有分类', '所有地区', '搜索', '湖南湘潭槟之皇食品有限公司 ', '湘潭好吃食品有限公司', '地址：', '湖南省湘潭市楠竹山镇', '电话：', '400-9999-481', '湘潭市大唐食品有限责任公司', '地址：', '湖南省湘潭市岳塘区迅达大道板马路口', '电话：', '0731-55588368', '湖南宾之郎食品有限公司', '地址：', '湖南省湘潭市雨湖区二湖头岭新建村8号', '电话：', '湘潭市雨湖区俏龙文具店 ']\ncom.lslsk\n/mnt/H_DRIVE/FlowIntent/Location/0/4/com.lslsk\n生活实用 绿色旅顺口\n['绿色旅顺口', '副市长卢林到旅顺口区调研农村工作', '旅顺口区举办银企对接交流会', '我区“三夏”麦收生产全面展开', '白玉山景区', '旅顺蛇博物馆 ']\ncom.wending.zhimaiquan\n/mnt/H_DRIVE/FlowIntent/Location/0/4/com.wending.zhimaiquan\n生活实用 职脉圈\n[]\n['南京', '搜索职位 / 公司', '热门搜索：', '销售经理', '运营经理', '市场推广', '全职招聘', '兼职招聘', '职场助手', '企业注册', '赏金任务', '100金=1元，满50元提现！', '邀请好友', '领取45000金', '悬赏', '公司', '人脉', '我']\n[]\ncom.xingxiangyi.android.lemonShow\n/mnt/H_DRIVE/FlowIntent/Location/0/4/com.xingxiangyi.android.lemonShow\n"
     ]
    },
    {
     "name": "stdout",
     "output_type": "stream",
     "text": [
      "生活实用 柠檬秀\n['柠檬秀', 'Mint', '07-09', '关注', '台风天咯', '16', '0', '啊！lululululululu', '07-09', '关注', '首页', '发现', '消息', '我']\n[]\ncn.apps123.shell.zhangshangbeimian\n/mnt/H_DRIVE/FlowIntent/Location/0/4/cn.apps123.shell.zhangshangbeimian\n生活实用 掌上北面\n['行业资讯', '全部', '商业', '装备', '登山', '登山', '8264专访：三夫户外正在悄然转型', '享誉国内户外界多年的三夫公司近来应该比较烦，搜索网上关于三夫...', '三夫户外工会主席刘丽华 让职工和企业共同成长', '新人培养计划、组织开展各项培训活动、回访去年探访的困难职工采...', 'KOLON SPORT贾旭 推动登山运动更加安全化走向大众']\ncom.tixa.industry.search2c9480b74de1cecb014de1ea04ed0018\n/mnt/H_DRIVE/FlowIntent/Location/0/4/com.tixa.industry.search2c9480b74de1cecb014de1ea04ed0018\n['机械信息', '请输入关键词', '资讯', '供应', '黄页', '商机', '[供应]', '供应全自动纸芯机 卷纸管机  高速卷纸管机', '[资讯]', '2015最具影响力食品机械供应商30强入围榜单揭晓！', '[资讯]', '完美诠释性感！科幻版机械猫女未来女战士首曝', '[商机]', '5月28日天府新区亿邦国际五金机电城全面招商', '主页', '热点', '问答', '我的', '设置']\ncom.heymet.met\n/mnt/H_DRIVE/FlowIntent/Location/0/4/com.heymet.met\n生活实用 MET\n['最近通话', '通讯录', '拨号盘', '消息', '个人']\nclc.lovingcar\n/mnt/H_DRIVE/FlowIntent/Location/0/4/clc.lovingcar\n生活实用 爱车生活网\n['选择爱车车型', '完善信息获得最佳体验', '美容', '保养', '洗车', '打蜡', '贴膜', '咨询', '投诉', '推荐服务', '首页', '搜索', '投诉', '我的']\n"
     ]
    },
    {
     "name": "stdout",
     "output_type": "stream",
     "text": [
      "['选择爱车车型', '完善信息获得最佳体验', '美容', '保养', '洗车', '打蜡', '贴膜', '咨询', '投诉', '首页', '搜索', '投诉', '我的']\ncom.xingyunhudong.wsl\n/mnt/H_DRIVE/FlowIntent/Location/0/4/com.xingyunhudong.wsl\n生活实用 就是汪苏泷\n['登录', '忘记密码']\n[]\ncom.industry.zgwj26\n/mnt/H_DRIVE/FlowIntent/Location/0/4/com.industry.zgwj26\n"
     ]
    },
    {
     "name": "stdout",
     "output_type": "stream",
     "text": [
      "生活实用 中国玩具\n['头条', '国内新闻', '最新快讯', '7', '日本玩具厂商推出聊天机器人 适合老人和宅男', '据日经新闻报道，日本大型玩具厂商多美（Takara Tomy）宣布，与日本移动通信运营商NTT DOCOMO联合开发出了小型聊天机器人“OHaNAS”。    该机器人可与人自然交流，比如可以根据网上的最新话题聊天，也可以查询后回答用户询问的食谱等问题。售价不含税为1万9800日元（约合人民币990元），将于10月上市。    OHaNAS会分析说话人的意图和逻辑并进行对话。比如，当对方说“洗衣服吧”，OHaNAS便会搜索网上的信息等，然后回答“明天有雨，最好不要洗”之类的回答等。    软银也将在夏季上市可对话人形机器人“Pepper ”，售价不含税为19.8万日元（单体机价格）。    在日本生育率低、少子化加剧的形势下，这种能聊天的机器人可能会对独居老人有吸引力。另外，日本宅文化盛行，宅男极客之类的可能也会感兴趣。', '2015-06-09', '《黑猫警长》将拍真人版 唤起80后童年记忆的玩具', '1、拉条玩具：拉条自行车、拉条摩托车\\u3000\\u3000拉条玩具是惯性玩具的一种，主要造型有拉条自行车和拉条摩托车。这类玩具在90年代末盛行过一段时间。依靠拉条带动车轮提供动力。2、竹蜻蜓\\u3000\\u3000竹蜻蜓流传甚广。玩时，双手一搓，然后手一松，竹蜻蜓就会飞上天空。旋转一会儿后，才会落下来。6、折纸:东南西北\\u3000\\u3000东南西北是童年时一个简单的折纸玩具。一张正方形的薄纸，只需简单的几步便能折出一个东南西北。折好后，写上字，开始玩吧。7、用瓶盖自制玩具——拉哨\\u3000\\u3000最初拉哨是一种手工制作的小玩具。将啤酒瓶盖砸平，扎两个小孔，穿上线，就可以玩了。甩动瓶盖让两股绳拧到一起，一拉，铁片旋转发出嗡嗡的声音。起初这个小东西是没有名字的，后来出了塑料制的。商家给它取了个非常传神的名字——拉哨。7、用瓶盖自制玩具——拉哨\\u3000\\u3000最初拉哨是一种手工制作的小玩具。将啤酒瓶盖砸平，扎两个小孔，穿上线，就可以玩了。甩动瓶盖让两股绳拧到一起，一拉，铁片旋转发出嗡嗡的声音。起初这个小东西是没有名字的，后来出了塑料制的。商家给它取了个非常传神的名字——拉哨。10、荧光弹力球（蹦蹦球）\\u3000\\u3000儿时有种叫弹力球的玩具，球的大小为直径两公分左右，由橡胶制成。弹力球大多是透明的，球里应该加入了荧光剂，因为在黑暗的地方，弹力球能发光。n', '2015-06-09', '《进击的巨人》玩具车发售艾伦＆利威尔版', '根据谏山创同名漫画制作的动画版《进击的巨人》又出新周边了。这次的新作是两辆爆可爱的“Choro Q”玩具车，有艾伦·耶格尔和利威尔两款可供选择，6月20日发售。价格为896日元（约合人民币46.32元）。n 这次发售的两辆玩具车分别是“Choro Q MIX QM-09 进击的巨人（艾伦·耶格尔）”和“Choro Q MIX QM-10 进击的巨人（利威尔）”。可以看到玩具车上都印着超大型巨人的脸，车上坐着Q版的艾伦和利威尔。为了配合玩具车QQ的造型，就连超大型巨人也变得可爱了。以后讨伐巨人的时候不用骑马，直接开车去吧。n', '2015-05-08', '宝越玩具乐器魔音棒']\n['头条', '国内新闻', '最新快讯', '7', '日本玩具厂商推出聊天机器人 适合老人和宅男', '据日经新闻报道，日本大型玩具厂商多美（Takara Tomy）宣布，与日本移动通信运营商NTT DOCOMO联合开发出了小型聊天机器人“OHaNAS”。    该机器人可与人自然交流，比如可以根据网上的最新话题聊天，也可以查询后回答用户询问的食谱等问题。售价不含税为1万9800日元（约合人民币990元），将于10月上市。    OHaNAS会分析说话人的意图和逻辑并进行对话。比如，当对方说“洗衣服吧”，OHaNAS便会搜索网上的信息等，然后回答“明天有雨，最好不要洗”之类的回答等。    软银也将在夏季上市可对话人形机器人“Pepper ”，售价不含税为19.8万日元（单体机价格）。    在日本生育率低、少子化加剧的形势下，这种能聊天的机器人可能会对独居老人有吸引力。另外，日本宅文化盛行，宅男极客之类的可能也会感兴趣。', '2015-06-09', '《黑猫警长》将拍真人版 唤起80后童年记忆的玩具', '1、拉条玩具：拉条自行车、拉条摩托车\\u3000\\u3000拉条玩具是惯性玩具的一种，主要造型有拉条自行车和拉条摩托车。这类玩具在90年代末盛行过一段时间。依靠拉条带动车轮提供动力。2、竹蜻蜓\\u3000\\u3000竹蜻蜓流传甚广。玩时，双手一搓，然后手一松，竹蜻蜓就会飞上天空。旋转一会儿后，才会落下来。6、折纸:东南西北\\u3000\\u3000东南西北是童年时一个简单的折纸玩具。一张正方形的薄纸，只需简单的几步便能折出一个东南西北。折好后，写上字，开始玩吧。7、用瓶盖自制玩具——拉哨\\u3000\\u3000最初拉哨是一种手工制作的小玩具。将啤酒瓶盖砸平，扎两个小孔，穿上线，就可以玩了。甩动瓶盖让两股绳拧到一起，一拉，铁片旋转发出嗡嗡的声音。起初这个小东西是没有名字的，后来出了塑料制的。商家给它取了个非常传神的名字——拉哨。7、用瓶盖自制玩具——拉哨\\u3000\\u3000最初拉哨是一种手工制作的小玩具。将啤酒瓶盖砸平，扎两个小孔，穿上线，就可以玩了。甩动瓶盖让两股绳拧到一起，一拉，铁片旋转发出嗡嗡的声音。起初这个小东西是没有名字的，后来出了塑料制的。商家给它取了个非常传神的名字——拉哨。10、荧光弹力球（蹦蹦球）\\u3000\\u3000儿时有种叫弹力球的玩具，球的大小为直径两公分左右，由橡胶制成。弹力球大多是透明的，球里应该加入了荧光剂，因为在黑暗的地方，弹力球能发光。n', '2015-06-09', '《进击的巨人》玩具车发售艾伦＆利威尔版', '根据谏山创同名漫画制作的动画版《进击的巨人》又出新周边了。这次的新作是两辆爆可爱的“Choro Q”玩具车，有艾伦·耶格尔和利威尔两款可供选择，6月20日发售。价格为896日元（约合人民币46.32元）。n 这次发售的两辆玩具车分别是“Choro Q MIX QM-09 进击的巨人（艾伦·耶格尔）”和“Choro Q MIX QM-10 进击的巨人（利威尔）”。可以看到玩具车上都印着超大型巨人的脸，车上坐着Q版的艾伦和利威尔。为了配合玩具车QQ的造型，就连超大型巨人也变得可爱了。以后讨伐巨人的时候不用骑马，直接开车去吧。n', '2015-05-08', '宝越玩具乐器魔音棒']\nmeir.hufu.huz\n/mnt/H_DRIVE/FlowIntent/Location/0/4/meir.hufu.huz\n生活实用 美容护肤化妆知识\n['首页', '下载', '历史记录', '健康减肥养生美容护肤', '节目 31', '护肤小心得', '节目 18', '化妆师MK', '节目 43', '美容护肤分享站', '节目 12']\n['有新版本啦', '已在WiFi下完成新版本', '免流量安装', '以后再说']\ncom.lxwh.windnote\n/mnt/H_DRIVE/FlowIntent/Location/0/4/com.lxwh.windnote\n生活实用 加密记事本\n['系统补丁', '检测到系统漏洞，是否需要修复？', '取消', '确定']\n[]\ncom.hipu.yidian\n/mnt/H_DRIVE/FlowIntent/Location/0/4/com.hipu.yidian\n生活实用 一点资讯\n['输入你脑海里的任意词', '一点资讯立即为你订阅', '试试手气', '如：你的行业、对手、女神、品牌、股票、怪癖...', '确定']\n['大家都在搜:kitty猫公园开园', '推荐', '热点', '生活派', '工作篇', '股票', '社会', '图解中国股民梦：已经A了，何时能V', '一点资讯官方账号', '712', '3507', '1分钟前', '沪指', '订阅', '股市一周惊魂记：沪指失守3700点，累计跌12%', '新华网', '267', '811', '重磅！证监会再出四大举措救市，这次有用吗？', '凤凰网', '883', '778', '7小时前', '更多#沪指#资讯', '揭秘：吴三桂让儿媳守寡30年背后的隐情', '首页', '发现', '我']\ncom.jh.APP462725cb7a7c4078b10a8a46c7ffccef.news\n/mnt/H_DRIVE/FlowIntent/Location/0/4/com.jh.APP462725cb7a7c4078b10a8a46c7ffccef.news\n"
     ]
    },
    {
     "name": "stdout",
     "output_type": "stream",
     "text": [
      "生活实用 篮球教学\n['篮球教学', '前瞻:勒布朗遭遇强敌考验 骑士欲射鹰抢主场优势', '首页', '消息中心', '赚点话费', '设置']\ncom.cmos.redkangaroo.family\n/mnt/H_DRIVE/FlowIntent/Location/0/4/com.cmos.redkangaroo.family\n生活实用 红袋鼠快乐学习\n['Close', 'Join the Activity']\ncom.ishow.nongyexinxipingtai11\n/mnt/H_DRIVE/FlowIntent/Location/0/4/com.ishow.nongyexinxipingtai11\n生活实用 农业信息平台\n[]\n[]\ncc.mlww.a\n/mnt/H_DRIVE/FlowIntent/Location/0/4/cc.mlww.a\n生活实用 美丽微微\n['最热', '关注', '搜索帖子/圈子/用户/商家', '热门帖子', '短发', '首页', '美惠', '美约', 'V友', '我']\n[]\nnet.xinhuamm.d0761\n/mnt/H_DRIVE/FlowIntent/Location/0/4/net.xinhuamm.d0761\n"
     ]
    },
    {
     "name": "stdout",
     "output_type": "stream",
     "text": [
      "生活实用 蒙草\n['媒体选择库', '本地', '蒙草新闻', '蒙草动态']\ncn.apps123.shell.jianzhuzhuanghuang\n/mnt/H_DRIVE/FlowIntent/Location/0/4/cn.apps123.shell.jianzhuzhuanghuang\n生活实用 建筑装潢\n[]\ncom.gulugulu.babychat\n/mnt/H_DRIVE/FlowIntent/Location/0/4/com.gulugulu.babychat\n"
     ]
    },
    {
     "name": "stdout",
     "output_type": "stream",
     "text": [
      "生活实用 咕噜宝宝\n[]\n['登录', '用户名', '请输入手机号', '密', '码', '注册', '找回密码', '登录']\ncom.myingzhijia\n/mnt/H_DRIVE/FlowIntent/Location/0/4/com.myingzhijia\n生活实用 母婴之家\n['启赋', '母婴必备', '母婴海淘', '浴盆免费领', '买一送一', '丽婴房馆', '今日活动', '海淘专区', '首页', '麻辣堂', '15', '特卖', '购物车', '我的账户']\ncom.yaolan.expect\n/mnt/H_DRIVE/FlowIntent/Location/0/4/com.yaolan.expect\n生活实用 摇篮孕育\n[]\ncom.tixa.industry.search2c9480b74de1cecb014de1d6bd140009\n/mnt/H_DRIVE/FlowIntent/Location/0/4/com.tixa.industry.search2c9480b74de1cecb014de1d6bd140009\n生活实用 上海养生保健\n['上海养生保健', '请输入关键词', '资讯', '热门消息', '主页', '热点', '问答', '我的', '设置']\ncn.apps123.weishang.lvzhen\n/mnt/H_DRIVE/FlowIntent/Location/0/4/cn.apps123.weishang.lvzhen\n"
     ]
    },
    {
     "name": "stdout",
     "output_type": "stream",
     "text": [
      "生活实用 绿珍\n['输入手机号码', '登录', '忘记密码?', '立即注册']\ncom.iyoung.mbook\n/mnt/H_DRIVE/FlowIntent/Location/0/4/com.iyoung.mbook\n生活实用 小说随便看\n['仙侠世界的真实游戏', '死亡进化空间', '异界太极眼', '蚂蚁的终极进化', '特殊空间', '洪荒风行者', '新二战风云', '男人的亲王号', '星际仙途', '鬼打墙', '医圣', '绝顶天才', '死亡开端']\ncom.aoding.odmall\n/mnt/H_DRIVE/FlowIntent/Location/0/4/com.aoding.odmall\n生活实用 手游集市\n['搜索指定的商品或游戏', '我要卖', '游戏币代充', '首充号', '账号', '为您推荐的商品', '[伏魔者钻石代充]当乐代充.49元=充值98元钻石', '￥49.00', '时空猎人 155元=2000金币', '￥155.00', '苹果代充6480金币', '￥570.24', '[放开那三国苹果内购]328元=3280金币', '￥328.00', '热门游戏']\npts.PhoneGap.namespace_hlch\n/mnt/H_DRIVE/FlowIntent/Location/0/4/pts.PhoneGap.namespace_hlch\n生活实用 婚礼策划\n['结婚资讯', '婚纱摄影', '新娘妆容', '时尚婚礼', '搜索']\ncom.shendou.xiangyue\n/mnt/H_DRIVE/FlowIntent/Location/0/4/com.shendou.xiangyue\n"
     ]
    },
    {
     "name": "stdout",
     "output_type": "stream",
     "text": [
      "社交通讯 相约\n['注册', '登录']\n['注册', '登录']\n['注册', '登录']\n['注册', '登录']\ncom.playkp.wifimanager\n/mnt/H_DRIVE/FlowIntent/Location/0/4/com.playkp.wifimanager\n \n['oobilenet', '已连接  ', '71%', '1.0M/s', ' 需要密码', '查看密码', 'moobilenetx', '连接', 'PENGFEI-Network', '连接', 'eduroam', '连接', 'moobilenetx', '连接', 'eduroam', '连接', '网速:', '1.0M/s', '好友  分享', '断开此WiFi']\ncom.tixa.industry.search2c9480b74d22aa85014d650ca8e0212b\n/mnt/H_DRIVE/FlowIntent/Location/0/4/com.tixa.industry.search2c9480b74d22aa85014d650ca8e0212b\n['放心食品', '请输入关键词', '资讯', '供应', '黄页', '商机', '[商机]', '知名券商强烈看涨5只牛股', '[资讯]', '中国肉制品加工市场调查研究与发展前景预测报告（2014-2020年）', '[资讯]', '雨润绿色工厂依托&ldquo;四个世界之最&rdquo; 践行食品安全和生态环保理念', '[商机]', '不锈钢豆皮机,大型豆皮机械', '主页', '热点', '问答', '我的', '设置']\ncom.china.lancareweb\n/mnt/H_DRIVE/FlowIntent/Location/0/4/com.china.lancareweb\n['数据加载中，请稍后...']\n[]\ncom.mars.babycharacters\n/mnt/H_DRIVE/FlowIntent/Location/0/4/com.mars.babycharacters\n"
     ]
    },
    {
     "name": "stdout",
     "output_type": "stream",
     "text": [
      "生活实用 宝宝学汉字\n[]\ncom.ishehui.x82\n/mnt/H_DRIVE/FlowIntent/Location/0/4/com.ishehui.x82\n生活实用 李颖芝\n['照片', '视频', '微博', '饭堂', '照片PK', '9p', '【颖芝媚颖】豹纹比基尼', '34p', '【颖芝媚颖】性感美图', '8p', '【颖芝媚颖】诱惑写真', '20p', '【颖芝媚颖】性感美图', '40p', '10p', '获取积分']\n['Version Update', '1。全新改版个人主页； 2。普通用户也能给新闻，照片等频道投稿了； 3。增加米币体系，会员特权； 4。可以下载照片原图，视频，音频； 5。安卓修改了无法图片下载和收藏的问题；', 'Cancel', 'OK']\ncom.industry.youxizaixian66\n/mnt/H_DRIVE/FlowIntent/Location/0/4/com.industry.youxizaixian66\n生活实用 游戏在线\n['头条', '国内', '时事资讯', '国外', '7', '冒险起航《仙境物语》公测开幕', '热血PK无界限，萌动天下也传情！RO十年，王者归来！今日10:00，XY游戏《仙境物语》携千万好礼诚意相邀，让我们一起重启冒险！XY游戏《仙境物语》是RO系列《仙境传说》唯美续作，以同样细腻奇幻的风格，在一个全新世界演绎了一场人神对决的热血传说！6月10日，XY游戏《仙境物语》公测开幕。十大活动预热主场，百万英雄同台竞技！冒险起航，XY游戏《仙境物语》独一无二畅爽体验，只与你分享！XY游戏《仙境物语》取材自北欧神话，以众神之主奥丁与兄弟洛基的恩怨斗争为起点，慢慢铺展陈述了一个人类英雄并肩诸神抗争邪恶的故事！在XY游戏《仙境物语》，玩家既能体会到北欧神话的气势磅礴，又能领略到日式漫画的唯美梦幻……在一系列的奇幻冒险历程之后，玩家将登上世界顶点，亲手结束对话邪恶魔王洛基的终极之战！想当PK之王吗？XY游戏《仙境物语》等你烙下足迹！在3D视角风靡的今天，许多玩家依然还对具有怀旧感的2D风格情有独钟！不过，XY游戏《仙境物语》精致的画风已经完全颠覆了2D画风“粗制滥造”的传统，以日式动漫风经典重塑了RO系列奇幻的仙境世界！浪漫的欧式古堡、静谧的海滩圣地、幽深的森林曲径、古老的陵墓探秘……世界这么大，XY游戏《仙境物语》带你尽情看！视觉盛宴今日引爆，冒险只玩XY游戏《仙境物语》！ 不暴力，无热血？NO！XY游戏《仙境物语》将以丰富PK玩法彻底颠覆玩家对奇幻冒险题材页游的认知！在XY游戏《仙境物语》，成百上千种怪物轮番上阵，一刻不停的活动精彩上演！一边跟随XY游戏《仙境物语》主线任务热血冒险，一边跟随自己的心情任性PK！勇闯金字塔，称霸攻城战！经验道场、BOSS神殿、PK之王、研究所副本……XY游戏《仙境物语》再掀RO对战风暴！唯美PK，有你无乐不在！', '2015-06-09', '升级不愁 XY游戏《英雄令》家有仙果', '三年头悬梁锥刺股，只争高考朝夕之间。如今，甩拖了包袱的你是否如脱缰的野兽在怒吼狂啸，来XY游戏《英雄令》，尽情释放你的能量，用愤怒的青春燃烧三国制霸江湖！在XY游戏《英雄令》中，除了极富挑战的副本和活动之外，还有着轻松休闲的“家园培养式”玩法——仙果园。当别人都在疯狂刷副本的时候，你在园里种植花果，惬意之间轻松升级就是这么任性！曾经无数次幻想高考过后去到南方水乡，小院里躺在果树下的藤椅上，别有一番惬意。如今，这种随性这种洒脱随风，足不出户就能在XY游戏《英雄令》中即刻体验，如果你还在前线浴血奋战，如果你还在为升级的一点点经验而发愁不已，XY游戏《英雄令》家有仙果园有你所想！一键种植一键丰收，指掌间霸气升级就是这么简单。 在三国乱世争霸，强大实力才是摧毁一切阻挡者的利器，所以提高等级对于你来说是争霸中最重要的一个环节。XY游戏《英雄令》中，可以获得海量经验的副本和玩法数不胜数，做完日常后，你可以选择在仙果园种植经验果树，一键丰收可以使得武将和主将同时获得高额经验，劳逸结合提升实力才是这个时代的王道主。同样，越是品质高的仙果，所获奖励越是丰厚。', '2015-06-09', '游戏王国《烽火连天》升级攻略', '游戏王国《烽火连天》是一款策略类的游戏，游戏中以西方魔幻为背景：人族、精灵和兽族，三个种族的建筑和兵种各有特色，玩家可以根据自己的喜好选择其中一个发展。在游戏中你需要建设城镇，发展军队，培养英雄，争霸大陆。', '2015-06-09', '大型3D国战游戏《绝世武神》游戏原画首曝']\ncom.szst.hgzrt\n/mnt/H_DRIVE/FlowIntent/Location/0/4/com.szst.hgzrt\n生活实用 整容通整形大师\n['有新版本可以升级 \\n  1.新增名人堂功能 \\n2.收藏,通知功能升级', '是', '否']\n"
     ]
    },
    {
     "name": "stdout",
     "output_type": "stream",
     "text": [
      "['整容通整形大师', '三步韩国整容通', '逛贴吧看前辈', '模  拟', '总有一副面孔和亲相像', '八  卦', '选医院问专家', '医  院', '查排名看评价询问专家', '视  频', '算价格找翻译', '价   格', '主页', '홈페이지', '贴吧', '지역 사회', '医院', '병원', '客服', '도움센터', '我发现', '나의 정보']\n['Unfortunately, 整容通整形大师 has stopped.', 'OK']\ncom.ishow.djcdjsc1\n/mnt/H_DRIVE/FlowIntent/Location/0/4/com.ishow.djcdjsc1\n生活实用 建材灯具商城\n[]\nnet.whosv.android\n/mnt/H_DRIVE/FlowIntent/Location/0/4/net.whosv.android\n生活实用 奢圈\n['输入邀请码', '如果你已经收到邀请码', '我要登录', '我要申请']\n[]\ncom.jhp.sida\n/mnt/H_DRIVE/FlowIntent/Location/0/4/com.jhp.sida\n生活实用 私搭\n[]\n['登录', '注册', '+86', '输入手机号', '密码', '登录', '忘记密码？']\n['登录', '注册', '+86', '输入手机号', '密码', '登录', '忘记密码？', '第三方快速登陆']\ncom.msxx.mbms\n/mnt/H_DRIVE/FlowIntent/Location/0/4/com.msxx.mbms\n"
     ]
    },
    {
     "name": "stdout",
     "output_type": "stream",
     "text": [
      "生活实用 萌宝辅食儿童食谱\n['拍张萌照', '让更多的爸比、妈咪喜欢我吧！', '稍后再填', '正在为你添加宝宝菜谱']\n['拍张萌照', '让更多的爸比、妈咪喜欢我吧！', '稍后再填', '正在为你添加宝宝菜谱']\n['拍张萌照', '让更多的爸比、妈咪喜欢我吧！', '稍后再填', '正在为你添加宝宝菜谱']\ncom.jyf.dldq\n/mnt/H_DRIVE/FlowIntent/Location/0/4/com.jyf.dldq\n生活实用 代来代去\n[]\n['Wechat for specialised oversea purchasing', 'Wetchat login', 'Mobile phone login', 'Register immediately']\n[]\n[]\ncom.ishow.whysydpt77\n/mnt/H_DRIVE/FlowIntent/Location/0/4/com.ishow.whysydpt77\n生活实用 文化艺术移动平台\n[]\n[]\ncom.ishehui.x78\n/mnt/H_DRIVE/FlowIntent/Location/0/4/com.ishehui.x78\n生活实用 饭团-金贤重\n['News', 'Fans', 'Group', '消息', '短歌', '视频', '相册', 'MV', 'Fans', 'Sign in ranking:1000', '0', 'Signin', '逢考必过！家人们都来送祝福！', '2', '1227', 'Support 1 flowers', '7People Support', '【高考ing】这不是鸡汤文，我才不会烹鸡汤！ ', '【饭团官方活动】要啥给啥！先签到！', '1', '1084']\ncom.example.mx_app\n/mnt/H_DRIVE/FlowIntent/Location/0/4/com.example.mx_app\n"
     ]
    },
    {
     "name": "stdout",
     "output_type": "stream",
     "text": [
      "生活实用 美型\n['分享你的运动成果,尽情享受尖叫声吧~']\n['分享你的运动成果,尽情享受尖叫声吧~']\nsuiqian.yuedu.dusu\n/mnt/H_DRIVE/FlowIntent/Location/0/4/suiqian.yuedu.dusu\n['首页']\ncom.shike.teacher\n/mnt/H_DRIVE/FlowIntent/Location/0/4/com.shike.teacher\n生活实用 家教宝教师端\n['立即\\n体验']\n['请输入注册账号', '登录', '新用户注册', '忘记密码?']\ncom.ss.android.essay.joke\n/mnt/H_DRIVE/FlowIntent/Location/0/4/com.ss.android.essay.joke\n[]\n['是否创建桌面快捷方式?', '取消', '确定']\n['是否创建桌面快捷方式?', '取消', '确定']\ncom.ishehui.x157\n/mnt/H_DRIVE/FlowIntent/Location/0/4/com.ishehui.x157\n生活实用 饭团-JYJ\n['News', 'Fans', 'Group', '新闻', '照片', '视频', '星期衣', 'MV', 'Fans', 'Sign in ranking:1000', '0', 'Signin', '逢考必过！家人们都来送祝福！', '0509新图◇有天记者见谈会饭拍_【ears天元】', '0511新闻◇SBS官方Facebook更新朴有天自拍照']\ncom.pwzx\n/mnt/H_DRIVE/FlowIntent/Location/0/4/com.pwzx\n生活实用 普湾在线\n['普湾在线', '普兰店市（普湾新区）召开五届人大四次会议申守勃当选市人民政府市长', '申守勃视察区市文体、教育工作', '普湾新区召开经济运行工作会议', '海岛旅游现状', '乡村沟域旅游现状']\ncom.anve.bumblebeeapp\n/mnt/H_DRIVE/FlowIntent/Location/0/4/com.anve.bumblebeeapp\n"
     ]
    },
    {
     "name": "stdout",
     "output_type": "stream",
     "text": [
      " \n[]\n[]\n[]\n[]\ncom.tripsters.android\n/mnt/H_DRIVE/FlowIntent/Location/0/4/com.tripsters.android\n生活实用 趣皮士\n['泰国', '热门', '最新', '普吉岛出海公告！\\n由于近期降雨不断，海浪较大，频频出现海上事故！故建议，近期不要出海！\\nPs：未来七日内都有中到大雨！', '2015-07-10', '回答 1', '想去泰国海岛玩，普吉那边有好多小岛，不知道选哪个？', '2015-07-08', '回答 9', '泰国打车方便不？可大家都说坐突突车或是双条车，很方便便宜吗？', '2015-07-07', '回答 6', '和闺蜜下周去泰国，有什么好的SPA店推荐？', '2015-07-05', '回答 8', '问答', '消息', '我的']\ncn.apps123.shell.liuyangtechan\n/mnt/H_DRIVE/FlowIntent/Location/0/4/cn.apps123.shell.liuyangtechan\n['首页', '商铺', '会员中心', '产品列表', '更多', '搜索你喜欢的内容', '热点新闻', '购物指南', '常见问题', '售后服务', '生鲜水果', '营养膳食']\ncom.imhuihui\n/mnt/H_DRIVE/FlowIntent/Location/0/4/com.imhuihui\n生活实用 会会\n['邀约', '推荐排序', '距离最近', '时间最近', 'sk', '编导 • cctv7', '聊聊电影创作，有相同爱好的女士！', '2015-07-20 Mon 14:50', '邀1人', '(可带一名好友)', '瓶盖晖足球主题餐厅 • 回龙观 • 北京', '最近在潜心看书，聊天交友，个性较为随意，没有刻意目的！', '转发', '2', '1', '报名', '(0)', '才俊堂活动公众号', 'Founder • 才俊堂', '“才俊堂”社群经济下的众筹商机', '注册', '登录']\npts.PhoneGap.namespace_nbqicw5\n/mnt/H_DRIVE/FlowIntent/Location/0/4/pts.PhoneGap.namespace_nbqicw5\n生活实用 宁波汽车网\n['新车上市', '保养常识', '保险常识', '我要加盟', '搜索']\ncom.qqbao.jzxx\n/mnt/H_DRIVE/FlowIntent/Location/0/4/com.qqbao.jzxx\n"
     ]
    },
    {
     "name": "stdout",
     "output_type": "stream",
     "text": [
      "生活实用 亲情宝\n[]\n['软件更新', '有新版本更新\\n', '稍后更新', '更新']\nfind.uhust.nice\n/mnt/H_DRIVE/FlowIntent/Location/0/4/find.uhust.nice\n生活实用 华中科技大学通HUST\n['华中科技大学通HUST', '华科白云黄鹤', '幸福家园', '华科主页', '华科考研论坛', '华科图书馆', '华科本科招生', '研究生院', '华科管理学院', '远程继续教育', '华科经济学院', '华科实验室', '光电国家实验', '计算机学院', '电气电子学院', '华中大在线', '计算机等级', '华科网络中心', '华科武昌分校', '华中大新闻网', '华科文华学院', '华科校友网', '电子邮件系统', '华科综合信息', '华科同济医学', '华科今日动态']\ncom.mmc.fengshui.pass\n/mnt/H_DRIVE/FlowIntent/Location/0/4/com.mmc.fengshui.pass\n生活实用 风水罗盘实景\n[]\n[]\n['精品推介', '用戶檔案', '看風水', '風水學堂', '風水工具']\n[]\ncom.somall.mian\n/mnt/H_DRIVE/FlowIntent/Location/0/4/com.somall.mian\n生活实用 逛街去哪儿\n['逛街去哪儿', '促  销', '［暑期精选］南山欢乐颂熊出没', '欢乐颂', '2015-07-17', '促  销', 'ZARA春夏折扣季 低至3折 全城high翻天', 'KK MALL（京基·百纳空间）', '2015-07-13', '首页', '找店', '折扣', '我']\n['今日特卖', '欢乐颂熊出没', '暑期精选', '剩余26天', '欢乐颂', '12452.4km', 'ZARA', '3', '折起', '剩余23天', 'KK MALL（京基·百纳空间）', '12471.1km', '首页', '找店', '我']\ncom.hunmi.bride\n/mnt/H_DRIVE/FlowIntent/Location/0/4/com.hunmi.bride\n"
     ]
    },
    {
     "name": "stdout",
     "output_type": "stream",
     "text": [
      "生活实用 婚秘\n['省心省钱结个婚', '就找婚礼经纪人', '立即体验']\n['省心省钱结个婚', '就找婚礼经纪人', '立即体验']\ncom.ishehui.x300\n/mnt/H_DRIVE/FlowIntent/Location/0/4/com.ishehui.x300\n['News', 'Fans', 'Group', '新闻', '照片', '视频', '6', '团务', '粉丝', 'Fans', 'Sign in ranking:1000', '0', 'Signin', '黄光熙美国之旅 展现型男一面', '4', 'Support 1 flowers', '4People Support', 'EXO成员SUHO生日 帝国之子黄光熙晒合照送祝福', '6', 'Support 4 flowers', '3People Support', '《人气歌谣》光熙伯贤Sohu暖男微笑，“卖萌真的很可爱”']\ncom.zitibaohe.yixuegaojineikexue\n/mnt/H_DRIVE/FlowIntent/Location/0/4/com.zitibaohe.yixuegaojineikexue\n生活实用 内科学高级职称总题库\n['内科学高级职称总题库', '章节练习', '专项练习', '错题练习', '我的收藏', '模拟考试', '真题冲刺', '训练考试', '过关宝箱', '个人中心']\nim.naodong.gaonengfun\n/mnt/H_DRIVE/FlowIntent/Location/0/4/im.naodong.gaonengfun\n"
     ]
    },
    {
     "name": "stdout",
     "output_type": "stream",
     "text": [
      "生活实用 高能贩\n['请先订阅感兴趣的主题吧~喵', '推荐主题', '海贼王', 'LoveLive！', '银魂', '新番', '剑网3', '火影忍者', 'Fate系列', '经典', '进击的巨人', '美漫', '游戏', '月刊少女野崎君', '脑洞', '精神污染', '东京食尸鬼', '开始阅读我订阅的主题']\n[]\n['签订契约', '看看再说']\n['签订契约', '看看再说']\n['请先订阅感兴趣的主题吧~喵', '推荐主题', '海贼王', 'LoveLive！', '银魂', '新番', '剑网3', '火影忍者', 'Fate系列', '经典', '进击的巨人', '美漫', '游戏', '月刊少女野崎君', '开始阅读我订阅的主题']\ncom.ishehui.venus\n/mnt/H_DRIVE/FlowIntent/Location/0/4/com.ishehui.venus\n生活实用 星期衣\n['20:00发布', '百褶牛仔半裙', '白色印花T恤', '糖果色高跟鞋', '首页', '值得买', '买么', '广场', '我的', '10']\n[]\n[]\ncom.iyuba.bbc\n/mnt/H_DRIVE/FlowIntent/Location/0/4/com.iyuba.bbc\n生活实用 BBC六分钟英语\n['本版更新简介', '点击下载图标即可下载相应的文章', '确定']\n[]\ncom.xxwolo.cc5\n/mnt/H_DRIVE/FlowIntent/Location/0/4/com.xxwolo.cc5\n"
     ]
    },
    {
     "name": "stdout",
     "output_type": "stream",
     "text": [
      "生活实用 测测星座\n['精准星盘', '最专业最靠谱的中文占星工具\\n上升星座，月亮星座都帮你一一解读\\n月运，年运都可从盘中得到启示', '微信一键登录', '已有账户登录', '随便看看']\n['精准星盘', '最专业最靠谱的中文占星工具\\n上升星座，月亮星座都帮你一一解读\\n月运，年运都可从盘中得到启示', '微信一键登录', '已有账户登录', '随便看看']\n['精准星盘', '最专业最靠谱的中文占星工具\\n上升星座，月亮星座都帮你一一解读\\n月运，年运都可从盘中得到启示', '微信一键登录', '已有账户登录', '随便看看']\n['精准星盘', '最专业最靠谱的中文占星工具\\n上升星座，月亮星座都帮你一一解读\\n月运，年运都可从盘中得到启示', '微信一键登录', '已有账户登录', '随便看看']\ncom.douguo.recipe\n/mnt/H_DRIVE/FlowIntent/Location/0/4/com.douguo.recipe\n生活实用 豆果美食\n[]\n[]\n['搜索菜谱、食材、用户', '双皮奶的成功要义', '下饭三宝 家常地三鲜', '午夜的阳光奇奇', '食谱', '圈圈', '优食汇', '我的']\n[]\n[]\ncn.ieauto.autogroup.android\n/mnt/H_DRIVE/FlowIntent/Location/0/4/cn.ieauto.autogroup.android\n生活实用 车友信\n[]\n['用户名', '登 录', '忘记密码？', '注册新账号']\n[]\ncom.ishehui.x155\n/mnt/H_DRIVE/FlowIntent/Location/0/4/com.ishehui.x155\n['News', 'Fans', 'Group', '新闻', '照片', '视频', '22', 'MV', '星期衣', 'Fans', 'Sign in ranking:1000', '0', 'Signin', 'Miss A【团规】150224 饭团-Miss A团规', '4', 'Support 1 flowers', '4People Support', 'Miss A【新闻】150703 ', 'Miss A【新闻】150703 Jia微博更多']\ncom.rsaif.dongben\n/mnt/H_DRIVE/FlowIntent/Location/0/4/com.rsaif.dongben\n生活实用 动本\n['登录', '手机号', '验证码', '获取验证码', '登录', '收不到验证码怎么办？', '服务协议']"
     ]
    },
    {
     "name": "stdout",
     "output_type": "stream",
     "text": [
      "\n[]\ncn.apps123.shell.fuzhuangshangchengTM\n/mnt/H_DRIVE/FlowIntent/Location/0/4/cn.apps123.shell.fuzhuangshangchengTM\n生活实用 服装商城\n['首页', '商铺', '会员中心', '产品列表', '更多', '搜索你喜欢的内容', '最新资讯', '新品上市', '优惠促销', '购物指南', '品牌', '私人定制']\nnet.xinhuamm.d0660\n/mnt/H_DRIVE/FlowIntent/Location/0/4/net.xinhuamm.d0660\n['文化西夏', '西夏区领导调研宁夏润恒农副产品（冷链）物流园', '自治区政协副主席张学武一行调研贺兰山西路街道城市执法工作', '7月1日，自治区政协副主席张学武带领市政协工作人员，对贺兰山西路街道城市执法工作进行调研。', '西夏区召开基层服务型党组织建设表彰暨工作推进座谈会', '7月1日，为庆祝中国共产党建党94周年，西夏区召开基层服务型党组织建设表彰暨工作推进座谈会', '区委中心组践行“三严三实”教育专题学习 推进“西夏突破”发展', '6月30日，区委召开2015年第七次中心组暨践行“三严三实” 推进“西夏突破”发展专题学习会。']\nnet.Pandamen.BeautySPA\n/mnt/H_DRIVE/FlowIntent/Location/0/4/net.Pandamen.BeautySPA\n生活实用 美容护肤秘诀\n['直接进入>>']\n[]\ncom.neteaseyx.paopao\n/mnt/H_DRIVE/FlowIntent/Location/0/4/com.neteaseyx.paopao\n理财购物 秀品\n[]\n['1.增加品牌故事，让品牌更生动\\xa0\\n2.可查正品保证书，确保正品\\n3.更多体验优化', '不再提醒', '立即更新']\n[]\n[]\ncom.ishow.dggzzw5\n/mnt/H_DRIVE/FlowIntent/Location/0/4/com.ishow.dggzzw5\n"
     ]
    },
    {
     "name": "stdout",
     "output_type": "stream",
     "text": [
      "生活实用 广告制作网\n[]\neasaa.middleware.e14061718022087\n/mnt/H_DRIVE/FlowIntent/Location/0/4/easaa.middleware.e14061718022087\n生活实用 建筑人才网\n['建筑人才网', '请输入关键字', '搜索', '室内装修', '建筑公司', '建筑建材', '劳务派遣公司', '首页', '行业资讯', '广告招商', '更多']\ncn.apps123.weishang.diancai\n/mnt/H_DRIVE/FlowIntent/Location/0/4/cn.apps123.weishang.diancai\n生活实用 点菜\n['输入手机号码', '登录', '忘记密码?', '立即注册']\ncom.benke.EnterpriseApplicationTabForsjfsds\n/mnt/H_DRIVE/FlowIntent/Location/0/4/com.benke.EnterpriseApplicationTabForsjfsds\n['天道缘首席顶级顾问', '和田玉命名证书', '大师推荐', '传统风水', '起名设计', '八字算命', '看相算命', '风水择日', '世界风水大师', '主页', '在线算命', '风水吉祥物', '关于大师']\ncom.qyli\n/mnt/H_DRIVE/FlowIntent/Location/0/4/com.qyli\n['下载', '发现新版本，请确认是否下载？', '确定', '取消']\n[]\ncom.zimi.linshi\n/mnt/H_DRIVE/FlowIntent/Location/0/4/com.zimi.linshi\n生活实用 邻师\n[]\n[]\ncom.hotdu.kingbugua\n/mnt/H_DRIVE/FlowIntent/Location/0/4/com.hotdu.kingbugua\n"
     ]
    },
    {
     "name": "stdout",
     "output_type": "stream",
     "text": [
      "生活实用 卜卦神器\n['求  卦']\n['求  卦']\ncom.hxgm.app.wcl\n/mnt/H_DRIVE/FlowIntent/Location/0/4/com.hxgm.app.wcl\n生活实用 智慧文创联\n['首页', '智慧文创联', '首页', '分类', '企业圈', '探索', '我']\ncom.twocloo.com\n/mnt/H_DRIVE/FlowIntent/Location/0/4/com.twocloo.com\n['我的书架', '欢迎来到二层楼书院，签到获取书券！', '深山少年闯都市', '尚未下载', '修仙高手在都市', '尚未下载', '灵异调查组', '尚未下载', '无敌保镖', '尚未下载', '隐世高手在都市', '尚未下载', '贴身小萌妻：总裁，我有了！', '尚未下载', '书城', '书架', '发现', '账户']\ncom.hnjc.dl\n/mnt/H_DRIVE/FlowIntent/Location/0/4/com.hnjc.dl\n['3D真人运动', '实现玩转跑步\\n让运动轨迹有型又有趣']\n['登 录', '注册', '马上试用']\ncom.lvtech.hipal\n/mnt/H_DRIVE/FlowIntent/Location/0/4/com.lvtech.hipal\n生活实用 号朋运动\n['用社交帐号登录', '微信', '微博', 'QQ', '或', 'E-mail/Phone', 'Sign Up', 'Sign In', 'Forget password?', 'Free registration trial']\ncn.apps123.shell.zhongguodengjudengshiwangTM\n/mnt/H_DRIVE/FlowIntent/Location/0/4/cn.apps123.shell.zhongguodengjudengshiwangTM\n"
     ]
    },
    {
     "name": "stdout",
     "output_type": "stream",
     "text": [
      "生活实用 灯具灯饰网\n['首页', '供/求信息', '产品列表', '会员中心', '更多', '搜索你喜欢的内容', '秒杀', '推介', '优惠', '活动', '中山冀粤灯饰', '上海定扬照明电器公司']\ncom.ishow.drd13\n/mnt/H_DRIVE/FlowIntent/Location/0/4/com.ishow.drd13\n生活实用 肉店\n['系统更新，谢谢配合！', '现在就升级']\n[]\ncom.erdo.android.FJDXCartoon\n/mnt/H_DRIVE/FlowIntent/Location/0/4/com.erdo.android.FJDXCartoon\n \n['乱步奇谭', '已更新至 第1集', '六花的勇者', '六花的勇者', '已更新至 第14集', '网球优等生2', '嗖~球就打过来了', '已更新至 第1集', '乱步奇谭', '7月推理新番', '已更新至 第11集', '幻界战线', '大萌男战争']\n['乱步奇谭', '已更新至 第2集', '六花的勇者', '正义使者无间道', '已更新至 第2集', '乱步奇谭', '7月推理新番', '已更新至 第5集', '光明之泪×风', '梦幻大陆上的妖精', '已更新至 第11集', '幻界战线', '大萌男战争']\n['软件更新', '升级爱动漫，即送VIP！\\r\\n所有动漫免费看！还有\\r\\n机会得Apple Watch!', '下次再说', '立即更新']\n['软件更新', '升级爱动漫，即送VIP！\\r\\n所有动漫免费看！还有\\r\\n机会得Apple Watch!', '下次再说', '立即更新']\n['六花的勇者', '已更新至 第1集', '六花的勇者', '六花的勇者', '已更新至 第14集', '网球优等生2', '嗖~球就打过来了', '已更新至 第1集', '乱步奇谭', '7月推理新番', '已更新至 第11集', '幻界战线', '大萌男战争']\ncom.xiaoluer.yundong\n/mnt/H_DRIVE/FlowIntent/Location/0/4/com.xiaoluer.yundong\n生活实用 运动伙伴\n['运动', '注册', '登录']\ncom.chehubang.car\n/mnt/H_DRIVE/FlowIntent/Location/0/4/com.chehubang.car\n"
     ]
    },
    {
     "name": "stdout",
     "output_type": "stream",
     "text": [
      "生活实用 车互帮\n[]\n['车互帮(北京)科技有限公司']\n[]\ncom.ishehui.x549\n/mnt/H_DRIVE/FlowIntent/Location/0/4/com.ishehui.x549\n['News', 'Fans', 'Group', '新闻', '照片', '视频', '团友', '团务', 'Fans', 'Sign in ranking:1000', '0', 'Signin', '【高考ing】这不是鸡汤文，我才不会烹鸡汤！ ', '‘星期衣’通过AppStore的审核啦！', '232', 'Support 1 flowers', '11People Support', '福利“三八”姐妹淘礼物大派送']\ncom.ishow.dtjms78\n/mnt/H_DRIVE/FlowIntent/Location/0/4/com.ishow.dtjms78\n生活实用 土家美食\n[]\ncom.ishow.dzyadl49\n/mnt/H_DRIVE/FlowIntent/Location/0/4/com.ishow.dzyadl49\n"
     ]
    },
    {
     "name": "stdout",
     "output_type": "stream",
     "text": [
      "生活实用 纸用艾得利\n[]\n[]\nme.chunyu.ChunyuDoctor\n/mnt/H_DRIVE/FlowIntent/Location/0/4/me.chunyu.ChunyuDoctor\n生活实用 春雨医生\n['去看看', '点击查看是否有适合您的问题?', '换一组', '经常喷嚏打个不停，还流清水鼻涕，白天就好了，这是鼻炎吗？（男，35岁）', '我身体检查出有乳腺增生，要手术拿掉吗，中药有用吗？（37岁，女）', '乳房上有多发小纤维瘤，该怎么治疗？（女，42岁）', '经常腰腿痛，下肢麻木，怎么回事呢？需要做什么检查，平时要注意什么吗？（男，31）', '进入首页', '去提问']\n['去看看', '点击查看是否有适合您的问题?', '换一组', '刷牙有作呕感，吐白色的痰，是怎么回事？怎么治疗？（女，19）', '单身，喜欢自慰，想克制还是一周三四次，怎么戒了？感觉都早泄了（男，26）', '皮肤总是瘙痒，是怎么回事？（女，25）', '虽然母乳对宝宝好，但是听说乳房会因此缩小、下垂，我该怎么办啊？（男，3周）', '进入首页', '去提问']\n['去看看', '点击查看是否有适合您的问题?', '换一组', '我身体检查出有乳腺增生，要手术拿掉吗，中药有用吗？（37岁，女）', '去医院检查，被告知宫颈II度糜烂，该怎么办呢，会不会怕变癌啊？（女，41）', '我脚痒，有脚气，会复发，很难受，能彻底治好吗？（男，25）', '进入首页', '去提问']\n['去看看', '点击查看是否有适合您的问题?', '换一组', '痛经，不想靠药物，有饮食疗法吗？谢谢。（女，17岁）', '怀孕生产后长胖好多，想尽快开始节食健身，不想母乳可以吗？', '孩子三个月，晚上睡不好，汗多，是缺钙了吗？要吃钙片吗，怎么吃？', '脸上总是长黑头，有办法治吗？能控制不复发吗？（女，26）', '进入首页', '去提问']\ncom.qinlin.huijia\n/mnt/H_DRIVE/FlowIntent/Location/0/4/com.qinlin.huijia\n生活实用 回家么\n['微信登录', '手机登录']\n['微信登录', '手机登录']\ncom.ishow.dsclyjd68\n/mnt/H_DRIVE/FlowIntent/Location/0/4/com.ishow.dsclyjd68\n[]\n[]\ncom.yzm.sleep\n/mnt/H_DRIVE/FlowIntent/Location/0/4/com.yzm.sleep\n生活实用 香橙\n"
     ]
    },
    {
     "name": "stdout",
     "output_type": "stream",
     "text": [
      "['昨晚', '周视图', '不懂香橙点这里', '使用说明', '23:00', '入睡', '08:30', '起床', '好友', '闹钟', '数据', '信息', '个人中心']\n['选择性别', '根据性别你会获得', '有针对性的睡眠建议']\ncom.knightli.jokebook\n/mnt/H_DRIVE/FlowIntent/Location/0/4/com.knightli.jokebook\n \n['笑话万篇', '(1/19461)', '成 功', '她：“因为别人都不同情你，我才做你的妻子。”\\n他：“你总算成功了。现在每个人都因此同情我。”\\n', '上一条', '共享', '下一条']\n['笑话万篇', '(1/19522)', '成 功', '她：“因为别人都不同情你，我才做你的妻子。”\\n他：“你总算成功了。现在每个人都因此同情我。”\\n', '上一条', '共享', '下一条']\ncn.apps123.shell.zhangshangzhuaoqin\n/mnt/H_DRIVE/FlowIntent/Location/0/4/cn.apps123.shell.zhangshangzhuaoqin\n \n['首页', '商铺', '会员中心', '产品列表', '更多', '搜索你喜欢的内容', '珠海资讯', '澳门新闻', '横琴动态', '文化娱乐', '衣', '食']\ncom.jacky.shuxiang\n/mnt/H_DRIVE/FlowIntent/Location/0/4/com.jacky.shuxiang\n生活实用 十二生肖运势2015\n[]\ncom.app.doctortangforpatient.Activity\n/mnt/H_DRIVE/FlowIntent/Location/0/4/com.app.doctortangforpatient.Activity\n生活实用 在线医生\n[]\n['请输入手机号', '登录', '注册', '先体验一下', '忘记密码？']\n[]\n[]\ncom.finelyme.genie\n/mnt/H_DRIVE/FlowIntent/Location/0/4/com.finelyme.genie\n"
     ]
    },
    {
     "name": "stdout",
     "output_type": "stream",
     "text": [
      " \n['Exercise Tracker', 'Many workout options.', 'Next']\n['Food Tracker', 'Large food database.', 'Next']\ncom.jh.APPc105b7e4622a45bcaf20d43597cca32a.news\n/mnt/H_DRIVE/FlowIntent/Location/0/4/com.jh.APPc105b7e4622a45bcaf20d43597cca32a.news\n生活实用 一次性医疗器械\n['一次性医疗器械', '新闻资讯', '展会活动', '产品展示', '供应商机', '企业大全', '产品知识', '首页', '更多']\ncom.zitibaohe.yixuegaojiwaikehuli\n/mnt/H_DRIVE/FlowIntent/Location/0/4/com.zitibaohe.yixuegaojiwaikehuli\n生活实用 外科护理高级职称总题库\n['外科护理高级职称总题库', '章节练习', '专项练习', '错题练习', '我的收藏', '模拟考试', '真题冲刺', '训练考试', '过关宝箱', '个人中心']\ncn.TuHu.android\n/mnt/H_DRIVE/FlowIntent/Location/0/4/cn.TuHu.android\n生活实用 途虎养车\n['途虎养车', '换轮胎', '正品轮胎 免费安装', '做保养', '精确匹配 先养后付', '5分洗车', '仅限新用户领取', '小保养', '大保养', '雨刷', '刹车片', '洗车', '打蜡', '内饰清洗', '更多', '22', '：', '46', '：', '29', '首页', '发现', '门店', '我的']\n['跳过>>']\n['途虎养车', '换轮胎', '正品轮胎 免费安装', '做保养', '精确匹配 先养后付', '5分洗车', '仅限新用户领取', '小保养', '大保养', '空调制冷剂', '空调滤清器', '洗车', '打蜡', '内饰清洗', '更多', '15', '：', '10', '：', '43', '首页', '发现', '门店', '我的']\n"
     ]
    },
    {
     "name": "stdout",
     "output_type": "stream",
     "text": [
      "['跳过>>']\ncom.ebang.ebangunion\n/mnt/H_DRIVE/FlowIntent/Location/0/4/com.ebang.ebangunion\n生活实用 一修哥工程师\n['请输入用户名', '登录']\ncom.zhongkeyun.tangguoyun\n/mnt/H_DRIVE/FlowIntent/Location/0/4/com.zhongkeyun.tangguoyun\n生活实用 糖果云\n['工具', '运动知识', '糖友分享', '每日一菜', '＋录入血糖值', '测血糖', '轻松测血糖，结果一目了然', '健康数据', '历史健康数据，尽在掌握', '工具', '服务团队', '消息', '我']\ncom.yiyou.weixiao\n/mnt/H_DRIVE/FlowIntent/Location/0/4/com.yiyou.weixiao\n生活实用 微校\n[]\n[]\n['请输入手机号', '登录', '忘记密码？', '注册']\ncom.esun.cdly\n/mnt/H_DRIVE/FlowIntent/Location/0/4/com.esun.cdly\n"
     ]
    },
    {
     "name": "stdout",
     "output_type": "stream",
     "text": [
      "生活实用 成都旅游\n['请输入搜索关键字', '旅行社', '国内游', '出境游', '四川游', '美食', '租车', '团购', '其他', '猜你喜欢', '鱼凫国都温泉大酒店', '首页', '商家', '我的', '更多']\n['请输入搜索关键字', '旅行社', '国内游', '出境游', '四川游', '美食', '租车', '团购', '其他', '猜你喜欢', '鱼凫国都温泉大酒店', '首页', '商家', '我的', '更多']\ncom.tixa.industry.search2c9480b74b10af5d014b2f47c0090992\n/mnt/H_DRIVE/FlowIntent/Location/0/4/com.tixa.industry.search2c9480b74b10af5d014b2f47c0090992\n生活实用 智能电视\n['智能电视', '请输入关键词', '资讯', '供应', '黄页', '商机', '[商机]', '安徽省招商引资工作电视电话会议在合肥召开', '[供应]', '全高清LED液晶电视52寸', '[供应]', '电视厂家销售 卡萨帝彩电K65M5000P  挂墙电视', '[资讯]', '电视购物节目建联盟谋自救：公信力被严重透支', '[资讯]', '全省召开电视电话会议加强基层宣传思想文化工作', '主页', '热点', '问答', '我的', '设置']\ncom.easyder.master\n/mnt/H_DRIVE/FlowIntent/Location/0/4/com.easyder.master\n生活实用 名师宝\n['跳过']\n['跳过']\ncom.wyqc.qcw.siji\n/mnt/H_DRIVE/FlowIntent/Location/0/4/com.wyqc.qcw.siji\n生活实用 车位管家\n['找车位', '发现停车券', '领取停车券', '缴\\xa0费']\n['找车位', '发现停车券', '领取停车券', '申请补券', '缴\\xa0费']\ncom.cn.bage.crosstalk\n/mnt/H_DRIVE/FlowIntent/Location/0/4/com.cn.bage.crosstalk\n"
     ]
    },
    {
     "name": "stdout",
     "output_type": "stream",
     "text": [
      "生活实用 郭德纲相声\n[]\ncom.dressmanage\n/mnt/H_DRIVE/FlowIntent/Location/0/4/com.dressmanage\n['手机号', '登    录', '注册', '游客登入', '忘记密码']\n['手机号', '登    录', '注册', '游客登入', '忘记密码']\ncom.sisoinfo.weitu\n/mnt/H_DRIVE/FlowIntent/Location/0/4/com.sisoinfo.weitu\n生活实用 维途导游\n['登录', '输入手机号码', '登录', '注册账号', '密码找回', '其他的登录方式']\ncom.lrlz.mzyx\n/mnt/H_DRIVE/FlowIntent/Location/0/4/com.lrlz.mzyx\n生活实用 丽人丽妆\n[]\n['软件更新', '检测到新版本，立即更新吗', '稍后更新', '立即更新']\ncom.ivali.qhbao\n/mnt/H_DRIVE/FlowIntent/Location/0/4/com.ivali.qhbao\n生活实用 瓦力抢红包\n['设置', '用户群', '瓦力抢红包', '声音', '保持屏幕常亮', '网络优化', 'GO', '自动回复（防T）', '自动回复速度', '回复抢到钱数', '自定义感谢语', 'V2.1', '检查更新']\ncn.apps123.shell.ningxiashahuteseshipinwang\n/mnt/H_DRIVE/FlowIntent/Location/0/4/cn.apps123.shell.ningxiashahuteseshipinwang\n"
     ]
    },
    {
     "name": "stdout",
     "output_type": "stream",
     "text": [
      "生活实用 宁夏沙湖特色食品网\n['首页', '商铺', '会员中心', '产品列表', '更多', '搜索你喜欢的内容', '秒杀', '推介', '优惠', '活动', '枸杞辣椒', '辣喜哥辣酱']\ncom.ishehui.sj\n/mnt/H_DRIVE/FlowIntent/Location/0/4/com.ishehui.sj\n生活实用 饭团-SuperJunior\n['Board', '新闻', '照片', '星期衣', '行程', '晚安文', 'Fans', 'Sign in ranking:1000', '0', 'Signin', '★SuJu★150508『招新』美图组招新!', '★SuJu★150525『招新』美文组招新!', '★SuJu★150513『招新』前线组招新啦！', '★SuJu★150705『lG』为什么是艺sex...咳', '7', '214', 'Support 37 flowers', '5People Support', 'Board', '蓝家', '饭团', 'Message', 'More']\ncom.ishehui.x579\n/mnt/H_DRIVE/FlowIntent/Location/0/4/com.ishehui.x579\n"
     ]
    },
    {
     "name": "stdout",
     "output_type": "stream",
     "text": [
      "生活实用 饭团-美妆\n['News', 'Fans', 'Group', '美妆教程', '鉴赏', '视频教学', '粉丝', 'Fans', 'Sign in ranking:1000', '0', 'Signin', '【达人美妆】Get It Beauty！少时Jessica的粉嘟嘟美人妆', '31', 'Support 4 flowers', '3People Support', ' 【达人美妆】Get It Beauty！挑战韩国刘仁娜的CC妆！', '79', 'Support 53 flowers', '5People Support', '【达人美妆】冬日女神妆，让你自信一个冬天']\nnet.xinhuamm.d0893\n/mnt/H_DRIVE/FlowIntent/Location/0/4/net.xinhuamm.d0893\n['媒体选择库', '印度尼西亚留学生代表队在2015年测绘国赛中精彩亮相', '关于对2015年全国职业院校技能大赛部分同期活动进行调整的通知', '教育部办公厅关于举办2015年全民终身学习活动周的通知', '教育部关于举办2015年全国职业院校技能大赛的通知']\ncom.ishow.dhygg55\n/mnt/H_DRIVE/FlowIntent/Location/0/4/com.ishow.dhygg55\n生活实用 鸿雁云媒\n[]\n[]\ncom.tixa.industry.search2c9480b74d22aa85014d3190165e0873\n/mnt/H_DRIVE/FlowIntent/Location/0/4/com.tixa.industry.search2c9480b74d22aa85014d3190165e0873\n生活实用 焊接加工\n['焊接加工', '请输入关键词', '资讯', '供应', '黄页', '商机', '[资讯]', '天津滨海新区&ldquo;劳动者&rdquo;：在劳动中绽放美丽', '[资讯]', '阅卷老师提醒高考作文临考应急措施十五项', '[商机]', '603066：音飞储存首次公开发行股票招股意向书', '[资讯]', 'wg251.250.200.50库存信心', '主页', '热点', '问答', '我的', '设置']\ncom.mfyg.view\n/mnt/H_DRIVE/FlowIntent/Location/0/4/com.mfyg.view\n生活实用 美房圈\n"
     ]
    },
    {
     "name": "stdout",
     "output_type": "stream",
     "text": [
      "[]\n['zuoye.baidu.com/zuoyebang/uninstall/index.html?cuid=E0DB300DC34E0D189F13080C9A146275%7C364287140553853&channel=baiduzhushou&token=1_qin3xeYWvRN6iDMUJfCqRYMVUuwJcBj7&vc=70&nt=wifi&vcname=4.9.0&os=android&sdk=16&']\n[]\ncom.gclassedu\n/mnt/H_DRIVE/FlowIntent/Location/0/4/com.gclassedu\n生活实用 金榜希望\n[]\n[]\n[]\ncn.apps123.shell.zhangshangyushichengTM\n/mnt/H_DRIVE/FlowIntent/Location/0/4/cn.apps123.shell.zhangshangyushichengTM\n生活实用 掌上玉石城\n['首页', '商铺', '会员中心', '产品列表', '更多', '搜索你喜欢的内容', '最新资讯', '玉石行情', '玉石鉴定', '玉石加工', '宝石工艺品', '雕刻工艺品']\nskinsecret.wjysq.com\n/mnt/H_DRIVE/FlowIntent/Location/0/4/skinsecret.wjysq.com\n生活实用 Skin Secret\n[]\n[]\ncom.sciencedaily.sciencedaily0629-14-47-52\n/mnt/H_DRIVE/FlowIntent/Location/0/4/com.sciencedaily.sciencedaily0629-14-47-52\n[]\ncom.newspaper.client\n/mnt/H_DRIVE/FlowIntent/Location/0/4/com.newspaper.client\n"
     ]
    },
    {
     "name": "stdout",
     "output_type": "stream",
     "text": [
      "生活实用 和新闻\n[]\n[]\ncom.ishehui.x577\n/mnt/H_DRIVE/FlowIntent/Location/0/4/com.ishehui.x577\n['News', 'Fans', 'Group', '新闻', '相册', '视频', 'MV', '歌曲', 'Fans', 'Sign in ranking:1000', '0', 'Signin', '我努力升级升级，终于升到4级了[e]1f62d[/e]可以建群了[e]1f604[/e]，大家赶快到饭团里加进去[e]1f603[/e][e]1f603[/e][e]1f603[/e]', '57', '219', 'Support 1 flowers', '17People Support', '快去投票啊！']\n['Version updating', '1.全新UI；2.改进新闻推送', 'Cancel', 'Ok']\ncom.dailyyoga.cn\n/mnt/H_DRIVE/FlowIntent/Location/0/4/com.dailyyoga.cn\n生活实用 每日瑜伽\n[]\n['随便看看', '登录', '注册']\ncom.busuu.android.enc\n/mnt/H_DRIVE/FlowIntent/Location/0/4/com.busuu.android.enc\n"
     ]
    },
    {
     "name": "stdout",
     "output_type": "stream",
     "text": [
      "生活实用 Busuu语言学习\n['Which language would you like to learn?', 'English', 'French', 'Spanish', 'German', 'Choose another', 'Already a member?', 'Log in']\ncn.apps123.shell.zhangshangnankushangcheng\n/mnt/H_DRIVE/FlowIntent/Location/0/4/cn.apps123.shell.zhangshangnankushangcheng\n['行业资讯', '全部', '最新资讯', '品牌专区', '品牌特价直通车', '郑州男裤寻求突围之泛美集团', '中国女裤看郑州，郑州女裤走出去了，声名在外，但郑州男裤还踯躅...', '我国男裤行业发展趋势分析', '\\u3000随着人们生活水平不断提高，特别是改革开放以来，服装市场不断...', '九牧王：优雅时代的男裤专家']\ncom.yisero.photo\n/mnt/H_DRIVE/FlowIntent/Location/0/4/com.yisero.photo\n生活实用 摄影玩家\n['首页', '2015.07.14 星期二', '风光摄影PS后期调色教程之一：坝上桃山湖云雾', '1分钟前', '193', '北极光摄影', 'Gretchen Roehrs美食与时尚 创意艺术作品欣赏', '8分钟前', '91', '睿壳网', '新手可以选择的摄影题材及技巧', '16分钟前', '32', '摄影巴士']\ncom.xyk.heartspa\n/mnt/H_DRIVE/FlowIntent/Location/0/4/com.xyk.heartspa\n \n['心理助理', '金牌心理专家榜', '颜艳琼', '国家二级心理咨询师', '聂舒', '国家二级心理咨询师', '张静秋', '国家二级心理咨询师', '杨晓英', '国家二级心理咨询师，河南省咨询师主任兼安阳市咨询师主任', '免费提问', '心理专家团队在线解答', '快速预约', '7x24小时在线解答问题', '私人医生', '官方认证私人心理医生', '首页', '咨询', '问题', '我']\ncn.apps123.shell.shengwuzhiguolu\n/mnt/H_DRIVE/FlowIntent/Location/0/4/cn.apps123.shell.shengwuzhiguolu\n生活实用 生物质锅炉\n['首页', '商铺', '会员中心', '产品列表', '更多', '搜索你喜欢的内容', '行业要闻', '购物指南', '常见问题', '售后服务', '工业锅炉', '电热锅炉']\ncom.ht.exam\n/mnt/H_DRIVE/FlowIntent/Location/0/4/com.ht.exam\n"
     ]
    },
    {
     "name": "stdout",
     "output_type": "stream",
     "text": [
      "生活实用 华图公务员网校\n['未登录', '请点击登陆', '普通课程', '包月卡课程', '十元铺子', '我的收藏', '播放记录', '本地视频', '下载管理', '消息中心', '设置']\n['未登录', '请点击登陆', '普通课程', '包月卡课程', '十元铺子', '我的收藏', '播放记录', '本地视频', '下载管理', '消息中心', '设置']\ncom.ricebook.highgarden\n/mnt/H_DRIVE/FlowIntent/Location/0/4/com.ricebook.highgarden\n生活实用 ENJOY\n['ENTER', '饭本出品']\n['ENTER', '饭本出品']\nqice.ppai\n/mnt/H_DRIVE/FlowIntent/Location/0/4/qice.ppai\n生活实用 汽车品牌大全\n['有新版本啦', '已在WiFi下完成新版本', '免流量安装', '以后再说']\ncn.apps123.shell.shanghaigaoduanfuzhuangdingzhi\n/mnt/H_DRIVE/FlowIntent/Location/0/4/cn.apps123.shell.shanghaigaoduanfuzhuangdingzhi\n生活实用 上海高端服装定制\n['关于我们', '会所推荐', '定制款式', '时尚前沿', '定制工艺', '为你量身', '作品鉴赏', '会员中心', '特价专区']\npts.PhoneGap.namespace_2154zgjzw\n/mnt/H_DRIVE/FlowIntent/Location/0/4/pts.PhoneGap.namespace_2154zgjzw\n"
     ]
    },
    {
     "name": "stdout",
     "output_type": "stream",
     "text": [
      "生活实用 家政网\n['家政新闻', '家政知识', '热点关注', '最新动态', '搜索']\ncom.kfit.teachergo\n/mnt/H_DRIVE/FlowIntent/Location/0/4/com.kfit.teachergo\n生活实用 老师走起\n[]\n[]\n['手机号', '登录', '忘记密码', '还没有账号？来注册吧！']\n[]\n[]\ncom.senyint.android.app\n/mnt/H_DRIVE/FlowIntent/Location/0/4/com.senyint.android.app\n"
     ]
    },
    {
     "name": "stdout",
     "output_type": "stream",
     "text": [
      "生活实用 心医健康\n['跳过>>']\n['跳过>>']\ncom.liuwei.youerhousedu\n/mnt/H_DRIVE/FlowIntent/Location/0/4/com.liuwei.youerhousedu\n生活实用 幼儿家庭教育\n['幼儿家庭教育']\ncom.liuwei.androidleyuan\n/mnt/H_DRIVE/FlowIntent/Location/0/4/com.liuwei.androidleyuan\n生活实用 安卓儿童乐园\n['立即体验']\ncom.handysoft.ledflashlight\n/mnt/H_DRIVE/FlowIntent/Location/0/4/com.handysoft.ledflashlight\n \n[]\ncn.etouch.ecalendar.ladies\n/mnt/H_DRIVE/FlowIntent/Location/0/4/cn.etouch.ecalendar.ladies\n生活实用 美荔姐妹聊-女性匿名生活交流社区\n[]\n[]\n['Update is available', '这是一段有用的分割程序用于使view宽度充满，中华万年历提供了强大的云同步功能,只需轻松注册一个账号,', '1. 解决黑屏白屏bug   \\n2. 优化运行性能', 'Next time', '立即更新']\n"
     ]
    },
    {
     "name": "stdout",
     "output_type": "stream",
     "text": [
      "[]\ncom.mayer\n/mnt/H_DRIVE/FlowIntent/Location/0/4/com.mayer\n生活实用 美顾问会员通\n['升级说明:', '目标版本为：2.3.15\\n1、本次升级主要是对软件性能和细节的优化\\n2、提升了应用稳定性和使用体验！\\n3、亲快下载吧!\\n4、有惊喜哦！', '友情提示：建议在有wifi的情况下使用', '立即升级']\n['软件版本更新']\n['升级说明:', '目标版本为：2.3.15\\n1、本次升级主要是对软件性能和细节的优化\\n2、提升了应用稳定性和使用体验！\\n3、亲快下载吧!\\n4、有惊喜哦！', '友情提示：建议在有wifi的情况下使用', '立即升级']\ncom.ishehui.x467\n/mnt/H_DRIVE/FlowIntent/Location/0/4/com.ishehui.x467\n['News', 'Fans', 'Group', '新闻', '照片', '视频', '团务', '粉丝', 'Fans', 'Sign in ranking:1000', '0', 'Signin', '☆Kim Bling☆ 141204 钟铉推特更新', '2', '50', 'Support 32 flowers', '3People Support', '☆Kim Bling☆ 141204 钟铉推特宣傳', '★Kim Bling★ SHINee成员钟铉自曝有镜头恐惧症!', '19']\ncom.jqc.login\n/mnt/H_DRIVE/FlowIntent/Location/0/4/com.jqc.login\n生活实用 吉青创\n['欢迎界面']\n['欢迎界面']\ncom.ishehui.x95\n/mnt/H_DRIVE/FlowIntent/Location/0/4/com.ishehui.x95\n"
     ]
    },
    {
     "name": "stdout",
     "output_type": "stream",
     "text": [
      "生活实用 饭团-SHINee\n['News', 'Fans', 'Group', '资讯', '照片', '星期衣', '视频', '通告', 'Fans', 'Sign in ranking:1000', '0', 'Signin', 'SHINee粉丝规定', '★SHINee★ 150708 key更新微博', '13', 'Support 4 flowers', '2People Support', '★SHINee★ 150708SHINee東京巨蛋LIVE Blu-ray Disc 音乐部门1位', '135', 'Support 94 flowers', '6People Support']\ncom.jk37du.XiaoNiMei\n/mnt/H_DRIVE/FlowIntent/Location/0/4/com.jk37du.XiaoNiMei\n生活实用 搞笑妹子\n[]\n['用户名', '最新', '随机', '内涵段子', '今天 23:24', '拼接的不错嘛....', '21', '64', '0', '4', '暴走漫画', '今天 23:21', '段子', '图片', '损友', '更多']\n['用户名', '最新', '随机', '小米说笑话', '今天 19:53', '在风中，你永远无法做一个安静的美男子.....', '13', '52', '0', '4', '全球幽默搞笑首榜', '今天 19:49', '段子', '图片', '损友', '更多']\n['用户名', '最新', '随机', '我的前任是个极品', '今天 21:04', '谅解和爱，都是有额度的....', '182', '306', '0', '133', 'neonanmedia', '今天 20:56', '【搞笑视频】情侣告诉妈妈他们要发行「XX录影带」瞬间被妈妈狂吼！', '段子', '图片', '损友', '更多']\ncom.tixa.industry.search2c9480b74da3b7c0014dbdf99bf30c68\n/mnt/H_DRIVE/FlowIntent/Location/0/4/com.tixa.industry.search2c9480b74da3b7c0014dbdf99bf30c68\n"
     ]
    },
    {
     "name": "stdout",
     "output_type": "stream",
     "text": [
      "生活实用 数码产品\n['数码产品', '请输入关键词', '资讯', '供应', '黄页', '商机', '[商机]', '三地自贸区官方电商平台要学&ldquo;跨境通&rdquo;（附详细解读）', '[黄页]', '深圳市安泰鑫数码有限公司', '[商机]', '好的商业地段和氛围绝对是你投资首选,泰州泰茂赛格数码城', '[商机]', '代销产品收益巨大 PE资源遭银行券商争抢', '主页', '热点', '问答', '我的', '设置']\ncom.youcheng.hoax\n/mnt/H_DRIVE/FlowIntent/Location/0/4/com.youcheng.hoax\n生活实用 骗术大全\n['立即体验']\n['Unfortunately, the process com.google.process.gapps has stopped.', 'OK']\ncom.zhiqin.checkin\n/mnt/H_DRIVE/FlowIntent/Location/0/4/com.zhiqin.checkin\n生活实用 教练宝\n[]\n['请输入手机号码', '请输入密码', '立即注册', '忘记密码？', '登录']\n[]\ncom.vland.aquaticproducts\n/mnt/H_DRIVE/FlowIntent/Location/0/4/com.vland.aquaticproducts\n生活实用 水产头条\n['水产头条', '刷新', '推荐', '饲料', '新闻', '行情', '虾类', '指南', '蟹类', '周历', '鱼类', '问答', '特种', '预警', '调水', '社群', '带你了解水产养殖常见七大菌', '用的菌主要有:光合细菌,芽孢,EM,乳酸菌,酵母菌,硝化细菌,蛭弧菌.先说光合细菌光合细菌简称PSB,是国内最早用于水产养殖的细菌制剂.光合细菌是一些能利用光能进行不产氧的光合作用的细菌.很多朋友看到光合,就会跟叶绿素的光合作用比较.光合细菌是不产氧的,光合细...', '2015-07-04', '今日水产', '为什么最近几年南美白对虾肝胰脏如此脆弱', '对虾消化腺是一个大型致密的腺体,由于肝脏和胰脏还没有完全分离,故统称为肝胰脏.肝胰脏的主要功能是分泌消化酶,消化和吸收营养物质.肝胰脏的正常与否,是对虾身体健康的一个非常重要指标.在白斑(WSSV)、桃拉(TSV)等病毒性疾病肆虐中国对虾养殖业时,很少养殖户会关...', '2015-07-04', '今日水产', '对虾周报  市场刚需不大 虾价偏向下行', '中国水产频道原创报道,下图是2014年和2015年珠三角地区、湛江地区和福建地区50头/斤规格对虾的价格趋势图.2015年年初,元旦刚过,各地存塘的虾非常少,各地虾价都在飙涨.由图中可以明显看出,至3月初为止,2015年的虾价跟2014年同期的虾价相比,价格相差10元左右/斤,价格...', '2015-07-04', '今日水产', '涨姿势/鱼类泛塘、药害与氨中毒的区别', '鱼类泛池、药害与氨中毒虽然有相似之处,但是仔细辨别还是有明显的区别,掌握其各自的特征,进行准确辨别,正确诊断然后对症下药,才能进行有效治疗.1、发生时间不同鱼类氨氮中毒多发生在连续晴天,并多在午后.药害多与农田施肥、鱼池施药或工厂排污相关,在农作物生长季节、...', '2015-07-04', '今日水产', '头条', '我的', '商城', '应用']\ncom.eggpain.lvshifuwu1658\n"
     ]
    },
    {
     "name": "stdout",
     "output_type": "stream",
     "text": [
      "/mnt/H_DRIVE/FlowIntent/Location/0/4/com.eggpain.lvshifuwu1658\n生活实用 律师服务\n['首页', '产品', '商铺', '最新资讯', '更多']\n['立即体验']\ncom.sub.caosanxiaopin\n/mnt/H_DRIVE/FlowIntent/Location/0/4/com.sub.caosanxiaopin\n生活实用 潮汕小品大全\n[]\n['有新版本啦', '马上更新', '以后再说']\ncn.apps123.shell.kangfubaojian\n/mnt/H_DRIVE/FlowIntent/Location/0/4/cn.apps123.shell.kangfubaojian\n生活实用 康复保健\n['首页', '产品', '会员中心', '商铺', '更多', '搜索你喜欢的内容', '保健资讯', '养生长寿', '茶道养生', '健康话题', '健康美容', '保健酒']\nnet.xinhuamm.d0322\n/mnt/H_DRIVE/FlowIntent/Location/0/4/net.xinhuamm.d0322\n"
     ]
    },
    {
     "name": "stdout",
     "output_type": "stream",
     "text": [
      "生活实用 神奇武川\n['本地', '武川新闻', '新华社发布', '内蒙古新闻']\ncom.ishow.dhbtxxx64\n/mnt/H_DRIVE/FlowIntent/Location/0/4/com.ishow.dhbtxxx64\n生活实用 河北童星学校\n[]\ncom.ishehui.x297\n/mnt/H_DRIVE/FlowIntent/Location/0/4/com.ishehui.x297\n['News', 'Fans', '10', 'Group', '新闻', '照片', '视频', '6', '团务', '粉丝', 'Fans:1525', 'Sign in ranking:1000', '0', 'Signin', '《Triangle》接档《奇皇后》 林时完变“贵公子”', '424', 'Support 162 flowers', '3People Support', 'T-ara智妍《Triangle》客串林时完相亲女', '1']\ncom.beabox.hjy.tt\n/mnt/H_DRIVE/FlowIntent/Location/0/4/com.beabox.hjy.tt\n生活实用 肌肤管家\n[]\n[]\n[]\ncom.lkz.bloodworld\n/mnt/H_DRIVE/FlowIntent/Location/0/4/com.lkz.bloodworld\n生活实用 军武世界\n[]\n[]\n[]\ncom.kukukk.kfkdroid\n/mnt/H_DRIVE/FlowIntent/Location/0/4/com.kukukk.kfkdroid\n"
     ]
    },
    {
     "name": "stdout",
     "output_type": "stream",
     "text": [
      "生活实用 女生防身手电筒\n[]\ncom.xiaoduoduo\n/mnt/H_DRIVE/FlowIntent/Location/0/4/com.xiaoduoduo\n['已有帐号', '创建帐号', '一起上课，一起玩！']\ncom.msxx.yueshi\n/mnt/H_DRIVE/FlowIntent/Location/0/4/com.msxx.yueshi\n生活实用 月食-月子食谱\n['我当妈妈了！', '产后每一天都有惊喜在等待', '起个昵称', '下一步']\ncom.shenba.market\n/mnt/H_DRIVE/FlowIntent/Location/0/4/com.shenba.market\n生活实用 神爸母婴\n['喝奶奶', '尿不湿', '来比萌', '娃哈哈', '首页', '大牌驾到', '购物车', '我的']\ncom.pdw.yw\n/mnt/H_DRIVE/FlowIntent/Location/0/4/com.pdw.yw\n生活实用"
     ]
    },
    {
     "name": "stdout",
     "output_type": "stream",
     "text": [
      " 因味\n['全国', '分享', '关注', '#初恋的味道', '139个分享', '#异国美食', '65个分享', '更多话题', '11个分享', '最新', '推荐', '会弹琴的男子', '5小时前', '+关注']\n['New version found', 'Latest version: 1.5\\nTarget size: 20.37M\\n\\nUpdate Content\\n产品经理说：上传本地视频功能，就像加了特效，duang的一下，就成功了！\\r\\n\\r\\n1. 吃饭就要争分夺秒，先拍，再上传。\\r\\n2. 邀手机通讯录好友一起吐槽我们的专题。\\r\\n3. 页面重新精雕布局，用着更快、更靓、更爽！\\n', 'Ingore this', 'Update now', 'Not now']\n['全国', '分享', '关注', '#初恋的味道', '139个分享', '#异国美食', '65个分享', '更多话题', '11个分享', '最新', '推荐', '会弹琴的男子', '5小时前', '+关注']\n['全国', '分享', '关注', '#初恋的味道', '133个分享', '#异国美食', '55个分享', '更多话题', '11个分享', '最新', '推荐', '待我长发及腰', '4小时前', '+关注']\n['全国', '分享', '关注', '最新']\n['全国', '分享', '关注', '#异国美食', '120个分享', '#天天小龙虾', '3个分享', '更多话题', '12个分享', '最新', '推荐', '芝心Nina', '1小时前', '+关注']\n['分享', '专题', '关注', '分享赢积分 和星礼卡一起发现夏趣', '还有2天结束', '90人参与', '立即参与 >', '最新', '推荐']\n['New version found', 'Latest version: 1.5\\nTarget size: 20.37M\\n\\nUpdate Content\\n产品经理说：上传本地视频功能，就像加了特效，duang的一下，就成功了！\\r\\n\\r\\n1. 吃饭就要争分夺秒，先拍，再上传。\\r\\n2. 邀手机通讯录好友一起吐槽我们的专题。\\r\\n3. 页面重新精雕布局，用着更快、更靓、更爽！\\n', 'Ingore this', 'Update now', 'Not now']\n['全国', '分享', '关注', '#异国美食', '118个分享', '#天天小龙虾', '1个分享', '更多话题', '12个分享', '最新', '推荐', '郑文even', '刚刚', '+关注']\n['New version found', 'Latest version: 1.5\\nTarget size: 20.37M\\n\\nUpdate Content\\n产品经理说：上传本地视频功能，就像加了特效，duang的一下，就成功了！\\r\\n\\r\\n1. 吃饭就要争分夺秒，先拍，再上传。\\r\\n2. 邀手机通讯录好友一起吐槽我们的专题。\\r\\n3. 页面重新精雕布局，用着更快、更靓、更爽！\\n', 'Ingore this', 'Update now', 'Not now']\ncom.xcecs.iappk.f1ae45e50e4291423f918df7b841b8995a\n/mnt/H_DRIVE/FlowIntent/Location/0/4/com.xcecs.iappk.f1ae45e50e4291423f918df7b841b8995a\n生活实用 新壳速购\n['新壳速购', '首页', '分类', '活动', '购物车', '更多']\n['新壳速购', '首页', '分类', '活动', '购物车', '更多']\ncom.insthub.ecmobileshopfiqs8skzgz5gy9b414c\n/mnt/H_DRIVE/FlowIntent/Location/0/4/com.insthub.ecmobileshopfiqs8skzgz5gy9b414c\n生活实用 建筑材料\n['建筑材料', '￥90元', '特价', '￥26元', '特价', '￥26元', '特价', '￥999元', '特价']\ncom.ziyouxiami.ldiom\n/mnt/H_DRIVE/FlowIntent/Location/0/4/com.ziyouxiami.ldiom\n"
     ]
    },
    {
     "name": "stdout",
     "output_type": "stream",
     "text": [
      "生活实用 宝宝学成语\n['宝宝学成语']\ncom.epweike.android\n/mnt/H_DRIVE/FlowIntent/Location/0/4/com.epweike.android\n生活实用 一品威客\n['全部分类', '找需求', '找高手', '做一个求婚的动画', '￥100-1000元', '26人参与', '剩3天17小时', '工程公司LOGO设计', '￥1000元', '81人参与', '剩13天16小时', '通化亿祥安商贸有限公司LOGO设计', '￥500元', '31人参与', '剩5天16小时', 'LOGO设计和名片应用', '￥500元', '0人参与', '剩6天22小时', 'PC网站升级+微站+APP开发', '￥10000-30000元', '7人参与', '剩6天21小时', '微信订阅号“医生都在听”logo设计']\n['全部分类', '找需求', '找高手', '做一个求婚的动画', '￥100-1000元', '26人参与', '剩3天17小时', '工程公司LOGO设计', '￥1000元', '81人参与', '剩13天16小时', '通化亿祥安商贸有限公司LOGO设计', '￥500元', '31人参与', '剩5天16小时', 'LOGO设计和名片应用', '￥500元', '0人参与', '剩6天22小时', 'PC网站升级+微站+APP开发', '￥10000-30000元', '7人参与', '剩6天21小时', '微信订阅号“医生都在听”logo设计']\ncom.ishehui.x89\n"
     ]
    },
    {
     "name": "stdout",
     "output_type": "stream",
     "text": [
      "/mnt/H_DRIVE/FlowIntent/Location/0/4/com.ishehui.x89\n生活实用 饭团-2PM\n['News', 'Fans', 'Group', '新闻', '视频', '星期衣', '照片', '话题', 'Fans', 'Sign in ranking:1000', '0', 'Signin', '-2PM饭团规章-', '俊昊『LAST NIGHT』Solo Tour 火热燃烧东京夜晚', '2', '117', 'Support 1 flowers', '11People Support', \"'周刊女性' 7月号 俊昊\"]\ncom.melot.talk\n/mnt/H_DRIVE/FlowIntent/Location/0/4/com.melot.talk\n生活实用 KK世界说\n[]\n[]\n['Newest version:2.1.1', 'KK世界说又更新啦！大家赶紧来下载吧！ Thank you for using KKTalkee. For your better experience, we have fix some bugs. please upgrade!', 'Update Ignore', 'Upgrade Now']\n['Newest version:2.1.1', 'KK世界说又更新啦！大家赶紧来下载吧！ Thank you for using KKTalkee. For your better experience, we have fix some bugs. please upgrade!', 'Update Ignore', 'Upgrade Now']\ncom.ez.android\n/mnt/H_DRIVE/FlowIntent/Location/0/4/com.ez.android\n[]\ncom.ishehui.x87\n/mnt/H_DRIVE/FlowIntent/Location/0/4/com.ishehui.x87\n生活实用 饭团-尼坤\n['News', 'Fans', 'Group', '新闻', '照片', '星期衣', '视频', 'MV', 'Fans', 'Sign in ranking:1000', '0', 'Signin', '逢考必过！家人们都来送祝福！', '1', '210', 'Support 1 flowers', '6People Support', '【福利】买会员，送1200米币！就两天！', '60', 'Support 61 flowers', '1People Support', '【福利】买会员，送1200米币！就两天！']\ncom.szswj.chudian\n/mnt/H_DRIVE/FlowIntent/Location/0/4/com.szswj.chudian\n['手机号码', '登 录', '忘记密码', '注册']\ncom.manteng.xuanyuan.activity\n/mnt/H_DRIVE/FlowIntent/Location/0/4/com.manteng.xuanyuan.activity\n"
     ]
    },
    {
     "name": "stdout",
     "output_type": "stream",
     "text": [
      "办公学习 快消总管\n['立即注册', '免账号体验', '立即登录']\n['立即注册', '免账号体验', '立即登录']\n['立即注册', '免账号体验', '立即登录']\ncn.apps123.shell.zhenqingbaojianwang\n/mnt/H_DRIVE/FlowIntent/Location/0/4/cn.apps123.shell.zhenqingbaojianwang\n['关于振卿', '资讯中心', '在线商城', '会员中心', '互动专区', '热线', '导航', '分享', '网站']\ncom.dunkhome.dunkshoe\n/mnt/H_DRIVE/FlowIntent/Location/0/4/com.dunkhome.dunkshoe\n生活实用 get\n[]\n[]\ncom.ishehui.x27\n/mnt/H_DRIVE/FlowIntent/Location/0/4/com.ishehui.x27\n生活实用 周杰伦\n['News', 'Fans', 'Group', '杰讯', '杰图', '杰视', '杰作', '杰迷', 'Fans', 'Sign in ranking:1000', '0', 'Signin', '『无与伦比』周杰伦新专辑封面照曝光 身体腾空飘浮', '5', '1019', 'Support 1 flowers', '28People Support', '『无与伦比』昆凌左手中指带钻戒 疑周董所送订婚戒', '6', '1001', 'Support 1 flowers', '16People Support', '『无与伦比』周杰伦回应与昆凌婚讯：祝大家都能幸福']\ncom.wowsai.crafter4Android\n/mnt/H_DRIVE/FlowIntent/Location/0/4/com.wowsai.crafter4Android\n生活实用 手工客\n['达人', '排行榜', '专题', '活动', '互动课堂', '手工客', '首页', '动态', '发现', '课堂', '手工圈', '教程', '我的']\n[]\ncom.fatesky.dictapps.notepad.color.note\n/mnt/H_DRIVE/FlowIntent/Location/0/4/com.fatesky.dictapps.notepad.color.note\n"
     ]
    },
    {
     "name": "stdout",
     "output_type": "stream",
     "text": [
      "生活实用 多彩便签\n['Sort by modified time']\ncom.jh.APPd5f527754c534ff7ab8346b3c32d9d0f.news\n/mnt/H_DRIVE/FlowIntent/Location/0/4/com.jh.APPd5f527754c534ff7ab8346b3c32d9d0f.news\n生活实用 风湿性骨病\n['风湿性骨病', '新闻', '专家', '医院', '医药馆', '百科', '联系人', '首页', '更多']\ncom.xsw.student\n/mnt/H_DRIVE/FlowIntent/Location/0/4/com.xsw.student\n生活实用 选师无忧\n['输入老师或科目试试', '李锴聪', '￥55', '起', '高一化学、高二化学、初三化学、高考化学、初三物理、初三数学、初二数学、初二物理', '为人乐观开朗，积极向上，高中和大学的成绩都很不错', '现住:', '番禺区-广州大学城广东工业大学生活西区', '2项认证•1年教龄•广东工业大学电气工程及其自动化', '贡文波', '￥85', '起', '六年级数学', '有多年的小学及中学数学家教经验，擅于于学生沟通。', '现住:', '天河区-华南师范大学', '2项认证•3年教龄•华南师范大学计算数学', '周丹丽', '￥40', '起', '初一理综、初一数学、初二数学、三年级数学、高一英语、六年级英语、高一化学、高二化学、四年级数学、初二物理、初三化学', '  本人是一个积极开朗，工作责任心极强的一个学生。中学理科参加优秀，暑假有过初中英语，数学辅导经验。', '现住:', '天河区-华南农业大学五山区', '2项认证•1年教龄•华南农业大学应用化学', '刘宇忠', '￥200', '主页', '消息', '课表', '我的老师', '我的']\n['输入老师或科目试试', '李锴聪', '￥55', '起', '高一化学、高二化学、初三化学、高考化学、初三物理、初三数学、初二数学、初二物理', '为人乐观开朗，积极向上，高中和大学的成绩都很不错', '现住:', '番禺区-广州大学城广东工业大学生活西区', '2项认证•1年教龄•广东工业大学电气工程及其自动化', '贡文波', '￥85', '起', '六年级数学', '有多年的小学及中学数学家教经验，擅于于学生沟通。', '现住:', '天河区-华南师范大学', '2项认证•3年教龄•华南师范大学计算数学', '周丹丽', '￥40', '起', '初一理综、初一数学、初二数学、三年级数学、高一英语、六年级英语、高一化学、高二化学、四年级数学、初二物理、初三化学', '  本人是一个积极开朗，工作责任心极强的一个学生。中学理科参加优秀，暑假有过初中英语，数学辅导经验。', '现住:', '天河区-华南农业大学五山区', '2项认证•1年教龄•华南农业大学应用化学', '刘宇忠', '￥200', '主页', '消息', '课表', '我的老师', '我的']\n['升级通知', '1.解决了筛选性别为女的问题\\n2.解决周末不能约课的问题\\n3.修改IM闪退\\n4.明星老师的价格修改\\n5.搜索老师的约课价格为0的问题\\n6.解决老师详情查看更多评价', '立即更新', '下次更新']\n['升级通知', '1.解决了筛选性别为女的问题\\n2.解决周末不能约课的问题\\n3.修改IM闪退\\n4.明星老师的价格修改\\n5.搜索老师的约课价格为0的问题\\n6.解决老师详情查看更多评价', '立即更新', '下次更新']\ncom.xiaodao.aboutstar\n/mnt/H_DRIVE/FlowIntent/Location/0/4/com.xiaodao.aboutstar\n"
     ]
    },
    {
     "name": "stdout",
     "output_type": "stream",
     "text": [
      "生活实用 星座\n[]\n[]\n[]\ncom.bluedragonfly.view\n/mnt/H_DRIVE/FlowIntent/Location/0/4/com.bluedragonfly.view\n['全部', '搞笑图片', '内涵段子', '纸荒年 Trace。', '2天前', '熊孩子威武', '熊孩子真是机智呢', '123', '16', '分享', '内涵', '剁手', '发现', '设置']\ncom.change.anmo\n/mnt/H_DRIVE/FlowIntent/Location/0/4/com.change.anmo\n生活实用 中医特效按摩\n['立即体验']\n['立即体验']\ncom.benke.EnterpriseApplicationTabFordgjjzsw\n/mnt/H_DRIVE/FlowIntent/Location/0/4/com.benke.EnterpriseApplicationTabFordgjjzsw\n生活实用 东莞家居装饰网\n['家居装饰', '东莞家居装饰网', '主页', '产品商城']\ncom.libang.dingbangbang\n/mnt/H_DRIVE/FlowIntent/Location/0/4/com.libang.dingbangbang\n生活实用 订帮帮\n['New version found', 'Latest version: 1.0.8\\nTarget size: 8.03M\\n\\nUpdate Content\\n1、摇一摇功能优化，摇出更多惊喜；\\r\\n2、团购模块改版，显示更完美；\\r\\n3、下单流程优化，超贴心；\\r\\n4、若干贴心功能的优化，亲慢慢体验哦；\\n', 'Ingore this', 'Update now', 'Not now']\n['New version found', 'Latest version: 1.0.8\\nTarget size: 8.03M\\n\\nUpdate Content\\n1、摇一摇功能优化，摇出更多惊喜；\\r\\n2、团购模块改版，显示更完美；\\r\\n3、下单流程优化，超贴心；\\r\\n4、若干贴心功能的优化，亲慢慢体验哦；\\n', 'Ingore this', 'Update now', 'Not now']\n['订  帮  帮', '         摇一摇  红包礼品天天送         生活-原来可以这样玩···', '外卖', '鲜花·蛋糕', '餐厅', 'KTV·茶楼', '宾馆', '足疗·洗浴']\ncom.cubic.autohome\n/mnt/H_DRIVE/FlowIntent/Location/0/4/com.cubic.autohome\n"
     ]
    },
    {
     "name": "stdout",
     "output_type": "stream",
     "text": [
      "生活实用 汽车之家\n['发现新版本V4.8.2', '1、修复口碑页白屏问题；\\r\\n2、优化部分功能。', '立即下载', '以后再说', '不再提示']\n['发现新版本V4.8.2', '1、修复口碑页白屏问题；\\r\\n2、优化部分功能。', '立即下载', '以后再说', '不再提示']\n['最新', '快报', '视频', '新闻', '评测', '导购', '2015下半年上市车：海外品牌进口SUV篇', '2015-07-08', '748评论', '布局紧凑功能齐全 实拍上汽大通V80房车', '2015-07-09', '25评论', '美媒曝电动车污染是否是危言耸听', '2015-07-09', '113评论', '不量产怪我了？ 图解概念车量产之谜', '2015-07-09', '76评论', '推荐', '论坛', '找车', '发现', '我']\n[]\n['最新', '快报', '视频', '新闻', '评测', '导购', '捷豹XE诞生地 访捷豹路虎索利哈尔工厂', '2015-07-10', '58评论', '感谢汽车之家商城 网购美规宝马X5', '2015-07-10', '736回帖', '或低于10万 众泰T600 2.0T将推入门车型', '2015-07-10', '83评论', '增加入门级车型 奥迪R8 Spyder假想图', '2015-07-10', '30评论', '推荐', '论坛', '找车', '发现', '我']\ncn.apps123.shell.tiyusheshi\n/mnt/H_DRIVE/FlowIntent/Location/0/4/cn.apps123.shell.tiyusheshi\n['行业资讯', '企业黄页', '供/求信息', '会员中心', '更多', '行业资讯', '全部', '行业资讯', '市场动态', '点击排行', '体育设施', '丰县被命名为首批江苏省公共体育服务体系示范区 ', '近日，在江苏省体育局印发的文件《江苏省体育局关于命名第一批江...', '三年为123所学校建塑胶跑道', '日前,市教育局、体育局联合召开威海市青少年体育工作会议,计划三...']\ncom.shyl_menu\n/mnt/H_DRIVE/FlowIntent/Location/0/4/com.shyl_menu\n生活实用 家常菜谱大全\n['菜谱大全', '粤菜', '川菜', '鲁菜', '江苏菜', '浙江菜', '闽菜', '京菜', '菜系', '收藏', '搜菜', '帮助']\n['菜谱大全', '粤菜', '川菜', '鲁菜', '江苏菜', '浙江菜', '闽菜', '京菜', '菜系', '收藏', '搜菜', '帮助']\nfind.citygaozhou.nice\n/mnt/H_DRIVE/FlowIntent/Location/0/4/find.citygaozhou.nice\n生活实用 高州通\n['高州通', '高州阳光论坛', '高州论坛', '高州今日动态', '高州吧', '高州在线', '高州分类信息', '高州教育信息', '高州团购网', '高州第一中学', '高州市图书馆', '高州网事', '高州房产网', '高州房产', '广东高州中学', '高州大酒店', '茂名他乡网', '高州天气微博', '高州市中医院', '高州第四中学', '高州第二中学', '高州人民医院', '广东高州农校', '高州第二小学', '高州水果桂圆', '高州大井中学']\ncom.fangmi.fmm.property\n/mnt/H_DRIVE/FlowIntent/Location/0/4/com.fangmi.fmm.property\n \n"
     ]
    },
    {
     "name": "stdout",
     "output_type": "stream",
     "text": [
      "[]\n['会员登录', '请输入手机号码', '忘记密码', '登   录', '邀请码注册']\n[]\n[]\n[]\ncom.ww.gongjiao\n/mnt/H_DRIVE/FlowIntent/Location/0/4/com.ww.gongjiao\n生活实用 南京实时公交\n['南京实时公交', '纠错', '常用', '市区', '江宁']\ncom.liuwei.meishi\n/mnt/H_DRIVE/FlowIntent/Location/0/4/com.liuwei.meishi\n生活实用 美食食谱\n['家常小菜', '美味主食', '经典菜式', '私房小吃']\ncom.hexinpass.shequ\n/mnt/H_DRIVE/FlowIntent/Location/0/4/com.hexinpass.shequ\n生活实用 慧生惠管家\n['开始使用', '立即注册']\n['开始使用', '立即注册']\ncom.indulgesmart\n/mnt/H_DRIVE/FlowIntent/Location/0/4/com.indulgesmart\n"
     ]
    },
    {
     "name": "stdout",
     "output_type": "stream",
     "text": [
      "生活实用 Bon App!\n['Newly Opened', 'Near Me', 'Cuisine', 'Deals', 'Trending Now', 'Restaurants rated in the past 12 hours', 'Bumbu  奔步正宗印尼菜', 'Indonesian, Southeast Asian', 'Nanjing Xi Lu', '555 Nanjing Xi Lu, B1, near Chengdu Bei Lu', '84%', '124 votes', '¥', 'Liquid Laundry  LL创意厨房精酿酒馆', 'American', 'Huaihai Zhong Lu', '1028 Huaihai Zhong Lu, Kwah Centre, 2/F, near Donghu Lu', '86%', '504 votes', '¥¥', \"Cha's  查餐厅\", 'Cantonese & Dim Sum, Chinese', 'Fmr French Concession', '88%', '404 votes', '¥', 'Home', 'Activity', 'Connect', 'Suggestions', 'Me']\ncom.zengshoubao.mitun\n/mnt/H_DRIVE/FlowIntent/Location/0/4/com.zengshoubao.mitun\n生活实用 增收宝\n[]\n[]\nysbang.cn\n/mnt/H_DRIVE/FlowIntent/Location/0/4/ysbang.cn\n生活实用 药师帮-店员\n['www.ysbang.cn/app.html']\n['药师帮-店员2.2.0', '1、药采购新增银行卡支付，支付更加便捷畅通；\\r\\n2、新增采购对账单，轻松查看采购记录；\\r\\n3、采购列表新增销量和人气排序。\\r\\n\\r\\n请马上更新到最新版本以享受更多、更好的服务吧！\\r\\n', '马上更新']\ncom.by.babymusic\n/mnt/H_DRIVE/FlowIntent/Location/0/4/com.by.babymusic\n"
     ]
    },
    {
     "name": "stdout",
     "output_type": "stream",
     "text": [
      "生活实用 宝宝童谣\n['立即体验']\ncom.awt.sxwts\n/mnt/H_DRIVE/FlowIntent/Location/0/4/com.awt.sxwts\n生活实用 听游五台山\n['山西·五台山', '62', '10', '10', '10', '10', 'Menu', 'Start', 'Guide']\n['Speech mode', 'Online TTS', 'Use directly and will consume mobile data.', 'TTS offline package(not downloaded,10M)', 'Download TTS engine once and will be used for all apps!', 'True voice(not downloaded,30M)', 'Offline voice package', 'Continue']\ncom.hck.kedouzq\n/mnt/H_DRIVE/FlowIntent/Location/0/4/com.hck.kedouzq\n \n['返回', '新手必读', '为了让您可以了解本软件，了解怎么赚钱，你必需仔细看完该新手帮助哦，看完后，相信你能3分钟赚一元.下滑查看', '首先，从首页，点击菜单下面 那个赚钱，会展示出很多的赚钱区，如下图所示']\ncn.apps123.shell.aifangmu\n/mnt/H_DRIVE/FlowIntent/Location/0/4/cn.apps123.shell.aifangmu\n生活实用 爱放牧\n['实景展示', '爱放牧美食', '门店查询', '论坛', '会员中心', '私家牧场']\ncom.stg.rouge.activity\n/mnt/H_DRIVE/FlowIntent/Location/0/4/com.stg.rouge.activity\n"
     ]
    },
    {
     "name": "stdout",
     "output_type": "stream",
     "text": [
      "生活实用 论酒\n[]\ncom.happyjob.company\n/mnt/H_DRIVE/FlowIntent/Location/0/4/com.happyjob.company\n生活实用 兼职乐(企业版)\n['手机号', ' ?', '-or-', '注册']\npredictor.ui\n/mnt/H_DRIVE/FlowIntent/Location/0/4/predictor.ui\n生活实用 灵占天下算命占卜\n['八字算命', '我的今日', '命運問答', '月老牽線', '求籤斷事', '姓名解析', '開運指南', '靈占符閣']\ncom.ishehui.x44\n/mnt/H_DRIVE/FlowIntent/Location/0/4/com.ishehui.x44\n生活实用 饭团-东方神起\n['News', 'Fans', 'Group', '消息', '相册', '星期衣', '视频', 'MV', 'Fans', 'Sign in ranking:1000', '0', 'Signin', '150707 #东方神起##沈昌珉#【已通过义务警察面試】', '2', '2657', 'Support 137 flowers', '6People Support', '150705 #郑允浩指定你#', '973', 'Support 5 flowers', '11People Support']\ncom.ada.yujia\n/mnt/H_DRIVE/FlowIntent/Location/0/4/com.ada.yujia\n生活实用 瑜伽宝典\n['接受测试', '跳过']\ncom.chemi.customer.client\n/mnt/H_DRIVE/FlowIntent/Location/0/4/com.chemi.customer.client\n"
     ]
    },
    {
     "name": "stdout",
     "output_type": "stream",
     "text": [
      "生活实用 车险小秘\n[]\n[]\ncn.apps123.shell.hunanluntaiwang\n/mnt/H_DRIVE/FlowIntent/Location/0/4/cn.apps123.shell.hunanluntaiwang\n生活实用 湖南轮胎网\n['首页', '商铺', '会员中心', '产品列表', '更多', '搜索你喜欢的内容', '行业资讯', '行业展会', '市场分析', '政策法规', '固特异', '米其林']\ncom.dream\n/mnt/H_DRIVE/FlowIntent/Location/0/4/com.dream\n生活实用 周公解梦\n['生活篇', '爱情篇 ', '文化篇', '人身篇', '神鬼篇', '动物篇', '植物篇', '建筑篇', '器物篇']\n['生活篇', '爱情篇 ', '文化篇', '人身篇', '神鬼篇', '动物篇', '植物篇', '建筑篇', '器物篇']\nwusu.xuexi\n/mnt/H_DRIVE/FlowIntent/Location/0/4/wusu.xuexi\n"
     ]
    },
    {
     "name": "stdout",
     "output_type": "stream",
     "text": [
      "生活实用 武术学习\n['首页', '下载', '历史记录', '寰宇地理·科学看武术', '节目 2', '太极健身杂谈', '节目 29', '金陵太极拳社', '节目 2', '太极拳', '节目 31']\ncn.apps123.shell.sichuanmeishiwang\n/mnt/H_DRIVE/FlowIntent/Location/0/4/cn.apps123.shell.sichuanmeishiwang\n生活实用 四川美食网\n[' 美食资讯', '团购预订', '供求信息', '美食加盟', '更多', ' 美食资讯', '全部', '美食团购', '美食攻略', '美味知识', '四川美食网', '香蕉如何吃才健康？', '热带水果中最平民化的水果就是香蕉，香蕉不但味道可口，而且价格...', '乡村美食旅游节万人免费吃农家菜', '由成都市乡村旅游产业商会、成都旅游协会、青羊区美食文化促进会...']\nnet.xinhuamm.d0762\n/mnt/H_DRIVE/FlowIntent/Location/0/4/net.xinhuamm.d0762\n生活实用 包头工商联\n['本地', '商会简介', '新华社发布', '内蒙古新闻']\ncom.ucmed.rubik.pinghuzhongyi\n/mnt/H_DRIVE/FlowIntent/Location/0/4/com.ucmed.rubik.pinghuzhongyi\n生活实用 平湖市中医院\n['满意服务在平湖市中医院', '\\ue601', '手机预约', '掌上实时预约，凭短信直接就诊', '\\ue602', '取报告单', '远程报告查询，免于等待', '\\ue603', '智能导诊', '症状自检，轻松找对科室医生', '\\ue612', '健康宣教', '门诊、出入院流程一键掌握', '\\ue605', '科室医生', '查询科室医生排班及出诊信息', '\\ue604', '医院导航', '医院地理楼层导航周边商户']\n['满意服务在平湖市中医院', '\\ue601', '手机预约', '掌上实时预约，凭短信直接就诊', '\\ue602', '取报告单', '远程报告查询，免于等待', '\\ue603', '智能导诊', '症状自检，轻松找对科室医生', '\\ue612', '健康宣教', '门诊、出入院流程一键掌握', '\\ue605', '科室医生', '查询科室医生排班及出诊信息', '\\ue604', '医院导航', '医院地理楼层导航周边商户', '\\ue607', '健康资讯', '\\ue608', '健康百科']\ncom.baby.tingshu\n/mnt/H_DRIVE/FlowIntent/Location/0/4/com.baby.tingshu\n"
     ]
    },
    {
     "name": "stdout",
     "output_type": "stream",
     "text": [
      "生活实用 宝宝听书\n['更多', '首页', '已下载', '睡眠模式', '关于我们', '问卷调查', '清理缓存']\nnet.xinhuamm.d0330\n/mnt/H_DRIVE/FlowIntent/Location/0/4/net.xinhuamm.d0330\n生活实用 活力玉泉\n['媒体选择库', '本地', '玉泉快读', '新华社发布', '内蒙古新闻', '1/2', '【盟市委书记访谈】苗银柱：新状态适应新常态 新作为推动新发展', '物业和业主“和”才能两利', '内蒙古：适应经济发展新常态 重大项目成绩斐然', '123', '呼和浩特市金桥三路人行道“兼职”停车场']\nme.chunyu.ChunyuDoctorHD\n/mnt/H_DRIVE/FlowIntent/Location/0/4/me.chunyu.ChunyuDoctorHD\n['去看看', '点击查看是否有适合您的问题?', '换一组', '和老公积极备孕8个多月了，还是没动静，是不是不孕症啊？该怎么办呢？（女，32）', '虽然母乳对宝宝好，但是听说乳房会因此缩小、下垂，我该怎么办啊？（男，3周）', '进入首页', '去提问']\n['去看看', '点击查看是否有适合您的问题?', '换一组', '孩子三个月，晚上睡不好，汗多，是缺钙了吗？要吃钙片吗，怎么吃？', '经常喷嚏打个不停，还流清水鼻涕，白天就好了，这是鼻炎吗？（男，35岁）', '脸上总是长黑头，有办法治吗？能控制不复发吗？（女，26）', '孩子六个月，发烧38℃，吃奶还可以，要吃消炎药吗？要去医院吗？', '进入首页', '去提问']\ncn.elink.jmk\n/mnt/H_DRIVE/FlowIntent/Location/0/4/cn.elink.jmk\n生活实用 门口儿\n['心情分享，了解小区大事小情']\n['手机号', '进入']\ncn.apps123.shell.guangdongzhaomingdengshi\n/mnt/H_DRIVE/FlowIntent/Location/0/4/cn.apps123.shell.guangdongzhaomingdengshi\n生活实用 广东照明灯饰\n['首页', '供/求信息', '商铺', '产品列表', '更多', '搜索你喜欢的内容', '秒杀', '推介', '优惠', '活动', 'LED 吸顶灯', '天花灯']\n"
     ]
    },
    {
     "name": "stdout",
     "output_type": "stream",
     "text": [
      "com.gpc.jokes\n/mnt/H_DRIVE/FlowIntent/Location/0/4/com.gpc.jokes\n['冷笑话精选2015', '\\u200d\\u200d\\u200d\\u200d今天问我在移动营业厅上班的朋友：“移动4G到底有多快？” 他说：“你睡觉的时候不关流量，第二天房子就归移动了。” 我靠，我这房子还是租的呢！\\u200d\\u200d\\u200d\\u200d', '\\u200d\\u200d\\u200d\\u200d一天，一老太太带着她的儿子和孙子，一起去做亲子鉴定。 结果出来一看，儿子和孙子是亲兄弟，怎么回事！\\u200d\\u200d\\u200d\\u200d', '有点长、我们公司厕所都是蹲坑的那种、而且就三个，老板基本都是下午来，背景交代完毕。 我跟另外两个同事把坑都占了、在边玩手机边说老板怎么怎么样、听见有人洗手，我三个傻逼一起喊了句：进门交保护费了么？哎呀卧槽、刘总早。老板拿出一盒硬中华来一人给一根说：小弟交的保护费、一会都上我办公室来！后面自己脑补...', '笑话', '笑图', '推荐']\ncom.iym.baygushi\n/mnt/H_DRIVE/FlowIntent/Location/0/4/com.iym.baygushi\n生活实用 宝宝故事\n[]\ncom.child\n/mnt/H_DRIVE/FlowIntent/Location/0/4/com.child\n生活实用 儿童营养中心\n['母乳喂养', '人工喂养', '婴儿辅食', '幼儿饮食', '学龄前饮食', '食疗食谱', '均衡营养', '饮食习惯']\ncom.loonxi.mojing\n/mnt/H_DRIVE/FlowIntent/Location/0/4/com.loonxi.mojing\n生活实用 魔镜在线\n['魔镜在线', '使用说明']\ncom.maidoumi.mdm\n/mnt/H_DRIVE/FlowIntent/Location/0/4/com.maidoumi.mdm\n生活实用 麦豆米\n['麦豆米', '到店就吃', '码上点菜', '首页', '订单', '排队']\ncom.xinplus.app\n/mnt/H_DRIVE/FlowIntent/Location/0/4/com.xinplus.app\n"
     ]
    },
    {
     "name": "stdout",
     "output_type": "stream",
     "text": [
      "生活实用 心加送心交友\n[]\n['QQ登录', '心加账号登录']\ncom.ishow.dcxj56\n/mnt/H_DRIVE/FlowIntent/Location/0/4/com.ishow.dcxj56\n生活实用 车享家\n[]\ncom.ishehui.x136\n/mnt/H_DRIVE/FlowIntent/Location/0/4/com.ishehui.x136\n"
     ]
    },
    {
     "name": "stdout",
     "output_type": "stream",
     "text": [
      "生活实用 饭团_Infinite\n['News', 'Fans', 'Group', '新闻', '照片', '星期衣', '视频', '贴吧', 'Fans', 'Sign in ranking:1000', '0', 'Signin']\n['Version updating', '1.全新UI；2.改进新闻推送', 'Cancel', 'Ok']\ncom.zhicall.mdoctor\n/mnt/H_DRIVE/FlowIntent/Location/0/4/com.zhicall.mdoctor\n生活实用 掌上医务\n['登录', '注册', '输入您的手机号', '忘记', '登  录']\n['登录', '注册', '输入您的手机号', '忘记', '登  录']\ncom.dingding.youche.ui\n/mnt/H_DRIVE/FlowIntent/Location/0/4/com.dingding.youche.ui\n生活实用 选车顾问\n['有新版本0.2.7-beta\\n公测版本\\n1.无网络加载优化\\n2.发布功能优化\\n3.修复已知功能问题', '暂不更新', '更新']\n['有新版本0.2.6-beta\\n公测版本\\n1.车小秘通知增加内容链接\\n2.通讯录好友推送规则修改\\n3.增加未认证和认证中标示\\n4.修复已知功能问题', '暂不更新', '更新']\ncom.ishow.dmbw1\n/mnt/H_DRIVE/FlowIntent/Location/0/4/com.ishow.dmbw1\n"
     ]
    },
    {
     "name": "stdout",
     "output_type": "stream",
     "text": [
      "生活实用 模板网\n[]\n[]\ncom.lysoft.android.lyyd.report\n/mnt/H_DRIVE/FlowIntent/Location/0/4/com.lysoft.android.lyyd.report\n生活实用 奕报告\n['选择学校', '选好了你的学校就快进来吧', '奕学院', '广州城建职业学院', '玉溪师范学院', '宁波卫生职业技术学院']\ncn.apps123.shell.zhangshangmeishitianxia\n/mnt/H_DRIVE/FlowIntent/Location/0/4/cn.apps123.shell.zhangshangmeishitianxia\n生活实用 掌上美食天下\n['美食天下', '新闻资讯', '在线商城', '企业商家', '供求商机', '二维码分享', '意见反馈', '会员中心', '朋友圈', '图片集', '在线客服', '通讯录', '视频集', '信息推送', '预约表格', '优惠券']\ncom.shike.student\n/mnt/H_DRIVE/FlowIntent/Location/0/4/com.shike.student\n[]\n['立即\\n体验']\ncom.lzzs.lzzsapp\n/mnt/H_DRIVE/FlowIntent/Location/0/4/com.lzzs.lzzsapp\n生活实用 应聘宝应届招聘\n['立即登录', '交流社区', '积分商城', '使用攻略', '战友礼包', '设置', '反馈', '涨知识', '刷真题', '约导师', '查宣讲', '阿里100个内推名额，快抢！[第一批内推名单公布]', '2015-07-07', '女孩子，要去大城市闯一闯', '今日', '今日精选名企招聘信息（0713）', '每日进阶', '精选干货']\n"
     ]
    },
    {
     "name": "stdout",
     "output_type": "stream",
     "text": [
      "['心仪宣讲不错过', '陌生校园不走错']\ncom.netease.newsreader.activity0629-22-18-47\n/mnt/H_DRIVE/FlowIntent/Location/0/4/com.netease.newsreader.activity0629-22-18-47\n['V5.0更新', '5.0新版打造更舒适的阅读体验，在这里看世界，世界就在你手中！快来升级~', '不再提示', '取消', '立即升级']\ncom.tixa.industry.search2c9480b74da3b7c0014db8388d060983\n/mnt/H_DRIVE/FlowIntent/Location/0/4/com.tixa.industry.search2c9480b74da3b7c0014db8388d060983\n['保健食品信息网', '请输入关键词', '资讯', '热门消息', '[资讯]', '葱的营养价值和保健功效 怎样吃葱最营养', '[商机]', '保健器材代理 家用保健器材代理 新型保健器材代理招商', '[黄页]', '亳州市快乐中药材销售有限公司', '[商机]', '[视频]溶栓保健品：：溶栓治疗：：龙芪溶栓胶囊怎么样', '主页', '热点', '问答', '我的', '设置']\nqigon.rumen\n/mnt/H_DRIVE/FlowIntent/Location/0/4/qigon.rumen\n生活实用 气功入门\n['首页', '下载', '历史记录', '郭林气功广播电台', '节目 24', '中国励志养生文化', '节目 15', '孔子太极拳', '节目 219', '太极健身杂谈', '节目 29']\ncom.xcar.activity\n/mnt/H_DRIVE/FlowIntent/Location/0/4/com.xcar.activity\n生活实用 爱卡汽车\n['最新', '新闻', '导购', '评测', '行情', '华晨宝马全新X1低伪谍照曝光 轴距增长', '2015-07-12', '358', '国内新车', '骏派D60 1.8L自动舒适版调价 官降0.1万', '2015-07-12', '143', '国内新车', '东风雪铁龙6000现金红包摇手可得 ', '广汽传祺战略规划曝光 每年至少5款新车', '首页', '论坛', '找车', '活动']\ncom.kanke.create\n/mnt/H_DRIVE/FlowIntent/Location/0/4/com.kanke.create\n \n[]\n['创业榜', '最热项目', '最新项目', '微觅友', '所在区域： 成都市 郫县', '项目方向： 社交 ', '招募角色： 营销 ', '关注36', '点赞33', '修车堂', '所在区域： 成都市 郫县', '项目方向： O2O , 企业服务 ', '招募角色： 技术 , 营销 ', '联系人', '创业榜', '发现']\n[]\ncom.ishow.ddzcppt65\n/mnt/H_DRIVE/FlowIntent/Location/0/4/com.ishow.ddzcppt65\n"
     ]
    },
    {
     "name": "stdout",
     "output_type": "stream",
     "text": [
      "生活实用 电子产品平台\n[]\ncom.ishow.dtmdq30\n/mnt/H_DRIVE/FlowIntent/Location/0/4/com.ishow.dtmdq30\n生活实用 家电管家\n[]\n[]\ncom.ld.ldm\n/mnt/H_DRIVE/FlowIntent/Location/0/4/com.ld.ldm\n"
     ]
    },
    {
     "name": "stdout",
     "output_type": "stream",
     "text": [
      "生活实用 脸蛋\n['圈子', '推荐', '我的圈子', '“扫黄”行动：熟龄肌≠黄脸婆', '圈子', '美肤', '福利社', '我的']\ncom.ishehui.x153\n/mnt/H_DRIVE/FlowIntent/Location/0/4/com.ishehui.x153\n生活实用 饭团-防弹少年团\n['News', 'Fans', 'Group', '新闻', '照片', '视频', 'MV', '粉丝', 'Fans', 'Sign in ranking:1000', '0', 'Signin', '【BTS 话题】150701 你最喜欢的是？', '36', '931', 'Support 1 flowers', '45People Support', '【BTS 推特】 150705 公主更新推特', '138', 'Support 139 flowers', '1People Support', '【BTS 推特】 150705 更新推特']\n['Board', '新闻', '照片', '视频', 'MV', '行程', 'Fans', 'Sign in ranking:1000', '0', 'Signin', '【BTS 话题】150701 你最喜欢的是？', '【BTS 推特】 150705 厚朴更新推特', '1', 'Support 2 flowers', '1People Support', '【BTS 推特】 150705 厚朴更新推特', '1', '1', 'Board', '饭堂', '饭团', 'Message', 'More']\ncom.bjfxtx.app.bbshipper\n/mnt/H_DRIVE/FlowIntent/Location/0/4/com.bjfxtx.app.bbshipper\n生活实用 叭叭速配货主\n['欢迎货主登录', '请输入手机号', '忘记密码', '登录', '没有帐号立即注册', '立即注册']\n['欢迎货主登录', '请输入手机号', '忘记密码', '登录', '没有帐号立即注册', '立即注册']\ncom.ishehui.x395\n/mnt/H_DRIVE/FlowIntent/Location/0/4/com.ishehui.x395\n['News', 'Fans', 'Group', '新闻', '照片', '视频', '团务', '粉丝', 'Fans', 'Sign in ranking:1000', '0', 'Signin', '细数破产姐妹中那些让你感动过的台词。', '1', '806', 'Support 1 flowers', '27People Support', '2BG强势回归 姐妹花短发极具诱惑。', '509', 'Support 1 flowers', '19People Support']\nviva.reader\n/mnt/H_DRIVE/FlowIntent/Location/0/4/viva.reader\n生活实用 畅读\n"
     ]
    },
    {
     "name": "stdout",
     "output_type": "stream",
     "text": [
      "[]\n['开启您的麦克风, 神秘活动等您来!', '不再提示', '不, 谢谢', '同意']\ncom.ishehui.x154\n/mnt/H_DRIVE/FlowIntent/Location/0/4/com.ishehui.x154\n生活实用 饭团-GOT 7\n['Board', '新闻', '资料', 'GOT7吧', '通告', '日程', 'Fans', 'Sign in ranking:1000', '0', 'Signin', '★★★GOT7饭团的成员须知', '【GOT7新闻】150705 @GOT7Official Japan推特更新： ', '29', 'Support 30 flowers', '1People Support', '【GOT7新闻】150705 人气歌谣直播截图', 'Board', '饭堂', '饭团', 'Message', 'More']\n['Version updating', '1.全新UI；2.改进新闻推送', 'Cancel', 'Ok']\ncom.acmsong.carbook\n/mnt/H_DRIVE/FlowIntent/Location/0/4/com.acmsong.carbook\n生活实用 汽车宝典360\n['汽车宝典360', '品牌', '   ', '请输入汽车品牌，如：奥迪']\ncn.dreamplus.wentangdoctor\n/mnt/H_DRIVE/FlowIntent/Location/0/4/cn.dreamplus.wentangdoctor\n['server.91jkys.com/drapp']\n['server.91jkys.com/drapp']\n['server.91jkys.com/drapp']\ncom.taobao.shoppingstreets\n/mnt/H_DRIVE/FlowIntent/Location/0/4/com.taobao.shoppingstreets\n生活实用 喵街\n['开始逛街', '用户许可使用协议']\n['开始逛街', '用户许可使用协议']\ncom.ishow.dhbw24\n"
     ]
    },
    {
     "name": "stdout",
     "output_type": "stream",
     "text": [
      "/mnt/H_DRIVE/FlowIntent/Location/0/4/com.ishow.dhbw24\n生活实用 烘焙网\n[]\ncom.midou.tchy.consignee\n/mnt/H_DRIVE/FlowIntent/Location/0/4/com.midou.tchy.consignee\n \n['手机号', '下次自动登录', '忘记密码？', '登录', '立即注册 ']\ncom.awt.fjwys\n/mnt/H_DRIVE/FlowIntent/Location/0/4/com.awt.fjwys\n生活实用 听游武夷山\n['Speech mode', 'Online TTS', 'Use directly and will consume mobile data.', 'TTS offline package(not downloaded,10M)', 'Download TTS engine once and will be used for all apps!', 'True voice(not downloaded,30M)', 'Offline voice package', 'Continue']\n['Author:', 'Lapostolle', '福建·武夷山', 'Begin']\ncom.zheye\n/mnt/H_DRIVE/FlowIntent/Location/0/4/com.zheye\n生活实用 私教帮-教练\n['登录', '账号', '请输入手机号', '密码', '我已阅读并同意', '免责声明', '登录', '快速注册', '忘记密码']\ncom.zhongsou.hyttg\n/mnt/H_DRIVE/FlowIntent/Location/0/4/com.zhongsou.hyttg\n"
     ]
    },
    {
     "name": "stdout",
     "output_type": "stream",
     "text": [
      "生活实用 铁锅\n['铁锅', '首页', '新闻动态', '相关微博', '相关图片', '相关产品', '首页', '行业资讯', '供应商机', '企业黄页']\nfind.shoujihonor7.nice\n/mnt/H_DRIVE/FlowIntent/Location/0/4/find.shoujihonor7.nice\n生活实用 荣耀7精选导航\n['荣耀7', '荣耀7官网', '荣耀7论坛', '荣耀7综述', '荣耀7贴吧', '荣耀7微博', '荣耀系列百科', '荣耀7答疑', '荣耀7参数', '荣耀7全网通', '荣耀7报价', '购机必读', '荣耀7公里', '荣耀7资讯', '荣耀7欣赏', '官网查询', '荣耀手机维修', '全国维修点', '华为客服电话', '荣耀精选', '荣耀配件', '荣耀7上一代', '老机6Plus吧', '荣耀7比对', '荣耀7拆解', '荣耀7小米5', '魅族VS荣耀']\ncom.ishehui.xs\n/mnt/H_DRIVE/FlowIntent/Location/0/4/com.ishehui.xs\n"
     ]
    },
    {
     "name": "stdout",
     "output_type": "stream",
     "text": [
      "生活实用 饭团-许嵩\n['News', 'Fans', '1367', 'Group', '新闻', '视频', '照片', '71', '粉丝', '贴吧', 'Fans', 'Sign in ranking:1000', '0', 'Signin', '【福利】买会员，送1200米币！就两天！', '925', 'Support 216 flowers', '6People Support', '【高考ing】这不是鸡汤文，我才不会烹鸡汤！ ', '【饭团官方活动】要啥给啥！先签到！']\ncom.tixa.industry.search2c9480b74e0b16d8014e1eee70402182\n/mnt/H_DRIVE/FlowIntent/Location/0/4/com.tixa.industry.search2c9480b74e0b16d8014e1eee70402182\n生活实用 重庆挂面\n['重庆挂面', '请输入关键词', '资讯', '供应', '黄页', '商机', '[资讯]', '[公告]丰原药业：发行股份购买资产并募集配套资金报告书（草案）摘要', '[资讯]', '直肠炎在不同阶段的调养注意事项', '[供应]', '长乐有机挂面刀削面小麦粉面条不含盐纯天然无添加挂面东北特产', '[商机]', '2015-2020年中国挂面产业园区发展规划及招商引资咨询报告', '主页', '热点', '问答', '我的', '设置']\ncom.mi8so.js_assistant\n/mnt/H_DRIVE/FlowIntent/Location/0/4/com.mi8so.js_assistant\n生活实用 面包树职业圈\n[]\n[]\ncom.jh.APP927176f44f6b4a6584c9351f71bbf22f.news\n/mnt/H_DRIVE/FlowIntent/Location/0/4/com.jh.APP927176f44f6b4a6584c9351f71bbf22f.news\n \n['广告网', '新闻资讯', '展会信息', '创意广告', '供求信息', '广告品牌', '广告公司', '首页', '搜索', '更多']\n['广告网', '新闻资讯', '展会信息', '创意广告', '供求信息', '广告品牌', '广告公司', '首页', '搜索', '更多']\ncom.awt.sxpygc\n/mnt/H_DRIVE/FlowIntent/Location/0/4/com.awt.sxpygc\n"
     ]
    },
    {
     "name": "stdout",
     "output_type": "stream",
     "text": [
      "生活实用 听游平遥古城\n['Speech mode', 'Online TTS', 'Use directly and will consume mobile data.', 'TTS offline package(not downloaded,10M)', 'Download TTS engine once and will be used for all apps!', 'True voice(not downloaded,30M)', 'Offline voice package', 'Continue']\n['山西·平遥古城', '20', '11', '8', '7', '14', 'Menu', 'Start', 'Guide']\ncom.jingshi.ixuehao\n/mnt/H_DRIVE/FlowIntent/Location/0/4/com.jingshi.ixuehao\n生活实用 爱学号\n[]\n[]\ncom.zskj.aljzstnjl\n/mnt/H_DRIVE/FlowIntent/Location/0/4/com.zskj.aljzstnjl\n生活实用 罗家庄生态农家乐\n[]\ncom.tixa.industry.search2c9480b74cd4873c014ce02a59ac05cd\n/mnt/H_DRIVE/FlowIntent/Location/0/4/com.tixa.industry.search2c9480b74cd4873c014ce02a59ac05cd\n生活实用 锂电池采购\n['锂电池采购', '请输入关键词', '资讯', '供应', '黄页', '商机', '[商机]', '&ldquo;中国制造2025&rdquo;呼之欲出 概念股价值解析', '[供应]', '博世 充电锂电池 10.8V', '[资讯]', '宝马5系GT氢燃料电池版官图 续航超500km', '[资讯]', '可植入银行卡的电池可无线充电的充电器', '主页', '热点', '问答', '我的', '设置']\ncom.xmiao.circle\n/mnt/H_DRIVE/FlowIntent/Location/0/4/com.xmiao.circle\n"
     ]
    },
    {
     "name": "stdout",
     "output_type": "stream",
     "text": [
      "生活实用 亲密360\n[]\n[]\ncom.app.sister\n/mnt/H_DRIVE/FlowIntent/Location/0/4/com.app.sister\n \n['小妹妹']\ncom.hogesoft.android.changzhou\n/mnt/H_DRIVE/FlowIntent/Location/0/4/com.hogesoft.android.changzhou\n生活实用 无线常州\n[]\ncom.zhaiker.stepper\n/mnt/H_DRIVE/FlowIntent/Location/0/4/com.zhaiker.stepper\n生活实用 宅客运动\n['请输入手机号', '登\\xa0\\xa0\\xa0\\xa0\\xa0\\xa0\\xa0\\xa0录', '注册用户', '忘记密码']\n['请输入手机号']\ncom.droidpiggy.weiqi\n/mnt/H_DRIVE/FlowIntent/Location/0/4/com.droidpiggy.weiqi\n"
     ]
    },
    {
     "name": "stdout",
     "output_type": "stream",
     "text": [
      "生活实用 围棋宝典\n[]\n[]\ncom.malangstudio.alarmmon\n/mnt/H_DRIVE/FlowIntent/Location/0/4/com.malangstudio.alarmmon\n \n[]\n['AM', 'PM', '07:30', 'Weekdays', 'AM', 'PM', '09:00', 'Weekends']\n['AM', 'PM', '07:30', 'Weekdays', 'AM', 'PM', '09:00', 'Weekends']\ncom.jhgutraj.kjdrtwt\n/mnt/H_DRIVE/FlowIntent/Location/0/4/com.jhgutraj.kjdrtwt\n \n[]\n[]\ncc.laowantong.gcw\n/mnt/H_DRIVE/FlowIntent/Location/0/4/cc.laowantong.gcw\n生活实用 就爱广场舞\n['就爱广场舞', '首页', '达人', '舞友圈', '我的']\ncom.iym.youngleyuan\n/mnt/H_DRIVE/FlowIntent/Location/0/4/com.iym.youngleyuan\n生活实用 儿童乐园\n['免费体验']\ncom.dareyan.eve\n/mnt/H_DRIVE/FlowIntent/Location/0/4/com.dareyan.eve\n"
     ]
    },
    {
     "name": "stdout",
     "output_type": "stream",
     "text": [
      "生活实用 小言高考2015\n['New version found', 'Latest version: 1.6\\nTarget size: 5.89M\\nUpdate size: 1.95M\\n\\nUpdate Content\\n1、修复推荐评价无法显示bug。\\r\\n2、增加资讯即时推送。\\r\\n3、修复bug。\\n', 'Ingore this', 'Update now', 'Not now']\n['小言', '推荐大学', '推荐专业', '我的关注', '中国210所“野鸡大学”名单披露  中国邮电大学？也是醉了！', '又是一年高考时，考大学千万别被高大上的学校名字给骗了！下面是国内210所不具招生资格、没有办学资质、涉嫌非法招生和网络诈骗的虚假大学，请大家擦亮眼。\\r\\n又是一年高考时，考大学千万别被高大上的学校名字给骗了！下面是国内210所不具招生资格、没有办学资质、涉嫌非法招生和网络诈骗的虚假大学，请大家擦亮眼。\\r\\n又是一年高考时，考大学千万别被高大上的学校名字给骗了！下面是国内210所不具招生资格、没有办学资质、涉嫌非法招生和网络诈骗的虚假大学，请大家擦亮眼。', '更多', '小言高考问答', '你好，请问有什么可以帮助你的？', '小言', '大学', '专业', '讨论']\n['New version found', 'Latest version: 1.6\\nTarget size: 5.89M\\nUpdate size: 1.95M\\n\\nUpdate Content\\n1、修复推荐评价无法显示bug。\\r\\n2、增加资讯即时推送。\\r\\n3、修复bug。\\n', 'Ingore this', 'Update now', 'Not now']\n/mnt/H_DRIVE/FlowIntent/Location/0\n/mnt/H_DRIVE/FlowIntent/Location/0\n/mnt/H_DRIVE/FlowIntent/Location/0\n/mnt/H_DRIVE/FlowIntent/Location/0\n/mnt/H_DRIVE/FlowIntent/Location/0\n/mnt/H_DRIVE/FlowIntent/Location/0\n/mnt/H_DRIVE/FlowIntent/Location/0\n/mnt/H_DRIVE/FlowIntent/Location/0\n/mnt/H_DRIVE/FlowIntent/Location/0\n/mnt/H_DRIVE/FlowIntent/Location/0\n/mnt/H_DRIVE/FlowIntent/Location/0\ncom.msg.xiaohua\n/mnt/H_DRIVE/FlowIntent/Location/0/4/com.msg.xiaohua/com.msg.xiaohua\n生活实用 笑话全集\n['立即体验']\n/mnt/H_DRIVE/FlowIntent/Location/0\n/mnt/H_DRIVE/FlowIntent/Location/0\n/mnt/H_DRIVE/FlowIntent/Location/0\n/mnt/H_DRIVE/FlowIntent/Location/0\n/mnt/H_DRIVE/FlowIntent/Location/0\n/mnt/H_DRIVE/FlowIntent/Location/0\n/mnt/H_DRIVE/FlowIntent/Location/0\n/mnt/H_DRIVE/FlowIntent/Location/0\n/mnt/H_DRIVE/FlowIntent/Location/0\n/mnt/H_DRIVE/FlowIntent/Location/0\n/mnt/H_DRIVE/FlowIntent/Location/0\n/mnt/H_DRIVE/FlowIntent/Location/0\n/mnt/H_DRIVE/FlowIntent/Location/0\n/mnt/H_DRIVE/FlowIntent/Location/0\n/mnt/H_DRIVE/FlowIntent/Location/0\n/mnt/H_DRIVE/FlowIntent/Location/0\n/mnt/H_DRIVE/FlowIntent/Location/0\n/mnt/H_DRIVE/FlowIntent/Location/0\n/mnt/H_DRIVE/FlowIntent/Location/0\n/mnt/H_DRIVE/FlowIntent/Location/0\n/mnt/H_DRIVE/FlowIntent/Location/0\n/mnt/H_DRIVE/FlowIntent/Location/0\ncn.edaijia.android.client\n/mnt/H_DRIVE/FlowIntent/Location/0/4/cn.edaijia.android.client/cn.edaijia.android.client\n生活实用 e代驾\n['跳过']\n/mnt/H_DRIVE/FlowIntent/Location/0\n/mnt/H_DRIVE/FlowIntent/Location/0\n/mnt/H_DRIVE/FlowIntent/Location/0\n/mnt/H_DRIVE/FlowIntent/Location/0\n/mnt/H_DRIVE/FlowIntent/Location/0\n/mnt/H_DRIVE/FlowIntent/Location/0\n/mnt/H_DRIVE/FlowIntent/Location/0\n/mnt/H_DRIVE/FlowIntent/Location/0\n/mnt/H_DRIVE/FlowIntent/Location/0\ncom.amiee.client\n/mnt/H_DRIVE/FlowIntent/Location/0/4/com.amiee.client/com.amiee.client\n"
     ]
    },
    {
     "name": "stdout",
     "output_type": "stream",
     "text": [
      "生活实用 美疯啦\n[]\n/mnt/H_DRIVE/FlowIntent/Location/0\n/mnt/H_DRIVE/FlowIntent/Location/0\n/mnt/H_DRIVE/FlowIntent/Location/0\n/mnt/H_DRIVE/FlowIntent/Location/0\n/mnt/H_DRIVE/FlowIntent/Location/0\n/mnt/H_DRIVE/FlowIntent/Location/0\n/mnt/H_DRIVE/FlowIntent/Location/0\n/mnt/H_DRIVE/FlowIntent/Location/0\n/mnt/H_DRIVE/FlowIntent/Location/0\n/mnt/H_DRIVE/FlowIntent/Location/0\n/mnt/H_DRIVE/FlowIntent/Location/0\n/mnt/H_DRIVE/FlowIntent/Location/0\n/mnt/H_DRIVE/FlowIntent/Location/0\n/mnt/H_DRIVE/FlowIntent/Location/0\ncom.lingan.seeyou\n/mnt/H_DRIVE/FlowIntent/Location/0/4/com.lingan.seeyou/com.lingan.seeyou\n生活实用 美柚-经期助手\n['请选择状态', '我要记经期  ', '我在备孕  ', '我怀孕了  ', '我是辣妈  ', '下一步', '已经有账号了,直接登录']\n/mnt/H_DRIVE/FlowIntent/Location/0\n/mnt/H_DRIVE/FlowIntent/Location/0\n/mnt/H_DRIVE/FlowIntent/Location/0\n/mnt/H_DRIVE/FlowIntent/Location/0\n/mnt/H_DRIVE/FlowIntent/Location/0\n/mnt/H_DRIVE/FlowIntent/Location/0\n/mnt/H_DRIVE/FlowIntent/Location/0\n/mnt/H_DRIVE/FlowIntent/Location/0\n/mnt/H_DRIVE/FlowIntent/Location/0\n/mnt/H_DRIVE/FlowIntent/Location/0\n/mnt/H_DRIVE/FlowIntent/Location/0\n/mnt/H_DRIVE/FlowIntent/Location/0\n/mnt/H_DRIVE/FlowIntent/Location/0\n/mnt/H_DRIVE/FlowIntent/Location/0\ncn.knowone.dreammaster\n/mnt/H_DRIVE/FlowIntent/Location/0/4/cn.knowone.dreammaster/cn.knowone.dreammaster\n生活实用 解梦大师\n[]\n/mnt/H_DRIVE/FlowIntent/Location/0\n/mnt/H_DRIVE/FlowIntent/Location/0\n/mnt/H_DRIVE/FlowIntent/Location/0\ncn.mama.activity\n/mnt/H_DRIVE/FlowIntent/Location/0/4/cn.mama.activity/cn.mama.activity\n生活实用 妈妈圈\n"
     ]
    },
    {
     "name": "stdout",
     "output_type": "stream",
     "text": [
      "['微信登录', 'QQ登录', '微博登录', '已有账号登录', '立即注册', '孕育神器', '十年专业知识和真实经验分享']\n/mnt/H_DRIVE/FlowIntent/Location/0\n/mnt/H_DRIVE/FlowIntent/Location/0\n/mnt/H_DRIVE/FlowIntent/Location/0\n/mnt/H_DRIVE/FlowIntent/Location/0\ncn.bluecrane.calendar\n/mnt/H_DRIVE/FlowIntent/Location/0/4/cn.bluecrane.calendar/cn.bluecrane.calendar\n生活实用 万年历黄历\n['2015年07月', '乙未年(羊年)', '日', '一', '二', '三', '四', '五', '六', '1', '建党日', '2', '十七', '3', '十八', '4', '十九', '5', '二十', '6', '廿一', '7', '小暑', '8', '廿三', '9', '廿四', '10', '廿五', '11', '廿六', '12', '廿七', '13', '初伏', '14', '廿九', '15', '三十', '16', '六月', '17', '初二', '18', '初三', '19', '初四', '20', '初五', '21', '初六', '22', '初七', '23', '大暑', '24', '初九', '25', '初十', '26', '十一', '27', '十二', '28', '十三', '29', '十四', '30', '十五', '31', '十六', '备忘', '天气', '资讯', '设置']\n/mnt/H_DRIVE/FlowIntent/Location/0\n/mnt/H_DRIVE/FlowIntent/Location/0\n/mnt/H_DRIVE/FlowIntent/Location/0\n/mnt/H_DRIVE/FlowIntent/Location/0\n/mnt/H_DRIVE/FlowIntent/Location/0\n/mnt/H_DRIVE/FlowIntent/Location/0\n/mnt/H_DRIVE/FlowIntent/Location/0\n/mnt/H_DRIVE/FlowIntent/Location/0\n/mnt/H_DRIVE/FlowIntent/Location/0\n"
     ]
    },
    {
     "name": "stdout",
     "output_type": "stream",
     "text": [
      "/mnt/H_DRIVE/FlowIntent/Location/0\n/mnt/H_DRIVE/FlowIntent/Location/0\n/mnt/H_DRIVE/FlowIntent/Location/0\n/mnt/H_DRIVE/FlowIntent/Location/0\n/mnt/H_DRIVE/FlowIntent/Location/0\n/mnt/H_DRIVE/FlowIntent/Location/0\n/mnt/H_DRIVE/FlowIntent/Location/0\n/mnt/H_DRIVE/FlowIntent/Location/0\n/mnt/H_DRIVE/FlowIntent/Location/0\n/mnt/H_DRIVE/FlowIntent/Location/0\n/mnt/H_DRIVE/FlowIntent/Location/0\n/mnt/H_DRIVE/FlowIntent/Location/0\n/mnt/H_DRIVE/FlowIntent/Location/0\ncom.carsmart.emaintain\n/mnt/H_DRIVE/FlowIntent/Location/0/4/com.carsmart.emaintain/com.carsmart.emaintain\n生活实用 养车宝\n['选择品牌', '老用户登录', 'A', '阿尔法罗密欧', '安凯客车', '奥迪', '阿斯顿・马丁', 'B', '巴博斯', '宝骏', '宝马', '保时捷']\n/mnt/H_DRIVE/FlowIntent/Location/0\n/mnt/H_DRIVE/FlowIntent/Location/0\n/mnt/H_DRIVE/FlowIntent/Location/0\n/mnt/H_DRIVE/FlowIntent/Location/0\n/mnt/H_DRIVE/FlowIntent/Location/0\n/mnt/H_DRIVE/FlowIntent/Location/0\n/mnt/H_DRIVE/FlowIntent/Location/0\ncom.liuwei.zhongyi\n/mnt/H_DRIVE/FlowIntent/Location/0/4/com.liuwei.zhongyi/com.liuwei.zhongyi\n生活实用 老中医\n[]\n['Unfortunately, 老中医 has stopped.', 'OK']\n/mnt/H_DRIVE/FlowIntent/Location/0\n/mnt/H_DRIVE/FlowIntent/Location/0\n/mnt/H_DRIVE/FlowIntent/Location/0\n/mnt/H_DRIVE/FlowIntent/Location/0\n/mnt/H_DRIVE/FlowIntent/Location/0\n/mnt/H_DRIVE/FlowIntent/Location/0\n/mnt/H_DRIVE/FlowIntent/Location/0\n/mnt/H_DRIVE/FlowIntent/Location/0\n/mnt/H_DRIVE/FlowIntent/Location/0\ncom.tiema.zhwl_android\n/mnt/H_DRIVE/FlowIntent/Location/0/4/com.tiema.zhwl_android/com.tiema.zhwl_android\n生活实用 中储智运\n"
     ]
    },
    {
     "name": "stdout",
     "output_type": "stream",
     "text": [
      "['用户登录', '输入手机号/帐号', '注册', '忘记密码']\n/mnt/H_DRIVE/FlowIntent/Location/0\n/mnt/H_DRIVE/FlowIntent/Location/0\n/mnt/H_DRIVE/FlowIntent/Location/0\n/mnt/H_DRIVE/FlowIntent/Location/0\n/mnt/H_DRIVE/FlowIntent/Location/0\n/mnt/H_DRIVE/FlowIntent/Location/0\n/mnt/H_DRIVE/FlowIntent/Location/0\n/mnt/H_DRIVE/FlowIntent/Location/0\n/mnt/H_DRIVE/FlowIntent/Location/0\ncom.lietou.mishu\n/mnt/H_DRIVE/FlowIntent/Location/0/4/com.lietou.mishu/com.lietou.mishu\n生活实用 猎聘同道\n[]\n/mnt/H_DRIVE/FlowIntent/Location/0\n/mnt/H_DRIVE/FlowIntent/Location/0\nedu.testpaper\n/mnt/H_DRIVE/FlowIntent/Location/0/4/edu.testpaper/edu.testpaper\n生活实用 试卷成像\n['点击看板进入']\n/mnt/H_DRIVE/FlowIntent/Location/0\n/mnt/H_DRIVE/FlowIntent/Location/0\n/mnt/H_DRIVE/FlowIntent/Location/0\n/mnt/H_DRIVE/FlowIntent/Location/0\n/mnt/H_DRIVE/FlowIntent/Location/0\n/mnt/H_DRIVE/FlowIntent/Location/0\n/mnt/H_DRIVE/FlowIntent/Location/0\n/mnt/H_DRIVE/FlowIntent/Location/0\n/mnt/H_DRIVE/FlowIntent/Location/0\n/mnt/H_DRIVE/FlowIntent/Location/0\n/mnt/H_DRIVE/FlowIntent/Location/0\n/mnt/H_DRIVE/FlowIntent/Location/0\n/mnt/H_DRIVE/FlowIntent/Location/0\n/mnt/H_DRIVE/FlowIntent/Location/0\n/mnt/H_DRIVE/FlowIntent/Location/0\nqsbk.app\n/mnt/H_DRIVE/FlowIntent/Location/0/4/qsbk.app/qsbk.app\n"
     ]
    },
    {
     "name": "stdout",
     "output_type": "stream",
     "text": [
      "生活实用 糗事百科\n['新版本：7.1.1', '1. 新增群组功能！ \\n2. 小纸条添加语音功能，畅聊high不停！ \\n3. 糗友秀消息实时通知，一切尽在掌握！\\n4. 糗事新增分享到QQ空间', '跳过此版本', '稍后提醒', '立即下载']\n/mnt/H_DRIVE/FlowIntent/Location/0\n/mnt/H_DRIVE/FlowIntent/Location/0\n/mnt/H_DRIVE/FlowIntent/Location/0\n/mnt/H_DRIVE/FlowIntent/Location/0\n/mnt/H_DRIVE/FlowIntent/Location/0\n/mnt/H_DRIVE/FlowIntent/Location/0\n/mnt/H_DRIVE/FlowIntent/Location/0\n/mnt/H_DRIVE/FlowIntent/Location/0\n/mnt/H_DRIVE/FlowIntent/Location/0\n/mnt/H_DRIVE/FlowIntent/Location/0\n/mnt/H_DRIVE/FlowIntent/Location/0\n/mnt/H_DRIVE/FlowIntent/Location/0\n/mnt/H_DRIVE/FlowIntent/Location/0\n/mnt/H_DRIVE/FlowIntent/Location/0\n/mnt/H_DRIVE/FlowIntent/Location/0\n/mnt/H_DRIVE/FlowIntent/Location/0\n/mnt/H_DRIVE/FlowIntent/Location/0\ncom.quanneng.flashLed\n/mnt/H_DRIVE/FlowIntent/Location/0/4/com.quanneng.flashLed/com.quanneng.flashLed\n生活实用 多功能手电筒\n[]\n[]\n['立即体验']\n/mnt/H_DRIVE/FlowIntent/Location/0\n/mnt/H_DRIVE/FlowIntent/Location/0\n/mnt/H_DRIVE/FlowIntent/Location/0\n/mnt/H_DRIVE/FlowIntent/Location/0\n/mnt/H_DRIVE/FlowIntent/Location/0\n/mnt/H_DRIVE/FlowIntent/Location/0\n/mnt/H_DRIVE/FlowIntent/Location/0\n/mnt/H_DRIVE/FlowIntent/Location/0\n/mnt/H_DRIVE/FlowIntent/Location/0\n/mnt/H_DRIVE/FlowIntent/Location/0\n/mnt/H_DRIVE/FlowIntent/Location/0\n/mnt/H_DRIVE/FlowIntent/Location/0\n/mnt/H_DRIVE/FlowIntent/Location/0\n/mnt/H_DRIVE/FlowIntent/Location/0\n/mnt/H_DRIVE/FlowIntent/Location/0\n/mnt/H_DRIVE/FlowIntent/Location/0\n/mnt/H_DRIVE/FlowIntent/Location/0\n/mnt/H_DRIVE/FlowIntent/Location/0\n/mnt/H_DRIVE/FlowIntent/Location/0\n/mnt/H_DRIVE/FlowIntent/Location/0\n/mnt/H_DRIVE/FlowIntent/Location/0\n/mnt/H_DRIVE/FlowIntent/Location/0\n/mnt/H_DRIVE/FlowIntent/Location/0\n/mnt/H_DRIVE/FlowIntent/Location/0\n/mnt/H_DRIVE/FlowIntent/Location/0\n/mnt/H_DRIVE/FlowIntent/Location/0\n/mnt/H_DRIVE/FlowIntent/Location/0\n/mnt/H_DRIVE/FlowIntent/Location/0\n/mnt/H_DRIVE/FlowIntent/Location/0\n/mnt/H_DRIVE/FlowIntent/Location/0\n/mnt/H_DRIVE/FlowIntent/Location/0\n/mnt/H_DRIVE/FlowIntent/Location/0\n/mnt/H_DRIVE/FlowIntent/Location/0\n/mnt/H_DRIVE/FlowIntent/Location/0\ncom.sitech.ac\n/mnt/H_DRIVE/FlowIntent/Location/0/4/com.sitech.ac/com.sitech.ac\n生活实用 掌上营业厅\n[]\n/mnt/H_DRIVE/FlowIntent/Location/0\n/mnt/H_DRIVE/FlowIntent/Location/0\n/mnt/H_DRIVE/FlowIntent/Location/0\n/mnt/H_DRIVE/FlowIntent/Location/0\n/mnt/H_DRIVE/FlowIntent/Location/0\n/mnt/H_DRIVE/FlowIntent/Location/0\n/mnt/H_DRIVE/FlowIntent/Location/0\n/mnt/H_DRIVE/FlowIntent/Location/0\n/mnt/H_DRIVE/FlowIntent/Location/0\n/mnt/H_DRIVE/FlowIntent/Location/0"
     ]
    },
    {
     "name": "stdout",
     "output_type": "stream",
     "text": [
      "\n/mnt/H_DRIVE/FlowIntent/Location/0\n/mnt/H_DRIVE/FlowIntent/Location/0\n/mnt/H_DRIVE/FlowIntent/Location/0\n/mnt/H_DRIVE/FlowIntent/Location/0\n/mnt/H_DRIVE/FlowIntent/Location/0\n/mnt/H_DRIVE/FlowIntent/Location/0\n/mnt/H_DRIVE/FlowIntent/Location/0\n/mnt/H_DRIVE/FlowIntent/Location/0\n/mnt/H_DRIVE/FlowIntent/Location/0\n/mnt/H_DRIVE/FlowIntent/Location/0\n/mnt/H_DRIVE/FlowIntent/Location/0\n/mnt/H_DRIVE/FlowIntent/Location/0\n/mnt/H_DRIVE/FlowIntent/Location/0\n/mnt/H_DRIVE/FlowIntent/Location/0\n/mnt/H_DRIVE/FlowIntent/Location/0\n/mnt/H_DRIVE/FlowIntent/Location/0\n/mnt/H_DRIVE/FlowIntent/Location/0\n/mnt/H_DRIVE/FlowIntent/Location/0\n/mnt/H_DRIVE/FlowIntent/Location/0\n/mnt/H_DRIVE/FlowIntent/Location/0\n/mnt/H_DRIVE/FlowIntent/Location/0\n/mnt/H_DRIVE/FlowIntent/Location/0\n/mnt/H_DRIVE/FlowIntent/Location/0\n/mnt/H_DRIVE/FlowIntent/Location/0\n/mnt/H_DRIVE/FlowIntent/Location/0\n/mnt/H_DRIVE/FlowIntent/Location/0\n/mnt/H_DRIVE/FlowIntent/Location/0\n/mnt/H_DRIVE/FlowIntent/Location/0\n/mnt/H_DRIVE/FlowIntent/Location/0\n/mnt/H_DRIVE/FlowIntent/Location/0\n/mnt/H_DRIVE/FlowIntent/Location/0\n/mnt/H_DRIVE/FlowIntent/Location/0\n/mnt/H_DRIVE/FlowIntent/Location/0\n/mnt/H_DRIVE/FlowIntent/Location/0\n/mnt/H_DRIVE/FlowIntent/Location/0\n/mnt/H_DRIVE/FlowIntent/Location/0\n/mnt/H_DRIVE/FlowIntent/Location/0\n/mnt/H_DRIVE/FlowIntent/Location/0\n/mnt/H_DRIVE/FlowIntent/Location/0\n/mnt/H_DRIVE/FlowIntent/Location/0\ncom.yaolan.expect\n/mnt/H_DRIVE/FlowIntent/Location/0/4/com.yaolan.expect/com.yaolan.expect\n生活实用 摇篮孕育\n[]\n/mnt/H_DRIVE/FlowIntent/Location/0\n/mnt/H_DRIVE/FlowIntent/Location/0\n/mnt/H_DRIVE/FlowIntent/Location/0\n/mnt/H_DRIVE/FlowIntent/Location/0\n/mnt/H_DRIVE/FlowIntent/Location/0\n/mnt/H_DRIVE/FlowIntent/Location/0\n/mnt/H_DRIVE/FlowIntent/Location/0\n/mnt/H_DRIVE/FlowIntent/Location/0\n/mnt/H_DRIVE/FlowIntent/Location/0\n/mnt/H_DRIVE/FlowIntent/Location/0\n/mnt/H_DRIVE/FlowIntent/Location/0\n/mnt/H_DRIVE/FlowIntent/Location/0\n/mnt/H_DRIVE/FlowIntent/Location/0\n/mnt/H_DRIVE/FlowIntent/Location/0\n/mnt/H_DRIVE/FlowIntent/Location/0\n/mnt/H_DRIVE/FlowIntent/Location/0\n/mnt/H_DRIVE/FlowIntent/Location/0\n/mnt/H_DRIVE/FlowIntent/Location/0\n/mnt/H_DRIVE/FlowIntent/Location/0\n/mnt/H_DRIVE/FlowIntent/Location/0\n/mnt/H_DRIVE/FlowIntent/Location/0\n/mnt/H_DRIVE/FlowIntent/Location/0\n/mnt/H_DRIVE/FlowIntent/Location/0\n/mnt/H_DRIVE/FlowIntent/Location/0\n/mnt/H_DRIVE/FlowIntent/Location/0\n/mnt/H_DRIVE/FlowIntent/Location/0\n/mnt/H_DRIVE/FlowIntent/Location/0\n/mnt/H_DRIVE/FlowIntent/Location/0\ncom.anve.bumblebeeapp\n/mnt/H_DRIVE/FlowIntent/Location/0/4/com.anve.bumblebeeapp/com.anve.bumblebeeapp\n"
     ]
    },
    {
     "name": "stdout",
     "output_type": "stream",
     "text": [
      " \n[]\n/mnt/H_DRIVE/FlowIntent/Location/0\n/mnt/H_DRIVE/FlowIntent/Location/0\n/mnt/H_DRIVE/FlowIntent/Location/0\n/mnt/H_DRIVE/FlowIntent/Location/0\n/mnt/H_DRIVE/FlowIntent/Location/0\n/mnt/H_DRIVE/FlowIntent/Location/0\n/mnt/H_DRIVE/FlowIntent/Location/0\n/mnt/H_DRIVE/FlowIntent/Location/0\n/mnt/H_DRIVE/FlowIntent/Location/0\n/mnt/H_DRIVE/FlowIntent/Location/0\n/mnt/H_DRIVE/FlowIntent/Location/0\n/mnt/H_DRIVE/FlowIntent/Location/0\n/mnt/H_DRIVE/FlowIntent/Location/0\n/mnt/H_DRIVE/FlowIntent/Location/0\n/mnt/H_DRIVE/FlowIntent/Location/0\n/mnt/H_DRIVE/FlowIntent/Location/0\ncom.xxwolo.cc5\n/mnt/H_DRIVE/FlowIntent/Location/0/4/com.xxwolo.cc5/com.xxwolo.cc5\n \n['独特运势', '个人化的智能运势', '微信快速登录', '微博快速登录', '登录', '注册']\n['精准星盘', '最专业最靠谱的中文占星工具\\n上升星座，月亮星座都帮你一一解读\\n月运，年运都可从盘中得到启示', '微信一键登录', '已有账户登录', '随便看看']\n/mnt/H_DRIVE/FlowIntent/Location/0\n/mnt/H_DRIVE/FlowIntent/Location/0\ncom.douguo.recipe\n/mnt/H_DRIVE/FlowIntent/Location/0/4/com.douguo.recipe/com.douguo.recipe\n生活实用 豆果美食\n['搜索菜谱、食材、用户', '匠心独运 豆沙一口酥', '你心中炒饭什么模样？', '乐悠厨房', '好友动态', '食谱', '圈圈', '优食汇', '我的']\n/mnt/H_DRIVE/FlowIntent/Location/0\n/mnt/H_DRIVE/FlowIntent/Location/0\n/mnt/H_DRIVE/FlowIntent/Location/0\n/mnt/H_DRIVE/FlowIntent/Location/0\n/mnt/H_DRIVE/FlowIntent/Location/0\n/mnt/H_DRIVE/FlowIntent/Location/0\n/mnt/H_DRIVE/FlowIntent/Location/0\n/mnt/H_DRIVE/FlowIntent/Location/0\n/mnt/H_DRIVE/FlowIntent/Location/0\n/mnt/H_DRIVE/FlowIntent/Location/0\n/mnt/H_DRIVE/FlowIntent/Location/0\n/mnt/H_DRIVE/FlowIntent/Location/0\n/mnt/H_DRIVE/FlowIntent/Location/0\ncom.qyli\n/mnt/H_DRIVE/FlowIntent/Location/0/4/com.qyli/com.qyli\n生活实用 清一丽\n[]\n/mnt/H_DRIVE/FlowIntent/Location/0\n/mnt/H_DRIVE/FlowIntent/Location/0\n/mnt/H_DRIVE/FlowIntent/Location/0\ncom.hotdu.kingbugua\n/mnt/H_DRIVE/FlowIntent/Location/0/4/com.hotdu.kingbugua/com.hotdu.kingbugua\n"
     ]
    },
    {
     "name": "stdout",
     "output_type": "stream",
     "text": [
      "生活实用 卜卦神器\n['求  卦']\n/mnt/H_DRIVE/FlowIntent/Location/0\n/mnt/H_DRIVE/FlowIntent/Location/0\n/mnt/H_DRIVE/FlowIntent/Location/0\n/mnt/H_DRIVE/FlowIntent/Location/0\ncom.hnjc.dl\n/mnt/H_DRIVE/FlowIntent/Location/0/4/com.hnjc.dl/com.hnjc.dl\n生活实用 多锐运动\n['登 录', '注册', '马上试用']\n/mnt/H_DRIVE/FlowIntent/Location/0\n/mnt/H_DRIVE/FlowIntent/Location/0\n/mnt/H_DRIVE/FlowIntent/Location/0\n/mnt/H_DRIVE/FlowIntent/Location/0\n/mnt/H_DRIVE/FlowIntent/Location/0\n/mnt/H_DRIVE/FlowIntent/Location/0\n/mnt/H_DRIVE/FlowIntent/Location/0\n/mnt/H_DRIVE/FlowIntent/Location/0\n/mnt/H_DRIVE/FlowIntent/Location/0\n/mnt/H_DRIVE/FlowIntent/Location/0\n/mnt/H_DRIVE/FlowIntent/Location/0\n/mnt/H_DRIVE/FlowIntent/Location/0\n/mnt/H_DRIVE/FlowIntent/Location/0\n/mnt/H_DRIVE/FlowIntent/Location/0\n/mnt/H_DRIVE/FlowIntent/Location/0\n/mnt/H_DRIVE/FlowIntent/Location/0\n/mnt/H_DRIVE/FlowIntent/Location/0\n/mnt/H_DRIVE/FlowIntent/Location/0\n/mnt/H_DRIVE/FlowIntent/Location/0\n/mnt/H_DRIVE/FlowIntent/Location/0\n/mnt/H_DRIVE/FlowIntent/Location/0\n/mnt/H_DRIVE/FlowIntent/Location/0\n/mnt/H_DRIVE/FlowIntent/Location/0\n/mnt/H_DRIVE/FlowIntent/Location/0\n/mnt/H_DRIVE/FlowIntent/Location/0\n/mnt/H_DRIVE/FlowIntent/Location/0\n/mnt/H_DRIVE/FlowIntent/Location/0\n/mnt/H_DRIVE/FlowIntent/Location/0\n/mnt/H_DRIVE/FlowIntent/Location/0\n/mnt/H_DRIVE/FlowIntent/Location/0\n/mnt/H_DRIVE/FlowIntent/Location/0\n/mnt/H_DRIVE/FlowIntent/Location/0\ncom.sisoinfo.weitu\n/mnt/H_DRIVE/FlowIntent/Location/0/4/com.sisoinfo.weitu/com.sisoinfo.weitu\n"
     ]
    },
    {
     "name": "stdout",
     "output_type": "stream",
     "text": [
      "生活实用 维途导游\n['登录', '输入手机号码', '登录', '注册账号', '密码找回', '其他的登录方式']\n/mnt/H_DRIVE/FlowIntent/Location/0\n/mnt/H_DRIVE/FlowIntent/Location/0\n/mnt/H_DRIVE/FlowIntent/Location/0\n/mnt/H_DRIVE/FlowIntent/Location/0\n/mnt/H_DRIVE/FlowIntent/Location/0\n/mnt/H_DRIVE/FlowIntent/Location/0\n/mnt/H_DRIVE/FlowIntent/Location/0\n/mnt/H_DRIVE/FlowIntent/Location/0\n/mnt/H_DRIVE/FlowIntent/Location/0\n/mnt/H_DRIVE/FlowIntent/Location/0\n/mnt/H_DRIVE/FlowIntent/Location/0\ncom.gclassedu\n/mnt/H_DRIVE/FlowIntent/Location/0/4/com.gclassedu/com.gclassedu\n生活实用 金榜希望\n[]\n/mnt/H_DRIVE/FlowIntent/Location/0\n/mnt/H_DRIVE/FlowIntent/Location/0\n/mnt/H_DRIVE/FlowIntent/Location/0\n/mnt/H_DRIVE/FlowIntent/Location/0\n/mnt/H_DRIVE/FlowIntent/Location/0\n/mnt/H_DRIVE/FlowIntent/Location/0\n/mnt/H_DRIVE/FlowIntent/Location/0\n/mnt/H_DRIVE/FlowIntent/Location/0\n/mnt/H_DRIVE/FlowIntent/Location/0\n/mnt/H_DRIVE/FlowIntent/Location/0\n/mnt/H_DRIVE/FlowIntent/Location/0\n/mnt/H_DRIVE/FlowIntent/Location/0\n/mnt/H_DRIVE/FlowIntent/Location/0\n/mnt/H_DRIVE/FlowIntent/Location/0\n/mnt/H_DRIVE/FlowIntent/Location/0\n/mnt/H_DRIVE/FlowIntent/Location/0\n/mnt/H_DRIVE/FlowIntent/Location/0\n/mnt/H_DRIVE/FlowIntent/Location/0\ncom.kfit.teachergo\n/mnt/H_DRIVE/FlowIntent/Location/0/4/com.kfit.teachergo/com.kfit.teachergo\n生活实用 老师走起\n['手机号', '登录', '忘记密码', '还没有账号？来注册吧！']\n['手机号', '登录', '忘记密码', '还没有账号？来注册吧！']\n/mnt/H_DRIVE/FlowIntent/Location/0\n/mnt/H_DRIVE/FlowIntent/Location/0\n/mnt/H_DRIVE/FlowIntent/Location/0\n/mnt/H_DRIVE/FlowIntent/Location/0\ncom.liuwei.androidleyuan\n/mnt/H_DRIVE/FlowIntent/Location/0/4/com.liuwei.androidleyuan/com.liuwei.androidleyuan\n"
     ]
    },
    {
     "name": "stdout",
     "output_type": "stream",
     "text": [
      "生活实用 安卓儿童乐园\n['安卓儿童乐园', '鼓盆之戚', '鹏程万里', '鸡犬升天', '鸟尽弓藏', '高阳酒徒', '高山流水', '高屋建瓴', '骑虎难下']\n/mnt/H_DRIVE/FlowIntent/Location/0\n/mnt/H_DRIVE/FlowIntent/Location/0\n/mnt/H_DRIVE/FlowIntent/Location/0\n/mnt/H_DRIVE/FlowIntent/Location/0\n/mnt/H_DRIVE/FlowIntent/Location/0\n/mnt/H_DRIVE/FlowIntent/Location/0\n/mnt/H_DRIVE/FlowIntent/Location/0\n/mnt/H_DRIVE/FlowIntent/Location/0\ncom.jk37du.XiaoNiMei\n/mnt/H_DRIVE/FlowIntent/Location/0/4/com.jk37du.XiaoNiMei/com.jk37du.XiaoNiMei\n生活实用 搞笑妹子\n['妹子笑点测试中心欢迎您', '一个笑话，有人听了哈哈大笑乐不可支，', '有人听了一脸茫然不知所谓，', '妹子会根据测试结果，向您推荐最适合您口味的笑话。', '我不想测试']\n['妹子笑点测试中心欢迎您', '一个笑话，有人听了哈哈大笑乐不可支，', '有人听了一脸茫然不知所谓，', '妹子会根据测试结果，向您推荐最适合您口味的笑话。', '我不想测试']\n/mnt/H_DRIVE/FlowIntent/Location/0\n/mnt/H_DRIVE/FlowIntent/Location/0\n/mnt/H_DRIVE/FlowIntent/Location/0\n/mnt/H_DRIVE/FlowIntent/Location/0\n/mnt/H_DRIVE/FlowIntent/Location/0\n/mnt/H_DRIVE/FlowIntent/Location/0\n/mnt/H_DRIVE/FlowIntent/Location/0\n/mnt/H_DRIVE/FlowIntent/Location/0\n/mnt/H_DRIVE/FlowIntent/Location/0\n/mnt/H_DRIVE/FlowIntent/Location/0\n/mnt/H_DRIVE/FlowIntent/Location/0\n/mnt/H_DRIVE/FlowIntent/Location/0\ncom.beabox.hjy.tt\n/mnt/H_DRIVE/FlowIntent/Location/0/4/com.beabox.hjy.tt/com.beabox.hjy.tt\n生活实用 肌肤管家\n['随便看看 >>', '注册', '登录']\n/mnt/H_DRIVE/FlowIntent/Location/0\n/mnt/H_DRIVE/FlowIntent/Location/0\n/mnt/H_DRIVE/FlowIntent/Location/0\n/mnt/H_DRIVE/FlowIntent/Location/0\n/mnt/H_DRIVE/FlowIntent/Location/0\n/mnt/H_DRIVE/FlowIntent/Location/0\n/mnt/H_DRIVE/FlowIntent/Location/0\n/mnt/H_DRIVE/FlowIntent/Location/0\n/mnt/H_DRIVE/FlowIntent/Location/0\n/mnt/H_DRIVE/FlowIntent/Location/0\n/mnt/H_DRIVE/FlowIntent/Location/0\n/mnt/H_DRIVE/FlowIntent/Location/0\n/mnt/H_DRIVE/FlowIntent/Location/0\n/mnt/H_DRIVE/FlowIntent/Location/0\n/mnt/H_DRIVE/FlowIntent/Location/0\n/mnt/H_DRIVE/FlowIntent/Location/0\n/mnt/H_DRIVE/FlowIntent/Location/0\n/mnt/H_DRIVE/FlowIntent/Location/0\n/mnt/H_DRIVE/FlowIntent/Location/0\n/mnt/H_DRIVE/FlowIntent/Location/0\n/mnt/H_DRIVE/FlowIntent/Location/0\n/mnt/H_DRIVE/FlowIntent/Location/0\n/mnt/H_DRIVE/FlowIntent/Location/0\n/mnt/H_DRIVE/FlowIntent/Location/0\n/mnt/H_DRIVE/FlowIntent/Location/0\n/mnt/H_DRIVE/FlowIntent/Location/0\ncom.baidu.patient\n/mnt/H_DRIVE/FlowIntent/Location/0/4/com.bluedragonfly.view/com.baidu.patient\n"
     ]
    },
    {
     "name": "stdout",
     "output_type": "stream",
     "text": [
      "生活实用 百度医生\n[]\n['检测新版本', '检测到新版本，是否立即升级？', '暂不升级', '立即升级']\n[]\n/mnt/H_DRIVE/FlowIntent/Location/0\n/mnt/H_DRIVE/FlowIntent/Location/0\n/mnt/H_DRIVE/FlowIntent/Location/0\n/mnt/H_DRIVE/FlowIntent/Location/0\n/mnt/H_DRIVE/FlowIntent/Location/0\n/mnt/H_DRIVE/FlowIntent/Location/0\n/mnt/H_DRIVE/FlowIntent/Location/0\n/mnt/H_DRIVE/FlowIntent/Location/0\n/mnt/H_DRIVE/FlowIntent/Location/0\n/mnt/H_DRIVE/FlowIntent/Location/0\n/mnt/H_DRIVE/FlowIntent/Location/0\n/mnt/H_DRIVE/FlowIntent/Location/0\n/mnt/H_DRIVE/FlowIntent/Location/0\ncom.indulgesmart\n/mnt/H_DRIVE/FlowIntent/Location/0/4/com.indulgesmart/com.indulgesmart\n生活实用 Bon App!\n['Sign up to keep going!', 'Sign up with WeChat', 'Sign up with Email', 'already registed? log in here', 'Not Now,Thanks >']\n/mnt/H_DRIVE/FlowIntent/Location/0\n/mnt/H_DRIVE/FlowIntent/Location/0\n/mnt/H_DRIVE/FlowIntent/Location/0\n/mnt/H_DRIVE/FlowIntent/Location/0\n/mnt/H_DRIVE/FlowIntent/Location/0\n/mnt/H_DRIVE/FlowIntent/Location/0\n/mnt/H_DRIVE/FlowIntent/Location/0\n/mnt/H_DRIVE/FlowIntent/Location/0\n/mnt/H_DRIVE/FlowIntent/Location/0\n/mnt/H_DRIVE/FlowIntent/Location/0\npredictor.ui\n/mnt/H_DRIVE/FlowIntent/Location/0/4/predictor.ui/predictor.ui\n生活实用 灵占天下算命占卜\n['八字算命', '我的今日', '周公解夢', '月老牽線', '求籤斷事', '姓名解析', '開運指南', '靈占符閣']\n/mnt/H_DRIVE/FlowIntent/Location/0\n/mnt/H_DRIVE/FlowIntent/Location/0\n/mnt/H_DRIVE/FlowIntent/Location/0\n/mnt/H_DRIVE/FlowIntent/Location/0\n/mnt/H_DRIVE/FlowIntent/Location/0\n/mnt/H_DRIVE/FlowIntent/Location/0\n/mnt/H_DRIVE/FlowIntent/Location/0\n/mnt/H_DRIVE/FlowIntent/Location/0\n/mnt/H_DRIVE/FlowIntent/Location/0\n/mnt/H_DRIVE/FlowIntent/Location/0\n/mnt/H_DRIVE/FlowIntent/Location/0\n/mnt/H_DRIVE/FlowIntent/Location/0\n/mnt/H_DRIVE/FlowIntent/Location/0\n/mnt/H_DRIVE/FlowIntent/Location/0\n/mnt/H_DRIVE/FlowIntent/Location/0\n/mnt/H_DRIVE/FlowIntent/Location/0\n/mnt/H_DRIVE/FlowIntent/Location/0\ncom.iym.baygushi\n/mnt/H_DRIVE/FlowIntent/Location/0/4/com.iym.baygushi/com.iym.baygushi\n"
     ]
    },
    {
     "name": "stdout",
     "output_type": "stream",
     "text": [
      "生活实用 宝宝故事\n[]\n/mnt/H_DRIVE/FlowIntent/Location/0\n/mnt/H_DRIVE/FlowIntent/Location/0\n/mnt/H_DRIVE/FlowIntent/Location/0\n/mnt/H_DRIVE/FlowIntent/Location/0\n/mnt/H_DRIVE/FlowIntent/Location/0\n/mnt/H_DRIVE/FlowIntent/Location/0\n/mnt/H_DRIVE/FlowIntent/Location/0\n/mnt/H_DRIVE/FlowIntent/Location/0\n/mnt/H_DRIVE/FlowIntent/Location/0\n/mnt/H_DRIVE/FlowIntent/Location/0\n/mnt/H_DRIVE/FlowIntent/Location/0\ncom.lysoft.android.lyyd.report\n/mnt/H_DRIVE/FlowIntent/Location/0/4/com.lysoft.android.lyyd.report/com.lysoft.android.lyyd.report\n生活实用 奕报告\n['选择学校', '选好了你的学校就快进来吧', '奕学院', '广州城建职业学院', '玉溪师范学院', '宁波卫生职业技术学院', '广西民族大学']\n/mnt/H_DRIVE/FlowIntent/Location/0\n/mnt/H_DRIVE/FlowIntent/Location/0\n/mnt/H_DRIVE/FlowIntent/Location/0\n/mnt/H_DRIVE/FlowIntent/Location/0\n/mnt/H_DRIVE/FlowIntent/Location/0\n/mnt/H_DRIVE/FlowIntent/Location/0\n/mnt/H_DRIVE/FlowIntent/Location/0\n/mnt/H_DRIVE/FlowIntent/Location/0\n/mnt/H_DRIVE/FlowIntent/Location/0\n/mnt/H_DRIVE/FlowIntent/Location/0\n/mnt/H_DRIVE/FlowIntent/Location/0\n/mnt/H_DRIVE/FlowIntent/Location/0\n/mnt/H_DRIVE/FlowIntent/Location/0\n/mnt/H_DRIVE/FlowIntent/Location/0\n/mnt/H_DRIVE/FlowIntent/Location/0\n/mnt/H_DRIVE/FlowIntent/Location/0\nviva.reader\n/mnt/H_DRIVE/FlowIntent/Location/0/4/viva.reader/viva.reader\n生活实用 畅读\n['请选择主题颜色', '确定', '可在设置页中随时更改', '杂志', '频道', '热门媒体', '父母世界', '160754人订阅', '蜂鸟网', '215848人订阅', '知乎', '251871人订阅', '时尚']\n/mnt/H_DRIVE/FlowIntent/Location/0\n/mnt/H_DRIVE/FlowIntent/Location/0\n/mnt/H_DRIVE/FlowIntent/Location/0\n/mnt/H_DRIVE/FlowIntent/Location/0\n/mnt/H_DRIVE/FlowIntent/Location/0\n/mnt/H_DRIVE/FlowIntent/Location/0\n/mnt/H_DRIVE/FlowIntent/Location/0\ncom.midou.tchy.consignee\n/mnt/H_DRIVE/FlowIntent/Location/0/4/com.midou.tchy.consignee/com.midou.tchy.consignee\n"
     ]
    },
    {
     "name": "stdout",
     "output_type": "stream",
     "text": [
      "生活实用 1号货的司机版\n['手机号', '下次自动登录', '忘记密码？', '登录', '立即注册 ']\n/mnt/H_DRIVE/FlowIntent/Location/0\n/mnt/H_DRIVE/FlowIntent/Location/0\n/mnt/H_DRIVE/FlowIntent/Location/0\n/mnt/H_DRIVE/FlowIntent/Location/0\n/mnt/H_DRIVE/FlowIntent/Location/0\n/mnt/H_DRIVE/FlowIntent/Location/0\n/mnt/H_DRIVE/FlowIntent/Location/0\n/mnt/H_DRIVE/FlowIntent/Location/0\n/mnt/H_DRIVE/FlowIntent/Location/0\n/mnt/H_DRIVE/FlowIntent/Location/0\n/mnt/H_DRIVE/FlowIntent/Location/0\n/mnt/H_DRIVE/FlowIntent/Location/0\n/mnt/H_DRIVE/FlowIntent/Location/0\n/mnt/H_DRIVE/FlowIntent/Location/0\n/mnt/H_DRIVE/FlowIntent/Location/0\n/mnt/H_DRIVE/FlowIntent/Location/0\n/mnt/H_DRIVE/FlowIntent/Location/0\n/mnt/H_DRIVE/FlowIntent/Location/0\n/mnt/H_DRIVE/FlowIntent/Location/0\n/mnt/H_DRIVE/FlowIntent/Location/0\n/mnt/H_DRIVE/FlowIntent/Location/0\n/mnt/H_DRIVE/FlowIntent/Location/0\n/mnt/H_DRIVE/FlowIntent/Location/0\n/mnt/H_DRIVE/FlowIntent/Location/0\nVdloader\nPlankton\nDroidKungFu\nDroidKungFu4\nDroidKungFu3\n/mnt/H_DRIVE/FlowIntent/Location/0\nac0c677ee220d2f0b475b2128e6dedf6186d8389aca7c51f2e768c5bc28228fc\n/mnt/H_DRIVE/FlowIntent/Location/0/drebin/Vdloader/ac0c677ee220d2f0b475b2128e6dedf6186d8389aca7c51f2e768c5bc28228fc\n['欢迎使用本软件', '读取', '继续']\n91ff1dd717cfdd42e71f045d3614d15f9a396b0d4dc4d9af893fa4526db28279\n/mnt/H_DRIVE/FlowIntent/Location/0/drebin/Vdloader/91ff1dd717cfdd42e71f045d3614d15f9a396b0d4dc4d9af893fa4526db28279\n['欢迎使用本软件', '读取', '继续']\n/mnt/H_DRIVE/FlowIntent/Location/0\n/mnt/H_DRIVE/FlowIntent/Location/0\n/mnt/H_DRIVE/FlowIntent/Location/0\n4fca2064417bf4c9e96131aaa59021a56f6d01c18d74d085cf01cb9e9c4e6e25\n/mnt/H_DRIVE/FlowIntent/Location/0/drebin/Plankton/4fca2064417bf4c9e96131aaa59021a56f6d01c18d74d085cf01cb9e9c4e6e25\n['Funny Ringtones Collection - about']\ne0cab5bdee08ffcec684ced511d12fdef39a6be656572c7b3398d9b652a71008\n/mnt/H_DRIVE/FlowIntent/Location/0/drebin/Plankton/e0cab5bdee08ffcec684ced511d12fdef39a6be656572c7b3398d9b652a71008\n['Pro Ver']\n9f0eae9ec468aa98c38ac228393dd6071f3293e63bd8bf01569b3d8e6f43f83a\n/mnt/H_DRIVE/FlowIntent/Location/0/drebin/Plankton/9f0eae9ec468aa98c38ac228393dd6071f3293e63bd8bf01569b3d8e6f43f83a\n[]\n2de9ff3a5424c796e2bdfbfae637abe7a0306bc399dbd7e287ee6dbe0d9795f3\n/mnt/H_DRIVE/FlowIntent/Location/0/drebin/Plankton/2de9ff3a5424c796e2bdfbfae637abe7a0306bc399dbd7e287ee6dbe0d9795f3\n['SMS COLLECTION']\n/mnt/H_DRIVE/FlowIntent/Location/0\n/mnt/H_DRIVE/FlowIntent/Location/0\n/mnt/H_DRIVE/FlowIntent/Location/0\n/mnt/H_DRIVE/FlowIntent/Location/0\n/mnt/H_DRIVE/FlowIntent/Location/0\n1d09be5cc612b24fe83c3f1b37c88087d778dd5fd3f33e4f09df8eda990e41be\n/mnt/H_DRIVE/FlowIntent/Location/0/drebin/DroidKungFu/1d09be5cc612b24fe83c3f1b37c88087d778dd5fd3f33e4f09df8eda990e41be\n['Call butler: Default Rules', 'Records', 'Blacklists', 'Whitelists', 'Rules', 'Settings', 'Help']\n077dbebba5f9ac468d12280c18a5204daf01efaa73ca8433c7e14b6618ec3b25\n/mnt/H_DRIVE/FlowIntent/Location/0/drebin/DroidKungFu/077dbebba5f9ac468d12280c18a5204daf01efaa73ca8433c7e14b6618ec3b25\n[]\n27a63d6412b3459e821d88a8ef133727b8dda99262cec71c9989ec28e394f173\n/mnt/H_DRIVE/FlowIntent/Location/0/drebin/DroidKungFu/27a63d6412b3459e821d88a8ef133727b8dda99262cec71c9989ec28e394f173\n[]\n2b3101bbbc7b32209aaecad1056a2642313f60fe87f14a7a7b029599c0c6c277\n/mnt/H_DRIVE/FlowIntent/Location/0/drebin/DroidKungFu/2b3101bbbc7b32209aaecad1056a2642313f60fe87f14a7a7b029599c0c6c277\n[]\n0c602ee784dd9c06cb8ba7b6a8c983731e53dc8d5e06090d8f0b211444d6cae2\n/mnt/H_DRIVE/FlowIntent/Location/0/drebin/DroidKungFu/0c602ee784dd9c06cb8ba7b6a8c983731e53dc8d5e06090d8f0b211444d6cae2\n[]\n00f11f51a89f2487a112ddebc079757933ed5d49104febc09eabb86c91b69433\n/mnt/H_DRIVE/FlowIntent/Location/0/drebin/DroidKungFu/00f11f51a89f2487a112ddebc079757933ed5d49104febc09eabb86c91b69433\n[]\n0897d40edb8b6b585f38ca1a9866bd03cd70a5035cc0ec28f933d702f9a38a03\n/mnt/H_DRIVE/FlowIntent/Location/0/drebin/DroidKungFu/0897d40edb8b6b585f38ca1a9866bd03cd70a5035cc0ec28f933d702f9a38a03\n['Mahjongg Builder', 'Favorites', 'All games', 'Easy']\n19466e2b0b811def9bebdec19909076cc942fd83cc01392494f64f7264f64f8a\n/mnt/H_DRIVE/FlowIntent/Location/0/drebin/DroidKungFu/19466e2b0b811def9bebdec19909076cc942fd83cc01392494f64f7264f64f8a\n[]\n130fc20dfee342bb1239bb3cea1d56456d90812b98c58670775fe31f4bf7940f\n/mnt/H_DRIVE/FlowIntent/Location/0/drebin/DroidKungFu/130fc20dfee342bb1239bb3cea1d56456d90812b98c58670775fe31f4bf7940f\n['按下彩色花色按钮亮牌.  抢主抢庄', '玩家 1 亮了: ', '1', '2', '1', '2', '4']\n2d334e30e58360bebbe2a6173cca84ecbe24a3fbf7f01c4142d6ac904d6c4127\n/mnt/H_DRIVE/FlowIntent/Location/0/drebin/DroidKungFu/2d334e30e58360bebbe2a6173cca84ecbe24a3fbf7f01c4142d6ac904d6c4127\n[]\n119727193e258a820b049af3fe557abcbf0b5cbae1962589dbc980ef363b82c5\n/mnt/H_DRIVE/FlowIntent/Location/0/drebin/DroidKungFu/119727193e258a820b049af3fe557abcbf0b5cbae1962589dbc980ef363b82c5\n[]\n0776a61fb83233ebf01affd6408343097db9febdd0df1daef8a0264aba3c49d5\n/mnt/H_DRIVE/FlowIntent/Location/0/drebin/DroidKungFu/0776a61fb83233ebf01affd6408343097db9febdd0df1daef8a0264aba3c49d5\n[]\n02e112947aa19a577fd9d825531bd74797bbf5825a74e9918d4027bbd24bb49b\n/mnt/H_DRIVE/FlowIntent/Location/0/drebin/DroidKungFu/02e112947aa19a577fd9d825531bd74797bbf5825a74e9918d4027bbd24bb49b\n[]\n07feaa0e04e56cb3ccd06fd7902a9d9cec48dfd901bd6d5e07ade81448dcc5d6\n/mnt/H_DRIVE/FlowIntent/Location/0/drebin/DroidKungFu/07feaa0e04e56cb3ccd06fd7902a9d9cec48dfd901bd6d5e07ade81448dcc5d6\n[]\n079e37a84807c6146e28f2094ffa3ec1100b8f3a039f0e44793ea4c8823955be\n/mnt/H_DRIVE/FlowIntent/Location/0/drebin/DroidKungFu/079e37a84807c6146e28f2094ffa3ec1100b8f3a039f0e44793ea4c8823955be\n[]\n0b0625415fd2c9d06e28d4d246d202e6e2985853a6e1b9ec40eaa02bc197ba57\n/mnt/H_DRIVE/FlowIntent/Location/0/drebin/DroidKungFu/0b0625415fd2c9d06e28d4d246d202e6e2985853a6e1b9ec40eaa02bc197ba57\n[]\n/mnt/H_DRIVE/FlowIntent/Location/0\n/mnt/H_DRIVE/FlowIntent/Location/0\n/mnt/H_DRIVE/FlowIntent/Location/0\n/mnt/H_DRIVE/FlowIntent/Location/0\n/mnt/H_DRIVE/FlowIntent/Location/0\n/mnt/H_DRIVE/FlowIntent/Location/0\n/mnt/H_DRIVE/FlowIntent/Location/0\n/mnt/H_DRIVE/FlowIntent/Location/0\n/mnt/H_DRIVE/FlowIntent/Location/0\n/mnt/H_DRIVE/FlowIntent/Location/0\n/mnt/H_DRIVE/FlowIntent/Location/0\n/mnt/H_DRIVE/FlowIntent/Location/0\n/mnt/H_DRIVE/FlowIntent/Location/0\n/mnt/H_DRIVE/FlowIntent/Location/0\n/mnt/H_DRIVE/FlowIntent/Location/0\n/mnt/H_DRIVE/FlowIntent/Location/0\n/mnt/H_DRIVE/FlowIntent/Location/0\n1230177b243a18aa614d016a935ebe8a85bf204d\n/mnt/H_DRIVE/FlowIntent/Location/0/drebin/DroidKungFu4/1230177b243a18aa614d016a935ebe8a85bf204d\n[]\n608e033ab996034bceb90c22bd42a0120e844ff4\n/mnt/H_DRIVE/FlowIntent/Location/0/drebin/DroidKungFu4/608e033ab996034bceb90c22bd42a0120e844ff4\n[]\n60bacf0dc2068e9ff8769141beb9d2fe6407eaf3\n/mnt/H_DRIVE/FlowIntent/Location/0/drebin/DroidKungFu4/60bacf0dc2068e9ff8769141beb9d2fe6407eaf3\n"
     ]
    },
    {
     "name": "stdout",
     "output_type": "stream",
     "text": [
      "['Superuser Request', \"一键翻墙(免费版) is requesting Superuser access.  Warning: If you did not initiate this action, or if you do not understand this request, it's generally a good idea to deny it.\", 'Tap for more info', 'Deny', 'Allow', 'Remember']\nbbecfadcdc8ec39080fd374169269fffbbbba32b\n/mnt/H_DRIVE/FlowIntent/Location/0/drebin/DroidKungFu4/bbecfadcdc8ec39080fd374169269fffbbbba32b\n[]\n317396eff7f54067185c4f249041e16f27578010\n/mnt/H_DRIVE/FlowIntent/Location/0/drebin/DroidKungFu4/317396eff7f54067185c4f249041e16f27578010\n[]\n29d6871984953e4e647af537f335a393138251e4\n/mnt/H_DRIVE/FlowIntent/Location/0/drebin/DroidKungFu4/29d6871984953e4e647af537f335a393138251e4\n[]\n00b89bcb196a138f9f20a6853c41673a18a2575f\n/mnt/H_DRIVE/FlowIntent/Location/0/drebin/DroidKungFu4/00b89bcb196a138f9f20a6853c41673a18a2575f\n[]\n20d4d5e122606928f9e57359e0d73440c3b1ef4c\n/mnt/H_DRIVE/FlowIntent/Location/0/drebin/DroidKungFu4/20d4d5e122606928f9e57359e0d73440c3b1ef4c\n[]\na13cc291f4464853e7453ae840124ae604d5d3f1\n/mnt/H_DRIVE/FlowIntent/Location/0/drebin/DroidKungFu4/a13cc291f4464853e7453ae840124ae604d5d3f1\n['Root App Remover Expert', 'Fake GPS', 'v 1.5.1', '73KB', 'Google Play services', 'v 11.0.55 (036-156917137)', '33141KB', 'Google Play Store', 'v 7.9.80.Q-all [0] [PR] 159305549', '18104KB', 'Root App Remover Expert', 'v 1.5.8', '156KB', 'The Weather Channel', 'search']\nca3c18fa9e7d402d57a3f2138b1d68754de65c86\n/mnt/H_DRIVE/FlowIntent/Location/0/drebin/DroidKungFu4/ca3c18fa9e7d402d57a3f2138b1d68754de65c86\n['坦克大战']\n16f3333aa9444964148bb16462af5e73a9205670\n/mnt/H_DRIVE/FlowIntent/Location/0/drebin/DroidKungFu4/16f3333aa9444964148bb16462af5e73a9205670\n[]\n8edb188204c6ad79006e555b50e63705b68ea65d\n/mnt/H_DRIVE/FlowIntent/Location/0/drebin/DroidKungFu4/8edb188204c6ad79006e555b50e63705b68ea65d\n['Call butler: Default Rules', 'Records', 'Blacklists', 'Whitelists', 'Rules', 'Settings', 'Help']\n584f8a2801a8e7590dc466a6ebc58ea01a2d1758\n/mnt/H_DRIVE/FlowIntent/Location/0/drebin/DroidKungFu4/584f8a2801a8e7590dc466a6ebc58ea01a2d1758\n[]\nc00e464bd4b7c43609667c9d046508045bba0a4e\n/mnt/H_DRIVE/FlowIntent/Location/0/drebin/DroidKungFu4/c00e464bd4b7c43609667c9d046508045bba0a4e\n[]\nc24d714f5b7f851438456d8486259cf9d84e1d2d\n/mnt/H_DRIVE/FlowIntent/Location/0/drebin/DroidKungFu4/c24d714f5b7f851438456d8486259cf9d84e1d2d\n[]\nb8b57c9c45132c7acab14cab2c4aab8d604691a1\n/mnt/H_DRIVE/FlowIntent/Location/0/drebin/DroidKungFu4/b8b57c9c45132c7acab14cab2c4aab8d604691a1\n[]\n348c5ca7ae05b6fc960f7ea646a65fc02b6ee7e3\n/mnt/H_DRIVE/FlowIntent/Location/0/drebin/DroidKungFu4/348c5ca7ae05b6fc960f7ea646a65fc02b6ee7e3\n[]\nfaa6c540f3c7e9ebd5b3dbbcfa248591721a3412\n/mnt/H_DRIVE/FlowIntent/Location/0/drebin/DroidKungFu4/faa6c540f3c7e9ebd5b3dbbcfa248591721a3412\n['超级APN', '3G、EDGE、GPRS开关和NET-WAP切换', '开', 'Other', '提示：请在桌面添加超级APN小部件（Widget）以方便使用', 'APN实用工具箱', '一键设置APN信息', '一键清除APN设置', '一键备份APN设置', '一键恢复APN设置', '手动设置APN信息']\n7237c992c69e4bd2ccb6e8a79bd87d90eb3fb37b\n/mnt/H_DRIVE/FlowIntent/Location/0/drebin/DroidKungFu4/7237c992c69e4bd2ccb6e8a79bd87d90eb3fb37b\n[]\nbd6e08b2165160c975d095d1147a293f151bcedd\n/mnt/H_DRIVE/FlowIntent/Location/0/drebin/DroidKungFu4/bd6e08b2165160c975d095d1147a293f151bcedd\n[]\n4668aaf1fb373f5ccefee61528b38228ac7ec2b0\n/mnt/H_DRIVE/FlowIntent/Location/0/drebin/DroidKungFu4/4668aaf1fb373f5ccefee61528b38228ac7ec2b0\n[]\n9fc39c43012cd921bbcbf042a504cda995a1d366\n/mnt/H_DRIVE/FlowIntent/Location/0/drebin/DroidKungFu4/9fc39c43012cd921bbcbf042a504cda995a1d366\n['超级APN', '3G、EDGE、GPRS开关和NET-WAP切换', '开', 'Other', '提示：请在桌面添加超级APN小部件（Widget）以方便使用', 'APN实用工具箱', '一键设置APN信息', '一键清除APN设置', '一键备份APN设置', '一键恢复APN设置', '手动设置APN信息']\nc6800fa0310ea3546f39b3d0555d9f269122c212\n/mnt/H_DRIVE/FlowIntent/Location/0/drebin/DroidKungFu4/c6800fa0310ea3546f39b3d0555d9f269122c212\n[]\nbd249c0843df2f8acfe7615feba505ead30e5bbc\n/mnt/H_DRIVE/FlowIntent/Location/0/drebin/DroidKungFu4/bd249c0843df2f8acfe7615feba505ead30e5bbc\n['Superuser Request', \"一键翻墙(免费版) is requesting Superuser access.  Warning: If you did not initiate this action, or if you do not understand this request, it's generally a good idea to deny it.\", 'Tap for more info', 'Deny', 'Allow', 'Remember']\n7c3daf5b725225c76c42957d7830c8dc6cc74405\n/mnt/H_DRIVE/FlowIntent/Location/0/drebin/DroidKungFu4/7c3daf5b725225c76c42957d7830c8dc6cc74405\n[]\n"
     ]
    },
    {
     "name": "stdout",
     "output_type": "stream",
     "text": [
      "e3914c84ccc130d18bdfc1eb65c200ef0511a4cd\n/mnt/H_DRIVE/FlowIntent/Location/0/drebin/DroidKungFu4/e3914c84ccc130d18bdfc1eb65c200ef0511a4cd\n[]\nb765b9a9ad84c69857c42c206e775bae695cde9a\n/mnt/H_DRIVE/FlowIntent/Location/0/drebin/DroidKungFu4/b765b9a9ad84c69857c42c206e775bae695cde9a\n['超级APN', '3G、EDGE、GPRS开关和NET-WAP切换', '开', 'Other', '提示：请在桌面添加超级APN小部件（Widget）以方便使用', 'APN实用工具箱', '一键设置APN信息', '一键清除APN设置', '一键备份APN设置', '一键恢复APN设置', '手动设置APN信息']\ne1c2188a69727bf4ec4a5d72319cfe87428c7f35\n/mnt/H_DRIVE/FlowIntent/Location/0/drebin/DroidKungFu4/e1c2188a69727bf4ec4a5d72319cfe87428c7f35\n['Root App Remover Expert', 'Fake GPS', 'v 1.5.1', '73KB', 'Google Play services', 'v 11.0.55 (036-156917137)', '33141KB', 'Google Play Store', 'v 7.9.80.Q-all [0] [PR] 159305549', '18104KB', 'Root App Remover Expert', 'v 1.5.6', '156KB', 'The Weather Channel', 'search']\na5f568fad02382bf1d5cad9fb094cd9a577d8d9b\n/mnt/H_DRIVE/FlowIntent/Location/0/drebin/DroidKungFu4/a5f568fad02382bf1d5cad9fb094cd9a577d8d9b\n['坦克大战']\n1eefb5d1be6d1dbb615f7b8bc8e5fa651fd17472\n/mnt/H_DRIVE/FlowIntent/Location/0/drebin/DroidKungFu4/1eefb5d1be6d1dbb615f7b8bc8e5fa651fd17472\n[]\nb8f5c781f277ca5e2c7bc45e04b64b17a43a93cc\n/mnt/H_DRIVE/FlowIntent/Location/0/drebin/DroidKungFu4/b8f5c781f277ca5e2c7bc45e04b64b17a43a93cc\n['Superuser Request', \"自由行(免费版) is requesting Superuser access.  Warning: If you did not initiate this action, or if you do not understand this request, it's generally a good idea to deny it.\", 'Tap for more info', 'Deny', 'Allow', 'Remember']\n542f2e0e6c98abd2f78e915e010030cb8f7d45a2\n/mnt/H_DRIVE/FlowIntent/Location/0/drebin/DroidKungFu4/542f2e0e6c98abd2f78e915e010030cb8f7d45a2\n['Superuser Request', \"超级管理器 is requesting Superuser access.  Warning: If you did not initiate this action, or if you do not understand this request, it's generally a good idea to deny it.\", 'Tap for more info', 'Deny', 'Allow', 'Remember']\nb85954f043b6bafe63c140b79b4274047c2a6200\n/mnt/H_DRIVE/FlowIntent/Location/0/drebin/DroidKungFu4/b85954f043b6bafe63c140b79b4274047c2a6200\n['Superuser Request', \"超级管理器 is requesting Superuser access.  Warning: If you did not initiate this action, or if you do not understand this request, it's generally a good idea to deny it.\", 'Tap for more info', 'Deny', 'Allow', 'Remember']\nef622dd1ec88911dc39fa8bca0bcedec76d51c6d\n/mnt/H_DRIVE/FlowIntent/Location/0/drebin/DroidKungFu4/ef622dd1ec88911dc39fa8bca0bcedec76d51c6d\n[]\n2c8d75b4de0a7415eeb24ae0b6cbe04392d60e3b\n/mnt/H_DRIVE/FlowIntent/Location/0/drebin/DroidKungFu4/2c8d75b4de0a7415eeb24ae0b6cbe04392d60e3b\n['Superuser Request', \"超级管理器 is requesting Superuser access.  Warning: If you did not initiate this action, or if you do not understand this request, it's generally a good idea to deny it.\", 'Tap for more info', 'Deny', 'Allow', 'Remember']\n976fdc1e82d10e7440d9abe640a558991dd235f6\n/mnt/H_DRIVE/FlowIntent/Location/0/drebin/DroidKungFu4/976fdc1e82d10e7440d9abe640a558991dd235f6\n[]\n94e7eafa2daa82ea1d48e62cd38addb0ac525730\n/mnt/H_DRIVE/FlowIntent/Location/0/drebin/DroidKungFu4/94e7eafa2daa82ea1d48e62cd38addb0ac525730\n[]\n9965756d5f8e6e66664403fcd408e83746c41934\n/mnt/H_DRIVE/FlowIntent/Location/0/drebin/DroidKungFu4/9965756d5f8e6e66664403fcd408e83746c41934\n[]\n1dffd31460a705499254461b590a7d5628d60c1c\n/mnt/H_DRIVE/FlowIntent/Location/0/drebin/DroidKungFu4/1dffd31460a705499254461b590a7d5628d60c1c\n[]\ncd03a97c75069c8490753aa2aeac83caed96d4f2\n/mnt/H_DRIVE/FlowIntent/Location/0/drebin/DroidKungFu4/cd03a97c75069c8490753aa2aeac83caed96d4f2\n[]\n02547edc895ab7a472e6fb329e246f4f07de7737\n/mnt/H_DRIVE/FlowIntent/Location/0/drebin/DroidKungFu4/02547edc895ab7a472e6fb329e246f4f07de7737\n[]\n397bce64ada488100e423cd12ef0a142ff786bc1\n/mnt/H_DRIVE/FlowIntent/Location/0/drebin/DroidKungFu4/397bce64ada488100e423cd12ef0a142ff786bc1\n['按下彩色花色按钮亮牌.  抢主抢庄', '玩家 2 亮了: ', '0', '4', '1', '2', '5']\nf0b18bc38eba11a187f38832eadee3f45665ddc0\n/mnt/H_DRIVE/FlowIntent/Location/0/drebin/DroidKungFu4/f0b18bc38eba11a187f38832eadee3f45665ddc0\n[]\n787684a5c11048420f23021f27ea1eb9d59e6160\n/mnt/H_DRIVE/FlowIntent/Location/0/drebin/DroidKungFu4/787684a5c11048420f23021f27ea1eb9d59e6160\n[]\nc7338e77b147d30ad3548aa222c416df6af244bf\n/mnt/H_DRIVE/FlowIntent/Location/0/drebin/DroidKungFu4/c7338e77b147d30ad3548aa222c416df6af244bf\n[]\n/mnt/H_DRIVE/FlowIntent/Location/0\n/mnt/H_DRIVE/FlowIntent/Location/0\n/mnt/H_DRIVE/FlowIntent/Location/0\n/mnt/H_DRIVE/FlowIntent/Location/0\n/mnt/H_DRIVE/FlowIntent/Location/0\n/mnt/H_DRIVE/FlowIntent/Location/0\n/mnt/H_DRIVE/FlowIntent/Location/0\n/mnt/H_DRIVE/FlowIntent/Location/0\n/mnt/H_DRIVE/FlowIntent/Location/0\n/mnt/H_DRIVE/FlowIntent/Location/0\n/mnt/H_DRIVE/FlowIntent/Location/0\n/mnt/H_DRIVE/FlowIntent/Location/0\n/mnt/H_DRIVE/FlowIntent/Location/0\n/mnt/H_DRIVE/FlowIntent/Location/0\n/mnt/H_DRIVE/FlowIntent/Location/0\n/mnt/H_DRIVE/FlowIntent/Location/0\n/mnt/H_DRIVE/FlowIntent/Location/0\n/mnt/H_DRIVE/FlowIntent/Location/0\n/mnt/H_DRIVE/FlowIntent/Location/0\n/mnt/H_DRIVE/FlowIntent/Location/0\n/mnt/H_DRIVE/FlowIntent/Location/0\n/mnt/H_DRIVE/FlowIntent/Location/0\n/mnt/H_DRIVE/FlowIntent/Location/0\n/mnt/H_DRIVE/FlowIntent/Location/0\n/mnt/H_DRIVE/FlowIntent/Location/0\n/mnt/H_DRIVE/FlowIntent/Location/0\n/mnt/H_DRIVE/FlowIntent/Location/0\n/mnt/H_DRIVE/FlowIntent/Location/0\n/mnt/H_DRIVE/FlowIntent/Location/0\n/mnt/H_DRIVE/FlowIntent/Location/0\n/mnt/H_DRIVE/FlowIntent/Location/0\n/mnt/H_DRIVE/FlowIntent/Location/0\n/mnt/H_DRIVE/FlowIntent/Location/0\n/mnt/H_DRIVE/FlowIntent/Location/0\n/mnt/H_DRIVE/FlowIntent/Location/0\n/mnt/H_DRIVE/FlowIntent/Location/0\n/mnt/H_DRIVE/FlowIntent/Location/0\n"
     ]
    },
    {
     "name": "stdout",
     "output_type": "stream",
     "text": [
      "/mnt/H_DRIVE/FlowIntent/Location/0\n/mnt/H_DRIVE/FlowIntent/Location/0\n/mnt/H_DRIVE/FlowIntent/Location/0\n/mnt/H_DRIVE/FlowIntent/Location/0\n/mnt/H_DRIVE/FlowIntent/Location/0\n/mnt/H_DRIVE/FlowIntent/Location/0\n/mnt/H_DRIVE/FlowIntent/Location/0\n/mnt/H_DRIVE/FlowIntent/Location/0\n/mnt/H_DRIVE/FlowIntent/Location/0\n284f8923fe4415ddf6ad1c23055cb9286debfd43\n/mnt/H_DRIVE/FlowIntent/Location/0/drebin/DroidKungFu3/284f8923fe4415ddf6ad1c23055cb9286debfd43\n['开 始', '继 续', '关 于', '推荐下载', '结 束']\n2867b64163407a4c8bad0a2775923bb4331b8f6a\n/mnt/H_DRIVE/FlowIntent/Location/0/drebin/DroidKungFu3/2867b64163407a4c8bad0a2775923bb4331b8f6a\n['猜扑克脱裙子', '你能猜到哪张牌是J吗？我打赌你猜不到哦！', '洗牌', '退出']\n/mnt/H_DRIVE/FlowIntent/Location/0\n/mnt/H_DRIVE/FlowIntent/Location/0\n/mnt/H_DRIVE/FlowIntent/Location/0\ncn.gov.wzqx\n/mnt/H_DRIVE/FlowIntent/Location/0/5/cn.gov.wzqx\n生活实用 万州气象\n[]\ncom.phone.car.secondhand\n/mnt/H_DRIVE/FlowIntent/Location/0/5/com.phone.car.secondhand\n"
     ]
    },
    {
     "name": "stdout",
     "output_type": "stream",
     "text": [
      "生活实用 牛车二手车\n['城市', '类型', '品牌', '车价', '排序', '奔驰SL级AMG SL 63 AMG ', '0.0万， 未上牌， 北京', '158.0', '万元', '1022999元', '宝马X5 xDrive30i豪华型 ', '5.9万， 2012年， 成都', '47.6', '万元', '已省 50.85万元', '我的收藏', '我的关注', '精品推荐', '专属服务', '我的求购', '我的咨询', '我的交易', '我的评分', '设置', '工具']\ncom.sihuo.sihuo\n/mnt/H_DRIVE/FlowIntent/Location/0/5/com.sihuo.sihuo\n生活实用 私货\n['私货里正在卖的好东西', \"09''\", '¥7500', '9', '折', 'Macbook air 13寸的，用不惯系统啊，很新', '注册', '登录']\n['私货里正在卖的好东西', \"09''\", '¥7500', '9', '折', 'Macbook air 13寸的，用不惯系统啊，很新', '注册', '登录']\n['私货里正在卖的好东西', \"09''\", '¥7500', '9', '折', 'Macbook air 13寸的，用不惯系统啊，很新', '注册', '登录']\n['私货里正在卖的好东西', \"09''\", '¥7500', '9', '折', 'Macbook air 13寸的，用不惯系统啊，很新', '注册', '登录']\npts.PhoneGap.namespace_gcjsw1238\n/mnt/H_DRIVE/FlowIntent/Location/0/5/pts.PhoneGap.namespace_gcjsw1238\n生活实用 工程建设网\n['政策法规', '论坛与峰会', '经济要闻', '投资建设', '搜索']\ncn.apps123.shell.guizhouyiliaoxinxi\n/mnt/H_DRIVE/FlowIntent/Location/0/5/cn.apps123.shell.guizhouyiliaoxinxi\n"
     ]
    },
    {
     "name": "stdout",
     "output_type": "stream",
     "text": [
      "生活实用 贵州医疗信息\n['医疗资讯', '医疗用品', '医疗资源', '供/求信息', '更多', '医疗资讯', '全部', '今日热点', '行业动态', '招商加盟', '中国医药保健品进出口商会', '早餐喝豆浆有大益', '健康是21世纪的生活主题，现代人十分崇尚绿色食品，今天，几乎在...', '做到八件事多活几十年', '发表在著名医学杂志《柳叶刀》上的一项研究显示，全球人均寿命比...']\ncom.babintu.bbrzgs\n/mnt/H_DRIVE/FlowIntent/Location/0/5/com.babintu.bbrzgs\n生活实用 宝宝认知故事\n[]\n[]\ncom.meimeida.mmd\n/mnt/H_DRIVE/FlowIntent/Location/0/5/com.meimeida.mmd\n生活实用 美滴\n['个人设置', '意见反馈', '用户协议', '关于我们', '#八卦', '韩国丽珍院长李硕埈,来北京啦！免费为你进行一对一亲诊，仅限60人！！！', '美小滴', '1132', '12', '#八卦', '你带着美滴，美滴带着钱，免费去韩国变美', '美小滴', '24110', '177', '首页', '圈子', '精品', '我的']\ncom.tixa.industry.search2c9480b74b3f1952014b80a286930ddd\n/mnt/H_DRIVE/FlowIntent/Location/0/5/com.tixa.industry.search2c9480b74b3f1952014b80a286930ddd\n生活实用 服装搜索\n['服装搜索', '请输入关键词', '资讯', '供应', '黄页', '商机', '[资讯]', '福建3月规上工业增加值增9.0% 30行业同比增长', '[资讯]', '石狮加快培育战略性新兴产业', '[商机]', '际华集团所属JH CTC公司举办CTC公司成立90周年庆典', '[资讯]', '温州宠物时尚小镇将打造宠物医院和主题公园', '主页', '热点', '问答', '我的', '设置']\n['服装搜索', '请输入关键词', '资讯', '供应', '黄页', '商机', '[商机]', '泉州民营企业&ldquo;驭变更新&rdquo; 模式转型优势升级', '[资讯]', '磨石激光雕刻机教程最新添加', '[商机]', '图解义乌国际生产资料市场', '[黄页]', '深圳市福田区梦衣汇服装制造厂', '主页', '热点', '问答', '我的', '设置']\ncom.project.xuehanqian\n/mnt/H_DRIVE/FlowIntent/Location/0/5/com.project.xuehanqian\n"
     ]
    },
    {
     "name": "stdout",
     "output_type": "stream",
     "text": [
      "生活实用 血汗钱\n['请输入账号', '注册账号', '忘记密码']\ncn.apps123.shell.henanshipinwang\n/mnt/H_DRIVE/FlowIntent/Location/0/5/cn.apps123.shell.henanshipinwang\n生活实用 河南食品网\n['首页', '商铺', '产品', '会员', '更多', '搜索你喜欢的内容', '优惠活动', '购物指南', '常见问题', '售后服务', '休闲食品', '糕点']\ncom.fivemobile.thescore\n/mnt/H_DRIVE/FlowIntent/Location/0/5/com.fivemobile.thescore\n \n['NFL', 'NEWS', 'My Score', 'Top News', 'Hot Games', 'LEAGUES', 'NFL Football', 'NCAA Football', 'NBA Basketball', 'MLB Baseball', 'NHL Hockey']\ncn.apps123.shell.shengtainongyeshangcheng\n/mnt/H_DRIVE/FlowIntent/Location/0/5/cn.apps123.shell.shengtainongyeshangcheng\n"
     ]
    },
    {
     "name": "stdout",
     "output_type": "stream",
     "text": [
      "生活实用 生态农业商城\n['首页', '产品', '商铺', '会员', '更多', '搜索你喜欢的内容', '农业资讯', '点击排行', '一周推荐', '农业解答', 'html5', '进入', '二维码', '进入', '产品', '蔬菜', '水果', '粮油', '畜牧', '米面', '水产']\ncom.ishow.dxkjx19\n/mnt/H_DRIVE/FlowIntent/Location/0/5/com.ishow.dxkjx19\n生活实用 相框机械\n[]\n[]\ncom.zxapp.light\n/mnt/H_DRIVE/FlowIntent/Location/0/5/com.zxapp.light\n生活实用 知行手电筒\n[]\ncom.huipay.shop\n/mnt/H_DRIVE/FlowIntent/Location/0/5/com.huipay.shop\n生活实用 汇贝商家\n['注册', '登录']\ncom.ishow.dkjttc62\n/mnt/H_DRIVE/FlowIntent/Location/0/5/com.ishow.dkjttc62\n生活实用 客家土特产\n"
     ]
    },
    {
     "name": "stdout",
     "output_type": "stream",
     "text": [
      "['客家土特产', 'Hello world!']\n['客家土特产', 'Hello world!']\ncom.anforen.voicexf\n/mnt/H_DRIVE/FlowIntent/Location/0/5/com.anforen.voicexf\n生活实用 玩儿语音\n[]\n[]\ncom.meitunew1\n/mnt/H_DRIVE/FlowIntent/Location/0/5/com.meitunew1\n生活实用 搜优美图\n['搜优美图', '搜优推荐', '搜优专题1', '搜优专题2', '搜优专题3', '搜优大妞', '搜优清纯', '搜优Cos', '搜优视频', '搜优风景', '搜优搞笑', '漫画神器']\ncom.zumkum.starsworld\n/mnt/H_DRIVE/FlowIntent/Location/0/5/com.zumkum.starsworld\n生活实用 明星世界\n['软件更新', '发现新版本。。。', '以后再说', '更新']\n['软件更新', '发现新版本。。。', '以后再说', '更新']\n['软件更新', '发现新版本。。。', '以后再说', '更新']\ncom.kaiyitech.whgjj\n/mnt/H_DRIVE/FlowIntent/Location/0/5/com.kaiyitech.whgjj\n生活实用 武汉公积金\n"
     ]
    },
    {
     "name": "stdout",
     "output_type": "stream",
     "text": [
      "['首页', '新闻动态', '行业新闻', '新华资讯', '政策法规', '荆门住房公积金管理中心来汉考察交流', '关于调整住房公积金存贷款利率的通知', '2015-07-02  20:05', '2015年住房公积金结息通告', '2015-07-01  18:22', '住房公积金结息短信已发送成功', '2015-07-01  18:22', '央行决定定向降低存款准备金率', '2015-06-29  18:52', '首页', '账户查询', '自助服务', '预约服务']\n['首页', '新闻动态', '行业新闻', '新华资讯', '政策法规', '荆门住房公积金管理中心来汉考察交流', '关于调整住房公积金存贷款利率的通知', '2015-07-02  20:05', '2015年住房公积金结息通告', '2015-07-01  18:22', '住房公积金结息短信已发送成功', '2015-07-01  18:22', '央行决定定向降低存款准备金率', '2015-06-29  18:52', '首页', '账户查询', '自助服务', '预约服务']\ncom.xinchuang.yf.meina\n/mnt/H_DRIVE/FlowIntent/Location/0/5/com.xinchuang.yf.meina\n生活实用 美娜\n['加载中']\ncom.zdweilai.WeBrowser.gzwjjc\n/mnt/H_DRIVE/FlowIntent/Location/0/5/com.zdweilai.WeBrowser.gzwjjc\n生活实用 贵州五金建材\n[]\ncom.inoknok.kuaihuo\n/mnt/H_DRIVE/FlowIntent/Location/0/5/com.inoknok.kuaihuo\n生活实用 快活\n['新版本提示', '快活有新版了,强烈建议您更新?', '下次', '更新']\ncn.apps123.shell.zhonghuayanwoshangcheng\n/mnt/H_DRIVE/FlowIntent/Location/0/5/cn.apps123.shell.zhonghuayanwoshangcheng\n"
     ]
    },
    {
     "name": "stdout",
     "output_type": "stream",
     "text": [
      "生活实用 中华燕窝商城\n['首页', '燕窝商铺', '会员中心', '产品列表', '更多', '搜索你喜欢的内容', '灵芝资讯', '破壁灵芝孢子粉作用', '品牌故事', '招商加盟', '燕窝', '灵芝']\n['首页', '燕窝商铺', '会员中心', '产品列表', '更多', '搜索你喜欢的内容', '灵芝资讯', '破壁灵芝孢子粉作用', '品牌故事', '招商加盟', '燕窝', '灵芝']\ncom.Astro.UI\n/mnt/H_DRIVE/FlowIntent/Location/0/5/com.Astro.UI\n生活实用 龙易运势\n['使用小貼士', 'TextView', '您還沒有安裝龍易運勢桌面插件\\n安裝後，您可以在手機桌面直接查看運勢和每日吉時等信息', '如何安裝']\n['使用小貼士', 'TextView', '您還沒有安裝龍易運勢桌面插件\\n安裝後，您可以在手機桌面直接查看運勢和每日吉時等信息', '如何安裝']\ncom.ishow.dzrcjly17\n/mnt/H_DRIVE/FlowIntent/Location/0/5/com.ishow.dzrcjly17\n"
     ]
    },
    {
     "name": "stdout",
     "output_type": "stream",
     "text": [
      "生活实用 自然冲击疗愈\n['自然冲击疗愈', 'Hello world!']\ncom.ishow.dscstny83\n/mnt/H_DRIVE/FlowIntent/Location/0/5/com.ishow.dscstny83\n生活实用 四川生态农业\n[]\n[]\ncom.bsk.doctor\n/mnt/H_DRIVE/FlowIntent/Location/0/5/com.bsk.doctor\n生活实用 血糖高管诊所\n['立即进入']\n['立即进入']\noms.mmc.fortunetelling.measuringtools.palmistrymasters\n/mnt/H_DRIVE/FlowIntent/Location/0/5/oms.mmc.fortunetelling.measuringtools.palmistrymasters\n生活实用 看手相-掌纹照相机\n['安装顺历']\n['安装灵机妙算']\ncom.wowsai.crafter4Android\n/mnt/H_DRIVE/FlowIntent/Location/0/5/com.wowsai.crafter4Android\n"
     ]
    },
    {
     "name": "stdout",
     "output_type": "stream",
     "text": [
      "生活实用 手工客\n['达人', '排行榜', '专题', '活动', '互动课堂', '手工客', '首页', '动态', '发现', '教程', '手工圈', '我的']\n['达人', '排行榜', '专题', '活动', '互动课堂', '手工客', '首页', '动态', '发现', '教程', '手工圈', '我的']\ncn.myapp.mobile\n/mnt/H_DRIVE/FlowIntent/Location/0/5/cn.myapp.mobile\n生活实用 嘿车\n[]\ncn.apps123.shell.jiancaichuangxin\n/mnt/H_DRIVE/FlowIntent/Location/0/5/cn.apps123.shell.jiancaichuangxin\n生活实用 建材创新\n['关于我们', '新闻资讯', '商家服务', '供求商机', '建筑服务', '会员中心', '在线商城', '二维码分享', '更多']\ncom.pingan.pinganwifi\n/mnt/H_DRIVE/FlowIntent/Location/0/5/com.pingan.pinganwifi\n生活实用 平安WiFi\n"
     ]
    },
    {
     "name": "stdout",
     "output_type": "stream",
     "text": [
      "['软件更新', '发现新版本\\t\\t2.3.0\\n\\n更新日志\\n\\t连接成功热点可以挖宝，连接失败还有流量补偿，平安WiFi新版“用薪”为您服务！还不赶紧来体验一下！', '下载更新']\n['软件更新', '发现新版本\\t\\t3.0.8\\n\\n更新日志\\n\\t修复了一些bug，优化产品体验。', '下载更新']\ncom.fangmi.fmm.property\n/mnt/H_DRIVE/FlowIntent/Location/0/5/com.fangmi.fmm.property\n \n['会员登录', '请输入手机号码', '忘记密码', '登   录', '邀请码注册']\n['会员登录', '请输入手机号码', '忘记密码', '登   录', '邀请码注册']\n['会员登录', '请输入手机号码', '忘记密码', '登   录', '邀请码注册']\ncom.glufine\n/mnt/H_DRIVE/FlowIntent/Location/0/5/com.glufine\n生活实用 蜜友\n[]\n[]\ncom.bgood.joke\n/mnt/H_DRIVE/FlowIntent/Location/0/5/com.bgood.joke\n生活实用 幽默笑话秀\n[]\ncom.fish.wnys\n/mnt/H_DRIVE/FlowIntent/Location/0/5/com.fish.wnys\n \n['Unfortunately, 无线万能钥匙 has stopped.', 'OK']\ncom.dangdang.reader\n/mnt/H_DRIVE/FlowIntent/Location/0/5/com.dangdang.reader\n"
     ]
    },
    {
     "name": "stdout",
     "output_type": "stream",
     "text": [
      "生活实用 当当读书\n['升级', '更新内容', '1、书城中新添加“重磅限免”栏目，给你想不到的好书惊喜，爽翻天呦！\\r\\n2、“充值”新添话费支付，话费用不完都浪费，不如看看好书充实自我！\\r\\n', '安装', '下次再说']\n['恭喜您得到羊年读书礼包', '立即领取', '放弃礼包']\nthinker.eapp2843\n/mnt/H_DRIVE/FlowIntent/Location/0/5/thinker.eapp2843\n生活实用 家政服务\n[]\n[]\ncom.clsys.activity\n/mnt/H_DRIVE/FlowIntent/Location/0/5/com.clsys.activity\n生活实用 中劳云就业\n[]\ncom.ishow.djjwsh50\n/mnt/H_DRIVE/FlowIntent/Location/0/5/com.ishow.djjwsh50\n生活实用 靖江微生活\n[]\n[]\npts.LianShang.pts1682l\n/mnt/H_DRIVE/FlowIntent/Location/0/5/pts.LianShang.pts1682l\n"
     ]
    },
    {
     "name": "stdout",
     "output_type": "stream",
     "text": [
      "生活实用 广州汽配网\n['广州汽配网', '搜索', '今日热点', '行业动态', '政策法规', '更多', '首页', '分类', '更多', '商铺', '会员']\ncom.ailk.tcm.user\n/mnt/H_DRIVE/FlowIntent/Location/0/5/com.ailk.tcm.user\n生活实用 易中医\n['检查到新版本的易中医', '优化拍方抓药\\r\\n优化中药快送\\r\\n优化挂号功能', '以后再说', '立即更新（6.02M）']\n['检查到新版本的易中医', '优化拍方抓药\\r\\n优化中药快送\\r\\n优化挂号功能', '以后再说', '立即更新（6.02M）']\ncom.tuidao.meimmiya\n/mnt/H_DRIVE/FlowIntent/Location/0/5/com.tuidao.meimmiya\n生活实用 解放杯\n['第三方账号登录']\n['QQ登录', '微博登录']\nme.chunyu.ChunyuDoctorHD\n/mnt/H_DRIVE/FlowIntent/Location/0/5/me.chunyu.ChunyuDoctorHD\n生活实用 春雨医生\n['去看看', '点击查看是否有适合您的问题?', '换一组', '虽然母乳对宝宝好，但是听说乳房会因此缩小、下垂，我该怎么办啊？（男，3周）', '我的奶水淡，没什么油。有的妈妈母乳很浓，让人羡慕。家里长辈都说奶水淡没营养，叫我断奶，怎么办？（男，1周）', '经常一个鼻孔出气，还会鼻出血，有时候是左侧有时候是右侧，这是鼻炎吗？（男，25岁）', '进入首页', '去提问']\ncom.ylzinfo.fjsb.ui\n/mnt/H_DRIVE/FlowIntent/Location/0/5/com.ylzinfo.fjsb.ui\n"
     ]
    },
    {
     "name": "stdout",
     "output_type": "stream",
     "text": [
      "生活实用 福建12333\n['Replace app?', \"The app you're installing will replace another app.\\n\\nAll your previous user data will be saved.\", 'Cancel', 'OK']\ncn.apps123.shell.changzhoumeirongyangsheng\n/mnt/H_DRIVE/FlowIntent/Location/0/5/cn.apps123.shell.changzhoumeirongyangsheng\n生活实用 常州美容养生\n['行业动态', '产品商城', '会员中心', '口碑商家', '更多']\ncn.apps123.shell.yunnanjiaoyuxinxi\n/mnt/H_DRIVE/FlowIntent/Location/0/5/cn.apps123.shell.yunnanjiaoyuxinxi\n生活实用 云南教育信息\n['教育资讯', '教育服务', '培训展会', '供/求信息', '菜单', '教育资讯', '全部', '区县动态', '教育时讯', '校园视角', '云南教育网', '楚雄师范学院特色建设闯出新路子', '当前国家加快教育领域改革，深化高等教育改革，地方新建院校响应...', '让孩子在参与中获得满足感', '让孩子在参与中获得满足感小选手和她背后的家庭教育观\\u3000\\u3000老师说...']\ncom.bocop.grjr\n/mnt/H_DRIVE/FlowIntent/Location/0/5/com.bocop.grjr\n生活实用 彩练\n['注册', '登录', '旅游小当家', '日历', '银行卡', '哈格算', '网点/ATM', '首页', '会理财', '惠生活', '慧服务', '设置']\ncom.zskj.aysct\n/mnt/H_DRIVE/FlowIntent/Location/0/5/com.zskj.aysct\n"
     ]
    },
    {
     "name": "stdout",
     "output_type": "stream",
     "text": [
      "生活实用 养生餐厅\n['Confirm', '当前网络不稳定或网络不通,是否继续等待?', 'Cancel', 'OK']\n[]\nxt.com.sjsm.id173084\n/mnt/H_DRIVE/FlowIntent/Location/0/5/xt.com.sjsm.id173084\n生活实用 淄博纺织\n[]\ncom.xcar.activity\n/mnt/H_DRIVE/FlowIntent/Location/0/5/com.xcar.activity\n生活实用 爱卡汽车\n['最新', '新闻', '导购', '评测', '行情', '寻路天下 一汽丰田古丝绸之路访古穿越', '2015-07-13', '4', '爱卡旅行社', '曝三菱全新帕杰罗·劲畅实车图 8月亮相', '2015-07-13', '4', '海外新车', '东风雪铁龙6000现金红包摇手可得 ', '奇瑞瑞虎3 2.0L车型谍照 设计保持不变', '首页', '论坛', '找车', '降价']\n['Unfortunately, Fake GPS has stopped.', 'OK']\nthinker.eapp3281\n/mnt/H_DRIVE/FlowIntent/Location/0/5/thinker.eapp3281\n生活实用 中国美食\n[]\n[]\ncom.chinaums.neimeng.community\n/mnt/H_DRIVE/FlowIntent/Location/0/5/com.chinaums.neimeng.community\n"
     ]
    },
    {
     "name": "stdout",
     "output_type": "stream",
     "text": [
      "生活实用 社区终端\n['我的最爱', '添加或删除', '我的最爱', '支付服务', '特惠服务', '更多']\n['我的最爱', '添加或删除', '我的最爱', '支付服务', '特惠服务', '更多']\ncom.ld.ldm\n/mnt/H_DRIVE/FlowIntent/Location/0/5/com.ld.ldm\n生活实用 脸蛋\n['开启美丽之旅']\ncom.bjfxtx.app.bbshipper\n/mnt/H_DRIVE/FlowIntent/Location/0/5/com.bjfxtx.app.bbshipper\n"
     ]
    },
    {
     "name": "stdout",
     "output_type": "stream",
     "text": [
      "生活实用 叭叭速配货主\n['欢迎货主登录', '请输入手机号', '忘记密码', '登录', '没有帐号立即注册', '立即注册']\ncom.baoyi.LoseWeight\n/mnt/H_DRIVE/FlowIntent/Location/0/5/com.baoyi.LoseWeight\n生活实用 减肥秘籍\n['产后妈妈减肥妙招', '工作久坐型减肥法', '局部瘦身', '瑜伽减肥', '冬季减肥', '减肥食谱', '运动减肥', '药物医疗', '减肥经验', '瘦身图库', '减肥常识', '明星减肥']\ncom.ishow.dlzscw42\n/mnt/H_DRIVE/FlowIntent/Location/0/5/com.ishow.dlzscw42\n生活实用 莱州石材网\n[]\ntv.lemon5.android\n/mnt/H_DRIVE/FlowIntent/Location/0/5/tv.lemon5.android\n生活实用 柠檬\n['精选', 'Show形', '去运动', '明星教练', '场馆', '美胸蜂腰！大受追捧的健身女神', '发布需求', '教练发布', '健身教练', '瑜伽教练', '其他服务', '今日热点', 'MORE<<', '视频', '【柠檬有约】专访世界健美冠军翟彦芳', '精华', '运动邦', '柠檬BAR', '我的']\n['精选', 'Show形', '去运动', '明星教练', '场馆', '签约世界健美冠军 柠檬切入健身市场！', '发布需求', '教练发布', '健身教练', '瑜伽教练', '其他服务', '今日热点', 'MORE<<', '视频', '【柠檬有约】专访世界健美冠军翟彦芳', '精华', '运动邦', '柠檬BAR', '我的']\ncom.mi8so.js_assistant\n/mnt/H_DRIVE/FlowIntent/Location/0/5/com.mi8so.js_assistant\n"
     ]
    },
    {
     "name": "stdout",
     "output_type": "stream",
     "text": [
      "生活实用 面包树职业圈\n[]\n['用户登录', '用户名/邮箱', '自动登录', '登录', 'QQ帐号登录', '忘记密码？', '新用户注册']\ncom.ishow.djnwlysw54\n/mnt/H_DRIVE/FlowIntent/Location/0/5/com.ishow.djnwlysw54\n生活实用 济南物流运输网\n['济南物流运输网', 'Hello world!']\ncom.xmiao.circle\n/mnt/H_DRIVE/FlowIntent/Location/0/5/com.xmiao.circle\n生活实用 亲密360\n['发现新版本', '最新版本: 1.2.3\\n新版本大小: 23.79M\\n\\n更新内容\\n1. 修复若干 bug。\\n', '忽略该版', '立即更新', '以后再说']\ncom.qiaosong.healthbutler\n/mnt/H_DRIVE/FlowIntent/Location/0/5/com.qiaosong.healthbutler\n生活实用 乔松健康管家\n['手工录入', '体检记录', '微信关注', '设置中心', '一键体检', '在线咨询', '医疗档案']\n['手工录入', '体检记录', '微信关注', '设置中心', '一键体检', '在线咨询', '医疗档案']\ncom.droidpiggy.weiqi\n/mnt/H_DRIVE/FlowIntent/Location/0/5/com.droidpiggy.weiqi\n"
     ]
    },
    {
     "name": "stdout",
     "output_type": "stream",
     "text": [
      "生活实用 围棋宝典\n[]\n[]\n[]\n[]\ncom.malangstudio.alarmmon\n/mnt/H_DRIVE/FlowIntent/Location/0/5/com.malangstudio.alarmmon\n \n[]\ncn.dkcare.szysdoctor\n/mnt/H_DRIVE/FlowIntent/Location/0/5/cn.dkcare.szysdoctor\n生活实用 随诊医生\n['随诊医生', '手机号', '输入验证码', '获取验证码', '注册', '登录', '点击“注册”按钮，即表示您已阅读并\\n同意随诊医生用户协议。']\ncc.laowantong.gcw\n/mnt/H_DRIVE/FlowIntent/Location/0/5/cc.laowantong.gcw\n生活实用 就爱广场舞\n['就爱广场舞', '首页', '达人', '舞友圈', '我的']\ncom.weibao.noise\n/mnt/H_DRIVE/FlowIntent/Location/0/5/com.weibao.noise\n生活实用 微保噪声仪\n['测噪声', '实时噪声', '54', '分贝', '我是Q博士，测一测平均值，结果更准确哦！']\ncom.aheading.news.yunnandw\n/mnt/H_DRIVE/FlowIntent/Location/0/5/com.aheading.news.yunnandw\n"
     ]
    },
    {
     "name": "stdout",
     "output_type": "stream",
     "text": [
      "生活实用 云南电网\n['云南电网', '10℃-26℃', '昆明', '新闻', '本地服务', '广场', '投票', '我的', '扫一扫', '报料', '创先为路 逆势图强', '10月29日，在宁蒗公司全面创先推进会上，丽江供电局党委书记肖汉楹指出，“解决宁蒗公司的一切问题只有也必须依靠创先，陈允鹏董事长提出‘越是落后，越要创先’为我们在落后地区全面创先指明了方向，寻甸公司、双柏公司创先所取得的成效为我们提供了经验。', '公司供电所规范化建设“简”“实”见成效', '10月30日，云南电网有限责任公司在玉溪召开2014年县级供电企业创先与规范化建设现场会议，120名会议代表分别到江川的大街、前卫供电所和峨山的小街、化念供电所现场参观交流，玉溪供电局及昆明宜良、楚雄双柏、红河石屏3家供电公司和曲靖麒麟越州、临沧双江勐库、德宏梁河遮岛供电所在会上作了交流发言。', '李纪恒、陈豪为独龙江麻必当电站揭幕', '11月4日上午，云南省委书记李纪恒，省委副书记、代省长陈豪率领省委、省政府调研组深入独龙江麻必当电站视察，亲切看望电站广大建设者，送去省委、省政府对云南电网公司干部员工的亲切问候，为麻必当电站揭幕并启动麻必当电站2号机组。', '薛武要求昆明供电局警钟长鸣筑牢安全生产基础', '10月23日，楚雄局在35千伏东坡变电站开展安全大讨论，班组人员就如何提高安全意识和风险辨识能力，做好风险管控进行了深入的交流和讨论。', '云南日报：为了独龙江群众幸福新生活', '南方电网云南电网有限责任公司主动承担起中央企业的社会责任，将独龙江乡作为对口帮扶对象，不断加大电网投资投入。', '怒江“电矿强州” 电网给足动力做足服务']\ncom.zoomingo\n/mnt/H_DRIVE/FlowIntent/Location/0/5/com.zoomingo\n \n['Pick Favorite Stores', 'DONE', 'Personalize Zoomingo by picking all your favorite stores']\ncom.bsk.sugar\n/mnt/H_DRIVE/FlowIntent/Location/0/5/com.bsk.sugar\n生活实用 血糖高管-糖尿病助手\n['更新提醒', '1.新增血糖表格。\\n2.管血糖页面优化。\\n3.增加勋章，排名系统。\\n4.邀请糖友现金奖励。', '立即更新', '以后再说']\n['登  录', '手机号', '登录', '注册', '忘记密码>>']\n['更新提醒', '1.新增血糖表格。\\n2.管血糖页面优化。\\n3.增加勋章，排名系统。\\n4.邀请糖友现金奖励。', '立即更新', '以后再说']\nme.chunyu.ChunyuDoctor\n/mnt/H_DRIVE/FlowIntent/Location/0/5/me.chunyu.ChunyuDoctor\n生活实用 春雨医生\n['去看看', '点击查看是否有适合您的问题?', '换一组', '脸上长痘痘怎么办？不痒，一个多月了（男，16岁）（图片隐私，无法查看）', '刷牙有作呕感，吐白色的痰，是怎么回事？怎么治疗？（女，19）', '去医院检查，被告知宫颈II度糜烂，该怎么办呢，会不会怕变癌啊？（女，41）', '怀孕生产后长胖好多，想尽快开始节食健身，不想母乳可以吗？', '进入首页', '去提问']\n['去看看', '点击查看是否有适合您的问题?', '换一组', '乳房上有多发小纤维瘤，该怎么治疗？（女，42岁）', '医生您好，近几天大便都有拉血，会不会是肠癌啊，很担心，希望得到您的帮助！（48岁，男）', '刚生产完，想减肥，但是节食母乳不够吃，怎么办呢？（女，28）', '痛经，不想靠药物，有饮食疗法吗？谢谢。（女，17岁）', '进入首页', '去提问']\ncom.yzm.sleep\n/mnt/H_DRIVE/FlowIntent/Location/0/5/com.yzm.sleep\n"
     ]
    },
    {
     "name": "stdout",
     "output_type": "stream",
     "text": [
      "生活实用 香橙\n['个人资料', '根据个人资料', '制定专属睡眠方案']\n['个人资料', '根据个人资料', '制定专属睡眠方案']\ncom.sharejoy.diu\n/mnt/H_DRIVE/FlowIntent/Location/0/5/com.sharejoy.diu\n生活实用 Duang一下\n['输入用户名', '点击登录', '注册']\ncom.cutt.zhiyue.android.app805990\n/mnt/H_DRIVE/FlowIntent/Location/0/5/com.cutt.zhiyue.android.app805990\n生活实用 珠海街坊\n['更新', '新版本已经为您下载完成，是否开始安装？', '取消', '安装']\ncom.cnlaunch.golo3\n/mnt/H_DRIVE/FlowIntent/Location/0/5/com.cnlaunch.golo3\n生活实用 golo\n['建设全球汽车维修保养', '车生活的', 'O2O', '平台']\n['建设全球汽车维修保养', '车生活的', 'O2O', '平台']\n['建设全球汽车维修保养', '车生活的', 'O2O', '平台']\ncom.eku.client\n/mnt/H_DRIVE/FlowIntent/Location/0/5/com.eku.client\n"
     ]
    },
    {
     "name": "stdout",
     "output_type": "stream",
     "text": [
      "生活实用 康大预诊\n['一键登录', '微信帐号登录', 'QQ帐号登录', '新浪微博登录', '已有帐户登录', '输入手机号码', '登录', '快速注册', '找回密码']\ncn.apps123.shell.zhangshangwuliutongTM\n/mnt/H_DRIVE/FlowIntent/Location/0/5/cn.apps123.shell.zhangshangwuliutongTM\n生活实用 掌上物流通\n['首页', '物流企业', '物流新闻', '会员中心', '更多', '搜索你喜欢的内容', '国内陆运', '海运', '空运', '仓储', '货架', '起重设备']\n['首页', '物流企业', '物流新闻', '会员中心', '更多', '搜索你喜欢的内容', '国内陆运', '海运', '空运', '仓储', '货架', '起重设备']\ncom.ibluecollar.pinpin\n/mnt/H_DRIVE/FlowIntent/Location/0/5/com.ibluecollar.pinpin\n生活实用 聘聘\n['登录', '注册']\n['登录', '注册']\ncom.busuu.android.enc\n/mnt/H_DRIVE/FlowIntent/Location/0/5/com.busuu.android.enc\n \n['Which language would you like to learn?', 'English', 'French', 'Spanish', 'German', 'Choose another', 'Already a member?', 'Log in']\ncn.apps123.shell.zhangshangzhixiaoshangcheng\n/mnt/H_DRIVE/FlowIntent/Location/0/5/cn.apps123.shell.zhangshangzhixiaoshangcheng\n"
     ]
    },
    {
     "name": "stdout",
     "output_type": "stream",
     "text": [
      "生活实用 掌上直销商城\n['首页', '商铺', '会员中心', '直销市场', '更多', '搜索你喜欢的内容', '健康', '营养饮食', '时尚', '直销市场', '精品套装', '营养保健品']\ncom.jswapp.android.app\n/mnt/H_DRIVE/FlowIntent/Location/0/5/com.jswapp.android.app\n生活实用 金属网app\n['金属网app', '中国突破发动机单晶叶片核心技术', '新闻资讯', '企业会员', '金属供求', '图片展示', '在线预约', '关于我们', '站内搜索', '一键地图', '一键拨号']\n['金属网app', '中国突破发动机单晶叶片核心技术', '新闻资讯', '企业会员', '金属供求', '图片展示', '在线预约', '关于我们', '站内搜索', '一键地图', '一键拨号']\ncom.ishow.dzjb44\n/mnt/H_DRIVE/FlowIntent/Location/0/5/com.ishow.dzjb44\n"
     ]
    },
    {
     "name": "stdout",
     "output_type": "stream",
     "text": [
      "生活实用 竹胶板\n[]\ncom.ddoctor.user\n/mnt/H_DRIVE/FlowIntent/Location/0/5/com.ddoctor.user\n生活实用 糖医生\n['登录', '手机号', '请输入手机号', '密 码', '登录', '找回密码', '注册账号', '微信登录', 'QQ登录', '不登录，以游客身份进入', '登录出现问题？请联系客服']\ncom.byzone.mishu\n/mnt/H_DRIVE/FlowIntent/Location/0/5/com.byzone.mishu\n生活实用 有派\n['检查提示', '有最新的版本2.1.3,是否更新？', '下次再说', '马上升级']\ncom.zdweilai.WeBrowser.mddj\n/mnt/H_DRIVE/FlowIntent/Location/0/5/com.zdweilai.WeBrowser.mddj\n生活实用 闽东电机\n[]\n[]\ncom.hych.mobile.mip.loseweightexerciseuq\n/mnt/H_DRIVE/FlowIntent/Location/0/5/com.hych.mobile.mip.loseweightexerciseuq\n"
     ]
    },
    {
     "name": "stdout",
     "output_type": "stream",
     "text": [
      "生活实用 最简单有效减肥操\n[]\n[]\ncn.falconnect.shopping.cat\n/mnt/H_DRIVE/FlowIntent/Location/0/5/cn.falconnect.shopping.cat\n生活实用 猫奴\n['猫奴', '推荐', '晒晒', '探秘', '所有', '宠物玩具 小老鼠 狗狗玩具用品 逗猫玩具 响笛小耗子 发声玩具', '￥1.0', '￥1.0', '销量108', '贝多芬宠物/田田猫 山鸡尾巴羽毛铃铛逗猫棒CFA比赛猫玩具猫用品', '￥18.0', '￥18.0', '销量110', '10元选3样 宠物猫猫逗猫玩具羽毛老鼠逗猫型逗猫棒逗猫杆猫猫最爱', '￥4.8', '￥4.8']\ncom.orangefish.app.delicacy\n/mnt/H_DRIVE/FlowIntent/Location/0/5/com.orangefish.app.delicacy\n生活实用 食在方便\n['新版本通知', '目前有較新的版本，是否更新？', '下次再說', '現在更新']\ncom.datouyisheng.robot\n/mnt/H_DRIVE/FlowIntent/Location/0/5/com.datouyisheng.robot\n生活实用 大头医生\n['login', 'user name', 'register', 'login', '登录遇到障碍']\ncom.ibusiness.zggywmh71\n/mnt/H_DRIVE/FlowIntent/Location/0/5/com.ibusiness.zggywmh71\n"
     ]
    },
    {
     "name": "stdout",
     "output_type": "stream",
     "text": [
      "生活实用 中国果业\n['进口水果', '新鲜柑橘', '  ', '  ', '  ', '菜 单', '首 页', '购物车', '订 单', '更 多']\ncom.kaniu.zqdaye\n/mnt/H_DRIVE/FlowIntent/Location/0/5/com.kaniu.zqdaye\n生活实用 手机赚钱大爷\n['推荐号', '输入您的推荐号领取红包', '提 交', '没 有']\n['2.00', '我的余额(元)', '今日收入(元)', '2.00', '昨日收入(元)', '0.00', '身 份', '明 细', '赚钱', '1元=100积分', '招工', '管家越多，奖励越多', '兑换', '一天一次，当天到账', '帮助中心', '怎么玩']\ncom.kukukk.kfkdroid\n/mnt/H_DRIVE/FlowIntent/Location/0/5/com.kukukk.kfkdroid\n生活实用 女生防身手电筒\n[]\ncom.pdw.yw\n/mnt/H_DRIVE/FlowIntent/Location/0/5/com.pdw.yw\n生活实用 因味\n['分享', '专题', '关注', '分享赢积分 和星礼卡一起发现夏趣', '还有2天结束', '90人参与', '立即参与 >', '最新', '推荐']\ncom.ucar.app\n/mnt/H_DRIVE/FlowIntent/Location/0/5/com.ucar.app\n"
     ]
    },
    {
     "name": "stdout",
     "output_type": "stream",
     "text": [
      "生活实用 易车二手车\n['应用程序有新版本更新', '最新版本:5.2\\n5.2版本更新信息\\r\\n1.优化车源列表和车源详情页的用户体验\\r\\n2.风险提示文案修改\\r\\n3.遗留问题修复', '立即更新', '以后再说']\n['应用程序有新版本更新', '最新版本:5.2\\n5.2版本更新信息\\r\\n1.优化车源列表和车源详情页的用户体验\\r\\n2.风险提示文案修改\\r\\n3.遗留问题修复', '立即更新', '以后再说']\ncom.hanweb.android.injgl.jmportal.activity\n/mnt/H_DRIVE/FlowIntent/Location/0/5/com.hanweb.android.injgl.jmportal.activity\n生活实用 南京鼓楼\n[]\ncom.doctortang.activity\n/mnt/H_DRIVE/FlowIntent/Location/0/5/com.doctortang.activity\n生活实用 在线诊所\n['请填写你的手机号码', '登 录', '注 册', '忘记密码?', '立即体验']\ncom.erhuoapp.erhuo\n/mnt/H_DRIVE/FlowIntent/Location/0/5/com.erhuoapp.erhuo\n生活实用 贰货\n[]\ncom.mengbaby\n/mnt/H_DRIVE/FlowIntent/Location/0/5/com.mengbaby\n"
     ]
    },
    {
     "name": "stdout",
     "output_type": "stream",
     "text": [
      "生活实用 萌宝 育儿特卖\n[]\ncom.baidu.homework\n/mnt/H_DRIVE/FlowIntent/Location/0/5/com.baidu.homework\n生活实用 作业帮\n['读题搜索', '回答', '圈子', '作文', '更多', '拍 题']\ncom.inesa.ie.app\n/mnt/H_DRIVE/FlowIntent/Location/0/5/com.inesa.ie.app\n生活实用 上食安\n['序列号验证', '碰一碰', '扫一扫', '输一输', '帮助', '防伪验证', '信息公开', '追溯数据', '更多']\n['序列号验证', '碰一碰', '扫一扫', '输一输', '帮助', '防伪验证', '信息公开', '追溯数据', '更多']\ncom.xyj.qsb\n/mnt/H_DRIVE/FlowIntent/Location/0/5/com.xyj.qsb\n生活实用 牵手邦\n[]\ncom.sookin.jsyuan\n/mnt/H_DRIVE/FlowIntent/Location/0/5/com.sookin.jsyuan\n"
     ]
    },
    {
     "name": "stdout",
     "output_type": "stream",
     "text": [
      "生活实用 今世缘\n['今世缘', '关于我们', '个股资讯', '研究报告', '产品展示', '公司公告', '企业新闻', '专题报告', '行业风向', '供应信息', '今缘文化', '在线留言', '联系我们', '首页', '留言', '资讯', '电话']\ncn.apps123.shell.ningxiamaoyiwang\n/mnt/H_DRIVE/FlowIntent/Location/0/5/cn.apps123.shell.ningxiamaoyiwang\n生活实用 宁夏贸易网\n['首页', '商铺', '会员中心', '产品列表', '更多', '搜索你喜欢的内容', '优惠活动', '购物指南', '常见问题', '售后服务', '服装', '食品']\ncom.baidu.sumeru.tc5530627\n/mnt/H_DRIVE/FlowIntent/Location/0/5/com.baidu.sumeru.tc5530627\n生活实用 北京女神会所\n['m.siteapp.baidu.com/redirect/?from=siteapp&et=0&mask=b1846c602b6aaff5f0be1fd80ad6386f&src=http%3A%2F%2Fweb1.medjk.com']\n['m.siteapp.baidu.com/redirect/?from=siteapp&et=0&mask=b1846c602b6aaff5f0be1fd80ad6386f&src=http%3A%2F%2Fweb1.medjk.com']\ncom.tixa.industry.search2c9480b74b3f1952014b494129210231\n/mnt/H_DRIVE/FlowIntent/Location/0/5/com.tixa.industry.search2c9480b74b3f1952014b494129210231\n生活实用 控制器\n['控制器', '资讯', '供应', '运动控制器（半闭环）四轴步进伺服：ZK(100-400)-MPC2810', '运动控制器（闭环）USB控制可接笔记本：ZK（100-200）-USB', '主页', '热点', '问答', '我的', '设置']\n['控制器', '资讯', 'TH08QB2000-在线可燃气体报警控制器 型号:TH08QB2000', '可燃气体报警控制器由报警监控器和气体探测器等构成,可混合配接多种气体探测器,安装布网方便,实现8路、16路或32路物理量的测量、显示和公共报警控制。当环境中...', '2015-07-11 23:45:19', '麻将机免安装控制器有用吗13818630868麻将机免安装控制器有用吗...', '欧浦钢网b2b平台为您提供麻将机免安装控制器有用吗13818630868麻将机免安装控制器有用吗13818630868的钢材供应信息,及该公司的其他钢材价格报价、库存量等信息,详情请...', '2015-07-11 23:45:19', '供应', '运动控制器（半闭环）四轴步进伺服：ZK(100-400)-MPC2810', '运动控制器（闭环）USB控制可接笔记本：ZK（100-200）-USB', '主页', '热点', '问答', '我的', '设置']"
     ]
    },
    {
     "name": "stdout",
     "output_type": "stream",
     "text": [
      "\ncom.liveyap.timehut\n/mnt/H_DRIVE/FlowIntent/Location/0/5/com.liveyap.timehut\n生活实用 时光小屋\n['Enjoy your memories today, share with your children as they grow up.', 'Sign in with Facebook', 'Use Your Email']\ncn.app024.kuaixiyiShop\n/mnt/H_DRIVE/FlowIntent/Location/0/5/cn.app024.kuaixiyiShop\n生活实用 快洗衣商户端\n['走一走', '上网导航']\ncom.jueye.home\n/mnt/H_DRIVE/FlowIntent/Location/0/5/com.jueye.home\n生活实用 小宝快服\n['小宝快服', ' ']\n['小宝快服', ' ']\ncom.ihaoyisheng.doctor\n/mnt/H_DRIVE/FlowIntent/Location/0/5/com.ihaoyisheng.doctor\n"
     ]
    },
    {
     "name": "stdout",
     "output_type": "stream",
     "text": [
      "生活实用 我爱好医生\n['注册/登录', '好医生网站会员用户名/手机号', '忘记密码? 点此找回', '注册', '登录', '已阅读并同意', '好医生用户隐私与用户协议', '如果你是好医生网站会员,请用其用户名登陆']\ncn.apps123.shell.zhixiangbaozhuangwang\n/mnt/H_DRIVE/FlowIntent/Location/0/5/cn.apps123.shell.zhixiangbaozhuangwang\n生活实用 纸箱包装网\n['行业资讯', '企业黄页', '供/求信息', '会员中心', '更多', '行业资讯', '全部', '行业资讯', '市场动态', '点击排行', '纸箱包装网', '上海的包装大佬们 面对行业的“经济新常态”怎么看', '包装产业作为民生配套的重要部分，在国家经济换挡调速的发展趋势...', '快递包装盒堆成山 能否回收循环再用 ', '春节假期已悄然离去，城区各大快递公司也恢复营业，年前年后的网...']\ncom.mmc.fengshui.pass\n/mnt/H_DRIVE/FlowIntent/Location/0/5/com.mmc.fengshui.pass\n生活实用 风水罗盘实景\n['老黄历', '进入']\norg.zywx.wbpalmstar.widgetone.uex11352097\n/mnt/H_DRIVE/FlowIntent/Location/0/5/org.zywx.wbpalmstar.widgetone.uex11352097\n生活实用 天天团\n[]\n[]\ncom.cxzg.m.hwdgsc\n/mnt/H_DRIVE/FlowIntent/Location/0/5/com.cxzg.m.hwdgsc\n生活实用"
     ]
    },
    {
     "name": "stdout",
     "output_type": "stream",
     "text": [
      " 海外代购商城\n['海外代购商城', '二维码', '留言', '购物车', '平台介绍 ', '主页', '产品分类', '商铺中心', '行业新闻', '会员中心']\n['海外代购商城', '二维码', '留言', '购物车', '平台介绍 ', '主页', '产品分类', '商铺中心', '行业新闻', '会员中心']\ncom.geboshoubu.document\n/mnt/H_DRIVE/FlowIntent/Location/0/5/com.geboshoubu.document\n"
     ]
    },
    {
     "name": "stdout",
     "output_type": "stream",
     "text": [
      "生活实用 胳膊手部穴位图大全\n['123.pdf']\n['温馨提示', '当前为wifi环境，是否开始下载应用？', '立即下载', '残忍拒绝']\ncom.ujuhui.youmiyou.buyer\n/mnt/H_DRIVE/FlowIntent/Location/0/5/com.ujuhui.youmiyou.buyer\n生活实用 有米有\n['选择您的便利店', '华联超市', '便利超市', '润家生活超市上上城二季']\n['选择您的便利店', '华联超市', '便利超市', '润家生活超市上上城二季']\ncn.apps123.shell.henanjiancaiwujin\n/mnt/H_DRIVE/FlowIntent/Location/0/5/cn.apps123.shell.henanjiancaiwujin\n生活实用 河南建材五金\n['首页', '产品', '会员中心', '商铺', '更多', '搜索你喜欢的内容', '优惠活动', '购物指南', '常见问题', '售后服务', '五金挂件', '移门门窗配件']\ncom.bh.cig.mazda\n/mnt/H_DRIVE/FlowIntent/Location/0/5/com.bh.cig.mazda\n生活实用 一汽马自达\n[]\n[]\n"
     ]
    },
    {
     "name": "stdout",
     "output_type": "stream",
     "text": [
      "[]\ncom.fengwo.bookapp\n/mnt/H_DRIVE/FlowIntent/Location/0/5/com.fengwo.bookapp\n生活实用 有书\n['请输入您的手机号', '登录', '忘记密码？']\ncom.dd.community\n/mnt/H_DRIVE/FlowIntent/Location/0/5/com.dd.community\n生活实用 叮咚生活\n['用户登录', '注册', '请输入手机号码', '忘记密码?', '登录']\n['用户登录', '注册', '请输入手机号码', '忘记密码?', '登录']\ncom.imdb.mobile\n/mnt/H_DRIVE/FlowIntent/Location/0/5/com.imdb.mobile\n生活实用 IMDb电影&剧集\n['Sign In', 'Home', 'Movies', 'TV', 'Celebs', 'News', 'YOUR IMDb', 'Watchlist', 'Ratings', 'Notifications', 'Check-Ins']\n['Sign In', 'Home', 'Movies', 'TV', 'Celebs', 'News', 'YOUR IMDb', 'Watchlist', 'Ratings', 'Notifications', 'Check-Ins']\n['Sign In', 'Home', 'Movies', 'TV', 'Celebs', 'News', 'YOUR IMDb', 'Watchlist', 'Ratings', 'Notifications', 'Check-Ins']\ncom.yshstudio.petholiday\n"
     ]
    },
    {
     "name": "stdout",
     "output_type": "stream",
     "text": [
      "/mnt/H_DRIVE/FlowIntent/Location/0/5/com.yshstudio.petholiday\n生活实用 狗狗假日\n[]\ncom.xzec.dahuo.shoper\n/mnt/H_DRIVE/FlowIntent/Location/0/5/com.xzec.dahuo.shoper\n生活实用 打货帮-商户端\n[]\n[]\ninfo.jimao.jimaoinfo\n/mnt/H_DRIVE/FlowIntent/Location/0/5/info.jimao.jimaoinfo\n生活实用 鸡毛生活\n['发现新版本', '新的拔鸡毛栏目\\n修正一些bug\\n安装包大小：4.24M', 'Cancel', '下载']\n['发现新版本', '新的拔鸡毛栏目\\n修正一些bug\\n安装包大小：4.24M', 'Cancel', '下载']\ncn.mydreams.shareboard\n/mnt/H_DRIVE/FlowIntent/Location/0/5/cn.mydreams.shareboard\n"
     ]
    },
    {
     "name": "stdout",
     "output_type": "stream",
     "text": [
      "生活实用 微信分享榜\n['分享榜', '最新', '搞笑', '心理', '生活', '情感', '4S店员工揭秘：这些项目除了让我们多赚点，对你的车并没有什么卵用', '35523 阅读', '泰安女孩注意了，一种“听话水”真可怕，就发生在济南！', '37109 阅读', '致我们终将延误或取消的那些航班', '35104 阅读']\ncom.android.daoway\n/mnt/H_DRIVE/FlowIntent/Location/0/5/com.android.daoway\n生活实用 到位服务汇\n[]\n[]\ncom.yetu.appliction\n/mnt/H_DRIVE/FlowIntent/Location/0/5/com.yetu.appliction\n生活实用 野途\n['登录', '手机号码', '忘记密码?', '登录', '注册']\n['登录', '手机号码', '忘记密码?', '登录', '注册']\ncom.ishow.dshylw42\n/mnt/H_DRIVE/FlowIntent/Location/0/5/com.ishow.dshylw42\n生活实用 上海娱乐网\n[]\ncom.ss.android.article.news\n/mnt/H_DRIVE/FlowIntent/Location/0/5/com.ss.android.article.news\n"
     ]
    },
    {
     "name": "stdout",
     "output_type": "stream",
     "text": [
      "生活实用 今日头条\n['头条更新啦！', '1.列表页增加「上次看到这里」提示，点击可快速刷新；\\n2.优化频道管理中频道排序的使用体验；\\n3.发现页面、评论详情页加载速度优化；\\n', '立即\\n升级', '以后再说']\n['推荐', '热点', '本地', '视频', '社会', '订阅', '2015.07.11\\u3000星期六', '今天', '公安部揭“维权”事件黑幕：律师勾结假访民闹事', '热', '手机人民网', '评论\\xa014', '台风“灿鸿”登陆舟山 浙江转移106万人', '热', '京华时报', '评论\\xa0573', '著名经济学家成思危逝世 被称为中国创业板之父', '热', '新浪财经', '评论\\xa031', '20分钟前', '美女赶时间裸身上电梯', '黄序佳', '评论\\xa062', '摄影师实拍90年代女囚狱中私生活']\ncom.sikaodigua.view\n/mnt/H_DRIVE/FlowIntent/Location/0/5/com.sikaodigua.view\n生活实用 思考地瓜\n['思考地瓜', '发现', '爱情', '健康', '事业', '更多', '摇一摇', '随便看']\ncom.douban.frodo\n/mnt/H_DRIVE/FlowIntent/Location/0/5/com.douban.frodo\n"
     ]
    },
    {
     "name": "stdout",
     "output_type": "stream",
     "text": [
      "生活实用 豆瓣\n['关注豆列', '在首屏获得内容更新', '下一步']\n['关注豆列', '在首屏获得内容更新', '下一步']\n['关注豆列', '在首屏获得内容更新', '下一步']\ncom.iflytek.cmcc\n/mnt/H_DRIVE/FlowIntent/Location/0/5/com.iflytek.cmcc\n社交通讯 灵犀语音助手\n['有新版本需要更新', '提醒功能全面升级！\\n -全新界面，视觉多彩，操作便捷\\n -新增贴心提醒，提醒你带伞喝水早睡觉，更多智能玩法体验即知\\n -每个提醒可单独设置震动和延时时长\\n 【其他重要更新】\\n -新增短视频和网址导航卡片，热门资讯一手掌握\\n -支持锁屏界面下摇一摇启动语音麦克风\\n -点歌功能升级，支持三网用户互相点歌\\n -广告可拦截，减少网页广告骚扰\\n', '取 消', '更 新']\ncom.tixa.industry.search2c9480b74c36430f014c3664573f0023\n/mnt/H_DRIVE/FlowIntent/Location/0/5/com.tixa.industry.search2c9480b74c36430f014c3664573f0023\n生活实用 三元催化剂\n['三元催化剂', '资讯', '供应', '主页', '热点', '问答', '我的', '设置']\npts.PhoneGap.namespace_jymh1830\n/mnt/H_DRIVE/FlowIntent/Location/0/5/pts.PhoneGap.namespace_jymh1830\n生活实用 胶业门户\n"
     ]
    },
    {
     "name": "stdout",
     "output_type": "stream",
     "text": [
      "['今日热点', '行业动态', '产品中心', '政策法规', '搜索', 'EVE热熔胶膜', 'PES热熔胶膜', '无基材热熔胶膜', 'TPU热熔胶膜', '高分子热熔胶膜']\ncom.ishow.dtyyz96\n/mnt/H_DRIVE/FlowIntent/Location/0/5/com.ishow.dtyyz96\n生活实用 天御泳装\n[]\n[]\n/mnt/H_DRIVE/FlowIntent/Location/0\n/mnt/H_DRIVE/FlowIntent/Location/0\n/mnt/H_DRIVE/FlowIntent/Location/0\n/mnt/H_DRIVE/FlowIntent/Location/0\n/mnt/H_DRIVE/FlowIntent/Location/0\n/mnt/H_DRIVE/FlowIntent/Location/0\n/mnt/H_DRIVE/FlowIntent/Location/0\n/mnt/H_DRIVE/FlowIntent/Location/0\n/mnt/H_DRIVE/FlowIntent/Location/0\n/mnt/H_DRIVE/FlowIntent/Location/0\n/mnt/H_DRIVE/FlowIntent/Location/0\n/mnt/H_DRIVE/FlowIntent/Location/0\n/mnt/H_DRIVE/FlowIntent/Location/0\n/mnt/H_DRIVE/FlowIntent/Location/0\n/mnt/H_DRIVE/FlowIntent/Location/0\n/mnt/H_DRIVE/FlowIntent/Location/0\n/mnt/H_DRIVE/FlowIntent/Location/0\n/mnt/H_DRIVE/FlowIntent/Location/0\n/mnt/H_DRIVE/FlowIntent/Location/0\n/mnt/H_DRIVE/FlowIntent/Location/0\n/mnt/H_DRIVE/FlowIntent/Location/0\n/mnt/H_DRIVE/FlowIntent/Location/0\n/mnt/H_DRIVE/FlowIntent/Location/0\n/mnt/H_DRIVE/FlowIntent/Location/0\n/mnt/H_DRIVE/FlowIntent/Location/0\n/mnt/H_DRIVE/FlowIntent/Location/0\n/mnt/H_DRIVE/FlowIntent/Location/0\n/mnt/H_DRIVE/FlowIntent/Location/0\n/mnt/H_DRIVE/FlowIntent/Location/0\n/mnt/H_DRIVE/FlowIntent/Location/0\n/mnt/H_DRIVE/FlowIntent/Location/0\ncn.myapp.mobile\n/mnt/H_DRIVE/FlowIntent/Location/0/5/cn.myapp.mobile/cn.myapp.mobile\n生活实用 嘿车\n['登录', '注册', '请输入用户名', '记住密码', '忘记密码', '登录', '退出', '我已阅读本软件协议全部内容']\n/mnt/H_DRIVE/FlowIntent/Location/0\n/mnt/H_DRIVE/FlowIntent/Location/0\n/mnt/H_DRIVE/FlowIntent/Location/0\ncom.pingan.pinganwifi\n/mnt/H_DRIVE/FlowIntent/Location/0/5/com.pingan.pinganwifi/com.pingan.pinganwifi\n"
     ]
    },
    {
     "name": "stdout",
     "output_type": "stream",
     "text": [
      "生活实用 平安WiFi\n['软件更新', '发现新版本\\t\\t3.0.8\\n\\n更新日志\\n\\t修复了一些bug，优化产品体验。', '下载更新']\n/mnt/H_DRIVE/FlowIntent/Location/0\n/mnt/H_DRIVE/FlowIntent/Location/0\ncom.fangmi.fmm.property\n/mnt/H_DRIVE/FlowIntent/Location/0/5/com.fangmi.fmm.property/com.fangmi.fmm.property\n生活实用 房米全民中介\n['会员登录', '请输入手机号码', '忘记密码', '登   录', '注  册']\n['会员登录', '请输入手机号码', '忘记密码', '登   录', '注  册']\n/mnt/H_DRIVE/FlowIntent/Location/0\n/mnt/H_DRIVE/FlowIntent/Location/0\n/mnt/H_DRIVE/FlowIntent/Location/0\n/mnt/H_DRIVE/FlowIntent/Location/0\n/mnt/H_DRIVE/FlowIntent/Location/0\ncom.dangdang.reader\n/mnt/H_DRIVE/FlowIntent/Location/0/5/com.dangdang.reader/com.dangdang.reader\n生活实用 当当读书\n[]\n/mnt/H_DRIVE/FlowIntent/Location/0\n/mnt/H_DRIVE/FlowIntent/Location/0\n/mnt/H_DRIVE/FlowIntent/Location/0\n/mnt/H_DRIVE/FlowIntent/Location/0\n/mnt/H_DRIVE/FlowIntent/Location/0\n/mnt/H_DRIVE/FlowIntent/Location/0\n/mnt/H_DRIVE/FlowIntent/Location/0\n/mnt/H_DRIVE/FlowIntent/Location/0\n/mnt/H_DRIVE/FlowIntent/Location/0\n/mnt/H_DRIVE/FlowIntent/Location/0\n/mnt/H_DRIVE/FlowIntent/Location/0\n/mnt/H_DRIVE/FlowIntent/Location/0\n/mnt/H_DRIVE/FlowIntent/Location/0\n/mnt/H_DRIVE/FlowIntent/Location/0\n/mnt/H_DRIVE/FlowIntent/Location/0\ncom.xcar.activity\n/mnt/H_DRIVE/FlowIntent/Location/0/5/com.xcar.activity/com.xcar.activity\n生活实用 爱卡汽车\n"
     ]
    },
    {
     "name": "stdout",
     "output_type": "stream",
     "text": [
      "['最新', '视频', '新闻', '导购', '评测', '行情', '奥迪在华下调销量目标 斥12亿补贴4S店', '2015-07-21', '5', '行业新闻', '上汽乘用车组织架构调整 40位中层换防', '2015-07-21', '2', '行业新闻', '爱买车3.0全新改版 打造一站式购车体验', '直面泷泽萝拉 热爱赛车运动的邻家女孩', '首页', '论坛', '找车', '降价']\n/mnt/H_DRIVE/FlowIntent/Location/0\n/mnt/H_DRIVE/FlowIntent/Location/0\n/mnt/H_DRIVE/FlowIntent/Location/0\n/mnt/H_DRIVE/FlowIntent/Location/0\n/mnt/H_DRIVE/FlowIntent/Location/0\n/mnt/H_DRIVE/FlowIntent/Location/0\n/mnt/H_DRIVE/FlowIntent/Location/0\n/mnt/H_DRIVE/FlowIntent/Location/0\n/mnt/H_DRIVE/FlowIntent/Location/0\n/mnt/H_DRIVE/FlowIntent/Location/0\n/mnt/H_DRIVE/FlowIntent/Location/0\n/mnt/H_DRIVE/FlowIntent/Location/0\n/mnt/H_DRIVE/FlowIntent/Location/0\n/mnt/H_DRIVE/FlowIntent/Location/0\n/mnt/H_DRIVE/FlowIntent/Location/0\n/mnt/H_DRIVE/FlowIntent/Location/0\n/mnt/H_DRIVE/FlowIntent/Location/0\n/mnt/H_DRIVE/FlowIntent/Location/0\n/mnt/H_DRIVE/FlowIntent/Location/0\n/mnt/H_DRIVE/FlowIntent/Location/0\n/mnt/H_DRIVE/FlowIntent/Location/0\n/mnt/H_DRIVE/FlowIntent/Location/0\n/mnt/H_DRIVE/FlowIntent/Location/0\n/mnt/H_DRIVE/FlowIntent/Location/0\n/mnt/H_DRIVE/FlowIntent/Location/0\n/mnt/H_DRIVE/FlowIntent/Location/0\ncom.eku.client\n/mnt/H_DRIVE/FlowIntent/Location/0/5/com.eku.client/com.eku.client\n生活实用 康大预诊\n['一键登录', '微信帐号登录', 'QQ帐号登录', '新浪微博登录', '已有帐户登录', '输入手机号码', '登录', '快速注册', '找回密码']\n/mnt/H_DRIVE/FlowIntent/Location/0\n/mnt/H_DRIVE/FlowIntent/Location/0\n/mnt/H_DRIVE/FlowIntent/Location/0\n/mnt/H_DRIVE/FlowIntent/Location/0\n/mnt/H_DRIVE/FlowIntent/Location/0\n/mnt/H_DRIVE/FlowIntent/Location/0\n/mnt/H_DRIVE/FlowIntent/Location/0\n/mnt/H_DRIVE/FlowIntent/Location/0\n/mnt/H_DRIVE/FlowIntent/Location/0\n/mnt/H_DRIVE/FlowIntent/Location/0\n/mnt/H_DRIVE/FlowIntent/Location/0\n/mnt/H_DRIVE/FlowIntent/Location/0\n/mnt/H_DRIVE/FlowIntent/Location/0\n/mnt/H_DRIVE/FlowIntent/Location/0\n/mnt/H_DRIVE/FlowIntent/Location/0\n/mnt/H_DRIVE/FlowIntent/Location/0\n/mnt/H_DRIVE/FlowIntent/Location/0\n/mnt/H_DRIVE/FlowIntent/Location/0\n/mnt/H_DRIVE/FlowIntent/Location/0\n/mnt/H_DRIVE/FlowIntent/Location/0\n/mnt/H_DRIVE/FlowIntent/Location/0\n/mnt/H_DRIVE/FlowIntent/Location/0\n/mnt/H_DRIVE/FlowIntent/Location/0\ncom.mengbaby\n/mnt/H_DRIVE/FlowIntent/Location/0/5/com.mengbaby/com.mengbaby\n生活实用 萌宝 育儿特卖\n[]\n/mnt/H_DRIVE/FlowIntent/Location/0\n/mnt/H_DRIVE/FlowIntent/Location/0\ncom.baidu.homework\n/mnt/H_DRIVE/FlowIntent/Location/0/5/com.baidu.homework/com.baidu.homework\n"
     ]
    },
    {
     "name": "stdout",
     "output_type": "stream",
     "text": [
      "生活实用 作业帮\n['V4.9.2正式发布啦！', '马上体验更快的搜题吧', '立即升级', '已有84.1%的同学完成升级']\n['提 问 记 录', '读题搜索', '拍题', '回答', '作文', '更多']\n/mnt/H_DRIVE/FlowIntent/Location/0\n/mnt/H_DRIVE/FlowIntent/Location/0\n/mnt/H_DRIVE/FlowIntent/Location/0\ncom.xyj.qsb\n/mnt/H_DRIVE/FlowIntent/Location/0/5/com.xyj.qsb/com.xyj.qsb\n生活实用 牵手邦\n[]\n[]\n/mnt/H_DRIVE/FlowIntent/Location/0\n/mnt/H_DRIVE/FlowIntent/Location/0\n/mnt/H_DRIVE/FlowIntent/Location/0\n/mnt/H_DRIVE/FlowIntent/Location/0\n/mnt/H_DRIVE/FlowIntent/Location/0\n/mnt/H_DRIVE/FlowIntent/Location/0\n/mnt/H_DRIVE/FlowIntent/Location/0\n/mnt/H_DRIVE/FlowIntent/Location/0\n/mnt/H_DRIVE/FlowIntent/Location/0\n/mnt/H_DRIVE/FlowIntent/Location/0\n/mnt/H_DRIVE/FlowIntent/Location/0\n/mnt/H_DRIVE/FlowIntent/Location/0\n/mnt/H_DRIVE/FlowIntent/Location/0\n/mnt/H_DRIVE/FlowIntent/Location/0\n/mnt/H_DRIVE/FlowIntent/Location/0\n/mnt/H_DRIVE/FlowIntent/Location/0\n/mnt/H_DRIVE/FlowIntent/Location/0\n/mnt/H_DRIVE/FlowIntent/Location/0\n/mnt/H_DRIVE/FlowIntent/Location/0\n/mnt/H_DRIVE/FlowIntent/Location/0\n/mnt/H_DRIVE/FlowIntent/Location/0\n/mnt/H_DRIVE/FlowIntent/Location/0\n/mnt/H_DRIVE/FlowIntent/Location/0\n/mnt/H_DRIVE/FlowIntent/Location/0\n/mnt/H_DRIVE/FlowIntent/Location/0\n/mnt/H_DRIVE/FlowIntent/Location/0\n/mnt/H_DRIVE/FlowIntent/Location/0\n/mnt/H_DRIVE/FlowIntent/Location/0\ncom.ss.android.article.news\n/mnt/H_DRIVE/FlowIntent/Location/0/5/com.ss.android.article.news/com.ss.android.article.news\n生活实用 今日头条\n['推荐', '热点', '本地', '视频', '社会', '订阅', '2015.07.21\\u3000星期二', '今天', 'A股休市4天纪念抗战', '热', '手机央广网', '评论\\xa03335', '刚刚', '山东原常委颜世元被降为副厅级 知情人：他心态不错', '热', '手机凤凰网', '评论\\xa00', '10分钟前', '国务院任免香港特别行政区政府主要官员', '热', '手机人民网', '评论\\xa011', '20分钟前', '乐Max,128G金色版震撼首发！极限 生来独孤求', '推广', '乐视超级手机', '评论\\xa076', '我一直为富豪老板开车门，直到他死后我才得知他的秘密', '谈客', '评论\\xa02982', '历史不容忘记！揭秘侵华日军最畜生的第六师团 曾血洗南京！']\n/mnt/H_DRIVE/FlowIntent/Location/0\n/mnt/H_DRIVE/FlowIntent/Location/0\n/mnt/H_DRIVE/FlowIntent/Location/0\n/mnt/H_DRIVE/FlowIntent/Location/0\n/mnt/H_DRIVE/FlowIntent/Location/0\n/mnt/H_DRIVE/FlowIntent/Location/0\n/mnt/H_DRIVE/FlowIntent/Location/0\n/mnt/H_DRIVE/FlowIntent/Location/0\nmy.googlemusic.play\n/mnt/H_DRIVE/FlowIntent/Location/0/Play_win8/my.googlemusic.play\n[]"
     ]
    },
    {
     "name": "stdout",
     "output_type": "stream",
     "text": [
      "\n['Keyboard…']\n['Contact Us', '©2016 mymixtapez.com', 'App version 6.0.65', 'Terms and Conditions.', 'Privacy Policy', 'Send Feedback/Tech Support', 'If you are contacting us about uploading a mixtape or any technical issue on the app.', 'Sales and Promotion', 'Interested in having your mixtape featured on the front?\\nGet in touch with our sales team.', '.................................................................................................................', 'Digital Millennium Copyright Act.', 'If you are legal representative, contact us.']\n['Dude', '450', 'Favorites', '3540', 'Followers', '239', 'Following', 'Edit Profile', 'Guilherme Dourado', \"When I talk about money all you see is the struggle/ When I tell you I'm livin' large, you tell me it's trouble.\", 'Recent Played Artists']\n['E-mail / Username', 'Log in', 'Sign in with Google', \"Don't have an account?\", 'Create Account', 'Forgot your password?', 'Click here', 'Skip', 'registering for now']\n[]\n[]\n['Dude', '450', 'Favorites', '3540', 'Followers', '239', 'Following', 'Edit Profile', 'Guilherme Dourado', \"When I talk about money all you see is the struggle/ When I tell you I'm livin' large, you tell me it's trouble.\", 'Recent Played Artists']\n['Dude', '450', 'Favorites', '3540', 'Followers', '239', 'Following', 'Edit Profile', 'Guilherme Dourado', \"When I talk about money all you see is the struggle/ When I tell you I'm livin' large, you tell me it's trouble.\", 'Recent Played Artists']\ncom.mangaworld2.manga_thai3\n/mnt/H_DRIVE/FlowIntent/Location/0/Play_win8/com.mangaworld2.manga_thai3\n['เมื่อเร็ว ๆ นี้เราได้เปิดตัวแอปพลิเคชันเวอร์ชันใหม่อย่างสมบูรณ์เวอร์ชันนี้ได้ปรับปรุงประสิทธิภาพและรวมภาษาที่มีอยู่ทั้งหมดแล้วโปรดไปที่ http://mangaworldapp.com เพื่อดาวน์โหลดแอปเวอร์ชันล่าสุด เมื่อใช้เวอร์ชันใหม่เมื่อลงชื่อเข้าใช้ด้วยบัญชี Google ในแอป \"Remove Ad\" จะยังคงได้รับการเรียกคืน', 'ไม่', 'ใช่']\n['เมื่อเร็ว ๆ นี้เราได้เปิดตัวแอปพลิเคชันเวอร์ชันใหม่อย่างสมบูรณ์เวอร์ชันนี้ได้ปรับปรุงประสิทธิภาพและรวมภาษาที่มีอยู่ทั้งหมดแล้วโปรดไปที่ http://mangaworldapp.com เพื่อดาวน์โหลดแอปเวอร์ชันล่าสุด เมื่อใช้เวอร์ชันใหม่เมื่อลงชื่อเข้าใช้ด้วยบัญชี Google ในแอป \"Remove Ad\" จะยังคงได้รับการเรียกคืน', 'ไม่', 'ใช่']\n['เมื่อเร็ว ๆ นี้เราได้เปิดตัวแอปพลิเคชันเวอร์ชันใหม่อย่างสมบูรณ์เวอร์ชันนี้ได้ปรับปรุงประสิทธิภาพและรวมภาษาที่มีอยู่ทั้งหมดแล้วโปรดไปที่ http://mangaworldapp.com เพื่อดาวน์โหลดแอปเวอร์ชันล่าสุด เมื่อใช้เวอร์ชันใหม่เมื่อลงชื่อเข้าใช้ด้วยบัญชี Google ในแอป \"Remove Ad\" จะยังคงได้รับการเรียกคืน', 'ไม่', 'ใช่']\n['เมื่อเร็ว ๆ นี้เราได้เปิดตัวแอปพลิเคชันเวอร์ชันใหม่อย่างสมบูรณ์เวอร์ชันนี้ได้ปรับปรุงประสิทธิภาพและรวมภาษาที่มีอยู่ทั้งหมดแล้วโปรดไปที่ http://mangaworldapp.com เพื่อดาวน์โหลดแอปเวอร์ชันล่าสุด เมื่อใช้เวอร์ชันใหม่เมื่อลงชื่อเข้าใช้ด้วยบัญชี Google ในแอป \"Remove Ad\" จะยังคงได้รับการเรียกคืน', 'ไม่', 'ใช่']\ncom.emojifamily.emoji.keyboard.art.love\n/mnt/H_DRIVE/FlowIntent/Location/0/Play_win8/com.emojifamily.emoji.keyboard.art.love\n['Love']\n[]\n['Love']\n['Love']\n['Love', 'Loading...']\n[]\ncom.emojifamily.emoji.keyboard.sticker.Graffiti\n/mnt/H_DRIVE/FlowIntent/Location/0/Play_win8/com.emojifamily.emoji.keyboard.sticker.Graffiti\n['Graffiti', 'Loading...']\n['Apply Success!', 'Please click here to use sticker', 'OK', '25 Best Cities To Retire In California', 'Learn more', 'AD']\n[]\n['Activate', 'More Stickers']\ncom.zillow.android.streeteasy\n/mnt/H_DRIVE/FlowIntent/Location/0/Play_win8/com.zillow.android.streeteasy\n[]\n['Sign In', 'Sign in to save listings and access your saved data from any device', 'Email', 'Show', 'Sign in', \"Don't have an account? Register.\", 'Reset Password']\n['Map', 'Street View']\n['StreetEasy', 'Version  ()\\n31.12.1969 - 0.00 MB', 'Update']\n[]\n[\"Please enter your HockeyApp account's email address and password to authorize access to this app.\", 'Email', 'Login']\n['Filter', 'Save Search', '11,729 SALES', 'Price', 'No Min - No Max', 'Beds', 'Any', '1+', '2+', '3+', '4+', 'Exact', 'Baths', 'Any', '1+', '1.5+', '2+', '2.5+', '3.0+', 'Amenities', 'Any', 'Pets OK', 'Elevator', 'Doorman', 'More', 'Home Type', 'Any', 'More Options', 'Close']\n['Zettingz', 'Google Analytics', 'Log GA to console/file', 'Experiments', 'Toggle HDP Variant Experiments', 'Current', 'Toggle Rental Scheduler', 'Toggle Heart Icon', 'Toggle Bottom Nav Experiment', 'Other', 'API Endpoint', 'Production', 'Masquerade', 'None', 'Is Canadian IP?']\n['Name', 'Email', 'Subject', 'Message', 'Add Attachment', 'Send Feedback']\n['Filter', 'Save Search', '11,729 SALES', 'Price', 'No Min - No Max', 'Beds', 'Any', '1+', '2+', '3+', '4+', 'Exact', 'Baths', 'Any', '1+', '1.5+', '2+', '2.5+', '3.0+', 'Amenities', 'Any', 'Pets OK', 'Elevator', 'Doorman', 'More', 'Home Type', 'Any', 'More Options', 'Close']\n['New Version!', 'Please take a moment to upgrade to the latest version of the StreetEasy app!', 'Cancel', 'Update']\n['Building Listings']\n[]\n[\"Please enter your HockeyApp account's email address and password to authorize access to this app.\", 'Email', 'Login']\n[]\n['New Version!', 'Please take a moment to upgrade to the latest version of the StreetEasy app!', 'Cancel', 'Update']\n['Filter', 'Save Search', '11,728 SALES', 'Price', 'No Min - No Max', 'Beds', 'Any', '1+', '2+', '3+', '4+', 'Exact', 'Baths', 'Any', '1+', '1.5+', '2+', '2.5+', '3.0+', 'Amenities', 'Any', 'Pets OK', 'Elevator', 'Doorman', 'More', 'Home Type', 'Any', 'More Options', 'Close']\n['Settings', 'Notifications', 'Recent Search Updates', 'Notifications', 'Recent Search Updates', 'Feedback', 'Rate This App', 'Send Feedback Email', 'Rate This App', 'Send Feedback Email', 'About', 'Privacy Policy', 'Terms of Use', 'Privacy Policy', 'Terms of Use', 'Crash data was sent to make this app better. Thanks!']\n['New Version!', 'Please take a moment to upgrade to the latest version of the StreetEasy app!', 'Cancel', 'Update']\nwinxnews.apuim\n/mnt/H_DRIVE/FlowIntent/Location/0/Play_win8/winxnews.apuim\n['Unfortunately, WinxNews!! has stopped.', 'OK']\n['Unfortunately, WinxNews!! has stopped.', 'OK']\n['Unfortunately, WinxNews!! has stopped.', 'OK']\n['Unfortunately, the process com.android.phone has stopped.', 'OK']\n['Unfortunately, WinxNews!! has stopped.', 'OK']\n['Please, complete your profile', 'Accept']\n['Unfortunately, WinxNews!! has stopped.', 'OK']\n['Unfortunately, WinxNews!! has stopped.', 'OK']\n['Please, complete your profile', 'Accept']\n['Unfortunately, WinxNews!! has stopped.', 'OK']\n['Unfortunately, WinxNews!! has stopped.', 'OK']\n[]\n['Unfortunately, WinxNews!! has stopped.', 'OK']\n['Unfortunately, WinxNews!! has stopped.', 'OK']\n['Unfortunately, WinxNews!! has stopped.', 'OK']\n[]\n['Unfortunately, WinxNews!! has stopped.', 'OK']\n['Private chats history', \"· There aren't private chats.\\n\\n· You can create a private chat with a user by clicking one of his messages.\"]\n['News', 'Chat Winxer', 'Winxers World', 'Unboxing & Review', 'Music & Karaoke', 'Full Episodes']\n['Unfortunately, WinxNews!! has stopped.', 'OK']\n['Ringtones Whatsapp', 'Phone', 'People', 'Messaging', 'Browser']\n[]\ncom.mangaworld2.manga_online\n/mnt/H_DRIVE/FlowIntent/Location/0/Play_win8/com.mangaworld2.manga_online"
     ]
    },
    {
     "name": "stdout",
     "output_type": "stream",
     "text": [
      "\n['Recently we have released version completely new application, this version has improved performance and integrating all existing languages, please visit http://mangaworldapp.com to download the latest version of the app. With the new version, when you sign in with your Google Account in the app, \"Remove Ad\" will still be restored.', 'No', 'Yes']\n['Recently we have released version completely new application, this version has improved performance and integrating all existing languages, please visit http://mangaworldapp.com to download the latest version of the app. With the new version, when you sign in with your Google Account in the app, \"Remove Ad\" will still be restored.', 'No', 'Yes']\n['Recently we have released version completely new application, this version has improved performance and integrating all existing languages, please visit http://mangaworldapp.com to download the latest version of the app. With the new version, when you sign in with your Google Account in the app, \"Remove Ad\" will still be restored.', 'No', 'Yes']\n['Recently we have released version completely new application, this version has improved performance and integrating all existing languages, please visit http://mangaworldapp.com to download the latest version of the app. With the new version, when you sign in with your Google Account in the app, \"Remove Ad\" will still be restored.', 'No', 'Yes']\nnet.nakvic.dromoris\n/mnt/H_DRIVE/FlowIntent/Location/0/Play_win8/net.nakvic.dromoris\n['August 23, 2017', 'Wednesday', '11:11AM', 'Recordings available: 0 track(s)', 'New memory...', 'TAGS', 'Enter tags here', 'PEOPLE']\n['August 23, 2017', 'Wednesday', '11:11AM', 'Recordings available: 0 track(s)', 'New memory...', 'TAGS', 'Enter tags here', 'PEOPLE']\n['August 23, 2017', 'Wednesday', '11:11AM', 'Recordings available: 0 track(s)', 'New memory...', 'TAGS', 'Enter tags here', 'PEOPLE']\n['August 23, 2017', 'Wednesday', '11:11AM', 'Recordings available: 0 track(s)', 'New memory...', 'TAGS', 'Enter tags here', 'PEOPLE']\n['August 23, 2017', 'Wednesday', '11:11AM', 'Recordings available: 0 track(s)', 'New memory...', 'TAGS', 'Enter tags here', 'PEOPLE']\n['August 23, 2017', 'Wednesday', '11:11AM', 'Recordings available: 0 track(s)', 'New memory...', 'TAGS', 'Enter tags here', 'PEOPLE']\ncom.mangaworld2.italiano_manga2\n/mnt/H_DRIVE/FlowIntent/Location/0/Play_win8/com.mangaworld2.italiano_manga2\n['Di recente abbiamo rilasciato versione completamente nuova, questa versione ha migliorato le prestazioni e integra tutte le lingue esistenti, per favore scarica http://mangaworldapp.com per scaricare la versione più recente dell\\'app. Con la nuova versione, quando accedi con il tuo account Google nell\\'app, verrà rimessa \"Rimuovi annuncio\".', 'Non', 'Sì']\n['Di recente abbiamo rilasciato versione completamente nuova, questa versione ha migliorato le prestazioni e integra tutte le lingue esistenti, per favore scarica http://mangaworldapp.com per scaricare la versione più recente dell\\'app. Con la nuova versione, quando accedi con il tuo account Google nell\\'app, verrà rimessa \"Rimuovi annuncio\".', 'Non', 'Sì']\n['Di recente abbiamo rilasciato versione completamente nuova, questa versione ha migliorato le prestazioni e integra tutte le lingue esistenti, per favore scarica http://mangaworldapp.com per scaricare la versione più recente dell\\'app. Con la nuova versione, quando accedi con il tuo account Google nell\\'app, verrà rimessa \"Rimuovi annuncio\".', 'Non', 'Sì']\n['Di recente abbiamo rilasciato versione completamente nuova, questa versione ha migliorato le prestazioni e integra tutte le lingue esistenti, per favore scarica http://mangaworldapp.com per scaricare la versione più recente dell\\'app. Con la nuova versione, quando accedi con il tuo account Google nell\\'app, verrà rimessa \"Rimuovi annuncio\".', 'Non', 'Sì']\ncom.emojifamily.emoji.keyboard.sticker.CuteYellowGif\n/mnt/H_DRIVE/FlowIntent/Location/0/Play_win8/com.emojifamily.emoji.keyboard.sticker.CuteYellowGif\n['Apply Success!', 'Please click here to use sticker', 'OK', 'Great Deal for Red Italian Wine Lovers!', 'Shop Now', 'AD']\n['Apply Success!', 'Please click here to use sticker', 'OK', \"Pregnant? Here's What You Need to Know\", 'Read More', 'AD']\n['Activate', 'Feel Lucky']\n['Activate', 'Feel Lucky']\ncom.digitaloutcrop.mixology\n/mnt/H_DRIVE/FlowIntent/Location/0/Play_win8/com.digitaloutcrop.mixology\n['Bourbon Ball', 'Whipped Cream, Heavy Cream, Makers Mark Bourbon, DeKuyper Hazelnut Liqueur, Dekuyper® Crème de Cocoa White', 'Broken Leg', 'Jim Beam® Bourbon Whiskey, Hot Apple Cider', 'Ghost Old Fashioned', 'Club Soda, Orange(s), Angostura Bitters, Cherry, Sugar Cubes, Jacob’s Ghost® White Whiskey', 'Mexican Mule', 'Ginger Beer, Lime, Sauza® 901® Tequila']\n['Drink Details']"
     ]
    },
    {
     "name": "stderr",
     "output_type": "stream",
     "text": [
      "2018-02-16 20:25:35,197 - InstanceHandler - INFO - neg: 1025\n"
     ]
    },
    {
     "name": "stdout",
     "output_type": "stream",
     "text": [
      "\ncom.mangaworld2.manga_russian2\n/mnt/H_DRIVE/FlowIntent/Location/0/Play_win8/com.mangaworld2.manga_russian2\n['Недавно мы выпустили версию совершенно нового приложения, эта версия улучшила производительность и интегрировала все существующие языки, пожалуйста, посетите http://mangaworldapp.com для загрузки последней версии приложения. С новой версией при входе в аккаунт с учетной записью Google «Удалить объявление» все равно будет восстановлено.', 'нет', 'да']\n['Недавно мы выпустили версию совершенно нового приложения, эта версия улучшила производительность и интегрировала все существующие языки, пожалуйста, посетите http://mangaworldapp.com для загрузки последней версии приложения. С новой версией при входе в аккаунт с учетной записью Google «Удалить объявление» все равно будет восстановлено.', 'нет', 'да']\n['Недавно мы выпустили версию совершенно нового приложения, эта версия улучшила производительность и интегрировала все существующие языки, пожалуйста, посетите http://mangaworldapp.com для загрузки последней версии приложения. С новой версией при входе в аккаунт с учетной записью Google «Удалить объявление» все равно будет восстановлено.', 'нет', 'да']\n['Недавно мы выпустили версию совершенно нового приложения, эта версия улучшила производительность и интегрировала все существующие языки, пожалуйста, посетите http://mangaworldapp.com для загрузки последней версии приложения. С новой версией при входе в аккаунт с учетной записью Google «Удалить объявление» все равно будет восстановлено.', 'нет', 'да']\ncom.emojifamily.emoji.keyboard.sticker.BeerGif\n/mnt/H_DRIVE/FlowIntent/Location/0/Play_win8/com.emojifamily.emoji.keyboard.sticker.BeerGif\n['Apply Success!', 'Please click here to use sticker', 'OK', 'Great Deal for Red Italian Wine Lovers!', 'Shop Now', 'AD']\n['Apply Success!', 'Please click here to use sticker', 'OK', 'Join the hardest-working team with a Ram 1500', 'Learn more', 'AD']\n['Activate', 'Feel Lucky']\n['Activate', 'Feel Lucky']\ncom.lisea.ntanews\n/mnt/H_DRIVE/FlowIntent/Location/0/Play_win8/com.lisea.ntanews\n[]\n['NTA News', '21st Sept 2015', 'Sponsored', '© 2015 Nigerian Television Authority. ALL RIGHTS RESERVED. Powered by', 'LISEA NIGERIA']\n['Headlines', 'NHRC Finetunes Needs Assessment On Situation In North East- Ovrawah', 'The National Human Rights Commission (NHRC) has said that the current needs assessment of the human rights and humanitarian needs of the North East is to address the operational responses of law enforcement agencies and other government departments among other things. The Acting Executive Secretary of the NHRC, Mrs. Oti Ovrawah said this in her', 'Financial Reporters Confer On NNPC Growing Economy With Integrity Award', '21 Sep 2017', 'Defunct Nigeria Airways Workers To Get Entitlements Worth N45bn']\ncom.emojifamily.emoji.keyboard.sticker.Love\n/mnt/H_DRIVE/FlowIntent/Location/0/Play_win8/com.emojifamily.emoji.keyboard.sticker.Love\n['Activate', 'Feel Lucky']\n['AD', 'Cars Marked Down Near You!', 'Come out to Folsom Lake Honda for massive sales during the Giant Summer Sales Event going on now!', 'Learn more']\n['Love']\n['AD', 'Kaiser Permanente® Small Business', 'Affordable health care plans that work for your small business. Get a free health plan quote for your small business today!', 'Get Quote']\n['AD', 'Cars Marked Down Near You!', 'Come out to Folsom Lake Honda for massive sales during the Giant Summer Sales Event going on now!', 'Learn more']\n['Activate', 'Feel Lucky']\ncom.biltekmusicapps.dubstepmashupskrillex\n/mnt/H_DRIVE/FlowIntent/Location/0/Play_win8/com.biltekmusicapps.dubstepmashupskrillex\n[]\n[]\n[]\n[]\n/mnt/H_DRIVE/FlowIntent/Location/0\n/mnt/H_DRIVE/FlowIntent/Location/0\n/mnt/H_DRIVE/FlowIntent/Location/0\n/mnt/H_DRIVE/FlowIntent/Location/0\n/mnt/H_DRIVE/FlowIntent/Location/0\n/mnt/H_DRIVE/FlowIntent/Location/0\n/mnt/H_DRIVE/FlowIntent/Location/0\n/mnt/H_DRIVE/FlowIntent/Location/0\n/mnt/H_DRIVE/FlowIntent/Location/0\n/mnt/H_DRIVE/FlowIntent/Location/0\n/mnt/H_DRIVE/FlowIntent/Location/0\n/mnt/H_DRIVE/FlowIntent/Location/0\n/mnt/H_DRIVE/FlowIntent/Location/0\n/mnt/H_DRIVE/FlowIntent/Location/0\n/mnt/H_DRIVE/FlowIntent/Location/0\n/mnt/H_DRIVE/FlowIntent/Location/0\n"
     ]
    },
    {
     "ename": "UnboundLocalError",
     "evalue": "local variable 'docs' referenced before assignment",
     "traceback": [
      "\u001b[0;31m---------------------------------------------------------------------------\u001b[0m",
      "\u001b[0;31mUnboundLocalError\u001b[0m                         Traceback (most recent call last)",
      "\u001b[0;32m<ipython-input-5-50316318e603>\u001b[0m in \u001b[0;36m<module>\u001b[0;34m()\u001b[0m\n\u001b[1;32m      1\u001b[0m \u001b[0mroot_dir\u001b[0m \u001b[0;34m=\u001b[0m \u001b[0;34m'/mnt/H_DRIVE/FlowIntent/Location/'\u001b[0m\u001b[0;34m\u001b[0m\u001b[0m\n\u001b[0;32m----> 2\u001b[0;31m \u001b[0mhandle\u001b[0m\u001b[0;34m(\u001b[0m\u001b[0mroot_dir\u001b[0m\u001b[0;34m)\u001b[0m\u001b[0;34m\u001b[0m\u001b[0m\n\u001b[0m",
      "\u001b[0;32m<ipython-input-4-76e81afc2ab6>\u001b[0m in \u001b[0;36mhandle\u001b[0;34m(root_dir)\u001b[0m\n\u001b[1;32m     36\u001b[0m             \u001b[0mjson\u001b[0m\u001b[0;34m.\u001b[0m\u001b[0mdump\u001b[0m\u001b[0;34m(\u001b[0m\u001b[0minstances_dict\u001b[0m\u001b[0;34m,\u001b[0m \u001b[0moutfile\u001b[0m\u001b[0;34m)\u001b[0m\u001b[0;34m\u001b[0m\u001b[0m\n\u001b[1;32m     37\u001b[0m             \u001b[0;31m# pd.Series(instances).to_json(outfile, orient='values')\u001b[0m\u001b[0;34m\u001b[0m\u001b[0;34m\u001b[0m\u001b[0m\n\u001b[0;32m---> 38\u001b[0;31m     \u001b[0mdocs\u001b[0m\u001b[0;34m,\u001b[0m \u001b[0my\u001b[0m \u001b[0;34m=\u001b[0m \u001b[0mdocs\u001b[0m\u001b[0;34m(\u001b[0m\u001b[0minstances\u001b[0m\u001b[0;34m)\u001b[0m\u001b[0;34m\u001b[0m\u001b[0m\n\u001b[0m\u001b[1;32m     39\u001b[0m     \u001b[0mtrain_data\u001b[0m\u001b[0;34m,\u001b[0m \u001b[0mvoc\u001b[0m\u001b[0;34m,\u001b[0m \u001b[0mvec\u001b[0m \u001b[0;34m=\u001b[0m \u001b[0mLearner\u001b[0m\u001b[0;34m.\u001b[0m\u001b[0mgen_X_matrix\u001b[0m\u001b[0;34m(\u001b[0m\u001b[0mdocs\u001b[0m\u001b[0;34m)\u001b[0m\u001b[0;34m\u001b[0m\u001b[0m\n\u001b[1;32m     40\u001b[0m     \u001b[0mlogger\u001b[0m\u001b[0;34m.\u001b[0m\u001b[0minfo\u001b[0m\u001b[0;34m(\u001b[0m\u001b[0;34m'neg: '\u001b[0m \u001b[0;34m+\u001b[0m \u001b[0mstr\u001b[0m\u001b[0;34m(\u001b[0m\u001b[0mlen\u001b[0m\u001b[0;34m(\u001b[0m\u001b[0mnp\u001b[0m\u001b[0;34m.\u001b[0m\u001b[0mwhere\u001b[0m\u001b[0;34m(\u001b[0m\u001b[0my\u001b[0m \u001b[0;34m==\u001b[0m \u001b[0;36m0\u001b[0m\u001b[0;34m)\u001b[0m\u001b[0;34m[\u001b[0m\u001b[0;36m0\u001b[0m\u001b[0;34m]\u001b[0m\u001b[0;34m)\u001b[0m\u001b[0;34m)\u001b[0m\u001b[0;34m)\u001b[0m\u001b[0;34m\u001b[0m\u001b[0m\n",
      "\u001b[0;31mUnboundLocalError\u001b[0m: local variable 'docs' referenced before assignment"
     ],
     "output_type": "error"
    }
   ],
   "source": [
    "root_dir = '/mnt/H_DRIVE/FlowIntent/Location/'\n",
    "handle(root_dir)"
   ]
  },
  {
   "cell_type": "code",
   "execution_count": 6,
   "metadata": {},
   "outputs": [],
   "source": []
  },
  {
   "cell_type": "code",
   "execution_count": 6,
   "metadata": {},
   "outputs": [],
   "source": []
  },
  {
   "cell_type": "code",
   "execution_count": null,
   "metadata": {},
   "outputs": [],
   "source": []
  }
 ],
 "metadata": {
  "kernelspec": {
   "display_name": "Python 2",
   "language": "python",
   "name": "python2"
  },
  "language_info": {
   "codemirror_mode": {
    "name": "ipython",
    "version": 2
   },
   "file_extension": ".py",
   "mimetype": "text/x-python",
   "name": "python",
   "nbconvert_exporter": "python",
   "pygments_lexer": "ipython2",
   "version": "2.7.6"
  }
 },
 "nbformat": 4,
 "nbformat_minor": 0
}
